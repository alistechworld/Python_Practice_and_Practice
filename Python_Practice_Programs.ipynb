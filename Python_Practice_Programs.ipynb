{
  "nbformat": 4,
  "nbformat_minor": 0,
  "metadata": {
    "colab": {
      "provenance": [],
      "authorship_tag": "ABX9TyPKZRxtLQz7xhpJ7UvI3uG3",
      "include_colab_link": true
    },
    "kernelspec": {
      "name": "python3",
      "display_name": "Python 3"
    },
    "language_info": {
      "name": "python"
    }
  },
  "cells": [
    {
      "cell_type": "markdown",
      "metadata": {
        "id": "view-in-github",
        "colab_type": "text"
      },
      "source": [
        "<a href=\"https://colab.research.google.com/github/alistechworld/Python_Practice_and_Practice/blob/main/Python_Practice_Programs.ipynb\" target=\"_parent\"><img src=\"https://colab.research.google.com/assets/colab-badge.svg\" alt=\"Open In Colab\"/></a>"
      ]
    },
    {
      "cell_type": "code",
      "execution_count": null,
      "metadata": {
        "id": "RXuiF9pU6_GV"
      },
      "outputs": [],
      "source": [
        "# Greet the User with Name and Age"
      ]
    },
    {
      "cell_type": "code",
      "source": [
        "name = input(\"Apki name kia?\")\n",
        "age = input(\"Apki Age kia ha?\")\n",
        "\n",
        "print(\"Hello\", name + \"!\", \"Aap\", age, \"saal ke hain.\")"
      ],
      "metadata": {
        "colab": {
          "base_uri": "https://localhost:8080/"
        },
        "id": "-mOFSPGQ7dnx",
        "outputId": "dddc529f-582d-427e-b967-c2e9c8af350e"
      },
      "execution_count": null,
      "outputs": [
        {
          "output_type": "stream",
          "name": "stdout",
          "text": [
            "Apki name kia?Ali Nawaz\n",
            "Apki Age kia ha?24\n",
            "Hello Ali Nawaz! Aap 24 saal ke hain.\n"
          ]
        }
      ]
    },
    {
      "cell_type": "code",
      "source": [
        "# Sum of Two Numbers\n"
      ],
      "metadata": {
        "id": "oglqrFLB8EuA"
      },
      "execution_count": null,
      "outputs": []
    },
    {
      "cell_type": "code",
      "source": [
        "num1 = int(input(\"Enter your first number:\"))\n",
        "num2 = int(input(\"Enter your second number:\"))\n",
        "\n",
        "sum = num1 + num2\n",
        "print(\"The sum of\", num1, \"and\", num2, \"is\", sum)"
      ],
      "metadata": {
        "colab": {
          "base_uri": "https://localhost:8080/"
        },
        "id": "vGblrDa38MCc",
        "outputId": "64125020-182b-4518-a584-ea9ebec4d859"
      },
      "execution_count": null,
      "outputs": [
        {
          "output_type": "stream",
          "name": "stdout",
          "text": [
            "Enter your first number:20\n",
            "Enter your second number:30\n",
            "The sum of 20 and 30 is 50\n"
          ]
        }
      ]
    },
    {
      "cell_type": "code",
      "source": [
        "# Even or Odd Number Check\n"
      ],
      "metadata": {
        "id": "Wq0X5no18etD"
      },
      "execution_count": null,
      "outputs": []
    },
    {
      "cell_type": "code",
      "source": [
        "num = int(input(\"Ente your number:\"))\n",
        "if num % 2 == 0:\n",
        "  print(\"Your Number is Even\")\n",
        "else:\n",
        "  print(\"Your Number is Odd\")"
      ],
      "metadata": {
        "colab": {
          "base_uri": "https://localhost:8080/"
        },
        "id": "K-kjncnh8sYL",
        "outputId": "79bf9084-3850-4cd2-e34f-a114f89f90b9"
      },
      "execution_count": null,
      "outputs": [
        {
          "output_type": "stream",
          "name": "stdout",
          "text": [
            "Ente your number:13\n",
            "Your Number is Odd\n"
          ]
        }
      ]
    },
    {
      "cell_type": "code",
      "source": [
        "# Square and Cube of a Number"
      ],
      "metadata": {
        "id": "SP_PcASv84-L"
      },
      "execution_count": null,
      "outputs": []
    },
    {
      "cell_type": "code",
      "source": [
        "number = int(input(\"Enter your number:\"))\n",
        "\n",
        "square = number ** 2\n",
        "cube = number ** 3\n",
        "\n",
        "print(\"The Square of \", number, \"is\", square)\n",
        "print(\"The Cube of \", number, \"is\", cube)"
      ],
      "metadata": {
        "colab": {
          "base_uri": "https://localhost:8080/"
        },
        "id": "Ewd_Wjgi9QBv",
        "outputId": "5b1e792d-2d61-42b1-c69e-38db582e5b09"
      },
      "execution_count": null,
      "outputs": [
        {
          "output_type": "stream",
          "name": "stdout",
          "text": [
            "Enter your number:2\n",
            "The Square of  2 is 4\n",
            "The Cube of  2 is 8\n"
          ]
        }
      ]
    },
    {
      "cell_type": "code",
      "source": [
        "# Swap Two Variables"
      ],
      "metadata": {
        "id": "BTeGTDeP9i_G"
      },
      "execution_count": null,
      "outputs": []
    },
    {
      "cell_type": "code",
      "source": [
        "a = int(input(\"Enter the value of a:\"))\n",
        "b = int(input(\"Enter the value of b:\"))\n",
        "\n",
        "print(\"Befor Swapping the values of a and b\")\n",
        "print(\"a=\", a)\n",
        "print(\"b=\", b)\n",
        "\n",
        "a, b = b, a\n",
        "\n",
        "print(\"After Swapping the values of a and b\")\n",
        "print(\"a=\", a)\n",
        "print(\"b=\", b)\n"
      ],
      "metadata": {
        "colab": {
          "base_uri": "https://localhost:8080/"
        },
        "id": "1QJFfZB19y15",
        "outputId": "16f58a36-9f47-44fc-ba70-b14e419e62b7"
      },
      "execution_count": null,
      "outputs": [
        {
          "output_type": "stream",
          "name": "stdout",
          "text": [
            "Enter the value of a:5\n",
            "Enter the value of b:10\n",
            "Befor Swapping the values of a and b\n",
            "a= 5\n",
            "b= 10\n",
            "After Swapping the values of a and b\n",
            "a= 10\n",
            "b= 5\n"
          ]
        }
      ]
    },
    {
      "cell_type": "code",
      "source": [
        "# Simple Calculator(Add/Subtract)"
      ],
      "metadata": {
        "id": "obz0wq8Z-fIg"
      },
      "execution_count": null,
      "outputs": []
    },
    {
      "cell_type": "code",
      "source": [
        "x = int(input(\"Enter your first number:\"))\n",
        "y = int(input(\"Enter your second number:\"))\n",
        "op = input(\"Enter your operator between + and -\")\n",
        "\n",
        "if op == \"+\":\n",
        "  print(\"The sum of\", x, \"and\", y, \"is\", x + y)\n",
        "elif op == \"-\":\n",
        "  print(\"The subtraction of\", x, \"and\", y, \"is\",x-y)\n",
        "else:\n",
        "  print(\"You choose a wrong operator choose between + and -\")"
      ],
      "metadata": {
        "colab": {
          "base_uri": "https://localhost:8080/"
        },
        "id": "MP48LGN4-0fs",
        "outputId": "586310bc-2ba8-4335-a167-6e27a030dd7f"
      },
      "execution_count": null,
      "outputs": [
        {
          "output_type": "stream",
          "name": "stdout",
          "text": [
            "Enter your first number:20\n",
            "Enter your second number:30\n",
            "Enter your operator between + and --\n",
            "The subtraction of 20 and 30 is -10\n"
          ]
        }
      ]
    },
    {
      "cell_type": "code",
      "source": [
        "# Check Eligibility for Voting"
      ],
      "metadata": {
        "id": "XhLacxyK_h0h"
      },
      "execution_count": null,
      "outputs": []
    },
    {
      "cell_type": "code",
      "source": [
        "age = int(input(\"Enter your age:\"))\n",
        "\n",
        "if age >= 18:\n",
        "  print(\"You are eligibile for vote\")\n",
        "else:\n",
        "  print(\"You are not eligible for vote\")"
      ],
      "metadata": {
        "colab": {
          "base_uri": "https://localhost:8080/"
        },
        "id": "s41ATu0hATG8",
        "outputId": "01b3e841-06ed-460b-9dfb-5c0c5dc3e4d9"
      },
      "execution_count": null,
      "outputs": [
        {
          "output_type": "stream",
          "name": "stdout",
          "text": [
            "Enter your age:20\n",
            "You are eligibile for vote\n"
          ]
        }
      ]
    },
    {
      "cell_type": "code",
      "source": [
        "# Identify Data Type"
      ],
      "metadata": {
        "id": "TeX4dv0LAgTw"
      },
      "execution_count": null,
      "outputs": []
    },
    {
      "cell_type": "code",
      "source": [
        "data = input(\"Enter anything:\")\n",
        "\n",
        "print(\"You Enter the Data:\", data)\n",
        "print(\"Data type of \", data, \"is\", type(data))"
      ],
      "metadata": {
        "colab": {
          "base_uri": "https://localhost:8080/"
        },
        "id": "iVXnNKuFAoOP",
        "outputId": "ab6cb27a-95f5-4bf1-93ef-08230885702e"
      },
      "execution_count": null,
      "outputs": [
        {
          "output_type": "stream",
          "name": "stdout",
          "text": [
            "Enter anything:20\n",
            "You Enter the Data: 20\n",
            "Data type of  20 is <class 'str'>\n"
          ]
        }
      ]
    },
    {
      "cell_type": "code",
      "source": [
        "# Use of Comments and Literals"
      ],
      "metadata": {
        "id": "Opl9Y4CFA66e"
      },
      "execution_count": null,
      "outputs": []
    },
    {
      "cell_type": "code",
      "source": [
        "\"\"\"\n",
        "Ye Mult-line string ha\n",
        "\"\"\"\n",
        "x = 100\n",
        "y = 12.5\n",
        "z = \"Python\"\n",
        "\n",
        "print(x, y, z)"
      ],
      "metadata": {
        "colab": {
          "base_uri": "https://localhost:8080/"
        },
        "id": "j-W0wzReBDPT",
        "outputId": "10565596-8707-41bb-9f70-a5cd71ad7d4a"
      },
      "execution_count": null,
      "outputs": [
        {
          "output_type": "stream",
          "name": "stdout",
          "text": [
            "100 12.5 Python\n"
          ]
        }
      ]
    },
    {
      "cell_type": "code",
      "source": [
        "# Positive, Negative, or Zero"
      ],
      "metadata": {
        "id": "OB_KeRctBOdj"
      },
      "execution_count": null,
      "outputs": []
    },
    {
      "cell_type": "code",
      "source": [
        "num = int(input(\"Enter your number:\"))\n",
        "if num > 0:\n",
        "  print(\"The number is Positive\")\n",
        "elif num < 0:\n",
        "  print(\"The number is Negative\")\n",
        "else:\n",
        "  print(\"The Number is zero\")"
      ],
      "metadata": {
        "id": "AfprSng9BV60"
      },
      "execution_count": null,
      "outputs": []
    },
    {
      "cell_type": "code",
      "source": [],
      "metadata": {
        "id": "hwl9z0LRBocC"
      },
      "execution_count": null,
      "outputs": []
    }
  ]
}