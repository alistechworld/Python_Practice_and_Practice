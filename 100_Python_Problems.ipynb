{
  "cells": [
    {
      "cell_type": "markdown",
      "metadata": {
        "id": "view-in-github",
        "colab_type": "text"
      },
      "source": [
        "<a href=\"https://colab.research.google.com/github/alistechworld/Python_Practice_and_Practice/blob/main/100_Python_Problems.ipynb\" target=\"_parent\"><img src=\"https://colab.research.google.com/assets/colab-badge.svg\" alt=\"Open In Colab\"/></a>"
      ]
    },
    {
      "cell_type": "code",
      "execution_count": null,
      "metadata": {
        "colab": {
          "base_uri": "https://localhost:8080/"
        },
        "id": "NNFd2KgTvm3y",
        "outputId": "0a7936bd-2977-4a73-d419-1e01d85d5e6f"
      },
      "outputs": [
        {
          "output_type": "stream",
          "name": "stdout",
          "text": [
            "Enter the First Age :1\n",
            "Enter the Second Age :2\n",
            "Enter the Third Age :2\n",
            "The Older Age is : 2\n"
          ]
        }
      ],
      "source": [
        "# User input three ages . Find the oldest one\n",
        "first_age = int(input(\"Enter the First Age :\"))\n",
        "second_age = int(input(\"Enter the Second Age :\"))\n",
        "third_age = int(input(\"Enter the Third Age :\"))\n",
        "\n",
        "if first_age > second_age and first_age > third_age:\n",
        "    print(\"The Older Age is :\", first_age)\n",
        "elif second_age > first_age and second_age > third_age:\n",
        "    print(\"The Older Age is :\", second_age)\n",
        "else:\n",
        "    print(\"The Older Age is :\", third_age)"
      ]
    },
    {
      "cell_type": "code",
      "execution_count": null,
      "metadata": {
        "colab": {
          "base_uri": "https://localhost:8080/"
        },
        "id": "1Fd5J0w0xkOh",
        "outputId": "316cf906-41c4-46b1-e634-011a98c302f7"
      },
      "outputs": [
        {
          "output_type": "stream",
          "name": "stdout",
          "text": [
            "Enter the Value of celseus to find the value in faranheight:2\n",
            "The Value of: 2.0 in faraheight 35.6\n"
          ]
        }
      ],
      "source": [
        "celseus = float(input(\"Enter the Value of celseus to find the value in faranheight:\"))\n",
        "\n",
        "faranheight = ((celseus * 9/5) + 32)\n",
        "\n",
        "print(\"The Value of:\", celseus, \"in faraheight\", faranheight)"
      ]
    },
    {
      "cell_type": "code",
      "execution_count": null,
      "metadata": {
        "id": "6TxCqurr1tQ0"
      },
      "outputs": [],
      "source": [
        "# Operators in python"
      ]
    },
    {
      "cell_type": "code",
      "execution_count": null,
      "metadata": {
        "id": "OkzAamQsrsbh"
      },
      "outputs": [],
      "source": [
        "# Arithmetic Operator +, -, *, /, %, **, //\n",
        "# Comparison Operator ==, !=, >, <, >=, <=\n",
        "# Logical Operator and, or, not\n",
        "# Bitwise Operator &, |, ^, ~, <<, >>\n",
        "# Assignment =, +=, -=, *=, /=, %=, **=, //=\n",
        "# Identity Operator is, is not\n",
        "# Membership: in, not in\n"
      ]
    },
    {
      "cell_type": "code",
      "execution_count": null,
      "metadata": {
        "colab": {
          "base_uri": "https://localhost:8080/"
        },
        "id": "LyMTIY8et54Y",
        "outputId": "293550c2-47a9-4431-bc38-727dde2959d9"
      },
      "outputs": [
        {
          "output_type": "stream",
          "name": "stdout",
          "text": [
            "15\n",
            "-5\n",
            "50\n",
            "0.5\n",
            "5\n",
            "9765625\n",
            "0\n"
          ]
        }
      ],
      "source": [
        "# Arithmetic Oprator\n",
        "x = 5\n",
        "y = 10\n",
        "print(x + y)\n",
        "print(x - y)\n",
        "print(x * y)\n",
        "print(x / y)\n",
        "print(x % y)\n",
        "print(x ** y)\n",
        "print(x // y)"
      ]
    },
    {
      "cell_type": "code",
      "execution_count": null,
      "metadata": {
        "colab": {
          "base_uri": "https://localhost:8080/"
        },
        "id": "Gr2mdN5suPMf",
        "outputId": "5bbf0113-c6a6-476a-abae-2ac8724bfe37"
      },
      "outputs": [
        {
          "output_type": "stream",
          "name": "stdout",
          "text": [
            "False\n",
            "True\n",
            "False\n",
            "True\n",
            "False\n",
            "True\n"
          ]
        }
      ],
      "source": [
        "# Comparison Operator\n",
        "print(x > y)\n",
        "print(x < y)\n",
        "print(x >= y)\n",
        "print(x <= y)\n",
        "print(x == y)\n",
        "print(x != y)"
      ]
    },
    {
      "cell_type": "code",
      "execution_count": null,
      "metadata": {
        "id": "H8qWI4-guher"
      },
      "outputs": [],
      "source": [
        "# Logical Operator"
      ]
    },
    {
      "cell_type": "code",
      "execution_count": null,
      "metadata": {
        "colab": {
          "base_uri": "https://localhost:8080/"
        },
        "id": "3UKbEFxeumCB",
        "outputId": "fd0820e7-b6d1-418a-9e77-3ca4164db731"
      },
      "outputs": [
        {
          "output_type": "stream",
          "name": "stdout",
          "text": [
            "False\n",
            "True\n",
            "False\n",
            "True\n"
          ]
        }
      ],
      "source": [
        "x = True\n",
        "y = False\n",
        "print(x and y)\n",
        "print(x or y)\n",
        "print(not x)\n",
        "print(not y)"
      ]
    },
    {
      "cell_type": "code",
      "execution_count": null,
      "metadata": {
        "id": "W0HpOfdquvdY"
      },
      "outputs": [],
      "source": [
        "# Bitwise Operators"
      ]
    },
    {
      "cell_type": "code",
      "execution_count": null,
      "metadata": {
        "colab": {
          "base_uri": "https://localhost:8080/"
        },
        "id": "KciQa54yu0Qx",
        "outputId": "b8af1885-6128-4d0d-e09b-d5d1bacf3327"
      },
      "outputs": [
        {
          "output_type": "stream",
          "name": "stdout",
          "text": [
            "2\n",
            "3\n",
            "1\n",
            "0\n",
            "16\n",
            "-3\n"
          ]
        }
      ],
      "source": [
        "x = 2\n",
        "y = 3\n",
        "print(x & y)\n",
        "print(x | y)\n",
        "print(2 ^ 3)\n",
        "print(x >> 2)\n",
        "print(x << 3)\n",
        "print(~ x)"
      ]
    },
    {
      "cell_type": "code",
      "execution_count": null,
      "metadata": {
        "id": "sLfNRMoMvDmY"
      },
      "outputs": [],
      "source": [
        "# Assignment Operator"
      ]
    },
    {
      "cell_type": "code",
      "execution_count": null,
      "metadata": {
        "colab": {
          "base_uri": "https://localhost:8080/"
        },
        "id": "Em_lPlv6vH_m",
        "outputId": "c1d111ea-e8db-4f83-fa92-94b95e8bc9b6"
      },
      "outputs": [
        {
          "output_type": "stream",
          "name": "stdout",
          "text": [
            "3\n",
            "6\n",
            "3\n",
            "9\n",
            "3.0\n"
          ]
        }
      ],
      "source": [
        "a = 3\n",
        "print(a)\n",
        "a += 3\n",
        "print(a)\n",
        "a -= 3\n",
        "print(a)\n",
        "a *= 3\n",
        "print(a)\n",
        "a /= 3\n",
        "print(a)\n",
        "a = a + 3\n",
        "a += 3"
      ]
    },
    {
      "cell_type": "code",
      "execution_count": null,
      "metadata": {
        "id": "ul4MvQYYvbq-"
      },
      "outputs": [],
      "source": [
        "# Identity Operatorys"
      ]
    },
    {
      "cell_type": "code",
      "execution_count": null,
      "metadata": {
        "colab": {
          "base_uri": "https://localhost:8080/"
        },
        "id": "SYTCUBr8vjwX",
        "outputId": "d9a73c1e-fcca-40c9-f553-e7540c5db7c2"
      },
      "outputs": [
        {
          "output_type": "stream",
          "name": "stdout",
          "text": [
            "True\n",
            "True\n",
            "False\n",
            "True\n"
          ]
        }
      ],
      "source": [
        "a = 3\n",
        "b = 3\n",
        "print(a is b)\n",
        "\n",
        "a  = \"Hello\"\n",
        "b = \"Hello\"\n",
        "print(a is b)\n",
        "\n",
        "a = \"Hello-World\"\n",
        "b = \"Hello-World\"\n",
        "print(a is b)\n",
        "print(a is not b)"
      ]
    },
    {
      "cell_type": "code",
      "execution_count": null,
      "metadata": {
        "id": "m1fhFu6cv3tY"
      },
      "outputs": [],
      "source": [
        "# Membership Operators"
      ]
    },
    {
      "cell_type": "code",
      "execution_count": null,
      "metadata": {
        "colab": {
          "base_uri": "https://localhost:8080/"
        },
        "id": "1BryZlUDv7C0",
        "outputId": "377733b6-e389-4073-d52c-58d856d5f2da"
      },
      "outputs": [
        {
          "output_type": "stream",
          "name": "stdout",
          "text": [
            "True\n",
            "False\n"
          ]
        }
      ],
      "source": [
        "x = \"Delhi\"\n",
        "print(\"D\" in x)\n",
        "print(\"D\" not in x)"
      ]
    },
    {
      "cell_type": "code",
      "execution_count": null,
      "metadata": {
        "colab": {
          "base_uri": "https://localhost:8080/"
        },
        "id": "fxjXkaPwwB52",
        "outputId": "69d7c5bf-74a4-4496-db90-5faf81fbe992"
      },
      "outputs": [
        {
          "output_type": "stream",
          "name": "stdout",
          "text": [
            "True\n",
            "False\n"
          ]
        }
      ],
      "source": [
        "x = [1, 2, 3]\n",
        "print(1 in x)\n",
        "print(5 in x)"
      ]
    },
    {
      "cell_type": "code",
      "execution_count": null,
      "metadata": {
        "colab": {
          "base_uri": "https://localhost:8080/"
        },
        "id": "TfRSXSgfwIbp",
        "outputId": "cb9e1620-db60-43fb-d2e1-7afd22907d64"
      },
      "outputs": [
        {
          "output_type": "stream",
          "name": "stdout",
          "text": [
            "True\n",
            "False\n"
          ]
        }
      ],
      "source": [
        "x = (1, 2, 3)\n",
        "print(1 in x)\n",
        "print(5 in x)"
      ]
    },
    {
      "cell_type": "code",
      "execution_count": null,
      "metadata": {
        "colab": {
          "base_uri": "https://localhost:8080/"
        },
        "id": "jgVFypTDwNuQ",
        "outputId": "03cd002f-f429-48ff-c088-0ebcdb20e8a3"
      },
      "outputs": [
        {
          "output_type": "stream",
          "name": "stdout",
          "text": [
            "Enter three digits:4\n",
            "4\n"
          ]
        }
      ],
      "source": [
        "# Sum of digits of a 3-digit number\n",
        "number = int(input(\"Enter three digits:\"))\n",
        "\n",
        "# Unit Digit\n",
        "a = number % 10\n",
        "number //= 10\n",
        "\n",
        "# Tens Digit\n",
        "b = number % 10\n",
        "number //= 10\n",
        "\n",
        "# Hundreds Digit\n",
        "c = number % 10\n",
        "\n",
        "print(a + b + c)"
      ]
    },
    {
      "cell_type": "code",
      "execution_count": null,
      "metadata": {
        "id": "QTq1cjeGw5hZ"
      },
      "outputs": [],
      "source": [
        "# If-Else"
      ]
    },
    {
      "cell_type": "code",
      "execution_count": null,
      "metadata": {
        "colab": {
          "base_uri": "https://localhost:8080/"
        },
        "id": "NgGYhG-Jxmun",
        "outputId": "d687ad1b-9f18-45ea-dfa4-148812a68b88"
      },
      "outputs": [
        {
          "output_type": "stream",
          "name": "stdout",
          "text": [
            "Enter your email:\n",
            "Wrong Email!\n"
          ]
        }
      ],
      "source": [
        "# Correct Email: ali@gmail.com\n",
        "# Correct Password: 12345\n",
        "\n",
        "email = input(\"Enter your email:\")\n",
        "if \"@\" in email:\n",
        "  password = int(input(\"Enter the Password:\"))\n",
        "\n",
        "  if email == \"ali@gmail.com\" and password == 123:\n",
        "    print(\"Welcom\")\n",
        "  elif email == \"ali@gmail.com\" and password != 123:\n",
        "        print(\"Password Ghalat ha fir sa dalo:\")\n",
        "        password = int(input(\"Enter the password:\"))\n",
        "        if password == 123:\n",
        "          print(\"Welcom\")\n",
        "        else:\n",
        "          print(\"Still Incorrect\")\n",
        "\n",
        "\n",
        "  else:\n",
        "    print(\"Credentials are Wrong! Try again\")\n",
        "else:\n",
        "    print(\"Wrong Email!\")"
      ]
    },
    {
      "cell_type": "code",
      "execution_count": null,
      "metadata": {
        "id": "H8OxlD8ZyIo1"
      },
      "outputs": [],
      "source": [
        "# Menue Driven Program\n"
      ]
    },
    {
      "cell_type": "code",
      "execution_count": null,
      "metadata": {
        "id": "bnvgxgeL09LM"
      },
      "outputs": [],
      "source": [
        "a = int(input(\"Enter Your First Number:\"))\n",
        "b = int(input(\"Enter Your Second Number:\"))\n",
        "c = int(input(\"Enter Your Third Number:\"))\n",
        "\n",
        "if a < b and a < c:\n",
        "  print(\"The Smallest Number is:\", a)\n",
        "elif b < a and b < c:\n",
        "  print(\"The Smallest Number is:\", b)\n",
        "else:\n",
        "  print(\"The Smallest Number is:\", c)"
      ]
    },
    {
      "cell_type": "code",
      "execution_count": null,
      "metadata": {
        "id": "rAllyPud1c28"
      },
      "outputs": [],
      "source": [
        "# 2. Menu-Driven Calculator\n",
        "menu = input(\"\"\"\n",
        "Hi! how can I help you.\n",
        "1. Enter 1 for pin change\n",
        "2. Enter 2 for balance check\n",
        "3. Enter 3 for withdrawl\n",
        "4. Enter 4 for exit\n",
        "\"\"\")\n",
        "\n",
        "if menu == '1':\n",
        "  print('pin change')\n",
        "elif menu == '2':\n",
        "  print('balance')\n",
        "else:\n",
        "  print('exit')"
      ]
    },
    {
      "cell_type": "code",
      "execution_count": null,
      "metadata": {
        "id": "aulOXkWn1riv"
      },
      "outputs": [],
      "source": [
        "# Swapping Nunbers\n",
        "\n",
        "x = int(input(\"Enter the first number:\"))\n",
        "y = int(input(\"Enter the second number:\"))\n",
        "\n",
        "# Before Swapping the Numbers:\n",
        "print(\"The Value of x:\", x)\n",
        "print(\"The Value of y:\", y)\n",
        "\n",
        "\n",
        "z = y\n",
        "y = x\n",
        "x = z\n",
        "# After Swapping the Numbers:\n",
        "\n",
        "print(\"The Value of x:\", x)\n",
        "print(\"The Value of y:\", y)\n"
      ]
    },
    {
      "cell_type": "code",
      "execution_count": null,
      "metadata": {
        "id": "_SCHjsB532Kp"
      },
      "outputs": [],
      "source": [
        "x = int(input(\"Enter the first digit:\"))\n",
        "y = int(input(\"Enter the second digit:\"))\n",
        "z = int(input(\"Enter the third digit:\"))\n",
        "\n",
        "sum = x + y + z\n",
        "print(\"The Sum of three digits are:\", sum)"
      ]
    },
    {
      "cell_type": "code",
      "execution_count": null,
      "metadata": {
        "id": "iT9sq8qL6ehz"
      },
      "outputs": [],
      "source": [
        "num = int(input(\"Enter the three digits:\"))\n",
        "a = num % 10\n",
        "num = num// 10\n",
        "b = num % 10\n",
        "c = num // 10\n",
        "print(a + b + c)\n"
      ]
    },
    {
      "cell_type": "code",
      "execution_count": null,
      "metadata": {
        "id": "iy0L69Fc7ZHK"
      },
      "outputs": [],
      "source": [
        "# Indentation in python\n"
      ]
    },
    {
      "cell_type": "code",
      "execution_count": null,
      "metadata": {
        "id": "68NFH11MxtL5"
      },
      "outputs": [],
      "source": [
        "name = \"xyz\"\n",
        "if name == \"xyz\":\n",
        "  print(\"Line 1\")\n",
        "  print(\"Line 2\")\n",
        "else:\n",
        "  print(\"Line 3\")"
      ]
    },
    {
      "cell_type": "code",
      "execution_count": null,
      "metadata": {
        "id": "nfO0-RAmx62U"
      },
      "outputs": [],
      "source": [
        "# While Loop"
      ]
    },
    {
      "cell_type": "code",
      "execution_count": null,
      "metadata": {
        "id": "Cb-1ToB0zNU1"
      },
      "outputs": [],
      "source": [
        "# Repeat Code Block\n",
        "# Iteration: Execute Same Code Repeatedly\n",
        "# Executes while condition true\n",
        "#"
      ]
    },
    {
      "cell_type": "code",
      "execution_count": null,
      "metadata": {
        "id": "L4H_wIEGzwIs"
      },
      "outputs": [],
      "source": [
        "# Print Multiplication Table\n",
        "number = int(input(\"Enter the table number:\"))\n",
        "\n",
        "i = 1\n",
        "while i <= 10:\n",
        "  print(number, \"*\", i, \"=\", number * i )\n",
        "  i += 1\n"
      ]
    },
    {
      "cell_type": "code",
      "execution_count": null,
      "metadata": {
        "id": "cYRVzVQj0yD_"
      },
      "outputs": [],
      "source": [
        "# While Loop With Else\n",
        "x = 1\n",
        "while x < 3:\n",
        "  print(x)\n",
        "  x += 1\n",
        "print(\"Limit Exceed\")"
      ]
    },
    {
      "cell_type": "code",
      "execution_count": null,
      "metadata": {
        "id": "1Yj6rxSY1ZW1"
      },
      "outputs": [],
      "source": [
        "# 2. Sum of Digits\n",
        "number = int(input(\"Enter the number:\"))\n",
        "sum_digits = 0\n",
        "while number > 0:\n",
        "  digit = number % 10\n",
        "  sum_digits += digit\n",
        "  number //= 10\n",
        "print(f\"Sum of digits:{sum_digits}\")"
      ]
    },
    {
      "cell_type": "code",
      "execution_count": null,
      "metadata": {
        "id": "U2f9Y8-z2U4t"
      },
      "outputs": [],
      "source": [
        "# 3. Average of Numbers Until 0\n",
        "count = 0\n",
        "total = 0\n",
        "while True:\n",
        "  number = int(input(\"Enter a number (0 to stop):\"))\n",
        "  if number == 0:\n",
        "    break\n",
        "  total += number\n",
        "  count += 1\n",
        "if count > 0:\n",
        "  average = total / count\n",
        "  print(f\"Average of entered numbers:{average}\")\n",
        "else:\n",
        "  print(\"No numbers entered.\")"
      ]
    },
    {
      "cell_type": "code",
      "execution_count": null,
      "metadata": {
        "id": "xoKnL1Vu3LQQ"
      },
      "outputs": [],
      "source": [
        "# Guessin Games"
      ]
    },
    {
      "cell_type": "code",
      "execution_count": null,
      "metadata": {
        "id": "dkRTZiof4F-n"
      },
      "outputs": [],
      "source": [
        "import random"
      ]
    },
    {
      "cell_type": "code",
      "execution_count": null,
      "metadata": {
        "id": "AmDcaWS34SN2"
      },
      "outputs": [],
      "source": [
        "random.randint(1, 100)"
      ]
    },
    {
      "cell_type": "code",
      "execution_count": null,
      "metadata": {
        "id": "fJyTIcAn4Wf_"
      },
      "outputs": [],
      "source": [
        "jackpot = random.randint(1, 100)\n",
        "guess = int(input(\"Enter the guess number:\"))\n",
        "counter = 1\n",
        "while guess != jackpot:\n",
        "  if guess < jackpot:\n",
        "    print(\"Guess Higher\")\n",
        "  else:\n",
        "    print(\"Guess Lower\")\n",
        "  guess = int(input(\"Enter the guess number:\"))\n",
        "  counter += 1\n",
        "print(\"Sahii Jawab\")\n",
        "print(\"You took \", counter, \"attempts\")"
      ]
    },
    {
      "cell_type": "code",
      "execution_count": null,
      "metadata": {
        "id": "LZ_kxQ705N9H"
      },
      "outputs": [],
      "source": [
        "# For Loop"
      ]
    },
    {
      "cell_type": "code",
      "execution_count": null,
      "metadata": {
        "id": "WUiGmQtg5r9R"
      },
      "outputs": [],
      "source": [
        "# Range Function\n",
        "range(1, 11)"
      ]
    },
    {
      "cell_type": "code",
      "execution_count": null,
      "metadata": {
        "id": "Y3wlvoSP5xzA"
      },
      "outputs": [],
      "source": [
        "list(range(1, 11))"
      ]
    },
    {
      "cell_type": "code",
      "execution_count": null,
      "metadata": {
        "id": "l_sou2Ge51Wk"
      },
      "outputs": [],
      "source": [
        "list(range(5))"
      ]
    },
    {
      "cell_type": "code",
      "execution_count": null,
      "metadata": {
        "id": "j94w2nBZ59bf"
      },
      "outputs": [],
      "source": [
        "list(range(15))"
      ]
    },
    {
      "cell_type": "code",
      "execution_count": null,
      "metadata": {
        "id": "ITaRBsVt6AZO"
      },
      "outputs": [],
      "source": [
        "list(range(1, 11, 2))"
      ]
    },
    {
      "cell_type": "code",
      "execution_count": null,
      "metadata": {
        "id": "IgPkS1FL6Ept"
      },
      "outputs": [],
      "source": [
        "list(range(1, 11, 3))"
      ]
    },
    {
      "cell_type": "code",
      "execution_count": null,
      "metadata": {
        "id": "VZMHMvMf6Hk4"
      },
      "outputs": [],
      "source": [
        "list(range(10, 0, -1))"
      ]
    },
    {
      "cell_type": "code",
      "execution_count": null,
      "metadata": {
        "id": "u9BWu-oZ6Mit"
      },
      "outputs": [],
      "source": [
        "[\"Lahore\", \"Karachi\", \"Ali\"]"
      ]
    },
    {
      "cell_type": "code",
      "execution_count": null,
      "metadata": {
        "id": "DW3w7grL6a4U"
      },
      "outputs": [],
      "source": [
        "(\"Lahore\", \"Karachi\", \"ali\")"
      ]
    },
    {
      "cell_type": "code",
      "execution_count": null,
      "metadata": {
        "id": "381u12E76fi_"
      },
      "outputs": [],
      "source": [
        "{\"Lahore\", \"Karachi\", \"Ali\"}"
      ]
    },
    {
      "cell_type": "code",
      "execution_count": null,
      "metadata": {
        "id": "9d4_h2T86ns8"
      },
      "outputs": [],
      "source": [
        "for i in range(1, 11):\n",
        "  print(i)"
      ]
    },
    {
      "cell_type": "code",
      "execution_count": null,
      "metadata": {
        "id": "hajlCKQi6yYM"
      },
      "outputs": [],
      "source": [
        "for i in range(1, 11, 2):\n",
        "  print(i)"
      ]
    },
    {
      "cell_type": "code",
      "execution_count": null,
      "metadata": {
        "id": "88j9Ss0g67gr"
      },
      "outputs": [],
      "source": [
        "for i in range(10, 0, -1):\n",
        "  print(i)"
      ]
    },
    {
      "cell_type": "code",
      "execution_count": null,
      "metadata": {
        "id": "ig474sS57HFC"
      },
      "outputs": [],
      "source": [
        "for i in \"Lahore\":\n",
        "  print(i)"
      ]
    },
    {
      "cell_type": "code",
      "execution_count": null,
      "metadata": {
        "id": "0in517Br7NhS"
      },
      "outputs": [],
      "source": [
        "for i in(1, 2, 3, 4,5):\n",
        "  print(i)"
      ]
    },
    {
      "cell_type": "code",
      "execution_count": null,
      "metadata": {
        "id": "53y8Nc227UCK"
      },
      "outputs": [],
      "source": [
        "for i in {1, 2, 3, 4, 5}:\n",
        "  print(i)"
      ]
    },
    {
      "cell_type": "code",
      "execution_count": null,
      "metadata": {
        "id": "P1SAeYjK7bDn"
      },
      "outputs": [],
      "source": [
        "# 1. Population Growth Calculation\n",
        "\n",
        "# Initial Population: 10000\n",
        "# Growth Rate: 10 % annually\n",
        "# Duration: 10 years\n",
        "\n",
        "curr_pop = 10000\n",
        "for i in range(10, 0,  -1):\n",
        "  print(i, curr_pop)\n",
        "  curr_pop = curr_pop / 1.1"
      ]
    },
    {
      "cell_type": "code",
      "execution_count": null,
      "metadata": {
        "id": "spBYhgWv8Icu"
      },
      "outputs": [],
      "source": [
        "# Nested Loops"
      ]
    },
    {
      "cell_type": "code",
      "execution_count": null,
      "metadata": {
        "id": "NNKPJd2QMvVi"
      },
      "outputs": [],
      "source": [
        "for i in range(1, 5):\n",
        "  for j in range(1, 5):\n",
        "    print(i, j)"
      ]
    },
    {
      "cell_type": "code",
      "execution_count": null,
      "metadata": {
        "id": "J7z5IS9TM7II"
      },
      "outputs": [],
      "source": [
        "rows = int(input(\"Enter rows:\"))\n",
        "for i in range(1, rows + 1):\n",
        "  for j in range(0, i):\n",
        "    print(\"*\", end=\" \")\n",
        "  print(\"\")"
      ]
    },
    {
      "cell_type": "code",
      "execution_count": null,
      "metadata": {
        "id": "teDAq83kN3kG"
      },
      "outputs": [],
      "source": [
        "rows = int(input(\"Enter rows:\"))\n",
        "for i in range(1, rows  + 1):\n",
        "  for j in range(1, i + 1):\n",
        "    print(j, end=\"\")\n",
        "  for k in range(i-1, 0, -1):\n",
        "    print(k, end=\"\")\n",
        "  print()"
      ]
    },
    {
      "cell_type": "code",
      "execution_count": null,
      "metadata": {
        "id": "yhEFH9bAOoCy"
      },
      "outputs": [],
      "source": [
        "# Loop Control Statement\n",
        "# Break: Ends Loop immediately\n",
        "# Continue: Skips to next iteration\n",
        "# Pass: Placeholder; does nothing."
      ]
    },
    {
      "cell_type": "code",
      "execution_count": null,
      "metadata": {
        "id": "OTFItVvxPUYW"
      },
      "outputs": [],
      "source": [
        "for i in range(1, 11):\n",
        "  if i == 5:\n",
        "    break\n",
        "  print(i)"
      ]
    },
    {
      "cell_type": "code",
      "execution_count": null,
      "metadata": {
        "id": "bx0I64B9Pmyc"
      },
      "outputs": [],
      "source": [
        "lower = 10\n",
        "upper = 20\n",
        "for i in range(lower, upper + 1):\n",
        "  for j in range(2, i):\n",
        "    if i % j == 0:\n",
        "      break\n",
        "  else:\n",
        "    print(i)"
      ]
    },
    {
      "cell_type": "code",
      "execution_count": null,
      "metadata": {
        "id": "OVOo0FJCQ5M4"
      },
      "outputs": [],
      "source": [
        "for i in range(1, 11):\n",
        "  if i == 5:\n",
        "    continue\n",
        "  print(i)"
      ]
    },
    {
      "cell_type": "code",
      "execution_count": null,
      "metadata": {
        "id": "tJ8qEtYSSmOI"
      },
      "outputs": [],
      "source": [
        "for i in range(1, 11):\n",
        "  if i == 5:\n",
        "    continue\n",
        "  print(i)\n",
        "  print(\"Hello\")"
      ]
    },
    {
      "cell_type": "code",
      "execution_count": null,
      "metadata": {
        "id": "m0N88VyfS17u"
      },
      "outputs": [],
      "source": [
        "for i in range(1, 11):\n",
        "  pass"
      ]
    },
    {
      "cell_type": "code",
      "execution_count": null,
      "metadata": {
        "id": "yNwCbQW5S6qr"
      },
      "outputs": [],
      "source": [
        "# Built in Functions in Python\n"
      ]
    },
    {
      "cell_type": "code",
      "execution_count": null,
      "metadata": {
        "id": "o864gn7STBGX"
      },
      "outputs": [],
      "source": [
        "# 1. Print\n",
        "print(\"Hello World\")"
      ]
    },
    {
      "cell_type": "code",
      "execution_count": null,
      "metadata": {
        "id": "cnkPJY3xTD7y"
      },
      "outputs": [],
      "source": [
        "# 2. Input\n",
        "input(\"Enter your Name:\")"
      ]
    },
    {
      "cell_type": "code",
      "execution_count": null,
      "metadata": {
        "id": "TsS0Haj5TNrQ"
      },
      "outputs": [],
      "source": [
        "# 3. type\n",
        "a = 3\n",
        "type(a)"
      ]
    },
    {
      "cell_type": "code",
      "execution_count": null,
      "metadata": {
        "id": "UbZ4qT3jTTrT"
      },
      "outputs": [],
      "source": [
        "a = 3.5\n",
        "type(a)"
      ]
    },
    {
      "cell_type": "code",
      "execution_count": null,
      "metadata": {
        "id": "pbUnoAS8TXjO"
      },
      "outputs": [],
      "source": [
        "a = True\n",
        "type(a)"
      ]
    },
    {
      "cell_type": "code",
      "execution_count": null,
      "metadata": {
        "id": "yayoJ29OTZ2x"
      },
      "outputs": [],
      "source": [
        "# 4. int\n",
        "int('5')\n",
        "# Float\n",
        "# str\n",
        "# list\n",
        "# tuple"
      ]
    },
    {
      "cell_type": "code",
      "execution_count": null,
      "metadata": {
        "id": "qQtVI7arTi2d"
      },
      "outputs": [],
      "source": [
        "# 5. abs\n",
        "abs(4)\n"
      ]
    },
    {
      "cell_type": "code",
      "execution_count": null,
      "metadata": {
        "id": "twNbCqRMTmkh"
      },
      "outputs": [],
      "source": [
        "abs(-4)"
      ]
    },
    {
      "cell_type": "code",
      "execution_count": null,
      "metadata": {
        "id": "4s3YlqIyTrQw"
      },
      "outputs": [],
      "source": [
        "# 6. pow\n",
        "pow(2, 3)"
      ]
    },
    {
      "cell_type": "code",
      "execution_count": null,
      "metadata": {
        "id": "TiectfAJTwZ3"
      },
      "outputs": [],
      "source": [
        "pow(2, -3)"
      ]
    },
    {
      "cell_type": "code",
      "execution_count": null,
      "metadata": {
        "id": "WAb0hZOwTzKy"
      },
      "outputs": [],
      "source": [
        "# 7. min/max\n",
        "min([2, 1, 3, 0])"
      ]
    },
    {
      "cell_type": "code",
      "execution_count": null,
      "metadata": {
        "id": "av_Y_oYrT6I5"
      },
      "outputs": [],
      "source": [
        "max([2, 1, 3, 0])"
      ]
    },
    {
      "cell_type": "code",
      "execution_count": null,
      "metadata": {
        "id": "q1iw_uU0T-o5"
      },
      "outputs": [],
      "source": [
        "min(\"Lahore\")"
      ]
    },
    {
      "cell_type": "code",
      "execution_count": null,
      "metadata": {
        "id": "6DrrqhBgUATd"
      },
      "outputs": [],
      "source": [
        "max(\"Lahore\")"
      ]
    },
    {
      "cell_type": "code",
      "execution_count": null,
      "metadata": {
        "id": "QEjCLiiEUC4R"
      },
      "outputs": [],
      "source": [
        "# 8. round\n",
        "c = 22/7\n",
        "print(c)\n",
        "round(c)"
      ]
    },
    {
      "cell_type": "code",
      "execution_count": null,
      "metadata": {
        "id": "qa5qmK_HULLD"
      },
      "outputs": [],
      "source": [
        "round(c, 2)"
      ]
    },
    {
      "cell_type": "code",
      "execution_count": null,
      "metadata": {
        "id": "PTwLqx0nUNuN"
      },
      "outputs": [],
      "source": [
        "# 9. divmod\n",
        "divmod(5, 2)"
      ]
    },
    {
      "cell_type": "code",
      "execution_count": null,
      "metadata": {
        "id": "pGaPxc7AUR2t"
      },
      "outputs": [],
      "source": [
        "# 10. bin/oct/hex\n",
        "bin(4)"
      ]
    },
    {
      "cell_type": "code",
      "execution_count": null,
      "metadata": {
        "id": "TgP256P7Uchu"
      },
      "outputs": [],
      "source": [
        "oct(4)"
      ]
    },
    {
      "cell_type": "code",
      "execution_count": null,
      "metadata": {
        "id": "ZEIoINvOUeQV"
      },
      "outputs": [],
      "source": [
        "hex(4)"
      ]
    },
    {
      "cell_type": "code",
      "execution_count": null,
      "metadata": {
        "id": "VhRUrplhUf29"
      },
      "outputs": [],
      "source": [
        "# 11. id\n",
        "a = 3\n",
        "id(a)"
      ]
    },
    {
      "cell_type": "code",
      "execution_count": null,
      "metadata": {
        "id": "VFl4Yu8IUloT"
      },
      "outputs": [],
      "source": [
        "# 12. ord\n",
        "ord('A')"
      ]
    },
    {
      "cell_type": "code",
      "execution_count": null,
      "metadata": {
        "id": "VMuAPw2MUqL_"
      },
      "outputs": [],
      "source": [
        "ord('a')"
      ]
    },
    {
      "cell_type": "code",
      "execution_count": null,
      "metadata": {
        "id": "Z9k2b36AUthy"
      },
      "outputs": [],
      "source": [
        "# 13. len\n",
        "len('Ali Nawaz')"
      ]
    },
    {
      "cell_type": "code",
      "execution_count": null,
      "metadata": {
        "id": "1ePHm1CAUyu9"
      },
      "outputs": [],
      "source": [
        "len([1, 2, 3])"
      ]
    },
    {
      "cell_type": "code",
      "execution_count": null,
      "metadata": {
        "id": "6m1k64UmU2SX"
      },
      "outputs": [],
      "source": [
        "# 14. sum\n",
        "sum([1, 2, 3, 4, 5])"
      ]
    },
    {
      "cell_type": "code",
      "execution_count": null,
      "metadata": {
        "id": "BskGTf4AU7-4"
      },
      "outputs": [],
      "source": [
        "sum({1, 2, 3, 4, 5})"
      ]
    },
    {
      "cell_type": "code",
      "execution_count": null,
      "metadata": {
        "id": "VaWyF3PwU_UY"
      },
      "outputs": [],
      "source": [
        "# 15. help\n",
        "help(\"print\")"
      ]
    },
    {
      "cell_type": "code",
      "execution_count": null,
      "metadata": {
        "id": "y4qxuDfOVDgY"
      },
      "outputs": [],
      "source": [
        "# What are Modules?\n",
        "# Code libraries in python\n",
        "# Contain functions for use.\n",
        "# Examples:\n",
        "  # Math: Math ops\n",
        "  # Random: Random numbers;\n",
        "  # os: OS interaction\n",
        "  # time: Time tasks\n"
      ]
    },
    {
      "cell_type": "code",
      "execution_count": null,
      "metadata": {
        "id": "78s9Rns9b1qu"
      },
      "outputs": [],
      "source": [
        "help('modules')"
      ]
    },
    {
      "cell_type": "code",
      "execution_count": null,
      "metadata": {
        "id": "_j4lRc8ob48E"
      },
      "outputs": [],
      "source": [
        "# Keyword module\n",
        "import keyword\n",
        "print(keyword.kwlist) # Reserved Keywords"
      ]
    },
    {
      "cell_type": "code",
      "execution_count": null,
      "metadata": {
        "id": "ThttiBqxcRdW"
      },
      "outputs": [],
      "source": [
        "# Math Module\n",
        "import math"
      ]
    },
    {
      "cell_type": "code",
      "execution_count": null,
      "metadata": {
        "id": "y1VwPUHgcXqb"
      },
      "outputs": [],
      "source": [
        "math.pi"
      ]
    },
    {
      "cell_type": "code",
      "execution_count": null,
      "metadata": {
        "id": "uSUU_Wz0cZIj"
      },
      "outputs": [],
      "source": [
        "math.e"
      ]
    },
    {
      "cell_type": "code",
      "execution_count": null,
      "metadata": {
        "id": "0H8aE1MxcbMJ"
      },
      "outputs": [],
      "source": [
        "math.factorial(5)"
      ]
    },
    {
      "cell_type": "code",
      "execution_count": null,
      "metadata": {
        "id": "T0t_ZIdacd_D"
      },
      "outputs": [],
      "source": [
        "math.ceil(6.3)"
      ]
    },
    {
      "cell_type": "code",
      "execution_count": null,
      "metadata": {
        "id": "cM74Zr15chhc"
      },
      "outputs": [],
      "source": [
        "math.floor(6.9)"
      ]
    },
    {
      "cell_type": "code",
      "execution_count": null,
      "metadata": {
        "id": "-5F6qfI1cla1"
      },
      "outputs": [],
      "source": [
        "# Random Module"
      ]
    },
    {
      "cell_type": "code",
      "execution_count": null,
      "metadata": {
        "id": "5Vn1szS9coZK"
      },
      "outputs": [],
      "source": [
        "import random"
      ]
    },
    {
      "cell_type": "code",
      "execution_count": null,
      "metadata": {
        "id": "CTr0Ls1XcpbY"
      },
      "outputs": [],
      "source": [
        "random.randint(1, 100)"
      ]
    },
    {
      "cell_type": "code",
      "execution_count": null,
      "metadata": {
        "id": "qhqUWzlNcuxZ"
      },
      "outputs": [],
      "source": [
        "a = [1, 2, 3, 4, 5]\n",
        "random.shuffle(a)\n",
        "a"
      ]
    },
    {
      "cell_type": "code",
      "execution_count": null,
      "metadata": {
        "id": "TUUMBXICc0g4"
      },
      "outputs": [],
      "source": [
        "# Time Module\n"
      ]
    },
    {
      "cell_type": "code",
      "execution_count": null,
      "metadata": {
        "id": "NPIxL-uUdAXA"
      },
      "outputs": [],
      "source": [
        "import time"
      ]
    },
    {
      "cell_type": "code",
      "execution_count": null,
      "metadata": {
        "id": "nLIT7POfdBO-"
      },
      "outputs": [],
      "source": [
        "time.time() # Current time (seconds)"
      ]
    },
    {
      "cell_type": "code",
      "execution_count": null,
      "metadata": {
        "id": "zlZFo5vGdHJm"
      },
      "outputs": [],
      "source": [
        "time.ctime() # Current time (string)"
      ]
    },
    {
      "cell_type": "code",
      "execution_count": null,
      "metadata": {
        "id": "6zdON9uVdPcC"
      },
      "outputs": [],
      "source": [
        "print(\"Hello\")\n",
        "time.sleep(5)\n",
        "print(\"World\")"
      ]
    },
    {
      "cell_type": "code",
      "execution_count": null,
      "metadata": {
        "id": "ibYdhK4gdXFS"
      },
      "outputs": [],
      "source": [
        "# Datetime Module\n"
      ]
    },
    {
      "cell_type": "code",
      "execution_count": null,
      "metadata": {
        "id": "qyqusJkwdcj4"
      },
      "outputs": [],
      "source": [
        "import datetime\n",
        "print(datetime.datetime.now())"
      ]
    },
    {
      "cell_type": "code",
      "execution_count": null,
      "metadata": {
        "id": "IL7q-imvdhze"
      },
      "outputs": [],
      "source": [
        "# OS Module"
      ]
    },
    {
      "cell_type": "code",
      "execution_count": null,
      "metadata": {
        "id": "S0zRcbMqdnVn"
      },
      "outputs": [],
      "source": [
        "import os"
      ]
    },
    {
      "cell_type": "code",
      "execution_count": null,
      "metadata": {
        "id": "18ZN8xAUdpJD"
      },
      "outputs": [],
      "source": [
        "os.getcwd # Current Working dir"
      ]
    },
    {
      "cell_type": "code",
      "execution_count": null,
      "metadata": {
        "id": "_6BuKHbsdtR1"
      },
      "outputs": [],
      "source": [
        "os.listdir() # Files in dir"
      ]
    },
    {
      "cell_type": "code",
      "execution_count": null,
      "metadata": {
        "id": "gQU5DlpPdzgY"
      },
      "outputs": [],
      "source": [
        "# Strings in Python\n",
        "# Seq. of Chars\n",
        "# In python: Unicode Chars\n",
        "# OPs:\n",
        "  # Create\n",
        "  # Access\n",
        "  # Add Chars\n",
        "  # Edit\n",
        "  # Delete\n",
        "  # Ops on Strings\n",
        "  # String Functions"
      ]
    },
    {
      "cell_type": "code",
      "execution_count": null,
      "metadata": {
        "id": "qS_x6ceIUR0g"
      },
      "outputs": [],
      "source": [
        "# 1. Create\n"
      ]
    },
    {
      "cell_type": "code",
      "execution_count": null,
      "metadata": {
        "id": "RuYOwFTnm6n8"
      },
      "outputs": [],
      "source": [
        "c = \"Hello\"\n",
        "print(c)"
      ]
    },
    {
      "cell_type": "code",
      "execution_count": null,
      "metadata": {
        "id": "o__cBSBSm9UH"
      },
      "outputs": [],
      "source": [
        "c = 'Hello'\n",
        "print(c)"
      ]
    },
    {
      "cell_type": "code",
      "execution_count": null,
      "metadata": {
        "id": "QftaUFbFnA3V"
      },
      "outputs": [],
      "source": [
        "\"It's raining outside\""
      ]
    },
    {
      "cell_type": "code",
      "execution_count": null,
      "metadata": {
        "id": "4k8GHougnGCr"
      },
      "outputs": [],
      "source": [
        "# Multiline String\n",
        "c = \"\"\"Hello\"\"\"\n",
        "print(c)"
      ]
    },
    {
      "cell_type": "code",
      "execution_count": null,
      "metadata": {
        "id": "8wY588T5nNIC"
      },
      "outputs": [],
      "source": [
        "c = '''Hello'''\n",
        "print(c)"
      ]
    },
    {
      "cell_type": "code",
      "execution_count": null,
      "metadata": {
        "id": "hnvhiDN1nTQd"
      },
      "outputs": [],
      "source": [
        "# 2. Access\n",
        "# Accessing Substrings from a String\n"
      ]
    },
    {
      "cell_type": "code",
      "execution_count": null,
      "metadata": {
        "id": "ziREXd18ndvD"
      },
      "outputs": [],
      "source": [
        "# Concept of Indexing\n",
        "c = \"hello\"\n",
        "print(c)"
      ]
    },
    {
      "cell_type": "code",
      "execution_count": null,
      "metadata": {
        "id": "THb4PRBVnjF6"
      },
      "outputs": [],
      "source": [
        "print(c[0])"
      ]
    },
    {
      "cell_type": "code",
      "execution_count": null,
      "metadata": {
        "id": "KTApEhUZnlvc"
      },
      "outputs": [],
      "source": [
        "# Indexing Types:\n",
        "  # Positive\n",
        "  # Negative\n"
      ]
    },
    {
      "cell_type": "code",
      "execution_count": null,
      "metadata": {
        "id": "YrSmPSBAnvE9"
      },
      "outputs": [],
      "source": [
        "print(c[-1])"
      ]
    },
    {
      "cell_type": "code",
      "execution_count": null,
      "metadata": {
        "id": "mr7hwf8XUi3Y"
      },
      "outputs": [],
      "source": [
        "# Slicing\n",
        "c = \"Hello World\"\n",
        "print(c)"
      ]
    },
    {
      "cell_type": "code",
      "execution_count": null,
      "metadata": {
        "id": "54-yzXaEU67K"
      },
      "outputs": [],
      "source": [
        "print(c[0:5])"
      ]
    },
    {
      "cell_type": "code",
      "execution_count": null,
      "metadata": {
        "id": "sTA8oCD7VA-m"
      },
      "outputs": [],
      "source": [
        "print(c[2:])"
      ]
    },
    {
      "cell_type": "code",
      "execution_count": null,
      "metadata": {
        "id": "zcwL9Xn-VFkO"
      },
      "outputs": [],
      "source": [
        "print(c[0:4])"
      ]
    },
    {
      "cell_type": "code",
      "execution_count": null,
      "metadata": {
        "id": "h6QdvsJrVJck"
      },
      "outputs": [],
      "source": [
        "print(c[:])"
      ]
    },
    {
      "cell_type": "code",
      "execution_count": null,
      "metadata": {
        "id": "dt3LnoQNVOox"
      },
      "outputs": [],
      "source": [
        "print(c[2:6:2])"
      ]
    },
    {
      "cell_type": "code",
      "execution_count": null,
      "metadata": {
        "id": "9aPZO3dlVafP"
      },
      "outputs": [],
      "source": [
        "print(c[2:8:3])"
      ]
    },
    {
      "cell_type": "code",
      "execution_count": null,
      "metadata": {
        "id": "Gqiaj1BMVey3"
      },
      "outputs": [],
      "source": [
        "print(c[0:6:-1])"
      ]
    },
    {
      "cell_type": "code",
      "execution_count": null,
      "metadata": {
        "id": "Es-yJSdIVq-M"
      },
      "outputs": [],
      "source": [
        "print(c)"
      ]
    },
    {
      "cell_type": "code",
      "execution_count": null,
      "metadata": {
        "id": "qbGs23bLV-ys"
      },
      "outputs": [],
      "source": [
        "print(c[-5:-1])"
      ]
    },
    {
      "cell_type": "code",
      "execution_count": null,
      "metadata": {
        "id": "fnUgjo0rWOh7"
      },
      "outputs": [],
      "source": [
        "print(c[-5:-1:2])"
      ]
    },
    {
      "cell_type": "code",
      "execution_count": null,
      "metadata": {
        "id": "KaqqoThNWeve"
      },
      "outputs": [],
      "source": [
        "print(c[::-1])"
      ]
    },
    {
      "cell_type": "code",
      "execution_count": null,
      "metadata": {
        "id": "tBxjU7-TWydx"
      },
      "outputs": [],
      "source": [
        "print(c[-1:-5:-1])"
      ]
    },
    {
      "cell_type": "code",
      "execution_count": null,
      "metadata": {
        "id": "UoPQloXzXGC5"
      },
      "outputs": [],
      "source": [
        "# 3. Add Chars\n"
      ]
    },
    {
      "cell_type": "code",
      "execution_count": null,
      "metadata": {
        "id": "pSTya0tpXI9m"
      },
      "outputs": [],
      "source": [
        "strings1 = \"Hello\"\n",
        "strings2 = \"World\""
      ]
    },
    {
      "cell_type": "code",
      "execution_count": null,
      "metadata": {
        "id": "neJzBxs7XNMh"
      },
      "outputs": [],
      "source": [
        "new_string = strings1+\" \"+strings2\n",
        "print(new_string)"
      ]
    },
    {
      "cell_type": "code",
      "execution_count": null,
      "metadata": {
        "id": "iuMSm4esXTvC"
      },
      "outputs": [],
      "source": [
        "another_string = strings1 + \", How are you?\"\n",
        "print(another_string)"
      ]
    },
    {
      "cell_type": "code",
      "execution_count": null,
      "metadata": {
        "id": "19AqFDWcXlMl"
      },
      "outputs": [],
      "source": [
        "# 4. Edit & 5. Delete\n"
      ]
    },
    {
      "cell_type": "code",
      "execution_count": null,
      "metadata": {
        "id": "tpsq4E3FXvds"
      },
      "outputs": [],
      "source": [
        "c = \"Hello\"\n",
        "print(c)"
      ]
    },
    {
      "cell_type": "code",
      "execution_count": null,
      "metadata": {
        "id": "V96quHVaXyCV"
      },
      "outputs": [],
      "source": [
        "# c[0] = 'x'"
      ]
    },
    {
      "cell_type": "code",
      "execution_count": null,
      "metadata": {
        "id": "jTIZIYyKX8yI"
      },
      "outputs": [],
      "source": [
        "# Strings are immutable data types"
      ]
    },
    {
      "cell_type": "code",
      "execution_count": null,
      "metadata": {
        "id": "qxoorsYPYC9J"
      },
      "outputs": [],
      "source": [
        "c = 'World'\n",
        "print(c)"
      ]
    },
    {
      "cell_type": "code",
      "execution_count": null,
      "metadata": {
        "id": "C3XiapfPYFyP"
      },
      "outputs": [],
      "source": [
        "# c[5] = 'X'"
      ]
    },
    {
      "cell_type": "code",
      "execution_count": null,
      "metadata": {
        "id": "OaNOsoOoYIoQ"
      },
      "outputs": [],
      "source": [
        "# Deletion\n",
        "c"
      ]
    },
    {
      "cell_type": "code",
      "execution_count": null,
      "metadata": {
        "id": "ekIvG-z6YU8-"
      },
      "outputs": [],
      "source": [
        "del c"
      ]
    },
    {
      "cell_type": "code",
      "execution_count": null,
      "metadata": {
        "id": "b_NKD761YV5M"
      },
      "outputs": [],
      "source": [
        "# print(c)"
      ]
    },
    {
      "cell_type": "code",
      "execution_count": null,
      "metadata": {
        "id": "LKO8htvVYXXg"
      },
      "outputs": [],
      "source": [
        "c = \"Hello\"\n"
      ]
    },
    {
      "cell_type": "code",
      "execution_count": null,
      "metadata": {
        "id": "EEM0LMLBYcXs"
      },
      "outputs": [],
      "source": [
        "print(c)"
      ]
    },
    {
      "cell_type": "code",
      "execution_count": null,
      "metadata": {
        "id": "j9hXEyd5YdqD"
      },
      "outputs": [],
      "source": [
        "# del c[0]"
      ]
    },
    {
      "cell_type": "code",
      "execution_count": null,
      "metadata": {
        "id": "IP-RbpWDYe5L"
      },
      "outputs": [],
      "source": [
        "# Operations On Strings"
      ]
    },
    {
      "cell_type": "code",
      "execution_count": null,
      "metadata": {
        "id": "P9TC_4AbYvzA"
      },
      "outputs": [],
      "source": [
        "# Arithmetic\n",
        "\"Hello\" + \" \" + \"World\""
      ]
    },
    {
      "cell_type": "code",
      "execution_count": null,
      "metadata": {
        "id": "PKDm8O42Y0xN"
      },
      "outputs": [],
      "source": [
        "print(\"*\" * 50)"
      ]
    },
    {
      "cell_type": "code",
      "execution_count": null,
      "metadata": {
        "id": "T0kRWNzrY4mT"
      },
      "outputs": [],
      "source": [
        "print(\"Hello\" * 4)"
      ]
    },
    {
      "cell_type": "code",
      "execution_count": null,
      "metadata": {
        "id": "nhVYST2sY9jc"
      },
      "outputs": [],
      "source": [
        "# Relational\n",
        "\"Hello\" == \"World\""
      ]
    },
    {
      "cell_type": "code",
      "execution_count": null,
      "metadata": {
        "id": "NeA7joLyZB9P"
      },
      "outputs": [],
      "source": [
        "\"Hello\" != \"World\""
      ]
    },
    {
      "cell_type": "code",
      "execution_count": null,
      "metadata": {
        "id": "8VGyEpCxZGns"
      },
      "outputs": [],
      "source": [
        "# Lexiographically\n",
        "\"Mumbai\" > \"Pune\""
      ]
    },
    {
      "cell_type": "code",
      "execution_count": null,
      "metadata": {
        "id": "r0R39zGcZQNx"
      },
      "outputs": [],
      "source": [
        "\"Lahore\" < \"Karachi\""
      ]
    },
    {
      "cell_type": "code",
      "execution_count": null,
      "metadata": {
        "id": "OBZIv50PZTuy"
      },
      "outputs": [],
      "source": [
        "# Logical\n",
        "\"Hello\" and \"World\""
      ]
    },
    {
      "cell_type": "code",
      "execution_count": null,
      "metadata": {
        "id": "nKx_NSGMZWzP"
      },
      "outputs": [],
      "source": [
        "# \"\"    ----> False\n",
        "# \"Ali\" ----> True"
      ]
    },
    {
      "cell_type": "code",
      "execution_count": null,
      "metadata": {
        "id": "1oucKeB5Zfgl"
      },
      "outputs": [],
      "source": [
        "\"\" and \"Hello\""
      ]
    },
    {
      "cell_type": "code",
      "execution_count": null,
      "metadata": {
        "id": "lTezuY7CZkBq"
      },
      "outputs": [],
      "source": [
        "\"\" or \"World\""
      ]
    },
    {
      "cell_type": "code",
      "execution_count": null,
      "metadata": {
        "id": "Tau7UQzGZner"
      },
      "outputs": [],
      "source": [
        "\"Hello\" or \"World\""
      ]
    },
    {
      "cell_type": "code",
      "execution_count": null,
      "metadata": {
        "id": "9eO0iWWzZuh7"
      },
      "outputs": [],
      "source": [
        "\"Hello\" and \"World\""
      ]
    },
    {
      "cell_type": "code",
      "execution_count": null,
      "metadata": {
        "id": "fyVMDkdOZxFx"
      },
      "outputs": [],
      "source": [
        "not \"Hello\""
      ]
    },
    {
      "cell_type": "code",
      "execution_count": null,
      "metadata": {
        "id": "GXE7r3UmZyWq"
      },
      "outputs": [],
      "source": [
        "print(not \"Hello\")"
      ]
    },
    {
      "cell_type": "code",
      "execution_count": null,
      "metadata": {
        "id": "P8fgoFDqZ1FP"
      },
      "outputs": [],
      "source": [
        "# Loops on Strings\n"
      ]
    },
    {
      "cell_type": "code",
      "execution_count": null,
      "metadata": {
        "id": "35ic0mAKZ5mk"
      },
      "outputs": [],
      "source": [
        "c = \"Hello World\"\n",
        "for i in c:\n",
        "  print(i)"
      ]
    },
    {
      "cell_type": "code",
      "execution_count": null,
      "metadata": {
        "id": "iLb2dzUOZ9Z4"
      },
      "outputs": [],
      "source": [
        "for i in c[2:7]:\n",
        "  print(i)"
      ]
    },
    {
      "cell_type": "code",
      "execution_count": null,
      "metadata": {
        "id": "tHdMAxtraC0s"
      },
      "outputs": [],
      "source": [
        "for i in c[2:7:2]:\n",
        "  print(i)"
      ]
    },
    {
      "cell_type": "code",
      "execution_count": null,
      "metadata": {
        "id": "vfnasEe_aH0F"
      },
      "outputs": [],
      "source": [
        "for i in c[::-1]:\n",
        "  print(i)"
      ]
    },
    {
      "cell_type": "code",
      "execution_count": null,
      "metadata": {
        "id": "Uo2365KcaM6k"
      },
      "outputs": [],
      "source": [
        "# Membership\n",
        "c"
      ]
    },
    {
      "cell_type": "code",
      "execution_count": null,
      "metadata": {
        "id": "5lQ07pDdaSAr"
      },
      "outputs": [],
      "source": [
        "'H' in c"
      ]
    },
    {
      "cell_type": "code",
      "execution_count": null,
      "metadata": {
        "id": "66cy2KHFaT7V"
      },
      "outputs": [],
      "source": [
        "'h' in c"
      ]
    },
    {
      "cell_type": "code",
      "execution_count": null,
      "metadata": {
        "id": "bo-glWVfaVS0"
      },
      "outputs": [],
      "source": [
        "\"world\" not in c"
      ]
    },
    {
      "cell_type": "code",
      "execution_count": null,
      "metadata": {
        "id": "yCsdbO-GaXoR"
      },
      "outputs": [],
      "source": [
        "# 7. String Functions\n",
        "# 1. Common Functions\n",
        "# len()\n",
        "# max()\n",
        "# min()\n",
        "# sorted()"
      ]
    },
    {
      "cell_type": "code",
      "execution_count": null,
      "metadata": {
        "id": "71-MmPWdalV0"
      },
      "outputs": [],
      "source": [
        "c = \"Lahore\"\n",
        "len(c)"
      ]
    },
    {
      "cell_type": "code",
      "execution_count": null,
      "metadata": {
        "id": "-W8APwIkanvd"
      },
      "outputs": [],
      "source": [
        "max(c)"
      ]
    },
    {
      "cell_type": "code",
      "execution_count": null,
      "metadata": {
        "id": "mpe5s55NaptM"
      },
      "outputs": [],
      "source": [
        "min(c)"
      ]
    },
    {
      "cell_type": "code",
      "execution_count": null,
      "metadata": {
        "id": "V2X_rNh1aqdY"
      },
      "outputs": [],
      "source": [
        "sorted(c)"
      ]
    },
    {
      "cell_type": "code",
      "execution_count": null,
      "metadata": {
        "id": "Hk2yweOlatCu"
      },
      "outputs": [],
      "source": [
        "sorted(c, reverse=True)"
      ]
    },
    {
      "cell_type": "code",
      "execution_count": null,
      "metadata": {
        "id": "yKcvqJAUav-m"
      },
      "outputs": [],
      "source": [
        "# 2. Capitalize/Title/Upper/Lower"
      ]
    },
    {
      "cell_type": "code",
      "execution_count": null,
      "metadata": {
        "id": "gfjCPa17a5d7"
      },
      "outputs": [],
      "source": [
        "c"
      ]
    },
    {
      "cell_type": "code",
      "execution_count": null,
      "metadata": {
        "id": "MMBOarXFejQx"
      },
      "outputs": [],
      "source": [
        "c.capitalize()"
      ]
    },
    {
      "cell_type": "code",
      "execution_count": null,
      "metadata": {
        "id": "U65c6EZ4elY2"
      },
      "outputs": [],
      "source": [
        "'it is raining today'.capitalize()"
      ]
    },
    {
      "cell_type": "code",
      "execution_count": null,
      "metadata": {
        "id": "4C4ZculYerbD"
      },
      "outputs": [],
      "source": [
        "'it is raining today'.title()"
      ]
    },
    {
      "cell_type": "code",
      "execution_count": null,
      "metadata": {
        "id": "nACpe3O5evY1"
      },
      "outputs": [],
      "source": [
        "c.upper().lower()"
      ]
    },
    {
      "cell_type": "code",
      "execution_count": null,
      "metadata": {
        "id": "TJtc3SHVeydE"
      },
      "outputs": [],
      "source": [
        "\"LAhore\".swapcase()"
      ]
    },
    {
      "cell_type": "code",
      "execution_count": null,
      "metadata": {
        "id": "xrxz3RAHe5Jf"
      },
      "outputs": [],
      "source": [
        "# 3. Count"
      ]
    },
    {
      "cell_type": "code",
      "execution_count": null,
      "metadata": {
        "id": "Q77BaXlVe66x"
      },
      "outputs": [],
      "source": [
        "\"it is raining \".count('i')"
      ]
    },
    {
      "cell_type": "code",
      "execution_count": null,
      "metadata": {
        "id": "XcUGBjMRe_Yc"
      },
      "outputs": [],
      "source": [
        "\"it is raining \".count('ing')"
      ]
    },
    {
      "cell_type": "code",
      "execution_count": null,
      "metadata": {
        "id": "M3vzgszzfCRX"
      },
      "outputs": [],
      "source": [
        "\"it is raining \".count('X')"
      ]
    },
    {
      "cell_type": "code",
      "execution_count": null,
      "metadata": {
        "id": "8OBtbOAxfGR0"
      },
      "outputs": [],
      "source": [
        "# 4. Find / Index"
      ]
    },
    {
      "cell_type": "code",
      "execution_count": null,
      "metadata": {
        "id": "TcOiHAlnfIcp"
      },
      "outputs": [],
      "source": [
        "\"it is raining \".find(\"i\")"
      ]
    },
    {
      "cell_type": "code",
      "execution_count": null,
      "metadata": {
        "id": "KfjOWDJvfMH4"
      },
      "outputs": [],
      "source": [
        "\"it is raining \".find('n')"
      ]
    },
    {
      "cell_type": "code",
      "execution_count": null,
      "metadata": {
        "id": "zxB-OfEsfSSz"
      },
      "outputs": [],
      "source": [
        "\"it is raining \".find('x')"
      ]
    },
    {
      "cell_type": "code",
      "execution_count": null,
      "metadata": {
        "id": "5-sIRmIXfdnt"
      },
      "outputs": [],
      "source": [
        "# 5. endswith / startswith"
      ]
    },
    {
      "cell_type": "code",
      "execution_count": null,
      "metadata": {
        "id": "CdRpFeHJfoDc"
      },
      "outputs": [],
      "source": [
        "\"it is raining\".endswith(\"g\")"
      ]
    },
    {
      "cell_type": "code",
      "execution_count": null,
      "metadata": {
        "id": "A01u9JcofrkR"
      },
      "outputs": [],
      "source": [
        "\"it is raining\".endswith(\"ingf\")"
      ]
    },
    {
      "cell_type": "code",
      "execution_count": null,
      "metadata": {
        "id": "tvZxnY2jf3P1"
      },
      "outputs": [],
      "source": [
        "\"it is raining \".startswith(\"it\")"
      ]
    },
    {
      "cell_type": "code",
      "execution_count": null,
      "metadata": {
        "id": "UwPmtkabgAtE"
      },
      "outputs": [],
      "source": [
        "# 6. Format"
      ]
    },
    {
      "cell_type": "code",
      "execution_count": null,
      "metadata": {
        "id": "m7JAcsgEgE8D"
      },
      "outputs": [],
      "source": [
        "\"Hello my name is {} and I am {}\".format(\"Ali Nawaz\", 22)"
      ]
    },
    {
      "cell_type": "code",
      "execution_count": null,
      "metadata": {
        "id": "UWp7VOh6gRV2"
      },
      "outputs": [],
      "source": [
        "\"Hello my name is {0} and I am {1}\".format(\"Ali Nawaz\", 22)"
      ]
    },
    {
      "cell_type": "code",
      "execution_count": null,
      "metadata": {
        "id": "L2lGK6uJgVsY"
      },
      "outputs": [],
      "source": [
        "\"Hello my name is {name} and I am {age}\".format(name = \"Ali Nawaz\", age = 22)"
      ]
    },
    {
      "cell_type": "code",
      "execution_count": null,
      "metadata": {
        "id": "-AdjffZggdNR"
      },
      "outputs": [],
      "source": [
        "\"Hello my name is {age} and I am {name}\".format(name = \"Ali Nawaz\", age = 22)"
      ]
    },
    {
      "cell_type": "code",
      "execution_count": null,
      "metadata": {
        "id": "v5MKCGlEgi53"
      },
      "outputs": [],
      "source": [
        "# 7. isalnum/isalpha/isdecimal/isdigit"
      ]
    },
    {
      "cell_type": "code",
      "execution_count": null,
      "metadata": {
        "id": "OLaAzdYSgtAY"
      },
      "outputs": [],
      "source": [
        "\"FLAT20\".isalnum() # Alphanumeric\n"
      ]
    },
    {
      "cell_type": "code",
      "execution_count": null,
      "metadata": {
        "id": "zF9ZPn1bg1yE"
      },
      "outputs": [],
      "source": [
        "\"FLAT20&\".isalnum()"
      ]
    },
    {
      "cell_type": "code",
      "execution_count": null,
      "metadata": {
        "id": "JuXmAuy5g5i2"
      },
      "outputs": [],
      "source": [
        "\"FLAT\".isalpha() # Alphabetic"
      ]
    },
    {
      "cell_type": "code",
      "execution_count": null,
      "metadata": {
        "id": "GoCUp9XchCdT"
      },
      "outputs": [],
      "source": [
        "\"20\".isdigit()"
      ]
    },
    {
      "cell_type": "code",
      "execution_count": null,
      "metadata": {
        "id": "bDZyk-55hHXs"
      },
      "outputs": [],
      "source": [
        "\"Hello World\".isidentifier()"
      ]
    },
    {
      "cell_type": "code",
      "execution_count": null,
      "metadata": {
        "id": "93V5YQN2hKyy"
      },
      "outputs": [],
      "source": [
        "# 8. Split\n"
      ]
    },
    {
      "cell_type": "code",
      "execution_count": null,
      "metadata": {
        "id": "lk3-wbgxhQCm"
      },
      "outputs": [],
      "source": [
        "\"Who is the PM of Pakistan\".split()"
      ]
    },
    {
      "cell_type": "code",
      "execution_count": null,
      "metadata": {
        "id": "DqJwRSE7hTEZ"
      },
      "outputs": [],
      "source": [
        "\"Who is the PM of Pakistan\".split(\"PM\")"
      ]
    },
    {
      "cell_type": "code",
      "execution_count": null,
      "metadata": {
        "id": "poNWJTjThaAU"
      },
      "outputs": [],
      "source": [
        "\"Who is the PM of Pakistan\".split(\"i\")"
      ]
    },
    {
      "cell_type": "code",
      "execution_count": null,
      "metadata": {
        "id": "4eqtrq5Rhkwi"
      },
      "outputs": [],
      "source": [
        "\"Who is the PM of Pakistan\".split(\"x\")"
      ]
    },
    {
      "cell_type": "code",
      "execution_count": null,
      "metadata": {
        "id": "70N3Sz-9hn7B"
      },
      "outputs": [],
      "source": [
        "# 9. Join"
      ]
    },
    {
      "cell_type": "code",
      "execution_count": null,
      "metadata": {
        "id": "ntw8ZqaEhqkg"
      },
      "outputs": [],
      "source": [
        "\" \".join(['Who', 'is', 'the', 'PM', 'of', 'Pakistan'])"
      ]
    },
    {
      "cell_type": "code",
      "execution_count": null,
      "metadata": {
        "id": "qch7HeCHhwTW"
      },
      "outputs": [],
      "source": [
        "\"\".join(['Who', 'is', 'the', 'PM', 'of', 'Pakistan'])"
      ]
    },
    {
      "cell_type": "code",
      "execution_count": null,
      "metadata": {
        "id": "Yd8HR0EZh1x8"
      },
      "outputs": [],
      "source": [
        "\"-\".join(['Who', 'is', 'the', 'PM', 'of', 'Pakistan'])"
      ]
    },
    {
      "cell_type": "code",
      "execution_count": null,
      "metadata": {
        "id": "z1Fln_Qfh3D5"
      },
      "outputs": [],
      "source": [
        "# 10 . Replace"
      ]
    },
    {
      "cell_type": "code",
      "execution_count": null,
      "metadata": {
        "id": "xwC9suTah6RX"
      },
      "outputs": [],
      "source": [
        "\"Hi name is Ali Nawaz\".replace(\"Ali\", \"Khalid\")"
      ]
    },
    {
      "cell_type": "code",
      "execution_count": null,
      "metadata": {
        "id": "YoYIIBQoh_wZ"
      },
      "outputs": [],
      "source": [
        "# 11. Strip"
      ]
    },
    {
      "cell_type": "code",
      "execution_count": null,
      "metadata": {
        "id": "f7WQixTuiCHD"
      },
      "outputs": [],
      "source": [
        "name = \"                         Ali               \"\n",
        "name.strip()"
      ]
    },
    {
      "cell_type": "code",
      "execution_count": null,
      "metadata": {
        "id": "KNNeqxkmiG5B"
      },
      "outputs": [],
      "source": [
        "\"Hi\" + name"
      ]
    },
    {
      "cell_type": "code",
      "execution_count": null,
      "metadata": {
        "id": "Sgctwk9viME2"
      },
      "outputs": [],
      "source": [
        "name.strip()"
      ]
    },
    {
      "cell_type": "code",
      "execution_count": null,
      "metadata": {
        "id": "0ytSckyKiOMA"
      },
      "outputs": [],
      "source": [
        "# Example Programs"
      ]
    },
    {
      "cell_type": "code",
      "execution_count": null,
      "metadata": {
        "id": "7ZSXGT0JiTi-"
      },
      "outputs": [],
      "source": [
        "# 1. Length of string without len()\n",
        "\n",
        "s = (input(\"Enter the string:\"))\n",
        "counter = 0\n",
        "for i in s:\n",
        "  counter += 1\n",
        "print(\"length of string is\", counter)"
      ]
    },
    {
      "cell_type": "code",
      "execution_count": null,
      "metadata": {
        "id": "smSVtQJdiwOQ"
      },
      "outputs": [],
      "source": [
        "# 2. Extract username from email\n",
        "# alinawaz@gmail.com --------> alinawaz\n",
        "s = input(\"Enter the email:\")\n",
        "pos = s.index(\"@\")\n",
        "print(s[0:pos])"
      ]
    },
    {
      "cell_type": "code",
      "execution_count": null,
      "metadata": {
        "id": "yjvmnSqYjUVq"
      },
      "outputs": [],
      "source": [
        "# 3. Count character frequency in a string\n",
        "s = input(\"Enter the email:\")\n",
        "term = input(\"What would like to search for :\")\n",
        "counter = 0\n",
        "for i in s:\n",
        "  if i == term:\n",
        "    counter += 1\n",
        "print(\"Frequency\", counter)"
      ]
    },
    {
      "cell_type": "code",
      "execution_count": null,
      "metadata": {
        "id": "NQekNud1kA9o"
      },
      "outputs": [],
      "source": [
        "# 4. Remove Character from string\n",
        "s = input(\"Enter the string:\")\n",
        "term = input(\"What would like to remove:\")\n",
        "result = ''\n",
        "for i in s:\n",
        "  if i != term:\n",
        "    result += i\n",
        "print(result)"
      ]
    },
    {
      "cell_type": "code",
      "execution_count": null,
      "metadata": {
        "id": "Ltb093cytrdq"
      },
      "outputs": [],
      "source": [
        "# 5. Check if a string is a palindrome\n",
        "s = input(\"Enter the String:\")\n",
        "flag = True\n",
        "for i in range(0, len(s)//2):\n",
        "  if s[i] != s[len(s) - i - 1]:\n",
        "    flage = False\n",
        "    print(\"Not a Palindrome\")\n",
        "    break\n",
        "if flag:\n",
        "    print(\"Palindrome\")"
      ]
    },
    {
      "cell_type": "code",
      "execution_count": null,
      "metadata": {
        "id": "GhrLh-WavFJE"
      },
      "outputs": [],
      "source": [
        "# 6. Word Count Without split()\n",
        "s = input(\"Enter the String:\")\n",
        "L = []\n",
        "temp = ''\n",
        "for i in s:\n",
        "  if i != ' ':\n",
        "    temp += i\n",
        "  else:\n",
        "    L.append(temp)\n",
        "    temp = ''\n",
        "L.append(temp)\n",
        "print(L)"
      ]
    },
    {
      "cell_type": "code",
      "execution_count": null,
      "metadata": {
        "id": "2Jk15XNuxipX"
      },
      "outputs": [],
      "source": [
        "# 7. Convert String to Title Case (no title())\n",
        "s = input(\"Enter the Strings\")\n",
        "L = []\n",
        "for i in s.split():\n",
        "  L.append(i[0].upper() + i[1:].lower())\n",
        "print(\" \".join(L))"
      ]
    },
    {
      "cell_type": "code",
      "execution_count": null,
      "metadata": {
        "id": "2Q7dFpjoz42k"
      },
      "outputs": [],
      "source": [
        "# 8. Integer to String Conversion\n",
        "number = int(input('enter the number: '))\n",
        "digits = '0123456789'\n",
        "result = ''\n",
        "while number != 0:\n",
        "  result = digits[number % 10] + result\n",
        "  number //= 10\n",
        "print(result)\n",
        "print(type(result))"
      ]
    },
    {
      "cell_type": "code",
      "execution_count": null,
      "metadata": {
        "id": "CasIkG3H0F5A"
      },
      "outputs": [],
      "source": [
        "# List\n",
        "# Collection in python for sequence of diverse data types"
      ]
    },
    {
      "cell_type": "code",
      "execution_count": null,
      "metadata": {
        "id": "TPnIQYqObUPN"
      },
      "outputs": [],
      "source": [
        "# List vs Array\n",
        "# Array: Homogeneous; Contiguous memory; Fast; Numerical/Scientific use.\n",
        "# List: Hetrogeneous; Non-contiguous memory; Programmer-friendly; General-purpose"
      ]
    },
    {
      "cell_type": "code",
      "execution_count": null,
      "metadata": {
        "id": "P6KFq0Skbv9_"
      },
      "outputs": [],
      "source": [
        "# Create\n",
        "# Access\n",
        "# Edit\n",
        "# Add\n",
        "# Delete\n",
        "# Operations\n",
        "# Functions"
      ]
    },
    {
      "cell_type": "code",
      "execution_count": null,
      "metadata": {
        "id": "CL9myOncb55B"
      },
      "outputs": [],
      "source": [
        "# Array vs.Lists in Memory:\n",
        "# Array:\n",
        "  # int arr[50]; ---> 50 contiguous memory blocks.\n",
        "  # Elements stored in binary form at consecutive address\n",
        "\n",
        "# Lists:\n",
        "  # list_example = [1, 2, 3] ----> Elements at different locations.\n",
        "  # Stores references/pointers to elements, not the values"
      ]
    },
    {
      "cell_type": "code",
      "execution_count": null,
      "metadata": {
        "id": "ridPb29hczh_"
      },
      "outputs": [],
      "source": [
        "# Proof ----->\n",
        "L = [1, 2, 3]\n",
        "print(id(L))\n",
        "print(id(L[0]))\n",
        "print(id(L[1]))\n",
        "print(id(L[2]))\n",
        "print(id(1))\n",
        "print(id(2))\n",
        "print(id(3))"
      ]
    },
    {
      "cell_type": "code",
      "execution_count": null,
      "metadata": {
        "id": "rfiZuLq3c_jb"
      },
      "outputs": [],
      "source": [
        "# List Characteristics\n",
        "  # Ordered\n",
        "  # Mutable\n",
        "  # Hetrogeneous\n",
        "  # Duplicates Allowed\n",
        "  # Dynamic size\n",
        "  # Nesting Supported\n",
        "  # Indexable\n",
        "  # Any Object type"
      ]
    },
    {
      "cell_type": "code",
      "execution_count": null,
      "metadata": {
        "id": "NdVR4qRZhpm_"
      },
      "outputs": [],
      "source": [
        "# 1. Create\n"
      ]
    },
    {
      "cell_type": "code",
      "execution_count": null,
      "metadata": {
        "id": "g2e4IxFWhsMO"
      },
      "outputs": [],
      "source": [
        "# Empty\n",
        "L = []\n",
        "L"
      ]
    },
    {
      "cell_type": "code",
      "execution_count": null,
      "metadata": {
        "id": "VF547b0YhuxO"
      },
      "outputs": [],
      "source": [
        "# 1D ---> Homo\n",
        "L1 = [1, 2, 3, 4, 5]\n",
        "L1"
      ]
    },
    {
      "cell_type": "code",
      "execution_count": null,
      "metadata": {
        "id": "EfCOBQxhh6SJ"
      },
      "outputs": [],
      "source": [
        "# Hetrogenous\n",
        "L2 = [\"Hello\", 4, 5, 6, True, 5 + 6j]\n",
        "L2"
      ]
    },
    {
      "cell_type": "code",
      "execution_count": null,
      "metadata": {
        "id": "WByVTL-QiFY8"
      },
      "outputs": [],
      "source": [
        "# Multidimentional list:\n",
        "# 2D\n",
        "L3 = [1, 2, 3, [4, 5]]\n",
        "L3"
      ]
    },
    {
      "cell_type": "code",
      "execution_count": null,
      "metadata": {
        "id": "_kwUMlwwiU0R"
      },
      "outputs": [],
      "source": [
        "# 3D\n",
        "L4 = [[[1, 2,], [3, 4], [[5, 6], [7, 8]]]]\n",
        "L4"
      ]
    },
    {
      "cell_type": "code",
      "execution_count": null,
      "metadata": {
        "id": "DU51qgyNiiQP"
      },
      "outputs": [],
      "source": [
        "# Using Type Conversion\n",
        "L5 = list(\"Hello\")\n",
        "L5\n"
      ]
    },
    {
      "cell_type": "code",
      "execution_count": null,
      "metadata": {
        "id": "aJSckrjcinee"
      },
      "outputs": [],
      "source": [
        "L6 = list()\n",
        "L6"
      ]
    },
    {
      "cell_type": "code",
      "execution_count": null,
      "metadata": {
        "id": "03_RWLsNi1mr"
      },
      "outputs": [],
      "source": [
        "# 2. Access\n"
      ]
    },
    {
      "cell_type": "code",
      "execution_count": null,
      "metadata": {
        "id": "9cFzMSm8i5WF"
      },
      "outputs": [],
      "source": [
        "L1"
      ]
    },
    {
      "cell_type": "code",
      "execution_count": null,
      "metadata": {
        "id": "g6xKv7A1i6VO"
      },
      "outputs": [],
      "source": [
        "L1[0]"
      ]
    },
    {
      "cell_type": "code",
      "execution_count": null,
      "metadata": {
        "id": "fu65zn2di7_Q"
      },
      "outputs": [],
      "source": [
        "L1[-1]"
      ]
    },
    {
      "cell_type": "code",
      "execution_count": null,
      "metadata": {
        "id": "V5OxtrJPi91i"
      },
      "outputs": [],
      "source": [
        "# Slicing\n"
      ]
    },
    {
      "cell_type": "code",
      "execution_count": null,
      "metadata": {
        "id": "1C2ZlkvpjC-v"
      },
      "outputs": [],
      "source": [
        "L1[1:3]"
      ]
    },
    {
      "cell_type": "code",
      "execution_count": null,
      "metadata": {
        "id": "0CA7UbvjjET6"
      },
      "outputs": [],
      "source": [
        "L1[::-1]"
      ]
    },
    {
      "cell_type": "code",
      "execution_count": null,
      "metadata": {
        "id": "isWq9yuRjHkl"
      },
      "outputs": [],
      "source": [
        "L3"
      ]
    },
    {
      "cell_type": "code",
      "execution_count": null,
      "metadata": {
        "id": "AV7dDI7QjJjT"
      },
      "outputs": [],
      "source": [
        "L3[0]"
      ]
    },
    {
      "cell_type": "code",
      "execution_count": null,
      "metadata": {
        "id": "3AoYiMMLjMnJ"
      },
      "outputs": [],
      "source": [
        "L3[-1]"
      ]
    },
    {
      "cell_type": "code",
      "execution_count": null,
      "metadata": {
        "id": "eG005HL3jOVI"
      },
      "outputs": [],
      "source": [
        "x = L3[-1]\n",
        "x"
      ]
    },
    {
      "cell_type": "code",
      "execution_count": null,
      "metadata": {
        "id": "BwASgOubjUem"
      },
      "outputs": [],
      "source": [
        "x[0]"
      ]
    },
    {
      "cell_type": "code",
      "execution_count": null,
      "metadata": {
        "id": "HUTwfINzjYmd"
      },
      "outputs": [],
      "source": [
        "L3[-1][0]"
      ]
    },
    {
      "cell_type": "code",
      "execution_count": null,
      "metadata": {
        "id": "WGNCS90cjcqY"
      },
      "outputs": [],
      "source": [
        "L3[-1][-1]"
      ]
    },
    {
      "cell_type": "code",
      "execution_count": null,
      "metadata": {
        "id": "DW7ycKZ6jgz1"
      },
      "outputs": [],
      "source": [
        "L4"
      ]
    },
    {
      "cell_type": "code",
      "execution_count": null,
      "metadata": {
        "id": "WfHFtEKVji8k"
      },
      "outputs": [],
      "source": [
        "L4[-1][-1][0]"
      ]
    },
    {
      "cell_type": "code",
      "execution_count": null,
      "metadata": {
        "id": "UMO7wXpGjrh4"
      },
      "outputs": [],
      "source": [
        "L4[0][1][1]"
      ]
    },
    {
      "cell_type": "code",
      "execution_count": null,
      "metadata": {
        "id": "XXVd5nBekB-c"
      },
      "outputs": [],
      "source": [
        "# 3. Edit"
      ]
    },
    {
      "cell_type": "code",
      "execution_count": null,
      "metadata": {
        "id": "fRLFN648kD88"
      },
      "outputs": [],
      "source": [
        "L1"
      ]
    },
    {
      "cell_type": "code",
      "execution_count": null,
      "metadata": {
        "id": "NXKB9_6HkEng"
      },
      "outputs": [],
      "source": [
        "# Editing With Indexing\n",
        "L1[0] = 100\n",
        "L1"
      ]
    },
    {
      "cell_type": "code",
      "execution_count": null,
      "metadata": {
        "id": "n-m-8pIDkSH4"
      },
      "outputs": [],
      "source": [
        "L1[-1] = 500\n",
        "L1"
      ]
    },
    {
      "cell_type": "code",
      "execution_count": null,
      "metadata": {
        "id": "oiTGvUvfkVRe"
      },
      "outputs": [],
      "source": [
        "# Editing with Slicing\n",
        "L1[1:4] = [200, 300, 400]\n",
        "L1"
      ]
    },
    {
      "cell_type": "code",
      "execution_count": null,
      "metadata": {
        "id": "KWNGLfv3kcps"
      },
      "outputs": [],
      "source": [
        "# Add\n",
        "  # append()\n",
        "  # extend()\n",
        "  # insert()"
      ]
    },
    {
      "cell_type": "code",
      "execution_count": null,
      "metadata": {
        "id": "0DOOT8pgkkzx"
      },
      "outputs": [],
      "source": [
        "L1"
      ]
    },
    {
      "cell_type": "code",
      "execution_count": null,
      "metadata": {
        "id": "U-ieTvDnknaq"
      },
      "outputs": [],
      "source": [
        "L1.append(1000)"
      ]
    },
    {
      "cell_type": "code",
      "execution_count": null,
      "metadata": {
        "id": "wAV4JCIFkp2-"
      },
      "outputs": [],
      "source": [
        "L1\n"
      ]
    },
    {
      "cell_type": "code",
      "execution_count": null,
      "metadata": {
        "id": "AD2m7JJPkq6D"
      },
      "outputs": [],
      "source": [
        "L1.append(\"Hello\")"
      ]
    },
    {
      "cell_type": "code",
      "execution_count": null,
      "metadata": {
        "id": "SEH1C2g1kt5l"
      },
      "outputs": [],
      "source": [
        "L1"
      ]
    },
    {
      "cell_type": "code",
      "execution_count": null,
      "metadata": {
        "id": "Yfsjj9Dhkulx"
      },
      "outputs": [],
      "source": [
        "L1.extend([5000, 6000, 7000])\n",
        "L1"
      ]
    },
    {
      "cell_type": "code",
      "execution_count": null,
      "metadata": {
        "id": "rs09C2c5k12J"
      },
      "outputs": [],
      "source": [
        "L1.append([5, 6])"
      ]
    },
    {
      "cell_type": "code",
      "execution_count": null,
      "metadata": {
        "id": "qIPO_a5hk68V"
      },
      "outputs": [],
      "source": [
        "L1"
      ]
    },
    {
      "cell_type": "code",
      "execution_count": null,
      "metadata": {
        "id": "vxiDqXQsk7qH"
      },
      "outputs": [],
      "source": [
        "L1.extend(\"goa\")\n",
        "L1"
      ]
    },
    {
      "cell_type": "code",
      "execution_count": null,
      "metadata": {
        "id": "ncvtNIJsk-kO"
      },
      "outputs": [],
      "source": [
        "L1.insert(1, \"world\")\n",
        "L1"
      ]
    },
    {
      "cell_type": "code",
      "execution_count": null,
      "metadata": {
        "id": "f5qVdwpilDwa"
      },
      "outputs": [],
      "source": [
        "# 5. Delete"
      ]
    },
    {
      "cell_type": "code",
      "execution_count": null,
      "metadata": {
        "id": "cMa3UjNSlIah"
      },
      "outputs": [],
      "source": [
        "# del\n",
        "# .remove()\n",
        "# .pop()\n",
        "# .clear()"
      ]
    },
    {
      "cell_type": "code",
      "execution_count": null,
      "metadata": {
        "id": "aIZkcCyBlPfk"
      },
      "outputs": [],
      "source": [
        "L2"
      ]
    },
    {
      "cell_type": "code",
      "execution_count": null,
      "metadata": {
        "id": "GQxLy1MllTcR"
      },
      "outputs": [],
      "source": [
        "del L2\n",
        "L2"
      ]
    },
    {
      "cell_type": "code",
      "execution_count": null,
      "metadata": {
        "id": "lWgVVbSllWyp"
      },
      "outputs": [],
      "source": [
        "del L1[0]\n",
        "L1"
      ]
    },
    {
      "cell_type": "code",
      "execution_count": null,
      "metadata": {
        "id": "MdL1qr2JlbaY"
      },
      "outputs": [],
      "source": [
        "del L1[-4]\n",
        "L1"
      ]
    },
    {
      "cell_type": "code",
      "execution_count": null,
      "metadata": {
        "id": "dWa4sWWWliFr"
      },
      "outputs": [],
      "source": [
        "del L1[-3:]\n",
        "L1"
      ]
    },
    {
      "cell_type": "code",
      "execution_count": null,
      "metadata": {
        "id": "HJ1OUKkYlpAx"
      },
      "outputs": [],
      "source": [
        "L1.remove(\"Hello\")\n",
        "L1"
      ]
    },
    {
      "cell_type": "code",
      "execution_count": null,
      "metadata": {
        "id": "Y7F-am_Blvz2"
      },
      "outputs": [],
      "source": [
        "L1.pop()"
      ]
    },
    {
      "cell_type": "code",
      "execution_count": null,
      "metadata": {
        "id": "bFoWPntel2OS"
      },
      "outputs": [],
      "source": [
        "L1.pop()"
      ]
    },
    {
      "cell_type": "code",
      "execution_count": null,
      "metadata": {
        "id": "GEkfpI8el4WT"
      },
      "outputs": [],
      "source": [
        "L1"
      ]
    },
    {
      "cell_type": "code",
      "execution_count": null,
      "metadata": {
        "id": "PkltzbaEl5Ry"
      },
      "outputs": [],
      "source": [
        "L1.clear()\n",
        "L1"
      ]
    },
    {
      "cell_type": "code",
      "execution_count": null,
      "metadata": {
        "id": "gehskWyRl-78"
      },
      "outputs": [],
      "source": [
        "# 6. Operations\n",
        "  # Arithmetic\n",
        "  # Membership\n",
        "  # Loop"
      ]
    },
    {
      "cell_type": "code",
      "execution_count": null,
      "metadata": {
        "id": "wptCn6jrmFb5"
      },
      "outputs": [],
      "source": [
        "L = [1, 2, 3, 4]\n",
        "L1 = [5, 6, 7, 8]"
      ]
    },
    {
      "cell_type": "code",
      "execution_count": null,
      "metadata": {
        "id": "kG8EwgEZmRuZ"
      },
      "outputs": [],
      "source": [
        "# Concatenation/Merge\n",
        "L + L1"
      ]
    },
    {
      "cell_type": "code",
      "execution_count": null,
      "metadata": {
        "id": "MtO04kcTmUnf"
      },
      "outputs": [],
      "source": [
        "L, L1"
      ]
    },
    {
      "cell_type": "code",
      "execution_count": null,
      "metadata": {
        "id": "BkQ3jNK6mXs3"
      },
      "outputs": [],
      "source": [
        "L * 3"
      ]
    },
    {
      "cell_type": "code",
      "execution_count": null,
      "metadata": {
        "id": "_oO3TwMvmdr9"
      },
      "outputs": [],
      "source": [
        "# Loops\n",
        "for i in L:\n",
        "  print(i)"
      ]
    },
    {
      "cell_type": "code",
      "execution_count": null,
      "metadata": {
        "id": "Zf8iSWZVmhcz"
      },
      "outputs": [],
      "source": [
        "L3"
      ]
    },
    {
      "cell_type": "code",
      "execution_count": null,
      "metadata": {
        "id": "4gR1hlD_mj58"
      },
      "outputs": [],
      "source": [
        "for i in L3:\n",
        "  print(i)"
      ]
    },
    {
      "cell_type": "code",
      "execution_count": null,
      "metadata": {
        "id": "0xiCxtd4mq41"
      },
      "outputs": [],
      "source": [
        "4 in L3"
      ]
    },
    {
      "cell_type": "code",
      "execution_count": null,
      "metadata": {
        "id": "__X-xUiymuiY"
      },
      "outputs": [],
      "source": [
        "[4, 5] in L3"
      ]
    },
    {
      "cell_type": "code",
      "execution_count": null,
      "metadata": {
        "id": "scnHNZ0HmxBZ"
      },
      "outputs": [],
      "source": [
        "# 7. Functions\n",
        "# len()\n",
        "# min()\n",
        "# max()\n",
        "# sorted()"
      ]
    },
    {
      "cell_type": "code",
      "execution_count": null,
      "metadata": {
        "id": "aTq8awifm4eV"
      },
      "outputs": [],
      "source": [
        "L"
      ]
    },
    {
      "cell_type": "code",
      "execution_count": null,
      "metadata": {
        "id": "fOG3bGWym52D"
      },
      "outputs": [],
      "source": [
        "len(L)"
      ]
    },
    {
      "cell_type": "code",
      "execution_count": null,
      "metadata": {
        "id": "hQr2LbV1m7oR"
      },
      "outputs": [],
      "source": [
        "min(L)"
      ]
    },
    {
      "cell_type": "code",
      "execution_count": null,
      "metadata": {
        "id": "K_HGxy5am9xr"
      },
      "outputs": [],
      "source": [
        "max(L)"
      ]
    },
    {
      "cell_type": "code",
      "execution_count": null,
      "metadata": {
        "id": "AvGsLzvLm_z-"
      },
      "outputs": [],
      "source": [
        "sorted(L)"
      ]
    },
    {
      "cell_type": "code",
      "execution_count": null,
      "metadata": {
        "id": "_mnZ9MAcnBpn"
      },
      "outputs": [],
      "source": [
        "sorted(L, reverse = True)"
      ]
    },
    {
      "cell_type": "code",
      "execution_count": null,
      "metadata": {
        "id": "SCadM5_VnE_a"
      },
      "outputs": [],
      "source": [
        "L"
      ]
    },
    {
      "cell_type": "code",
      "execution_count": null,
      "metadata": {
        "id": "NEAMvbYznH0Q"
      },
      "outputs": [],
      "source": [
        "L.sort(reverse = True)"
      ]
    },
    {
      "cell_type": "code",
      "execution_count": null,
      "metadata": {
        "id": "kNBuDpOEnLOF"
      },
      "outputs": [],
      "source": [
        "L\n"
      ]
    },
    {
      "cell_type": "code",
      "execution_count": null,
      "metadata": {
        "id": "mSR2KcYxnL4u"
      },
      "outputs": [],
      "source": [
        "L.sort()"
      ]
    },
    {
      "cell_type": "code",
      "execution_count": null,
      "metadata": {
        "id": "e7eSoRCKnNWX"
      },
      "outputs": [],
      "source": [
        "L"
      ]
    },
    {
      "cell_type": "code",
      "execution_count": null,
      "metadata": {
        "id": "BrX2ja-MnN3M"
      },
      "outputs": [],
      "source": [
        "# count\n",
        "L = [1, 2, 3, 4, 5, 1, 2, 3, 4, 1, 5]\n",
        "L.count(5)"
      ]
    },
    {
      "cell_type": "code",
      "execution_count": null,
      "metadata": {
        "id": "msuOVG0KnRoc"
      },
      "outputs": [],
      "source": [
        "L"
      ]
    },
    {
      "cell_type": "code",
      "execution_count": null,
      "metadata": {
        "id": "FMUeFZebnavw"
      },
      "outputs": [],
      "source": [
        "# index\n",
        "L.index(5)"
      ]
    },
    {
      "cell_type": "code",
      "execution_count": null,
      "metadata": {
        "id": "cWWxtDU7ndf3"
      },
      "outputs": [],
      "source": [
        "# reverse\n",
        "L = [2, 1, 5, 7, 0]\n",
        "# permanently reverses the list\n",
        "L.reverse()\n",
        "print(L)"
      ]
    },
    {
      "cell_type": "code",
      "execution_count": null,
      "metadata": {
        "id": "kKIUwEkRntj1"
      },
      "outputs": [],
      "source": [
        "# Sort (Vs Sorted)\n",
        "L = [2, 1, 5, 7, 0]\n",
        "print(L)\n",
        "print(sorted(L))\n",
        "print(L)\n",
        "L.sort()\n",
        "print(L)"
      ]
    },
    {
      "cell_type": "code",
      "execution_count": null,
      "metadata": {
        "id": "U2dvutw7n-oO"
      },
      "outputs": [],
      "source": [
        "# Copy ----> shallow\n",
        "L = [2, 1, 5, 7, 0]\n",
        "print(L)\n",
        "print(id(L))\n",
        "L1 = L.copy()\n",
        "print(L1)\n",
        "print(id(L1))"
      ]
    },
    {
      "cell_type": "code",
      "execution_count": null,
      "metadata": {
        "id": "s1BnFjK7o6_X"
      },
      "outputs": [],
      "source": [
        "\"hello how are you\".title()"
      ]
    },
    {
      "cell_type": "code",
      "execution_count": null,
      "metadata": {
        "id": "rvkoK2bWpL1V"
      },
      "outputs": [],
      "source": [
        "# Title Case a String Without title()\n",
        "sample = \"how are you?\"\n",
        "sample.split()\n",
        "L = []\n",
        "for i in sample.split():\n",
        "  L.append(i.capitalize())\n",
        "print(L)\n",
        "print(\" \".join(L))\n",
        "print(sample)"
      ]
    },
    {
      "cell_type": "code",
      "execution_count": null,
      "metadata": {
        "id": "SVASQ2pAplu-"
      },
      "outputs": [],
      "source": [
        "sample = \"ali@gmail.com\"\n",
        "print(sample[:sample.find(\"@\")])"
      ]
    },
    {
      "cell_type": "code",
      "execution_count": null,
      "metadata": {
        "id": "wo5Q0ABRp3pY"
      },
      "outputs": [],
      "source": [
        "L1 = [1, 1, 2, 2, 3, 3, 4, 4]\n",
        "# Output: L2 = [1, 2, 3, 4]\n",
        "L = []\n",
        "for i in L1:\n",
        "  if i not in L:\n",
        "    L.append(i)\n",
        "print(L)"
      ]
    },
    {
      "cell_type": "code",
      "execution_count": null,
      "metadata": {
        "id": "5WHada9LqYwG"
      },
      "outputs": [],
      "source": [
        "# List Comprehension"
      ]
    },
    {
      "cell_type": "code",
      "execution_count": null,
      "metadata": {
        "id": "s7JsJoItriP0"
      },
      "outputs": [],
      "source": [
        "L = [1, 2, 3, 4, 5, 6, 7]\n"
      ]
    },
    {
      "cell_type": "code",
      "execution_count": null,
      "metadata": {
        "id": "vUghLEG4rrvq"
      },
      "outputs": [],
      "source": [
        "L1 = [item * 2 for item in L]\n",
        "L1"
      ]
    },
    {
      "cell_type": "code",
      "execution_count": null,
      "metadata": {
        "id": "GP5rkVZIr5rE"
      },
      "outputs": [],
      "source": [
        "L2 = [i**2 for i in range(10)]\n",
        "L2"
      ]
    },
    {
      "cell_type": "code",
      "execution_count": null,
      "metadata": {
        "id": "pAzKag0FsikO"
      },
      "outputs": [],
      "source": [
        "L3 = [i**2 for i in range(10) if i%2!=0]\n",
        "L3"
      ]
    },
    {
      "cell_type": "code",
      "execution_count": null,
      "metadata": {
        "id": "UqtpB2ROs1t6"
      },
      "outputs": [],
      "source": [
        "fruits = ['Apple', 'Orange', 'Mango', 'Guava']\n",
        "fruits"
      ]
    },
    {
      "cell_type": "code",
      "execution_count": null,
      "metadata": {
        "id": "YtvpXmH2tHqc"
      },
      "outputs": [],
      "source": [
        "L4 = [fruits for fruits in fruits if fruits[0] == \"O\" ]\n",
        "L4"
      ]
    },
    {
      "cell_type": "code",
      "execution_count": null,
      "metadata": {
        "id": "I0pzSnUGtYId"
      },
      "outputs": [],
      "source": [
        "# Add 1-10 to list\n",
        "L = []\n",
        "for i in range(1, 11):\n",
        "  L.append(i)\n",
        "print(L)"
      ]
    },
    {
      "cell_type": "code",
      "execution_count": null,
      "metadata": {
        "id": "lCQLuuwBtln2"
      },
      "outputs": [],
      "source": [
        "L = [i for i in range(1, 11)]\n",
        "print(L)"
      ]
    },
    {
      "cell_type": "code",
      "execution_count": null,
      "metadata": {
        "id": "wzwnzf6rttRL"
      },
      "outputs": [],
      "source": [
        "# Scalar Multiplication\n",
        "v = [2, 3, 4] # Vector\n",
        "s = -3\n",
        "# [-6, -9, -12]\n",
        "[s*i for i in v]"
      ]
    },
    {
      "cell_type": "code",
      "execution_count": null,
      "metadata": {
        "id": "7Bupu7R6uNfu"
      },
      "outputs": [],
      "source": [
        "# Add squares\n",
        "L = [1, 2, 3, 4, 5]\n",
        "[i**2 for i in L]"
      ]
    },
    {
      "cell_type": "code",
      "execution_count": null,
      "metadata": {
        "id": "FJG0fchHudgl"
      },
      "outputs": [],
      "source": [
        "# # Languages starting with 'P'\n",
        "# languages = ['java', 'python', 'php', 'c', 'javascript']\n",
        "# [languages for language in lnaguages if language.startswith('p') ]"
      ]
    },
    {
      "cell_type": "code",
      "execution_count": null,
      "metadata": {
        "id": "P0zHnyV-vaRW"
      },
      "outputs": [],
      "source": [
        "# List Traversal\n",
        "  # Itemwise\n",
        "  # Indexwise"
      ]
    },
    {
      "cell_type": "code",
      "execution_count": null,
      "metadata": {
        "id": "dCbJH7pTwQZ_"
      },
      "outputs": [],
      "source": [
        "# Itemwise\n",
        "L = [1, 2, 3, 4]\n",
        "for i in L:\n",
        "  print(i)"
      ]
    },
    {
      "cell_type": "code",
      "execution_count": null,
      "metadata": {
        "id": "O2MHDIYRwYYu"
      },
      "outputs": [],
      "source": [
        "# Indexwise\n",
        "L = [1, 2, 3, 4]\n",
        "for i in range(0, len(L)):\n",
        "  print(L[i])"
      ]
    },
    {
      "cell_type": "code",
      "execution_count": null,
      "metadata": {
        "id": "Ls-RTjxbwpWP"
      },
      "outputs": [],
      "source": [
        "# Zip\n",
        "  # zip() Function:\n"
      ]
    },
    {
      "cell_type": "code",
      "execution_count": null,
      "metadata": {
        "id": "ORHnqVqHh7Rw"
      },
      "outputs": [],
      "source": [
        "# Tuples:\n",
        "  # Immutable list-like collection\n",
        "# Characteristics:\n",
        "  # Ordered elements\n",
        "  # Unmodifiable post-creation\n",
        "  # Allows Duplicates"
      ]
    },
    {
      "cell_type": "code",
      "execution_count": null,
      "metadata": {
        "id": "qNeHanf9i8EF"
      },
      "outputs": [],
      "source": [
        "# Create\n",
        "# Access\n",
        "# Edit\n",
        "# Add\n",
        "# Delete\n",
        "# Operations\n",
        "# Functions"
      ]
    },
    {
      "cell_type": "code",
      "execution_count": null,
      "metadata": {
        "id": "7Z2EKvdujCmr"
      },
      "outputs": [],
      "source": [
        "# 1. Create\n"
      ]
    },
    {
      "cell_type": "code",
      "execution_count": null,
      "metadata": {
        "id": "3GQBvVzujIbq"
      },
      "outputs": [],
      "source": [
        "# Empty\n",
        "T1 = ()\n",
        "T1"
      ]
    },
    {
      "cell_type": "code",
      "execution_count": null,
      "metadata": {
        "id": "vCDi1jgajMHm"
      },
      "outputs": [],
      "source": [
        "# Homo\n",
        "T2 = (1, 2, 3, 4, 5)\n",
        "T2"
      ]
    },
    {
      "cell_type": "code",
      "execution_count": null,
      "metadata": {
        "id": "Ife4z8DwkJzf"
      },
      "outputs": [],
      "source": [
        "# Hetro\n",
        "T3 = (\"Hello\", 4, 5, 6)\n",
        "T3"
      ]
    },
    {
      "cell_type": "code",
      "execution_count": null,
      "metadata": {
        "id": "_QlrnzTJkTfh"
      },
      "outputs": [],
      "source": [
        "# Tuple\n",
        "T4 = (1, 2, 3, (4, 5))\n",
        "T4"
      ]
    },
    {
      "cell_type": "code",
      "execution_count": null,
      "metadata": {
        "id": "4FO5THQskb7W"
      },
      "outputs": [],
      "source": [
        "T5 = (1)\n",
        "T5"
      ]
    },
    {
      "cell_type": "code",
      "execution_count": null,
      "metadata": {
        "id": "A446YzsOke3T"
      },
      "outputs": [],
      "source": [
        "type(T5)"
      ]
    },
    {
      "cell_type": "code",
      "execution_count": null,
      "metadata": {
        "id": "Q-igO5U0kjiv"
      },
      "outputs": [],
      "source": [
        "# Type Conversion\n",
        "T5 = (\"Hello\")\n",
        "type(T5)"
      ]
    },
    {
      "cell_type": "code",
      "execution_count": null,
      "metadata": {
        "id": "JM3wJJGFkpzp"
      },
      "outputs": [],
      "source": [
        "# Single-item tuple creation\n",
        "T5 = (\"Hello\",)\n",
        "type(T5)"
      ]
    },
    {
      "cell_type": "code",
      "execution_count": null,
      "metadata": {
        "id": "TBggdUP7kyAO"
      },
      "outputs": [],
      "source": [
        "T6 = tuple(\"Goa\")\n",
        "T6"
      ]
    },
    {
      "cell_type": "code",
      "execution_count": null,
      "metadata": {
        "id": "3XOMS2gvk3wQ"
      },
      "outputs": [],
      "source": [
        "T6 = tuple([1, 2, 3, 4])\n",
        "T6"
      ]
    },
    {
      "cell_type": "code",
      "execution_count": null,
      "metadata": {
        "id": "rR5VZqqgk9PA"
      },
      "outputs": [],
      "source": [
        "# 2. Access\n",
        "# Indexing\n",
        "# Slicing"
      ]
    },
    {
      "cell_type": "code",
      "execution_count": null,
      "metadata": {
        "id": "wUB6ScQklETt"
      },
      "outputs": [],
      "source": [
        "T2"
      ]
    },
    {
      "cell_type": "code",
      "execution_count": null,
      "metadata": {
        "id": "0xUqZImzlFZ6"
      },
      "outputs": [],
      "source": [
        "T2[0]"
      ]
    },
    {
      "cell_type": "code",
      "execution_count": null,
      "metadata": {
        "id": "6m3qaFArlG7t"
      },
      "outputs": [],
      "source": [
        "T2[-1]"
      ]
    },
    {
      "cell_type": "code",
      "execution_count": null,
      "metadata": {
        "id": "0OZjGa2AlIgl"
      },
      "outputs": [],
      "source": [
        "T2[:4]"
      ]
    },
    {
      "cell_type": "code",
      "execution_count": null,
      "metadata": {
        "id": "M49d-Ho-lMea"
      },
      "outputs": [],
      "source": [
        "T4"
      ]
    },
    {
      "cell_type": "code",
      "execution_count": null,
      "metadata": {
        "id": "znCo4dWYlRVn"
      },
      "outputs": [],
      "source": [
        "T4[-1][1]"
      ]
    },
    {
      "cell_type": "code",
      "execution_count": null,
      "metadata": {
        "id": "KgffwZYalWNZ"
      },
      "outputs": [],
      "source": [
        "# 3. Edit"
      ]
    },
    {
      "cell_type": "code",
      "execution_count": null,
      "metadata": {
        "id": "26KcekwXlYYL"
      },
      "outputs": [],
      "source": [
        "L = [1, 2, 3, 4, 5]\n",
        "L[0] = 100"
      ]
    },
    {
      "cell_type": "code",
      "execution_count": null,
      "metadata": {
        "id": "A3Yp4Bv6leY7"
      },
      "outputs": [],
      "source": [
        "L"
      ]
    },
    {
      "cell_type": "code",
      "execution_count": null,
      "metadata": {
        "id": "vIJGx73alfP3"
      },
      "outputs": [],
      "source": [
        "T2"
      ]
    },
    {
      "cell_type": "code",
      "execution_count": null,
      "metadata": {
        "id": "wHba_vAdlhlc"
      },
      "outputs": [],
      "source": [
        "T2[0] = 100\n",
        "# Immutable, like strings"
      ]
    },
    {
      "cell_type": "code",
      "execution_count": null,
      "metadata": {
        "id": "RfJ-QXzjl0Oc"
      },
      "outputs": [],
      "source": [
        "# Tuples = immutable (like strings)"
      ]
    },
    {
      "cell_type": "code",
      "execution_count": null,
      "metadata": {
        "id": "5uJ8NJVrl95N"
      },
      "outputs": [],
      "source": [
        "# 4. Add\n",
        " # not possible\n",
        " # Tuples: immutable"
      ]
    },
    {
      "cell_type": "code",
      "execution_count": null,
      "metadata": {
        "id": "GSl-kn12mEqn"
      },
      "outputs": [],
      "source": [
        "# 5. Delete"
      ]
    },
    {
      "cell_type": "code",
      "execution_count": null,
      "metadata": {
        "id": "pzCZmLyomHAn"
      },
      "outputs": [],
      "source": [
        "T1"
      ]
    },
    {
      "cell_type": "code",
      "execution_count": null,
      "metadata": {
        "id": "zEhxBuFfmHwD"
      },
      "outputs": [],
      "source": [
        "del T1\n",
        "T1"
      ]
    },
    {
      "cell_type": "code",
      "execution_count": null,
      "metadata": {
        "id": "WRNaLk89mKC4"
      },
      "outputs": [],
      "source": [
        "T3"
      ]
    },
    {
      "cell_type": "code",
      "execution_count": null,
      "metadata": {
        "id": "pgQrmYWmmNZq"
      },
      "outputs": [],
      "source": [
        "T2"
      ]
    },
    {
      "cell_type": "code",
      "execution_count": null,
      "metadata": {
        "id": "6hQL-vXLmOLb"
      },
      "outputs": [],
      "source": [
        "del T2(-1)"
      ]
    },
    {
      "cell_type": "code",
      "execution_count": null,
      "metadata": {
        "id": "jmvraj8AmWru"
      },
      "outputs": [],
      "source": [
        "# Tuples are immutable"
      ]
    },
    {
      "cell_type": "code",
      "execution_count": null,
      "metadata": {
        "id": "Nd0MVKXemawx"
      },
      "outputs": [],
      "source": [
        "# 6. Operations"
      ]
    },
    {
      "cell_type": "code",
      "execution_count": null,
      "metadata": {
        "id": "pupp8tddmcSL"
      },
      "outputs": [],
      "source": [
        "T2"
      ]
    },
    {
      "cell_type": "code",
      "execution_count": null,
      "metadata": {
        "id": "TNojihGEmdUq"
      },
      "outputs": [],
      "source": [
        "T3"
      ]
    },
    {
      "cell_type": "code",
      "execution_count": null,
      "metadata": {
        "id": "BqZvT_HVmeHh"
      },
      "outputs": [],
      "source": [
        "# + and *"
      ]
    },
    {
      "cell_type": "code",
      "execution_count": null,
      "metadata": {
        "id": "oqgQDfg5miEn"
      },
      "outputs": [],
      "source": [
        "T2 + T3"
      ]
    },
    {
      "cell_type": "code",
      "execution_count": null,
      "metadata": {
        "id": "SYcMvESnmjz4"
      },
      "outputs": [],
      "source": [
        "T2 * 3"
      ]
    },
    {
      "cell_type": "code",
      "execution_count": null,
      "metadata": {
        "id": "OYIY1HX0mlfP"
      },
      "outputs": [],
      "source": [
        "# iteration\n",
        "for i in T2:\n",
        "  print(i)"
      ]
    },
    {
      "cell_type": "code",
      "execution_count": null,
      "metadata": {
        "id": "y6zcZ5nXmrgq"
      },
      "outputs": [],
      "source": [
        "# membership\n",
        "1 in T2"
      ]
    },
    {
      "cell_type": "code",
      "execution_count": null,
      "metadata": {
        "id": "9BRTAmB1mvgP"
      },
      "outputs": [],
      "source": [
        "# 7. Functions"
      ]
    },
    {
      "cell_type": "code",
      "execution_count": null,
      "metadata": {
        "id": "LzqiEPermxwh"
      },
      "outputs": [],
      "source": [
        "len(T2)"
      ]
    },
    {
      "cell_type": "code",
      "execution_count": null,
      "metadata": {
        "id": "qtcTX7VHm5xQ"
      },
      "outputs": [],
      "source": [
        "min(T2)"
      ]
    },
    {
      "cell_type": "code",
      "execution_count": null,
      "metadata": {
        "id": "nqAhhFaPm7oX"
      },
      "outputs": [],
      "source": [
        "max(T2)"
      ]
    },
    {
      "cell_type": "code",
      "execution_count": null,
      "metadata": {
        "id": "4bHz-atVm9Pv"
      },
      "outputs": [],
      "source": [
        "sum(T2)"
      ]
    },
    {
      "cell_type": "code",
      "execution_count": null,
      "metadata": {
        "id": "RfnBM26JnBpq"
      },
      "outputs": [],
      "source": [
        "sorted(T2)"
      ]
    },
    {
      "cell_type": "code",
      "execution_count": null,
      "metadata": {
        "id": "88xpkteqnEZG"
      },
      "outputs": [],
      "source": [
        "sorted(T2, reverse = True)"
      ]
    },
    {
      "cell_type": "code",
      "execution_count": null,
      "metadata": {
        "id": "ozQdu1pOnkQZ"
      },
      "outputs": [],
      "source": []
    },
    {
      "cell_type": "code",
      "execution_count": null,
      "metadata": {
        "id": "1kzYTS2gnHqD"
      },
      "outputs": [],
      "source": [
        "# Count\n",
        "t = (1, 2, 3, 4, 5, 5)\n",
        "t.count(5)"
      ]
    },
    {
      "cell_type": "code",
      "execution_count": null,
      "metadata": {
        "id": "C9vBdbY8nOeu"
      },
      "outputs": [],
      "source": [
        "# index\n",
        "t.index(5)"
      ]
    },
    {
      "cell_type": "code",
      "execution_count": null,
      "metadata": {
        "id": "6o0eZ-ddnWI3"
      },
      "outputs": [],
      "source": [
        "# List vs Tuples\n",
        "# Syntax:\n",
        "  # List: []\n",
        "  # Tuples: ()\n",
        "\n",
        "# Mutability:\n",
        "  # List: Mutable\n",
        "  # Tuples: Immutable\n",
        "\n",
        "# Speed:\n",
        "  # Lists: Slower(mutable)\n",
        "  # Tuples: Faster(immutable)\n",
        "\n",
        "# Memory:\n",
        "  # Lists: Higher\n",
        "  # Tuples: Lower\n",
        "\n",
        "# Functionality:\n",
        "  # Both: Indexing, slicing\n",
        "  # Lists: More Methods\n",
        "\n",
        "# Error-Prone:\n",
        "  # Lists: Modifiable\n",
        "  # Tuples: Safer"
      ]
    },
    {
      "cell_type": "code",
      "execution_count": null,
      "metadata": {
        "id": "OZROuInqpZjE"
      },
      "outputs": [],
      "source": [
        "# Sets:"
      ]
    },
    {
      "cell_type": "code",
      "source": [
        "# Unordered, unique elements\n",
        "# Set is mutable; elements are immutable\n",
        "# Operations: Union, intersection, symmetric difference, etc."
      ],
      "metadata": {
        "id": "RY52qkPGrBUQ"
      },
      "execution_count": null,
      "outputs": []
    },
    {
      "cell_type": "code",
      "source": [
        "# Unordered\n",
        "# Mutable\n",
        "# Unique Elements\n",
        "# No Mutable Data Types"
      ],
      "metadata": {
        "id": "YbRP0hdKrW8w"
      },
      "execution_count": null,
      "outputs": []
    },
    {
      "cell_type": "code",
      "source": [
        "# Important Rules about Sets\n",
        "  # No duplicates\n",
        "  # No indexing/slicing\n",
        "  # No Mutable Elements\n",
        "  # Set is Mutable\n"
      ],
      "metadata": {
        "id": "IqYBm41rreJw"
      },
      "execution_count": null,
      "outputs": []
    },
    {
      "cell_type": "code",
      "source": [
        "# Create\n",
        "# Access\n",
        "# Edit\n",
        "# Add\n",
        "# Delete\n",
        "# Operations\n",
        "# Functions"
      ],
      "metadata": {
        "id": "TFe8g0wyruPY"
      },
      "execution_count": null,
      "outputs": []
    },
    {
      "cell_type": "code",
      "source": [
        "# 1. Create"
      ],
      "metadata": {
        "id": "-xSCmyZSr2BS"
      },
      "execution_count": null,
      "outputs": []
    },
    {
      "cell_type": "code",
      "source": [
        "# empty\n",
        "S1 = {}\n",
        "S1"
      ],
      "metadata": {
        "id": "HCJKv6sRr4En"
      },
      "execution_count": null,
      "outputs": []
    },
    {
      "cell_type": "code",
      "source": [
        "type(S1)"
      ],
      "metadata": {
        "id": "xasJJRbnr7Sc"
      },
      "execution_count": null,
      "outputs": []
    },
    {
      "cell_type": "code",
      "source": [
        "# 1D & 2D Sets\n",
        "S1 = {1, 2, 3, 4, 5} # 1D Set\n",
        "S1"
      ],
      "metadata": {
        "id": "eHqZ3qcxsA40"
      },
      "execution_count": null,
      "outputs": []
    },
    {
      "cell_type": "code",
      "source": [
        "# Homo and Hetro\n",
        "S2 = {\"Hello\", 4.5, True}\n",
        "S2"
      ],
      "metadata": {
        "id": "ADNt0-T7sNUj"
      },
      "execution_count": null,
      "outputs": []
    },
    {
      "cell_type": "code",
      "source": [
        "# Type Conversion\n",
        "s4 = set([1, 2, 3])\n",
        "print(s4)"
      ],
      "metadata": {
        "id": "R1mMC81DsUwx"
      },
      "execution_count": null,
      "outputs": []
    },
    {
      "cell_type": "code",
      "source": [
        "# Duplicates not allowed\n",
        "s3 = {1, 1, 2, 2, 3, 3}\n",
        "s3"
      ],
      "metadata": {
        "id": "WFpcKuNssjWL"
      },
      "execution_count": null,
      "outputs": []
    },
    {
      "cell_type": "code",
      "source": [
        "s4 = {[1, 2, 3], \"Hello\"}\n",
        "s4"
      ],
      "metadata": {
        "id": "JF4AHfCzsqlG"
      },
      "execution_count": null,
      "outputs": []
    },
    {
      "cell_type": "code",
      "source": [
        "# set can't have mutable items\n",
        "s6 = {1, 2, [3, 4]}\n",
        "print(s6)"
      ],
      "metadata": {
        "id": "ym8NG9XIsv2V"
      },
      "execution_count": null,
      "outputs": []
    },
    {
      "cell_type": "code",
      "source": [
        "# Sets have no indexing\n",
        "# Hashing"
      ],
      "metadata": {
        "id": "6pZ-SqRos_2i"
      },
      "execution_count": null,
      "outputs": []
    },
    {
      "cell_type": "code",
      "source": [
        "s5 = {{1}, {2}}"
      ],
      "metadata": {
        "id": "ceGYnNzVtDxr"
      },
      "execution_count": null,
      "outputs": []
    },
    {
      "cell_type": "code",
      "source": [
        "s1 = {1, 2, 3}\n",
        "s2 = {3, 2, 1}\n",
        "print(s1 == s2)"
      ],
      "metadata": {
        "id": "jdLcWCHCtHFK"
      },
      "execution_count": null,
      "outputs": []
    },
    {
      "cell_type": "code",
      "source": [
        "# 2. Access\n"
      ],
      "metadata": {
        "id": "PhM0ASBbtQ0-"
      },
      "execution_count": null,
      "outputs": []
    },
    {
      "cell_type": "code",
      "source": [
        "S1"
      ],
      "metadata": {
        "id": "dGgqDIUStTBB"
      },
      "execution_count": null,
      "outputs": []
    },
    {
      "cell_type": "code",
      "source": [
        "S1[0]"
      ],
      "metadata": {
        "id": "UEiHTewMtTg-"
      },
      "execution_count": null,
      "outputs": []
    },
    {
      "cell_type": "code",
      "source": [
        "S1[-1]"
      ],
      "metadata": {
        "id": "XMUroNputWXX"
      },
      "execution_count": null,
      "outputs": []
    },
    {
      "cell_type": "code",
      "source": [
        "S1[0:3]"
      ],
      "metadata": {
        "id": "7ip0rKdYteZN"
      },
      "execution_count": null,
      "outputs": []
    },
    {
      "cell_type": "code",
      "source": [
        "# 3. Edit"
      ],
      "metadata": {
        "id": "z_cOJ-Z6tiDT"
      },
      "execution_count": null,
      "outputs": []
    },
    {
      "cell_type": "code",
      "source": [
        "S1[2] = 100"
      ],
      "metadata": {
        "id": "HXHyQASotmDY"
      },
      "execution_count": null,
      "outputs": []
    },
    {
      "cell_type": "code",
      "source": [
        "S1"
      ],
      "metadata": {
        "id": "mpEqiXcHtoVf"
      },
      "execution_count": null,
      "outputs": []
    },
    {
      "cell_type": "code",
      "source": [
        "id(S1)"
      ],
      "metadata": {
        "id": "hx4vMPpYtpKX"
      },
      "execution_count": null,
      "outputs": []
    },
    {
      "cell_type": "code",
      "source": [
        "L = list(S1)\n",
        "L"
      ],
      "metadata": {
        "id": "l5QVUxijttTe"
      },
      "execution_count": null,
      "outputs": []
    },
    {
      "cell_type": "code",
      "source": [
        "L[0] = 100\n",
        "L"
      ],
      "metadata": {
        "id": "Rz2Kpq2Ftvoi"
      },
      "execution_count": null,
      "outputs": []
    },
    {
      "cell_type": "code",
      "source": [
        "S1 = set(L)\n",
        "S1"
      ],
      "metadata": {
        "id": "fKDve3zmt0PA"
      },
      "execution_count": null,
      "outputs": []
    },
    {
      "cell_type": "code",
      "source": [
        "id(S1)"
      ],
      "metadata": {
        "id": "Y-k_n6oLt3LA"
      },
      "execution_count": null,
      "outputs": []
    },
    {
      "cell_type": "code",
      "source": [
        "# 4. Add"
      ],
      "metadata": {
        "id": "TTWCcu1ZuCR6"
      },
      "execution_count": null,
      "outputs": []
    },
    {
      "cell_type": "code",
      "source": [
        "S1"
      ],
      "metadata": {
        "id": "aT9qXlDbuFJW"
      },
      "execution_count": null,
      "outputs": []
    },
    {
      "cell_type": "code",
      "source": [
        "S1.add(6)"
      ],
      "metadata": {
        "id": "0KLKaWbwuFyD"
      },
      "execution_count": null,
      "outputs": []
    },
    {
      "cell_type": "code",
      "source": [
        "S1"
      ],
      "metadata": {
        "id": "Tm9fNKecuH30"
      },
      "execution_count": null,
      "outputs": []
    },
    {
      "cell_type": "code",
      "source": [
        "id(S1)"
      ],
      "metadata": {
        "id": "d0rn-CCSuJtZ"
      },
      "execution_count": null,
      "outputs": []
    },
    {
      "cell_type": "code",
      "source": [
        "S1.update([5, 6, 7])\n",
        "print(S1)"
      ],
      "metadata": {
        "id": "iZ0OPrV2uNh1"
      },
      "execution_count": null,
      "outputs": []
    },
    {
      "cell_type": "code",
      "source": [
        "# Delete\n",
        "  # del\n",
        "  # remove()\n",
        "  # pop()\n",
        "  # discard()\n",
        "  # clear()\n"
      ],
      "metadata": {
        "id": "twpsRiWEuT0x"
      },
      "execution_count": null,
      "outputs": []
    },
    {
      "cell_type": "code",
      "source": [
        "S2"
      ],
      "metadata": {
        "id": "1VVy1CfLup9T"
      },
      "execution_count": null,
      "outputs": []
    },
    {
      "cell_type": "code",
      "source": [
        "del S2"
      ],
      "metadata": {
        "id": "XLX4jj05uqyp"
      },
      "execution_count": null,
      "outputs": []
    },
    {
      "cell_type": "code",
      "source": [
        "S2"
      ],
      "metadata": {
        "id": "lkrzJuIrusLb"
      },
      "execution_count": null,
      "outputs": []
    },
    {
      "cell_type": "code",
      "source": [
        "del S1[0]"
      ],
      "metadata": {
        "id": "nvDMoNG-utBs"
      },
      "execution_count": null,
      "outputs": []
    },
    {
      "cell_type": "code",
      "source": [
        "S1"
      ],
      "metadata": {
        "id": "On1ZPE7uu9i8"
      },
      "execution_count": null,
      "outputs": []
    },
    {
      "cell_type": "code",
      "source": [
        "S1.remove(100)\n",
        "S1"
      ],
      "metadata": {
        "id": "wqGTCTXPu_L5"
      },
      "execution_count": null,
      "outputs": []
    },
    {
      "cell_type": "code",
      "source": [
        "S1.pop()\n",
        "S1"
      ],
      "metadata": {
        "id": "dv9fDvl3vB5w"
      },
      "execution_count": null,
      "outputs": []
    },
    {
      "cell_type": "code",
      "source": [
        "S1.pop()\n",
        "S1"
      ],
      "metadata": {
        "id": "8dnQycH7vGyy"
      },
      "execution_count": null,
      "outputs": []
    },
    {
      "cell_type": "code",
      "source": [
        "S1.discard(7)\n",
        "S1"
      ],
      "metadata": {
        "id": "GhNWLNdgvI_u"
      },
      "execution_count": null,
      "outputs": []
    },
    {
      "cell_type": "code",
      "source": [
        "S1.clear()\n",
        "S1"
      ],
      "metadata": {
        "id": "2lAJgCNJvN24"
      },
      "execution_count": null,
      "outputs": []
    },
    {
      "cell_type": "code",
      "source": [
        "# 6. Operations"
      ],
      "metadata": {
        "id": "DWdMCKepvTQu"
      },
      "execution_count": null,
      "outputs": []
    },
    {
      "cell_type": "code",
      "source": [
        "s1 = {1, 2, 3, 4, 5}\n",
        "s2 = {3, 4, 5, 6, 7}\n"
      ],
      "metadata": {
        "id": "a-ld8sB3vV9p"
      },
      "execution_count": null,
      "outputs": []
    },
    {
      "cell_type": "code",
      "source": [
        "s1 + s2"
      ],
      "metadata": {
        "id": "jjNrxLPovbtV"
      },
      "execution_count": null,
      "outputs": []
    },
    {
      "cell_type": "code",
      "source": [
        "s1 * 3"
      ],
      "metadata": {
        "id": "BrUT6BoUvcyj"
      },
      "execution_count": null,
      "outputs": []
    },
    {
      "cell_type": "code",
      "source": [
        "# Iteration\n",
        "for i in s1:\n",
        "  print(i)"
      ],
      "metadata": {
        "id": "UaLqYz_Ovhve"
      },
      "execution_count": null,
      "outputs": []
    },
    {
      "cell_type": "code",
      "source": [
        "# Membership\n",
        "1 in s1"
      ],
      "metadata": {
        "id": "J5VMC2Nhvmjq"
      },
      "execution_count": null,
      "outputs": []
    },
    {
      "cell_type": "code",
      "source": [
        "1 not in s1"
      ],
      "metadata": {
        "id": "R-GBboW9vqow"
      },
      "execution_count": null,
      "outputs": []
    },
    {
      "cell_type": "code",
      "source": [
        "s1 = {1, 2, 3, 4, 5}\n",
        "s2 = {4, 5, 6, 7, 8}"
      ],
      "metadata": {
        "id": "GB9T5YI7vsd1"
      },
      "execution_count": null,
      "outputs": []
    },
    {
      "cell_type": "code",
      "source": [
        "# Union(|)\n",
        "s1 | s2"
      ],
      "metadata": {
        "id": "McawDYWpvxr9"
      },
      "execution_count": null,
      "outputs": []
    },
    {
      "cell_type": "code",
      "source": [
        "# Intersection(&)\n",
        "s1 & s2"
      ],
      "metadata": {
        "id": "WEeGmoC3v0V3"
      },
      "execution_count": null,
      "outputs": []
    },
    {
      "cell_type": "code",
      "source": [
        "# Difference(-)\n",
        "s1 - s2\n",
        "s2 - s1"
      ],
      "metadata": {
        "id": "qREa5MUdv5N8"
      },
      "execution_count": null,
      "outputs": []
    },
    {
      "cell_type": "code",
      "source": [
        "# symmetric Difference(^)\n",
        "s1 ^ s2"
      ],
      "metadata": {
        "id": "kZy8V7Hgv_NR"
      },
      "execution_count": null,
      "outputs": []
    },
    {
      "cell_type": "code",
      "source": [
        "# 7. Functions\n",
        "  # len()\n",
        "  # min()\n",
        "  # max()\n",
        "  # sorted()"
      ],
      "metadata": {
        "id": "X_0QxzXqwC6b"
      },
      "execution_count": null,
      "outputs": []
    },
    {
      "cell_type": "code",
      "source": [
        "# Dictionary"
      ],
      "metadata": {
        "id": "U1ACMi8zwLIo"
      },
      "execution_count": null,
      "outputs": []
    },
    {
      "cell_type": "code",
      "source": [
        "# Dictionary\n",
        "  # Key-Value pairs: Data Mapping\n",
        "  # Aliases: Map, Associative Array"
      ],
      "metadata": {
        "id": "KNOvPyXYJ3G8"
      },
      "execution_count": null,
      "outputs": []
    },
    {
      "cell_type": "code",
      "source": [
        "dict = {\"name\": \"Ali\", \"age\":\"25\", \"gender\": \"male\"}\n"
      ],
      "metadata": {
        "id": "gQiIVbWkKEz4"
      },
      "execution_count": null,
      "outputs": []
    },
    {
      "cell_type": "code",
      "source": [
        "# Traits:\n",
        "  # Mutable\n",
        "  # No indexing\n",
        "  # Unique Values\n",
        "  # Immutable keys"
      ],
      "metadata": {
        "id": "xUmMh7_FKOts"
      },
      "execution_count": null,
      "outputs": []
    },
    {
      "cell_type": "code",
      "source": [
        "{\"Name\": \"Ali\", \"Gender\": \"Male\"}"
      ],
      "metadata": {
        "id": "OCoLQBLzKaLQ"
      },
      "execution_count": null,
      "outputs": []
    },
    {
      "cell_type": "code",
      "source": [
        "# 4 key rules about dictionaries\n",
        "  # No Indexing: No index support\n",
        "  # Mutable: Can modify post-creation\n",
        "  # Keys: Immutable(str, num, tuple); Values: Any type\n",
        "  # Unique Keys: Keys must be unique; overwrite on reassignment"
      ],
      "metadata": {
        "id": "NELsANt3KfJX"
      },
      "execution_count": null,
      "outputs": []
    },
    {
      "cell_type": "code",
      "source": [
        "# 1. Create\n",
        "# 2. Access\n",
        "# 3. Edit\n",
        "# 4. Add\n",
        "# 5. Delete\n",
        "# 6. Operations\n",
        "# 7. Functions"
      ],
      "metadata": {
        "id": "0ToB5BUNLFbc"
      },
      "execution_count": null,
      "outputs": []
    },
    {
      "cell_type": "code",
      "source": [
        "# 1. Create\n",
        "\n",
        "# empty\n",
        "D = {}\n",
        "D"
      ],
      "metadata": {
        "id": "vH5DhUuILQT-"
      },
      "execution_count": null,
      "outputs": []
    },
    {
      "cell_type": "code",
      "source": [
        "# 1D dictionary\n",
        "D = {\"Name\":\"Ali\", \"Age\": 25, \"Gender\": \"Male\"}"
      ],
      "metadata": {
        "id": "klJsVdrRLaUJ"
      },
      "execution_count": null,
      "outputs": []
    },
    {
      "cell_type": "code",
      "source": [
        "D"
      ],
      "metadata": {
        "id": "rBaEdKy4Llgb"
      },
      "execution_count": null,
      "outputs": []
    },
    {
      "cell_type": "code",
      "source": [
        "D1 = {[1, 2, 3,]: \"Ali\"}"
      ],
      "metadata": {
        "id": "cOa3LigcLmiM"
      },
      "execution_count": null,
      "outputs": []
    },
    {
      "cell_type": "code",
      "source": [
        "# with mixed keys\n",
        "D1 = {(1, 2, 3):\"Ali\"}\n",
        "D1"
      ],
      "metadata": {
        "id": "u0ER9Q62LqtM"
      },
      "execution_count": null,
      "outputs": []
    },
    {
      "cell_type": "code",
      "source": [
        "# duplicate keys\n",
        "D2 = {\"Name\": \"Ali\", \"Name\": \"Nawaz\"}\n",
        "D2"
      ],
      "metadata": {
        "id": "BhGEQU5sL0-_"
      },
      "execution_count": null,
      "outputs": []
    },
    {
      "cell_type": "code",
      "source": [
        "D3 = {\"Name\": \"Ali\", \"Collage\": \"AGC\", \"Marks\": {\"M1\": 99, \"DS\": 97, \"Eng\":98}}\n",
        "D3"
      ],
      "metadata": {
        "id": "dQINzbEuMAu6"
      },
      "execution_count": null,
      "outputs": []
    },
    {
      "cell_type": "code",
      "source": [
        "# 2D dictionary ----> Json\n",
        "s = {\n",
        "    \"Name\": \"Ali\",\n",
        "    \"Collage\": \"AGC\",\n",
        "    \"Semester\": 2,\n",
        "    \"Subjects\":{\n",
        "        \"DSA\": 50,\n",
        "        \"Maths\": 67,\n",
        "        \"English\": 34\n",
        "    }\n",
        "}"
      ],
      "metadata": {
        "id": "-pu_5bOpMcmz"
      },
      "execution_count": null,
      "outputs": []
    },
    {
      "cell_type": "code",
      "source": [
        "s"
      ],
      "metadata": {
        "id": "CQ3_kNEIM6hk"
      },
      "execution_count": null,
      "outputs": []
    },
    {
      "cell_type": "code",
      "source": [
        "# Mutable items as keys\n",
        "D4 = {\"name\": \"Ali\", (1, 2, 3):2}\n",
        "print(D4)"
      ],
      "metadata": {
        "id": "C3gJQA3XM7jT"
      },
      "execution_count": null,
      "outputs": []
    },
    {
      "cell_type": "code",
      "source": [
        "# Using Sequence and dict function\n",
        "D5 = dict([('name', 'ali'), ('age', 32), (3, 3)])\n",
        "D5"
      ],
      "metadata": {
        "id": "1pG8vySfNIvW"
      },
      "execution_count": null,
      "outputs": []
    },
    {
      "cell_type": "code",
      "source": [
        "# 2. Access"
      ],
      "metadata": {
        "id": "xsT2pScsNb8e"
      },
      "execution_count": null,
      "outputs": []
    },
    {
      "cell_type": "code",
      "source": [
        "D"
      ],
      "metadata": {
        "id": "V3CFCpCLNkur"
      },
      "execution_count": null,
      "outputs": []
    },
    {
      "cell_type": "code",
      "source": [
        "D[0]"
      ],
      "metadata": {
        "id": "HGXOl1CZNlKJ"
      },
      "execution_count": null,
      "outputs": []
    },
    {
      "cell_type": "code",
      "source": [
        "D[\"Name\"]"
      ],
      "metadata": {
        "id": "ftw4cbGKNmhI"
      },
      "execution_count": null,
      "outputs": []
    },
    {
      "cell_type": "code",
      "source": [
        "D.get(\"Name\")"
      ],
      "metadata": {
        "id": "60xPC1aFNsfz"
      },
      "execution_count": null,
      "outputs": []
    },
    {
      "cell_type": "code",
      "source": [
        "D[\"Gender\"]"
      ],
      "metadata": {
        "id": "0ZOGkB67NvI6"
      },
      "execution_count": null,
      "outputs": []
    },
    {
      "cell_type": "code",
      "source": [
        "D.get(\"Gender\")"
      ],
      "metadata": {
        "id": "AAromnzPNyDF"
      },
      "execution_count": null,
      "outputs": []
    },
    {
      "cell_type": "code",
      "source": [
        "D.get(\"Gender\")"
      ],
      "metadata": {
        "id": "zo0nk-T8N2rA"
      },
      "execution_count": null,
      "outputs": []
    },
    {
      "cell_type": "code",
      "source": [
        "D3"
      ],
      "metadata": {
        "id": "ytZHgz92N-Rr"
      },
      "execution_count": null,
      "outputs": []
    },
    {
      "cell_type": "code",
      "source": [
        "# 3. Edit"
      ],
      "metadata": {
        "id": "_IDLGm-1OAiO"
      },
      "execution_count": null,
      "outputs": []
    },
    {
      "cell_type": "code",
      "source": [
        "D"
      ],
      "metadata": {
        "id": "xAq-L8wUOCdt"
      },
      "execution_count": null,
      "outputs": []
    },
    {
      "cell_type": "code",
      "source": [
        "D['Name'] = \"AliNawaz\"\n",
        "D"
      ],
      "metadata": {
        "id": "3j2TIHacOC0c"
      },
      "execution_count": null,
      "outputs": []
    },
    {
      "cell_type": "code",
      "source": [
        "D3[\"Marks\"][\"DS\"] = 10\n",
        "D3"
      ],
      "metadata": {
        "id": "sjyfh8zXOHCW"
      },
      "execution_count": null,
      "outputs": []
    },
    {
      "cell_type": "code",
      "source": [
        "# 4. Add\n",
        "D"
      ],
      "metadata": {
        "id": "RRkEvHB2OP7n"
      },
      "execution_count": null,
      "outputs": []
    },
    {
      "cell_type": "code",
      "source": [
        "D[\"Age\"] = 22\n",
        "D"
      ],
      "metadata": {
        "id": "M1Osb-_7OR3X"
      },
      "execution_count": null,
      "outputs": []
    },
    {
      "cell_type": "code",
      "source": [
        "D3[\"Marks\"][\"M2\"] = 95\n",
        "D3"
      ],
      "metadata": {
        "id": "azDm-priOVGF"
      },
      "execution_count": null,
      "outputs": []
    },
    {
      "cell_type": "code",
      "source": [
        "# 5. Delete\n",
        "D5 = {}\n",
        "D5"
      ],
      "metadata": {
        "id": "BTl7-1g7Ob6x"
      },
      "execution_count": null,
      "outputs": []
    },
    {
      "cell_type": "code",
      "source": [
        "del D5\n",
        "D5"
      ],
      "metadata": {
        "id": "jM90ErPFOlf3"
      },
      "execution_count": null,
      "outputs": []
    },
    {
      "cell_type": "code",
      "source": [
        "D.pop(\"Name\")"
      ],
      "metadata": {
        "id": "HdtkUVgyOoGJ"
      },
      "execution_count": null,
      "outputs": []
    },
    {
      "cell_type": "code",
      "source": [
        "D.popitem()"
      ],
      "metadata": {
        "id": "BHzfUm5eOtDN"
      },
      "execution_count": null,
      "outputs": []
    },
    {
      "cell_type": "code",
      "source": [
        "D"
      ],
      "metadata": {
        "id": "VDeoe3CaOwgZ"
      },
      "execution_count": null,
      "outputs": []
    },
    {
      "cell_type": "code",
      "source": [
        "del D[\"Age\"]\n",
        "D"
      ],
      "metadata": {
        "id": "72C9u7IbOxpd"
      },
      "execution_count": null,
      "outputs": []
    },
    {
      "cell_type": "code",
      "source": [
        "D.clear()\n",
        "D"
      ],
      "metadata": {
        "id": "qzgAmmzkO0n1"
      },
      "execution_count": null,
      "outputs": []
    },
    {
      "cell_type": "code",
      "source": [
        "# 6. Operations\n",
        "D3"
      ],
      "metadata": {
        "id": "oQxO2s1aO63Q"
      },
      "execution_count": null,
      "outputs": []
    },
    {
      "cell_type": "code",
      "source": [
        "D4"
      ],
      "metadata": {
        "id": "VKXAfgRaO9kg"
      },
      "execution_count": null,
      "outputs": []
    },
    {
      "cell_type": "code",
      "source": [
        "D3 + D4"
      ],
      "metadata": {
        "id": "_dRearJsO-vT"
      },
      "execution_count": null,
      "outputs": []
    },
    {
      "cell_type": "code",
      "source": [
        "D3 * 3"
      ],
      "metadata": {
        "id": "KIXsgfHFPAb8"
      },
      "execution_count": null,
      "outputs": []
    },
    {
      "cell_type": "code",
      "source": [
        "D3"
      ],
      "metadata": {
        "id": "EJfHVI3aPGfz"
      },
      "execution_count": null,
      "outputs": []
    },
    {
      "cell_type": "code",
      "source": [
        "# Iteration\n",
        "for i in D3:\n",
        "  print(i)"
      ],
      "metadata": {
        "id": "Gie8DCM0PHVK"
      },
      "execution_count": null,
      "outputs": []
    },
    {
      "cell_type": "code",
      "source": [
        "for i in D3:\n",
        "  print(i, D3[i])"
      ],
      "metadata": {
        "id": "776oL4BrPK9m"
      },
      "execution_count": null,
      "outputs": []
    },
    {
      "cell_type": "code",
      "source": [
        "# Membership\n",
        "\"ali\" in D3"
      ],
      "metadata": {
        "id": "Au7tjNhBPY76"
      },
      "execution_count": null,
      "outputs": []
    },
    {
      "cell_type": "code",
      "source": [
        "\"Name\" in D3"
      ],
      "metadata": {
        "id": "CWAKzqVIPg32"
      },
      "execution_count": null,
      "outputs": []
    },
    {
      "cell_type": "code",
      "source": [
        "# Functions\n",
        "len(D3)\n",
        "min(D3)\n",
        "max(D3)\n",
        "sorted(D3)\n",
        "sorted(D3, reverse = True)\n",
        "D3.items()\n",
        "D3.keys()\n",
        "D3.values()\n",
        "# Update\n",
        "d1 = {1:2, 3:4, 4:5}\n",
        "d2 = {4:7, 6:8}\n",
        "d1.update(d2)\n",
        "print(d1)"
      ],
      "metadata": {
        "id": "RAYVSJMIPi-Q"
      },
      "execution_count": null,
      "outputs": []
    },
    {
      "cell_type": "code",
      "source": [
        "# int a\n",
        "# int b\n",
        "a = (input(\"Entr the first numbe:\"))\n",
        "b = (input(\"Enter the second number:\"))\n",
        "print(a + \" + \" + b +  \" = \" + (int(a) + int(b)))\n"
      ],
      "metadata": {
        "id": "vUORynd1QFCZ"
      },
      "execution_count": null,
      "outputs": []
    },
    {
      "cell_type": "code",
      "source": [
        "a = \"3\"\n",
        "b = \"5\"\n",
        "print(a + \" + \" + b + \" = \" + str(int(a) + int(b)))\n"
      ],
      "metadata": {
        "id": "nTCT8V_oi8xD"
      },
      "execution_count": null,
      "outputs": []
    },
    {
      "cell_type": "code",
      "source": [
        "# Variable and Memory References"
      ],
      "metadata": {
        "id": "mGz73pT8jczS"
      },
      "execution_count": null,
      "outputs": []
    },
    {
      "cell_type": "code",
      "source": [
        "# Python calls variable names\n",
        "a"
      ],
      "metadata": {
        "id": "N6o_7531JfsX"
      },
      "execution_count": null,
      "outputs": []
    },
    {
      "cell_type": "code",
      "source": [
        "# Call by Object Reference"
      ],
      "metadata": {
        "id": "AmzzXF6kJmTk"
      },
      "execution_count": null,
      "outputs": []
    },
    {
      "cell_type": "code",
      "source": [
        "# Variable Assignment:\n",
        "# a = 4\n",
        "# a = 4: a points to memory location 4\n"
      ],
      "metadata": {
        "id": "NtQwifvSJrcd"
      },
      "execution_count": null,
      "outputs": []
    },
    {
      "cell_type": "code",
      "source": [
        "a = 4"
      ],
      "metadata": {
        "id": "rp_KHjnQJ2SX"
      },
      "execution_count": null,
      "outputs": []
    },
    {
      "cell_type": "code",
      "source": [
        "id(a)"
      ],
      "metadata": {
        "id": "VT6Ne3r6J6go"
      },
      "execution_count": null,
      "outputs": []
    },
    {
      "cell_type": "code",
      "source": [
        "hex(10757832)"
      ],
      "metadata": {
        "id": "1oirKfIkJ7if"
      },
      "execution_count": null,
      "outputs": []
    },
    {
      "cell_type": "code",
      "source": [
        "id(4)"
      ],
      "metadata": {
        "id": "7xXesDFRKAti"
      },
      "execution_count": null,
      "outputs": []
    },
    {
      "cell_type": "code",
      "source": [
        "# Aliasing"
      ],
      "metadata": {
        "id": "4sT7zMCMKCWY"
      },
      "execution_count": null,
      "outputs": []
    },
    {
      "cell_type": "code",
      "source": [
        "a = 4\n",
        "b = a\n",
        "# aliasing"
      ],
      "metadata": {
        "id": "uD8ETBLYKEi7"
      },
      "execution_count": null,
      "outputs": []
    },
    {
      "cell_type": "code",
      "source": [
        "id(a)"
      ],
      "metadata": {
        "id": "_igu7P93KH4X"
      },
      "execution_count": null,
      "outputs": []
    },
    {
      "cell_type": "code",
      "source": [
        "id(b)"
      ],
      "metadata": {
        "id": "KFQ2rDsnKLjJ"
      },
      "execution_count": null,
      "outputs": []
    },
    {
      "cell_type": "code",
      "source": [
        "# a & b references the same memory addresses"
      ],
      "metadata": {
        "id": "1NWyVvMvKOyP"
      },
      "execution_count": null,
      "outputs": []
    },
    {
      "cell_type": "code",
      "source": [
        "c = b"
      ],
      "metadata": {
        "id": "tAAPr8sMKVkt"
      },
      "execution_count": null,
      "outputs": []
    },
    {
      "cell_type": "code",
      "source": [
        "id(c)"
      ],
      "metadata": {
        "id": "-MCVfX0dKWdV"
      },
      "execution_count": null,
      "outputs": []
    },
    {
      "cell_type": "code",
      "source": [
        "# What are Functions?\n",
        "# Block of code for specific tasks."
      ],
      "metadata": {
        "id": "B7BkDyZgKXMw"
      },
      "execution_count": null,
      "outputs": []
    },
    {
      "cell_type": "code",
      "source": [
        "# Black Box Concept:\n",
        "  # ignore internal code; focus on inputs/outputs"
      ],
      "metadata": {
        "id": "NARgwJBEh2Jv"
      },
      "execution_count": null,
      "outputs": []
    },
    {
      "cell_type": "code",
      "source": [
        "# Advantages:\n",
        "  # Reusability\n",
        "  # Avoids Repetition"
      ],
      "metadata": {
        "id": "FSi0qKQ4h_AP"
      },
      "execution_count": null,
      "outputs": []
    },
    {
      "cell_type": "code",
      "source": [
        "# Two Key Points Regarding Functions:\n",
        "  # 1. Abstraction:\n",
        "    # Hides internal working\n",
        "    # Users know \"What\" it does, not \"how\"\n",
        "  # 2. Decomposition\n",
        "    # Splits systems into modules\n",
        "    # Each module offers functionality.\n",
        "    # Modules can impact others\n"
      ],
      "metadata": {
        "id": "Q6NRDLHfiKMn"
      },
      "execution_count": null,
      "outputs": []
    },
    {
      "cell_type": "code",
      "source": [
        "# Components of a Function\n",
        "\n",
        "# def function_name(parameters):\n",
        "#   \"\"\"docstring\"\"\"\n",
        "#   statement(s)\n",
        "\n",
        "# def  -----> Function Start\n",
        "# Name -----> Function identifier.\n",
        "# Params ---> Input Values\n",
        "# Colon (:) ---> Ends header.\n",
        "# Docstring ---> Function Description\n",
        "# Body --------> Statements.\n",
        "# return ------> Output Values(Optional)\n",
        "# function_name(values)"
      ],
      "metadata": {
        "id": "3iwOB17EiwV6"
      },
      "execution_count": null,
      "outputs": []
    },
    {
      "cell_type": "code",
      "source": [
        "# Let's Creat a Function"
      ],
      "metadata": {
        "id": "E-m68I_Rw6rB"
      },
      "execution_count": null,
      "outputs": []
    },
    {
      "cell_type": "code",
      "source": [
        "# Check if number is even/odd\n",
        "def is_even(number):\n",
        "    \"\"\"\n",
        "    This function tells if a given number is odd or even\n",
        "    Input - any valid integer\n",
        "    Output - odd/even\n",
        "    Created By - Saurabh\n",
        "    Last edited - 22 Oct 2022\n",
        "    \"\"\"\n",
        "    if number % 2 == 0:\n",
        "      return \"Even\"\n",
        "    else:\n",
        "      return \"Odd\"\n"
      ],
      "metadata": {
        "id": "Gu6l4g0UxAtn"
      },
      "execution_count": null,
      "outputs": []
    },
    {
      "cell_type": "code",
      "source": [
        "for i in range(1, 11):\n",
        "  print(is_even(i))"
      ],
      "metadata": {
        "id": "ifdI3ZP4xWb-"
      },
      "execution_count": null,
      "outputs": []
    },
    {
      "cell_type": "code",
      "source": [
        "print(is_even.__doc__)"
      ],
      "metadata": {
        "id": "L2C1IB7GxmRg"
      },
      "execution_count": null,
      "outputs": []
    },
    {
      "cell_type": "code",
      "source": [
        "print.__doc__"
      ],
      "metadata": {
        "id": "FOF-7dT6xrDY"
      },
      "execution_count": null,
      "outputs": []
    },
    {
      "cell_type": "code",
      "source": [
        "type.__doc__"
      ],
      "metadata": {
        "id": "Kj4lsW0IxwYN"
      },
      "execution_count": null,
      "outputs": []
    },
    {
      "cell_type": "code",
      "source": [
        "# Functions: 2 Perspectives\n",
        "  # 1. Creator's Perspective\n",
        "  # 2. User's Perspective"
      ],
      "metadata": {
        "id": "dO4-nXgXxz56"
      },
      "execution_count": null,
      "outputs": []
    },
    {
      "cell_type": "code",
      "source": [
        "pwd"
      ],
      "metadata": {
        "id": "2_bekJGlyA7d"
      },
      "execution_count": null,
      "outputs": []
    },
    {
      "cell_type": "code",
      "source": [
        "import func_demo"
      ],
      "metadata": {
        "id": "7SADWTpByBtD"
      },
      "execution_count": null,
      "outputs": []
    },
    {
      "cell_type": "code",
      "source": [
        "func_demo.is_even(34)"
      ],
      "metadata": {
        "id": "XxhBvcmgyIDj"
      },
      "execution_count": null,
      "outputs": []
    },
    {
      "cell_type": "code",
      "source": [
        "func_demo.is_even(\"Hello\")"
      ],
      "metadata": {
        "id": "9iJc2H2GyNBq"
      },
      "execution_count": null,
      "outputs": []
    },
    {
      "cell_type": "code",
      "source": [
        "def is_even(number):\n",
        "  if type(number) == int:\n",
        "    if number % 2 == 0:\n",
        "        return \"Even\"\n",
        "    else:\n",
        "        return \"Odd\"\n",
        "  else:\n",
        "      return \"Not Allowed\""
      ],
      "metadata": {
        "id": "7lX5Cy2QyRmz"
      },
      "execution_count": null,
      "outputs": []
    },
    {
      "cell_type": "code",
      "source": [
        "import func_demo2 ad fd\n"
      ],
      "metadata": {
        "id": "kfGowqdByzGh"
      },
      "execution_count": null,
      "outputs": []
    },
    {
      "cell_type": "code",
      "source": [
        "fd.is_even(\"Hello\")"
      ],
      "metadata": {
        "id": "7oXfpNPpy6vI"
      },
      "execution_count": null,
      "outputs": []
    },
    {
      "cell_type": "code",
      "source": [
        "# Parameters Vs Arguments"
      ],
      "metadata": {
        "id": "cR-BiYIry_Yp"
      },
      "execution_count": null,
      "outputs": []
    },
    {
      "cell_type": "code",
      "source": [
        "# Parameters:\n",
        "  # Vars in () during func defination...\n",
        "  # Defined in func declaration."
      ],
      "metadata": {
        "id": "QcF23E-d2Drw"
      },
      "execution_count": null,
      "outputs": []
    },
    {
      "cell_type": "code",
      "source": [
        "# def func(param1, param2):\n",
        "  # Body"
      ],
      "metadata": {
        "id": "4iFWBcfz2Xpk"
      },
      "execution_count": null,
      "outputs": []
    },
    {
      "cell_type": "code",
      "source": [
        "# Arguments:\n",
        "  # Values passed at func call\n",
        "  # inputs during function invocation\n",
        "  # func(arg1, arg2)\n"
      ],
      "metadata": {
        "id": "pkTD5XCk2ghr"
      },
      "execution_count": null,
      "outputs": []
    },
    {
      "cell_type": "code",
      "source": [
        "# 1. Default Argument\n",
        "# 2. Positional Argument\n",
        "# 3. Keyword Argument\n",
        "# 4. Arbitrary Argument(*args)"
      ],
      "metadata": {
        "id": "frwYTS-u25uD"
      },
      "execution_count": null,
      "outputs": []
    },
    {
      "cell_type": "code",
      "source": [
        "def power(a, b):\n",
        "  return a**b"
      ],
      "metadata": {
        "id": "u_RINZu844Ty"
      },
      "execution_count": null,
      "outputs": []
    },
    {
      "cell_type": "code",
      "source": [
        "power(2, 3)"
      ],
      "metadata": {
        "id": "1m9g4SAV5Att"
      },
      "execution_count": null,
      "outputs": []
    },
    {
      "cell_type": "code",
      "source": [
        "power(3, 2)"
      ],
      "metadata": {
        "id": "H7ATrG-55ERE"
      },
      "execution_count": null,
      "outputs": []
    },
    {
      "cell_type": "code",
      "source": [
        "power(3)"
      ],
      "metadata": {
        "id": "-Mlx30AR5HJk"
      },
      "execution_count": null,
      "outputs": []
    },
    {
      "cell_type": "code",
      "source": [
        "power()"
      ],
      "metadata": {
        "id": "1uAkpOzO5OI5"
      },
      "execution_count": null,
      "outputs": []
    },
    {
      "cell_type": "code",
      "source": [
        "# # Default Argument: Function arguments with default values.\n",
        "# def power(a =)"
      ],
      "metadata": {
        "id": "0sZXBB6G5PsU"
      },
      "execution_count": null,
      "outputs": []
    },
    {
      "cell_type": "code",
      "source": [
        "# Local Variables and Global Variables\n",
        "# Local Variables: Inside a Function\n",
        "# Global Variables: Outside any function, in main program"
      ],
      "metadata": {
        "id": "b7pf0AW9wVB1"
      },
      "execution_count": null,
      "outputs": []
    },
    {
      "cell_type": "code",
      "source": [
        "def g(y):\n",
        "  print(x)\n",
        "  print(x + 1)\n",
        "x = 5\n",
        "g(x)\n",
        "print(x)"
      ],
      "metadata": {
        "id": "vZzZk259wk0O"
      },
      "execution_count": null,
      "outputs": []
    },
    {
      "cell_type": "code",
      "source": [
        "def h(y):\n",
        "  x += 1\n",
        "x = 5\n",
        "h(x)\n",
        "print(x)\n",
        "\n",
        "# Rule: Global Vars: accessed but not modified in function\n",
        "# Concept 1: Global exist outside funcs, accessed by any func\n",
        "# Concept 2: Funcs without local vars can use globals\n",
        "# Concept 3: Locals access globals but can't modify"
      ],
      "metadata": {
        "id": "eb1Rllj6wydu"
      },
      "execution_count": null,
      "outputs": []
    },
    {
      "cell_type": "code",
      "source": [
        "# Explicitly Modifying Global Variables Locally\n",
        "def h(y):\n",
        "  global x\n",
        "  x += 1\n",
        "  return x\n",
        "x = 5\n",
        "h(x)\n",
        "# print(x)"
      ],
      "metadata": {
        "id": "J0S7HI10xIBi"
      },
      "execution_count": null,
      "outputs": []
    },
    {
      "cell_type": "code",
      "source": [
        "# Complicated Scope\n",
        "def f(x):\n",
        "  x += 1\n",
        "  print(\"in f(x): x =\", x)\n",
        "  return x\n",
        "x = 3\n",
        "z = f(x)\n",
        "print(\"in main program scope: z\", z)\n",
        "print(\"in main program scope: x = \", x)"
      ],
      "metadata": {
        "id": "OhptO8geyRKo"
      },
      "execution_count": null,
      "outputs": []
    },
    {
      "cell_type": "code",
      "source": [
        "# Nested Functions\n",
        "def f():\n",
        "  print(\"Inside f\")\n",
        "  def g():\n",
        "    print(\"Inside g\")\n",
        "  g()"
      ],
      "metadata": {
        "id": "NVCkWMaAzANq"
      },
      "execution_count": null,
      "outputs": []
    },
    {
      "cell_type": "code",
      "source": [
        "f()"
      ],
      "metadata": {
        "id": "3b4ywFoDzPYI"
      },
      "execution_count": null,
      "outputs": []
    },
    {
      "cell_type": "code",
      "source": [
        "g()\n",
        "# Nested function stay abstracted/hidden from main program\n"
      ],
      "metadata": {
        "id": "1uOHhG1UzQdZ"
      },
      "execution_count": null,
      "outputs": []
    },
    {
      "cell_type": "code",
      "source": [
        "def f():\n",
        "  print(\"Inside f\")\n",
        "  def g():\n",
        "    print(\"Inside g\")\n",
        "    f()\n",
        "  g()\n",
        "\n",
        "f()\n",
        "\n",
        "# Infinite Loop ----> Code will crash ---> Kernal Dead"
      ],
      "metadata": {
        "id": "_rIBmXEVzSLv"
      },
      "execution_count": null,
      "outputs": []
    },
    {
      "cell_type": "code",
      "source": [
        "# Harder Scope\n",
        "def g(x):\n",
        "    def h():\n",
        "        x = \"abc\"\n",
        "    x += 1\n",
        "    print(\"in g(x): x =\", x)\n",
        "    h()\n",
        "    return x\n",
        "x = 3\n",
        "z = g(x)"
      ],
      "metadata": {
        "id": "wv7Dflc6zwA6"
      },
      "execution_count": null,
      "outputs": []
    },
    {
      "cell_type": "code",
      "source": [
        "# Complicated Scope\n",
        "def g(x):\n",
        "    def h(x):\n",
        "        x += 1\n",
        "        print(\"in h(x): x =\", x)\n",
        "    x += 1\n",
        "    print(\"in g(x): x =\", x)\n",
        "    h(x)\n",
        "    return x\n",
        "x = 3\n",
        "z = g(x)\n",
        "print(\"in main proram scope: x =\", x)\n",
        "print(\"in main program scope: z =\", z)"
      ],
      "metadata": {
        "id": "p2yBn57Nz8TG"
      },
      "execution_count": null,
      "outputs": []
    },
    {
      "cell_type": "code",
      "source": [
        "# Everything in Python is an Object\n",
        "# Functions too\n",
        "# Functions as objects"
      ],
      "metadata": {
        "id": "zub-TtSr0Nv0"
      },
      "execution_count": null,
      "outputs": []
    },
    {
      "cell_type": "code",
      "source": [
        "def f(num):\n",
        "  return num ** 2"
      ],
      "metadata": {
        "id": "vstijfSO3NcV"
      },
      "execution_count": null,
      "outputs": []
    },
    {
      "cell_type": "code",
      "source": [
        "f(2)"
      ],
      "metadata": {
        "id": "UA8jEgdg3R2r"
      },
      "execution_count": null,
      "outputs": []
    },
    {
      "cell_type": "code",
      "source": [
        "f(4)"
      ],
      "metadata": {
        "id": "Lwivri8S3TJW"
      },
      "execution_count": null,
      "outputs": []
    },
    {
      "cell_type": "code",
      "source": [
        "x = f # aliasing"
      ],
      "metadata": {
        "id": "16mqeZxw3WDe"
      },
      "execution_count": null,
      "outputs": []
    },
    {
      "cell_type": "code",
      "source": [
        "# since functions are objects just like int, str"
      ],
      "metadata": {
        "id": "hsdMKEJu3aZP"
      },
      "execution_count": null,
      "outputs": []
    },
    {
      "cell_type": "code",
      "source": [
        "x(2)"
      ],
      "metadata": {
        "id": "QBAneO-Y3eOp"
      },
      "execution_count": null,
      "outputs": []
    },
    {
      "cell_type": "code",
      "source": [
        "x(4)"
      ],
      "metadata": {
        "id": "d75XbKxL3fD5"
      },
      "execution_count": null,
      "outputs": []
    },
    {
      "cell_type": "code",
      "source": [
        "del f # Del functions in python"
      ],
      "metadata": {
        "id": "tkf3zQsf3gKa"
      },
      "execution_count": null,
      "outputs": []
    },
    {
      "cell_type": "code",
      "source": [
        "f(2)"
      ],
      "metadata": {
        "id": "ckAoJ6Hk3kyU"
      },
      "execution_count": null,
      "outputs": []
    },
    {
      "cell_type": "code",
      "source": [
        "x(2) # Call by object Reference"
      ],
      "metadata": {
        "id": "rEdI4adm3lia"
      },
      "execution_count": null,
      "outputs": []
    },
    {
      "cell_type": "code",
      "source": [
        "type(x)"
      ],
      "metadata": {
        "id": "sINvk1wO3pIy"
      },
      "execution_count": null,
      "outputs": []
    },
    {
      "cell_type": "code",
      "source": [
        "L = [1, 2, 3, 4, 5]\n",
        "L"
      ],
      "metadata": {
        "id": "rEla4-TT3rrd"
      },
      "execution_count": null,
      "outputs": []
    },
    {
      "cell_type": "code",
      "source": [
        "L = [1, 2, 3, 4, x]\n",
        "L"
      ],
      "metadata": {
        "id": "eO3RW-ec3umf"
      },
      "execution_count": null,
      "outputs": []
    },
    {
      "cell_type": "code",
      "source": [
        "L[-1](-3) # sqr"
      ],
      "metadata": {
        "id": "DNsJ2gNE3yK_"
      },
      "execution_count": null,
      "outputs": []
    },
    {
      "cell_type": "code",
      "source": [
        "L = [1, 2, 3, 4, x(5)]\n",
        "L"
      ],
      "metadata": {
        "id": "ZZxf_Ua232aS"
      },
      "execution_count": null,
      "outputs": []
    },
    {
      "cell_type": "code",
      "source": [
        "# In Python, Functions behave like any other Data type.\n",
        "# Can be assigned, passed, and returned."
      ],
      "metadata": {
        "id": "S2TOs-L539K1"
      },
      "execution_count": null,
      "outputs": []
    },
    {
      "cell_type": "code",
      "source": [
        "# So What ?\n",
        "# Renaming Funcion: def new_name(old_name):\n",
        "# Deleting Function: del func_name\n",
        "# Storing Function: func_var = def_func()\n",
        "# Returning Function: return func_name\n",
        "# Function as Argument: def outer(func): func()"
      ],
      "metadata": {
        "id": "vBGj4CIt4C7_"
      },
      "execution_count": null,
      "outputs": []
    },
    {
      "cell_type": "code",
      "source": [
        "# Function as argument/input\n",
        "def func_a():\n",
        "  print(\"Inside func_a\")\n",
        "def func_c(z):\n",
        "  print(\"Inside func_c\")\n",
        "  return z()\n",
        "print(func_c(func_a))"
      ],
      "metadata": {
        "id": "PF3IfwZT4oQs"
      },
      "execution_count": null,
      "outputs": []
    },
    {
      "cell_type": "code",
      "source": [
        "# Returning a Function + Nested Calling\n",
        "def f():\n",
        "    def x(a, b):\n",
        "        return a + b\n",
        "    return x\n",
        "val = f()(3, 4)\n",
        "print(val)"
      ],
      "metadata": {
        "id": "cqmpX50B5LRk"
      },
      "execution_count": null,
      "outputs": []
    },
    {
      "cell_type": "code",
      "source": [
        "# Functions are First-Class Citizens in Python"
      ],
      "metadata": {
        "id": "QNhV6J9C5acZ"
      },
      "execution_count": null,
      "outputs": []
    },
    {
      "cell_type": "code",
      "source": [
        "# type & id\n",
        "def square(num):\n",
        "  return num**2\n",
        "type(square)\n",
        "id(square)"
      ],
      "metadata": {
        "id": "ITqDY_965gY3"
      },
      "execution_count": null,
      "outputs": []
    },
    {
      "cell_type": "code",
      "source": [
        "# reassign\n",
        "x = square\n",
        "id(x)\n",
        "x(3)"
      ],
      "metadata": {
        "id": "NfF0JfgE5vGA"
      },
      "execution_count": null,
      "outputs": []
    },
    {
      "cell_type": "code",
      "source": [
        "a = 2\n",
        "b = a\n",
        "b"
      ],
      "metadata": {
        "id": "PaofGCi5501p"
      },
      "execution_count": null,
      "outputs": []
    },
    {
      "cell_type": "code",
      "source": [
        "# Deleting Function\n",
        "del square\n",
        "square(3)"
      ],
      "metadata": {
        "id": "3e6MXRvv57mx"
      },
      "execution_count": null,
      "outputs": []
    },
    {
      "cell_type": "code",
      "source": [
        "# Storing\n",
        "L = [1, 2, 3, 4, square]\n",
        "L[-1](3)"
      ],
      "metadata": {
        "id": "4UhwgaoR5-sN"
      },
      "execution_count": null,
      "outputs": []
    },
    {
      "cell_type": "code",
      "source": [
        "# Recursion\n",
        "  # Function calls itself"
      ],
      "metadata": {
        "id": "GqkWZqiw6Hzq"
      },
      "execution_count": null,
      "outputs": []
    },
    {
      "cell_type": "code",
      "source": [
        "# Advantages:\n",
        "  # No loops needed\n",
        "  # Solves Problems without iteration\n",
        "  # To understand recursion you must understand recurision"
      ],
      "metadata": {
        "id": "Y4MfFIWhSpvy"
      },
      "execution_count": null,
      "outputs": []
    },
    {
      "cell_type": "code",
      "source": [
        "# Iterative Vs Recursion"
      ],
      "metadata": {
        "id": "_56S110mS8Nk"
      },
      "execution_count": null,
      "outputs": []
    },
    {
      "cell_type": "code",
      "source": [
        "# a * b\n",
        "def multiply(a, b):\n",
        "  result = 0\n",
        "  for i in range(b):\n",
        "    result += a\n",
        "  print(result)\n",
        "multiply(3, 4)"
      ],
      "metadata": {
        "id": "18BsOdkcS_x4"
      },
      "execution_count": null,
      "outputs": []
    },
    {
      "cell_type": "code",
      "source": [
        "# Recursion Method\n",
        "# 1. Base Case: Define Stopping condition\n",
        "# 2. Decompose: Break main problem into smaller subproblems\n",
        "\n",
        "def mul(a, b):\n",
        "  if b == 1:\n",
        "    return a\n",
        "  else:\n",
        "    return a + mul(a, b-1)"
      ],
      "metadata": {
        "id": "VOUJb7CTTYlP"
      },
      "execution_count": null,
      "outputs": []
    },
    {
      "cell_type": "code",
      "source": [
        "print(mul(3, 4))"
      ],
      "metadata": {
        "id": "Wk4E8C9GTwxO"
      },
      "execution_count": null,
      "outputs": []
    },
    {
      "cell_type": "code",
      "source": [
        "# Factorial via Recursion\n",
        "def fact(number):\n",
        "  if number == 1:\n",
        "    return 1\n",
        "  else:\n",
        "    return number * fact(number - 1)\n",
        "print(fact(5))"
      ],
      "metadata": {
        "id": "R4LFl0QRTy_Q"
      },
      "execution_count": null,
      "outputs": []
    },
    {
      "cell_type": "code",
      "source": [
        "# Palindrome\n",
        "def palin(text):\n",
        "  if len(text) <= 1:\n",
        "    print(\"palindrome\")\n",
        "  else:\n",
        "    if text[0] == text[-1]:\n",
        "      palin(text[1:-1])\n",
        "    else:\n",
        "      print(\"Not a Palindrome\")"
      ],
      "metadata": {
        "id": "lTjItgFHUTeR"
      },
      "execution_count": null,
      "outputs": []
    },
    {
      "cell_type": "code",
      "source": [
        "palin(\"madam\")"
      ],
      "metadata": {
        "id": "qb50VfzxUu-2"
      },
      "execution_count": null,
      "outputs": []
    },
    {
      "cell_type": "code",
      "source": [
        "print(palin(\"malayalam\"))\n",
        "print(palin(\"python\"))\n",
        "print(palin(\"abba\"))"
      ],
      "metadata": {
        "id": "60S3Hs94Uwlw"
      },
      "execution_count": null,
      "outputs": []
    },
    {
      "cell_type": "code",
      "source": [
        "# The Rabbit Problem: Fibonacci Number\n",
        "# Scenario ----> 2 newborn rabbits: 1 male + 1 female monthly\n",
        "#                 Reproduction after 1 month, immortality.\n",
        "\n",
        "def fib(m):\n",
        "  if m == 0 or m == 1:\n",
        "    return 1\n",
        "  else:\n",
        "    return fib(m-1) + fib(m-2)\n",
        "print(fib(12)) # T = O(2^n)\n",
        "\n",
        "# key concepts:\n",
        "  # Fibonacci sequence\n",
        "  # Reproduction Rate\n",
        "  # Population Growth"
      ],
      "metadata": {
        "id": "TpTdcXwpU5Kp"
      },
      "execution_count": null,
      "outputs": []
    },
    {
      "cell_type": "code",
      "source": [
        "import time\n",
        "start = time.time()\n",
        "print(fib(12))\n",
        "print(time.time() - start)"
      ],
      "metadata": {
        "id": "8LQ3yC1CWXUD"
      },
      "execution_count": null,
      "outputs": []
    },
    {
      "cell_type": "code",
      "source": [
        "# Memoization\n",
        "# Memoization refers to remembering methods call results based on inputs\n",
        "  # Returns cached results, avoiding recompution\n",
        "  # Speeds up computations; stores previous results\n",
        "  # Used in dynamic programming for recursive solutions\n",
        "  # Reduces time complexity; avoids redundant calculations\n",
        "  # Optimizes recursion algorithms by reusing results"
      ],
      "metadata": {
        "id": "ZJh6dANMXCOZ"
      },
      "execution_count": null,
      "outputs": []
    },
    {
      "cell_type": "code",
      "source": [
        "def memo(m, d):\n",
        "    if m in d:\n",
        "        return d[m]\n",
        "    else:\n",
        "        d[m] = memo(m-1, d) + memo(m-2, d)\n",
        "        return d[m]\n",
        "d = {0:1, 1:1}\n",
        "print(memo(48, d))"
      ],
      "metadata": {
        "id": "YjKDl-soXrzn"
      },
      "execution_count": null,
      "outputs": []
    },
    {
      "cell_type": "code",
      "source": [
        "print(memo(48, d))\n",
        "print(time.time() - start)"
      ],
      "metadata": {
        "id": "MA5fp2zEXztv"
      },
      "execution_count": null,
      "outputs": []
    },
    {
      "cell_type": "code",
      "source": [
        "print(d) # Dict in memory, execution time reduced"
      ],
      "metadata": {
        "id": "gxWKAgypYBSA"
      },
      "execution_count": null,
      "outputs": []
    },
    {
      "cell_type": "code",
      "source": [
        "# Recursive PowerSet Function in Python\n",
        "\n",
        "# PowerSet: Given set S, return power set P(S) (all subsets of S).\n",
        "\n",
        "# Input: String\n",
        "# Output: Array of Strings (power set)\n",
        "\n",
        "# Example: S = \"123\", P(S) = ['', '1', '2', '3', '12', '13', '23', '123']\n",
        "\n",
        "def powerset1(xs):\n",
        "    res = [[]]\n",
        "    if len(xs) <= 0:\n",
        "        return \"Please Enter a parameter\"\n",
        "    if len(xs) == 1:\n",
        "        res.append([xs[0]])\n",
        "        return res\n",
        "    else:\n",
        "        z = []\n",
        "        for i in powerset1(xs[1:]):\n",
        "            z.append(i)\n",
        "            z.append([xs[0]] + i)\n",
        "        return z\n",
        "\n",
        "final = powerset1('123')\n",
        "print(final)\n",
        "print(len(final))"
      ],
      "metadata": {
        "id": "VHM5EESKYFKq"
      },
      "execution_count": null,
      "outputs": []
    },
    {
      "cell_type": "code",
      "source": [
        "x = int(input(\"Enter your number:\"))\n",
        "if x == 1:\n",
        "  print(\"Januaray\")\n",
        "elif x == 2:\n",
        "  print(\"February\")\n",
        "elif x == 3:\n",
        "  print(\"March\")\n",
        "elif x == 4:\n",
        "  print(\"April\")\n",
        "elif x == 5:\n",
        "  print(\"May\")\n",
        "elif x == 6:\n",
        "  print(\"June\")\n",
        "elif x == 7:\n",
        "  print(\"July\")\n",
        "elif x == 8:\n",
        "  print(\"August\")\n",
        "elif x == 9:\n",
        "  print(\"September\")\n",
        "elif x == 10:\n",
        "  print(\"October\")\n",
        "elif x == 11:\n",
        "  print(\"November\")\n",
        "elif x == 12:\n",
        "  print(\"December\")\n",
        "else:\n",
        "  print(\"Invalid Number\")"
      ],
      "metadata": {
        "id": "eO7dUvsEYU7y"
      },
      "execution_count": null,
      "outputs": []
    },
    {
      "cell_type": "code",
      "source": [
        "x = int(input(\"Enter Your Year Number (1-12): \"))\n",
        "months = {\n",
        "    1: \"January\",\n",
        "    2: \"February\",\n",
        "    3: \"March\",\n",
        "    4: \"April\",\n",
        "    5: \"May\",\n",
        "    6: \"June\",\n",
        "    7: \"July\",\n",
        "    8: \"August\",\n",
        "    9: \"September\",\n",
        "    10: \"October\",\n",
        "    11: \"November\",\n",
        "    12: \"December\"\n",
        "}\n",
        "\n",
        "if x in months:\n",
        "  print(\"Months is:\", months[x])\n",
        "else:\n",
        "  print(\"Invalid Number\")"
      ],
      "metadata": {
        "id": "St-eIzaAK1NU"
      },
      "execution_count": null,
      "outputs": []
    },
    {
      "cell_type": "code",
      "source": [
        "# Lambda Functions"
      ],
      "metadata": {
        "id": "vWF-6hVWUt2d"
      },
      "execution_count": null,
      "outputs": []
    },
    {
      "cell_type": "code",
      "source": [
        "# Anonymous Functions\n",
        "# Single Expression Limit.\n",
        "# Syntax: lambda input: expression\n",
        "# Example: lambda a, b: a + b"
      ],
      "metadata": {
        "id": "Ul6LUnlLt_x7"
      },
      "execution_count": null,
      "outputs": []
    },
    {
      "cell_type": "code",
      "source": [
        "x = lambda x : x**2\n",
        "x(9)"
      ],
      "metadata": {
        "id": "KHGegKrBuhlK"
      },
      "execution_count": null,
      "outputs": []
    },
    {
      "cell_type": "code",
      "source": [
        "x = lambda x : x + 5\n",
        "x(5)"
      ],
      "metadata": {
        "id": "bt3OUY0eusvl"
      },
      "execution_count": null,
      "outputs": []
    },
    {
      "cell_type": "code",
      "source": [
        "a = lambda x, y: x + y\n",
        "a(4, 5)"
      ],
      "metadata": {
        "id": "nUXAlmvMuyYl"
      },
      "execution_count": null,
      "outputs": []
    },
    {
      "cell_type": "code",
      "source": [
        "z = lambda x, y : x - y\n",
        "z(10, 5)"
      ],
      "metadata": {
        "id": "LH5DpXrAvE7i"
      },
      "execution_count": null,
      "outputs": []
    },
    {
      "cell_type": "code",
      "source": [
        "type(a)"
      ],
      "metadata": {
        "id": "VVVnVhc-vLmr"
      },
      "execution_count": null,
      "outputs": []
    },
    {
      "cell_type": "code",
      "source": [
        "type(z)"
      ],
      "metadata": {
        "id": "NZm0TzZLvgth"
      },
      "execution_count": null,
      "outputs": []
    },
    {
      "cell_type": "code",
      "source": [
        "# Lambda Function vs. Normal Function\n",
        "# Lambda Function:\n",
        "  # No return value\n",
        "  # Written in single-line\n",
        "  # Not used for code reusability\n",
        "  # Anonymous/No name."
      ],
      "metadata": {
        "id": "CwF6O9dVvi8i"
      },
      "execution_count": null,
      "outputs": []
    },
    {
      "cell_type": "code",
      "source": [
        "# Normal Function:\n",
        "  # Has a return value.\n",
        "  # Multi-line\n",
        "  # Encourages code reusability via named functions"
      ],
      "metadata": {
        "id": "WbUPih52wO8u"
      },
      "execution_count": null,
      "outputs": []
    },
    {
      "cell_type": "code",
      "source": [
        "# Why?\n",
        "\n",
        "# Lambda functions are Anonymous functions ---> `lambda args: expr`,\n",
        "# ideal for Higher-order functions, offers Concise function writing without naming."
      ],
      "metadata": {
        "id": "nyOXC4hcwcrF"
      },
      "execution_count": null,
      "outputs": []
    },
    {
      "cell_type": "code",
      "source": [
        "# Higher Order Functions:\n",
        "\n",
        "# Functions that take/return other functions.\n",
        "# Useful for Abstraction, Code reuse.\n",
        "\n",
        "# Enhances code modularity, readability.\n",
        "# Encourages functional programming.\n",
        "\n",
        "# Can lead to Complexity and Performance overhead (if overused)."
      ],
      "metadata": {
        "id": "kCFAHPeOwkM4"
      },
      "execution_count": null,
      "outputs": []
    },
    {
      "cell_type": "code",
      "source": [
        "b = lambda x : x[0] == 'a'\n",
        "b('apple')"
      ],
      "metadata": {
        "id": "YUiq0XauxxC8"
      },
      "execution_count": null,
      "outputs": []
    },
    {
      "cell_type": "code",
      "source": [
        "b('banana')"
      ],
      "metadata": {
        "id": "vdXcBnd0x63j"
      },
      "execution_count": null,
      "outputs": []
    },
    {
      "cell_type": "code",
      "source": [
        "x = lambda x : \"Even\" if x%2 == 0 else \"Odd\"\n",
        "x(3)"
      ],
      "metadata": {
        "id": "N3YH1sCHx9NQ"
      },
      "execution_count": null,
      "outputs": []
    },
    {
      "cell_type": "code",
      "source": [
        "x(2)"
      ],
      "metadata": {
        "id": "nnEaQsYxyStK"
      },
      "execution_count": null,
      "outputs": []
    },
    {
      "cell_type": "code",
      "source": [
        "# HOF"
      ],
      "metadata": {
        "id": "tQ23gTVAyY4U"
      },
      "execution_count": null,
      "outputs": []
    },
    {
      "cell_type": "code",
      "source": [
        "L = [11, 14, 27, 21, 23, 56, 78, 39, 45, 29, 28, 30]\n",
        "\n",
        "# Even Sum\n",
        "# Odd Sum\n",
        "# Div3 Sum\n",
        "\n",
        "def return_sum(L):\n",
        "  even_sum = 0\n",
        "  odd_sum = 0\n",
        "  div3_sum = 0\n",
        "  for i in L:\n",
        "    if i%2 == 0:\n",
        "      even_sum = even_sum + i\n",
        "  for i in L:\n",
        "    if i%2 != 0:\n",
        "      odd_sum = odd_sum + i\n",
        "  for i in L:\n",
        "    if i%3 == 0:\n",
        "      div3_sum = div3_sum + i\n",
        "  return(even_sum, odd_sum, div3_sum)\n",
        "print(return_sum(L))"
      ],
      "metadata": {
        "id": "JEbNOTrLydKk"
      },
      "execution_count": null,
      "outputs": []
    },
    {
      "cell_type": "code",
      "source": [
        "L = [11, 14, 27, 21, 23, 56, 78, 39, 45, 29, 28, 30]\n",
        "def return_sum(func, L):\n",
        "  result = 0\n",
        "  for i in L:\n",
        "    if func(i):\n",
        "      result = result + i\n",
        "  return result\n",
        "x = lambda x: x%2 == 0 # Even Sum\n",
        "y = lambda x: x%2 !=0 # Odd Sum\n",
        "z = lambda x: x%3 == 0 # Div3 Sum\n",
        "print(return_sum(x, L))\n",
        "print(return_sum(y, L))\n",
        "print(return_sum(z, L))"
      ],
      "metadata": {
        "id": "mfS4E_8yy3oM"
      },
      "execution_count": null,
      "outputs": []
    },
    {
      "cell_type": "code",
      "source": [
        "# Higher Order Functions (HOF) accepts input + defination operation of function"
      ],
      "metadata": {
        "id": "V_WS_bps2E2a"
      },
      "execution_count": null,
      "outputs": []
    },
    {
      "cell_type": "code",
      "source": [
        "# Higher-Order Functions"
      ],
      "metadata": {
        "id": "BoE5bD2Y2Pnx"
      },
      "execution_count": null,
      "outputs": []
    },
    {
      "cell_type": "code",
      "source": [
        "# 1. Map\n",
        "# 2. Filter\n",
        "# 3. Reduce"
      ],
      "metadata": {
        "id": "0yPknfCY2Trd"
      },
      "execution_count": null,
      "outputs": []
    },
    {
      "cell_type": "code",
      "source": [
        "# 1. Map\n",
        "  # Applies a function to each item in iterable\n",
        "  # Syntax:\n",
        "# map(function, iterable)\n",
        "# Return an Iterator of Result\n"
      ],
      "metadata": {
        "id": "N6fGbhIp2Zrr"
      },
      "execution_count": null,
      "outputs": []
    },
    {
      "cell_type": "code",
      "source": [
        "L = [1, 2, 3, 4, 5, 6, 7]\n",
        "L"
      ],
      "metadata": {
        "id": "6756avjL2wp1"
      },
      "execution_count": null,
      "outputs": []
    },
    {
      "cell_type": "code",
      "source": [
        "map(lambda x: x * 2, L)"
      ],
      "metadata": {
        "id": "ETvNR5v32z2v"
      },
      "execution_count": null,
      "outputs": []
    },
    {
      "cell_type": "code",
      "source": [
        "list(map(lambda x: x * 2, L))"
      ],
      "metadata": {
        "id": "xc5GAt1w266v"
      },
      "execution_count": null,
      "outputs": []
    },
    {
      "cell_type": "code",
      "source": [
        "list(map(lambda x : x % == 0, L))"
      ],
      "metadata": {
        "id": "fZRlR4Na3iAw"
      },
      "execution_count": null,
      "outputs": []
    },
    {
      "cell_type": "code",
      "source": [
        "students = [\n",
        "    {\n",
        "        \"name\" : \"Jacob Martin\",\n",
        "        \"Father name\" : \"Ros Martin\",\n",
        "        \"Address\" : \"123 Hills Street\",\n",
        "    },{\n",
        "        \"name\" : \"Angela Stevens\",\n",
        "        \"Father name\" : \"Robert Stevens\",\n",
        "        \"Address\" : \"3 Upper Street London\",\n",
        "    },{\n",
        "        \"name\" : \"Ricky Smart\",\n",
        "        \"Father name\" : \"William Smart\",\n",
        "        \"Address\" : \"Unknown\",\n",
        "    }\n",
        "\n",
        "]\n",
        "list(map(lambda student : student[\"name\"], students))"
      ],
      "metadata": {
        "id": "Onb4BX0S3ma1"
      },
      "execution_count": null,
      "outputs": []
    },
    {
      "cell_type": "code",
      "source": [
        "# 2. Filter\n",
        "# Applies a function to sequence\n",
        "# Syntax:\n",
        "# Filter(function, sequence)\n",
        "# Return elements where function in True."
      ],
      "metadata": {
        "id": "z_sPdTul3yY2"
      },
      "execution_count": null,
      "outputs": []
    },
    {
      "cell_type": "code",
      "source": [
        "L"
      ],
      "metadata": {
        "id": "iHe3cynk3_Ut"
      },
      "execution_count": null,
      "outputs": []
    },
    {
      "cell_type": "code",
      "source": [
        "n = 0\n",
        "for i in range(0, 7):\n",
        "    n = n + 2\n",
        "    print(n)"
      ],
      "metadata": {
        "id": "AEt8HG_d3_0I"
      },
      "execution_count": null,
      "outputs": []
    },
    {
      "cell_type": "code",
      "source": [
        "n = 500\n",
        "for i in range(0, 10):\n",
        "  n = n - 50\n",
        "  print(n)"
      ],
      "metadata": {
        "id": "J9To30dNgY-W"
      },
      "execution_count": null,
      "outputs": []
    },
    {
      "cell_type": "code",
      "source": [
        "n = 625\n",
        "for i in range(4):\n",
        "  print(n)\n",
        "  n = n // 5"
      ],
      "metadata": {
        "id": "Fxelw7rvgnZL"
      },
      "execution_count": null,
      "outputs": []
    },
    {
      "cell_type": "code",
      "source": [
        "#OOP Prepration"
      ],
      "metadata": {
        "id": "u4xVp8I4k_O4"
      },
      "execution_count": null,
      "outputs": []
    },
    {
      "cell_type": "code",
      "source": [
        "# from collections.abc import ValuesView\n",
        "# # Python ma class ka structure\n",
        "\n",
        "# class calssName:\n",
        "#   def __init__(self, arguments):\n",
        "#     self.attributes = Values\n",
        "\n",
        "\n",
        "#   def methodName(self):\n",
        "#     # Code"
      ],
      "metadata": {
        "id": "Cm26O1xeWI8f"
      },
      "execution_count": null,
      "outputs": []
    },
    {
      "cell_type": "code",
      "source": [
        "# __init__ Method:\n",
        "# Jab bi koi nayaa object bantaa ha, yha method automatically call hota haa\n",
        "# is ko he constructor khata haa\n"
      ],
      "metadata": {
        "id": "c7hN_lsebMKi"
      },
      "execution_count": null,
      "outputs": []
    },
    {
      "cell_type": "code",
      "source": [
        "# self\n",
        "# self matlab yha current object\n",
        "# yha automatically python data ha tkaa har object ka apna data hoo\n",
        "\n"
      ],
      "metadata": {
        "id": "X_NC-y6kbX3a"
      },
      "execution_count": null,
      "outputs": []
    },
    {
      "cell_type": "code",
      "source": [
        "# Simple Example\n",
        "class Students:\n",
        "  def __init__(self, name, age):\n",
        "    self.name = name\n",
        "    self.age = age\n",
        "\n",
        "  def show_info(self):\n",
        "    print(f\"{self.name} {self.age} year ka ha\")\n",
        "\n",
        "s1 = Students(\"Ali\", 24)\n",
        "s1.show_info()"
      ],
      "metadata": {
        "id": "Li4PaXLwetxU"
      },
      "execution_count": null,
      "outputs": []
    },
    {
      "cell_type": "code",
      "source": [
        "class Sum:\n",
        "  def __init__(self, x, y):\n",
        "    self.x = x\n",
        "    self.y = y\n",
        "\n",
        "  def addition(self):\n",
        "    print(self.x + self.y)\n",
        "\n",
        "  def subtract(self):\n",
        "    print(self.x - self.y)\n",
        "\n",
        "add = Sum(2, 3)\n",
        "add.addition()\n",
        "\n",
        "sub = Sum(2, 3)\n",
        "sub.subtract()\n"
      ],
      "metadata": {
        "id": "SF-UUuJufcld"
      },
      "execution_count": null,
      "outputs": []
    },
    {
      "cell_type": "code",
      "source": [
        "# 1 or program\n",
        "class Calculator:\n",
        "  def __init__(self, num):\n",
        "    self.number = num\n",
        "\n",
        "  def square(self):\n",
        "\n",
        "    return self.number ** 2\n",
        "\n",
        "  def cube(self):\n",
        "\n",
        "    return self.number ** 3\n",
        "\n",
        "cal = Calculator(4)\n",
        "print(\"Square is:\",cal.square())\n",
        "print(\"Cube is:\", cal.cube())"
      ],
      "metadata": {
        "id": "wJcDKXUIhJvb"
      },
      "execution_count": null,
      "outputs": []
    },
    {
      "cell_type": "code",
      "source": [
        "# Write a program that will tell whether the given year is a leap year or not.\n",
        "year = int(input(\"Enter the Year:\"))\n",
        "if year % 4 == 0:\n",
        "  print(f\"{year} is a Leap Year\")\n",
        "else:\n",
        "  print(f\"{year} is not a leap year\")"
      ],
      "metadata": {
        "id": "MODvJAvDk7Ev"
      },
      "execution_count": null,
      "outputs": []
    },
    {
      "cell_type": "code",
      "source": [
        "# Write a program to find the euclidean distance between two coordinates.\n",
        "x1 = int(input(\"Enter the value of x1:\"))\n",
        "x2 = int(input(\"Enter the value of x2:\"))\n",
        "y1 = int(input(\"Enter the value of y1:\"))\n",
        "y2 = int(input(\"Enter the value of y2:\"))\n",
        "distance = ((x2 - x1)**2 + (y2 - y1)**2)**0.5\n",
        "print(\"The distnce is :\",  distance)"
      ],
      "metadata": {
        "id": "K5ihbngZNPd8"
      },
      "execution_count": null,
      "outputs": []
    },
    {
      "cell_type": "code",
      "source": [
        "# Class ka Andar Variable Scope\n",
        "class Example:\n",
        "  class_var = \"Mn class ka Variable hoo\"\n",
        "\n",
        "  def __init__(self, data):\n",
        "    self.instance_var = data\n",
        "\n",
        "obje = Example(\"Instance Variable\")\n",
        "print(obje.class_var)\n",
        "print(obje.instance_var)"
      ],
      "metadata": {
        "id": "U-yLMjinQIeB"
      },
      "execution_count": null,
      "outputs": []
    },
    {
      "cell_type": "code",
      "source": [
        "#\n",
        "x = int(input(\"Enter the first Angle:\"))\n",
        "y = int(input(\"Enter the second Angle:\"))\n",
        "z = int(input(\"Enter the third Angle:\"))\n",
        "if x + y + z == 180:\n",
        "  print(\"This is a Triangle\")\n",
        "else:\n",
        "  print(\"This is Not a Triangle\")"
      ],
      "metadata": {
        "id": "-twLwoMnacMy"
      },
      "execution_count": null,
      "outputs": []
    },
    {
      "cell_type": "code",
      "source": [],
      "metadata": {
        "id": "dL39QCU3SMLs"
      },
      "execution_count": null,
      "outputs": []
    },
    {
      "cell_type": "code",
      "source": [
        "# OOP ka next concept class ka bad inheritence"
      ],
      "metadata": {
        "id": "SLxvNGgsc5LS"
      },
      "execution_count": null,
      "outputs": []
    },
    {
      "cell_type": "code",
      "source": [
        "# Inheritance ka matlab hota ha 1 class (child class) dosri class (parent class) ki properties aur methods warasit ma la lata haa"
      ],
      "metadata": {
        "id": "KxqCpvemRqAW"
      },
      "execution_count": null,
      "outputs": []
    },
    {
      "cell_type": "code",
      "source": [
        "# Example:\n",
        "# Agar 1 wheekel class ha or os ma common cheeza ha:\n",
        "# name.\n",
        "# speed\n",
        "# move() method\n",
        "# to car, bus, bike ka liya hm yha sari cheeza inherit kar sakta ha hama dobara sa likhna ki zaroorat ni ha"
      ],
      "metadata": {
        "id": "u1dehzYkR7Wg"
      },
      "execution_count": null,
      "outputs": []
    },
    {
      "cell_type": "code",
      "source": [
        "# Python ma inheritance ka code\n",
        "# class Parent:\n",
        "#   # parent class ka code\n",
        "# class Child(Parent):\n",
        "#   # child class jo parent ko inherit karti haa\n"
      ],
      "metadata": {
        "id": "jbpE8xwKR-6t"
      },
      "execution_count": null,
      "outputs": []
    },
    {
      "cell_type": "code",
      "source": [
        "# Simple Inheritance Example\n",
        "class Animal:\n",
        "  def speak(self):\n",
        "    print(\"Animal Speak\")\n",
        "\n",
        "class Dog(Animal):\n",
        "  def bark(self):\n",
        "    print(\"Dog Barks\")\n",
        "\n",
        "d = Dog()\n",
        "d.speak()\n",
        "d.bark()"
      ],
      "metadata": {
        "id": "gA3cjYKsSwdb"
      },
      "execution_count": null,
      "outputs": []
    },
    {
      "cell_type": "code",
      "source": [
        "class Person:\n",
        "    def __init__(self, name):\n",
        "        self.name = name\n",
        "\n",
        "    def show(self):\n",
        "        print(\"Name:\", self.name)\n",
        "\n",
        "class Student(Person):\n",
        "    def __init__(self, name, roll):\n",
        "        super().__init__(name)  # Parent ka constructor call karo\n",
        "        self.roll = roll\n",
        "\n",
        "    def display(self):\n",
        "        print(\"Roll No:\", self.roll)\n",
        "\n",
        "s1 = Student(\"Ali\", 101)\n",
        "s1.show()\n",
        "s1.display()\n"
      ],
      "metadata": {
        "id": "gkmV35KvTc5M"
      },
      "execution_count": null,
      "outputs": []
    },
    {
      "cell_type": "code",
      "source": [
        "# Multilevel Inheritance\n",
        "class A:\n",
        "  def showA(self):\n",
        "    print(\"Class A\")\n",
        "\n",
        "class B(A):\n",
        "  def showB(self):\n",
        "    print(\"Class B\")\n",
        "\n",
        "class C(B):\n",
        "  def showC(self):\n",
        "    print(\"Class C\")\n",
        "obj = C()\n",
        "obj.showA()\n",
        "obj.showB()\n",
        "obj.showC()"
      ],
      "metadata": {
        "id": "1Eyn1J8VVfLm"
      },
      "execution_count": null,
      "outputs": []
    },
    {
      "cell_type": "code",
      "source": [
        "# Multiple Inheritance\n",
        "class Father():\n",
        "  def skills(self):\n",
        "    print(\"Father: Gardening, Working \")\n",
        "class Mother():\n",
        "  def hobbies(self):\n",
        "    print(\"Mother: Cooking, Reading\")\n",
        "class Child(Father, Mother):\n",
        "  def my_skills(self):\n",
        "    print(\"Child: Cricket, Pyhton\")\n",
        "\n",
        "obj = Child()\n",
        "obj.skills()\n",
        "obj.hobbies()\n",
        "obj.my_skills()\n"
      ],
      "metadata": {
        "id": "ZdpSOdz3XELP"
      },
      "execution_count": null,
      "outputs": []
    },
    {
      "cell_type": "code",
      "source": [
        "cp = int(input(\"Enter the cost price:\"))\n",
        "sp = int(input(\"Enter the selling price:\"))\n",
        "if cp < sp:\n",
        "  print(\"You earn profit\")\n",
        "elif cp == sp:\n",
        "  print(\"cost price and selling price is equal\")\n",
        "else:\n",
        "  print(\"You earn loss\")\n"
      ],
      "metadata": {
        "id": "oO4OPSOYYOrq"
      },
      "execution_count": null,
      "outputs": []
    },
    {
      "cell_type": "code",
      "source": [
        "# Polymorphism kia hota haa?\n",
        "# Polymorphism ka matlab hota haa 1 name or alaga alag behaviour\n",
        "# Yani same function ka name ho sakta ha , lekin har class ma who alag tarha sa kam karta haa"
      ],
      "metadata": {
        "id": "2N1PUo6twBIp"
      },
      "execution_count": null,
      "outputs": []
    },
    {
      "cell_type": "code",
      "source": [
        "# # Real life example\n",
        "# Ek function ha speak():\n",
        "# Dog bola: \"Bark Bark\"\n",
        "# Cat bola: \"Menow Menow\"\n"
      ],
      "metadata": {
        "id": "hZPB8QrL53DG"
      },
      "execution_count": null,
      "outputs": []
    },
    {
      "cell_type": "code",
      "source": [
        "# PYthon ma Polymorphism ki 2 main types haa:\n",
        "# 1. Method Overriding:Parent class ka method child class ma dobara define karna\n",
        "# 2. Duck Typing: Object ka behaviour os ka method pa depend karta ha naa ka os ki class par\n"
      ],
      "metadata": {
        "id": "KHeBChaS6DJZ"
      },
      "execution_count": null,
      "outputs": []
    },
    {
      "cell_type": "code",
      "source": [
        "# 1. Method Overriding (Polymorphism via Inheritance)\n",
        "class Animal():\n",
        "  def speak(self):\n",
        "    print(\"Animal Speaks\")\n",
        "class Dog(Animal):\n",
        "  def speak(self):\n",
        "    print(\"Dog Bark!\")\n",
        "class Cat(Animal):\n",
        "  def speak(self):\n",
        "    print(\"Cat Menow!\")\n",
        "\n",
        "animals = [Dog(), Cat()]\n",
        "\n",
        "for animal in animals:\n",
        "  animal.speak()\n",
        "\n"
      ],
      "metadata": {
        "id": "2qRQOZzo61Fc"
      },
      "execution_count": null,
      "outputs": []
    },
    {
      "cell_type": "code",
      "source": [
        "# 2. Duck Typing (Polymorphism via Similar Interface)\n",
        "class TextEditor:\n",
        "  def execute(self):\n",
        "    print(\"Running Text Editor\")\n",
        "\n",
        "class CodeEditor:\n",
        "  def execute(self):\n",
        "    print(\"Running Code Editor\")\n",
        "\n",
        "def run_program(software):\n",
        "  software.execute()\n",
        "\n",
        "editor1 = TextEditor()\n",
        "editor2 = CodeEditor()\n",
        "\n",
        "run_program(editor1)\n",
        "run_program(editor2)"
      ],
      "metadata": {
        "id": "7SpySnIg75Dw"
      },
      "execution_count": null,
      "outputs": []
    },
    {
      "cell_type": "code",
      "source": [
        "p = int(input(\"Enter the Prinicipal price(Asal Raqam):\"))\n",
        "t = int(input(\"Enter the time in the form of year(1 sal , 2 sal ....):\"))\n",
        "r = float(input(\"Enter the interest rate (like 5% , 10% .....):\"))\n",
        "\n",
        "SIR = (p * t * r)/100\n",
        "print(f\"Your Simple Interest is: {SIR}\")"
      ],
      "metadata": {
        "id": "QIROq3Tm-5MG"
      },
      "execution_count": null,
      "outputs": []
    },
    {
      "cell_type": "code",
      "source": [
        "r = float(input(\"Enter the Radious to find the volume of sylander:\"))\n",
        "h = float(input(\"Enter the Height to find the volume of sylander:\"))\n",
        "pi = 3.1415\n",
        "volume = pi * r**2 * h\n",
        "print(f\"The volume of the cylander after putting the value of h\")\n"
      ],
      "metadata": {
        "id": "Gz7xf9KCB87X"
      },
      "execution_count": null,
      "outputs": []
    },
    {
      "cell_type": "code",
      "source": [
        "# Object Oriented Programming\n",
        "# OOP is a programming paradigm using objects &  classess"
      ],
      "metadata": {
        "id": "vZ5z3q1PLQSh"
      },
      "execution_count": null,
      "outputs": []
    },
    {
      "cell_type": "code",
      "source": [
        "# The Observation"
      ],
      "metadata": {
        "id": "LZfYdCmGLoIQ"
      },
      "execution_count": null,
      "outputs": []
    },
    {
      "cell_type": "code",
      "source": [
        "L = [1,2,3,5]"
      ],
      "metadata": {
        "id": "9iRnn4VqLuTc"
      },
      "execution_count": null,
      "outputs": []
    },
    {
      "cell_type": "code",
      "source": [
        "L"
      ],
      "metadata": {
        "id": "5JtNpnusLx8P"
      },
      "execution_count": null,
      "outputs": []
    },
    {
      "cell_type": "code",
      "source": [
        "L.upper()"
      ],
      "metadata": {
        "id": "OrdEx13bLyii"
      },
      "execution_count": null,
      "outputs": []
    },
    {
      "cell_type": "code",
      "source": [
        "city = 'Kolkata'"
      ],
      "metadata": {
        "id": "sjI-JVvtL07K"
      },
      "execution_count": null,
      "outputs": []
    },
    {
      "cell_type": "code",
      "source": [
        "city.append('a')"
      ],
      "metadata": {
        "id": "cAiJNxaZL8Wk"
      },
      "execution_count": null,
      "outputs": []
    },
    {
      "cell_type": "code",
      "source": [
        "a = 3"
      ],
      "metadata": {
        "id": "lF4aGVFpMHOy"
      },
      "execution_count": null,
      "outputs": []
    },
    {
      "cell_type": "code",
      "source": [
        "a.upper()"
      ],
      "metadata": {
        "id": "U98zUsVGMLTq"
      },
      "execution_count": null,
      "outputs": []
    },
    {
      "cell_type": "code",
      "source": [
        "# Everything in python is an object\n",
        "# But What is an Object\n",
        "# What is OOP?\n",
        "# The Problem\n",
        "# Generality to Specificity\n",
        "# The core Fundamental Feature of OOP.\n",
        "# key Concepts of OOP:\n",
        "  # Object\n",
        "  # Class\n",
        "  # Polymorphism\n",
        "  # Encapsulation\n",
        "  # Inheritance\n",
        "  # Abstraction\n"
      ],
      "metadata": {
        "id": "lSo4rF2OMM4k"
      },
      "execution_count": null,
      "outputs": []
    },
    {
      "cell_type": "code",
      "source": [
        "# CLASS\n",
        "# Blueprint for objects\n",
        "# Defines object behavior"
      ],
      "metadata": {
        "id": "ia1MmUeeM81T"
      },
      "execution_count": null,
      "outputs": []
    },
    {
      "cell_type": "code",
      "source": [
        "a = 2\n"
      ],
      "metadata": {
        "id": "qW0JFip_M-lA"
      },
      "execution_count": null,
      "outputs": []
    },
    {
      "cell_type": "code",
      "source": [
        "type(a)"
      ],
      "metadata": {
        "id": "OFcgh7W4NbL9"
      },
      "execution_count": null,
      "outputs": []
    },
    {
      "cell_type": "code",
      "source": [
        "L"
      ],
      "metadata": {
        "id": "cvRIgTQjNb-s"
      },
      "execution_count": null,
      "outputs": []
    },
    {
      "cell_type": "code",
      "source": [
        "# In python,\n",
        "# Datatype = Class\n",
        "# Variable = object of class"
      ],
      "metadata": {
        "id": "SnZxJJOqNd__"
      },
      "execution_count": null,
      "outputs": []
    },
    {
      "cell_type": "code",
      "source": [
        "# Class:\n",
        "  # Attributes: Data/Properties\n",
        "  # Methods: Functions/Behaviours"
      ],
      "metadata": {
        "id": "5HSvhKcJNomu"
      },
      "execution_count": null,
      "outputs": []
    },
    {
      "cell_type": "code",
      "source": [
        "# Class Basic Structure\n",
        "class Car:\n",
        "  color = \"Blue\"\n",
        "  model = \"Sports\"\n",
        "  def calculate_avg_speed(km, time): # method\n",
        "    pass\n",
        "  # Some Code"
      ],
      "metadata": {
        "id": "KvoGNSrANwp_"
      },
      "execution_count": null,
      "outputs": []
    },
    {
      "cell_type": "code",
      "source": [
        "# # Naming Conventions:\n",
        "\n",
        "# Class names    ---> PascalCase\n",
        "\n",
        "# Data/functions ---> snake_case\n",
        "\n",
        "# # Examples:\n",
        "\n",
        "# PascalCase     ---> ThisIsPascalCase\n",
        "\n",
        "# CamelCase      ---> thisIsCamelCase\n",
        "\n",
        "# snake_case     ---> snake_case"
      ],
      "metadata": {
        "id": "1F5FHc-DOIzc"
      },
      "execution_count": null,
      "outputs": []
    },
    {
      "cell_type": "code",
      "source": [
        "# Class Representation:\n",
        "\n",
        "# +-------------------------+\n",
        "# |          - Car          |\n",
        "# |-------------------------|\n",
        "# |         - Color         |\n",
        "# |        - mileage        | # attributes/data (private)\n",
        "# |         - engine        |\n",
        "# |-------------------------|\n",
        "# |     + cal_avg_speed     |\n",
        "# |     + open_airbags      | # methods/functions (public)\n",
        "# |       + show_gps        |\n",
        "# +-------------------------+"
      ],
      "metadata": {
        "id": "mrA9YmT0Oe1F"
      },
      "execution_count": null,
      "outputs": []
    },
    {
      "cell_type": "code",
      "source": [
        "# Object\n",
        "# Object is an instance of a Class\n",
        "\n",
        "# Class is the data type; Object is a variable of a Class"
      ],
      "metadata": {
        "id": "JTXMdcHqOsdn"
      },
      "execution_count": null,
      "outputs": []
    },
    {
      "cell_type": "code",
      "source": [
        "# # Object Examples:\n",
        "\n",
        "# 1. Car     ---> WagonR      | wagonr     = Car()\n",
        "# 2. Sports  ---> Gilli Danda | gillidanda = Sports()\n",
        "# 3. Animals ---> Langoor     | langoor    = Animals()"
      ],
      "metadata": {
        "id": "Vb_F2igUTkIq"
      },
      "execution_count": null,
      "outputs": []
    },
    {
      "cell_type": "code",
      "source": [
        "L = [1, 2, 3] # Object Literal ---> Built-in classes"
      ],
      "metadata": {
        "id": "tZ68f7auTu13"
      },
      "execution_count": null,
      "outputs": []
    },
    {
      "cell_type": "code",
      "source": [
        "L"
      ],
      "metadata": {
        "id": "CL4UvMauUHpF"
      },
      "execution_count": null,
      "outputs": []
    },
    {
      "cell_type": "code",
      "source": [
        "L = list()"
      ],
      "metadata": {
        "id": "q4azJSiSUIDi"
      },
      "execution_count": null,
      "outputs": []
    },
    {
      "cell_type": "code",
      "source": [
        "L"
      ],
      "metadata": {
        "id": "YAVDfro8UJmE"
      },
      "execution_count": null,
      "outputs": []
    },
    {
      "cell_type": "code",
      "source": [
        "city = str()"
      ],
      "metadata": {
        "id": "0dkdcThdUKGt"
      },
      "execution_count": null,
      "outputs": []
    },
    {
      "cell_type": "code",
      "source": [
        "city"
      ],
      "metadata": {
        "id": "nzNgsGinUO7v"
      },
      "execution_count": null,
      "outputs": []
    },
    {
      "cell_type": "code",
      "source": [
        "# Practical Implementation of class and object\n",
        "# Lets Creat a Class"
      ],
      "metadata": {
        "id": "T8U-KqxkUP1l"
      },
      "execution_count": null,
      "outputs": []
    },
    {
      "cell_type": "code",
      "source": [
        "# Function Vs Methods:\n",
        "\n",
        "# Methods: Define inside a class\n",
        "#     Accessed via object of the class\n",
        "\n",
        "# Functions: Not inside a class, normal function\n",
        "#       General, accessible everywhere"
      ],
      "metadata": {
        "id": "npwJT5YiUVdr"
      },
      "execution_count": null,
      "outputs": []
    },
    {
      "cell_type": "code",
      "source": [
        "# len(L)  Function\n",
        "#         General-purpose, applicable to types like 'str', 'int'."
      ],
      "metadata": {
        "id": "Qo07Q8kvUvvb"
      },
      "execution_count": null,
      "outputs": []
    },
    {
      "cell_type": "code",
      "source": [
        "# L.append(1)   # Method\n",
        "#           Defined in List class; usable only with list objects."
      ],
      "metadata": {
        "id": "Bf0rN207U78K"
      },
      "execution_count": null,
      "outputs": []
    },
    {
      "cell_type": "code",
      "source": [
        "L"
      ],
      "metadata": {
        "id": "9PFDo40yVTbO"
      },
      "execution_count": null,
      "outputs": []
    },
    {
      "cell_type": "code",
      "source": [
        "# Functions Inside Class will be called Methods\n",
        "class Atm:\n",
        "  def __init__(self): # __init__ is a constructor\n",
        "\n",
        "    self.pin = \"\"\n",
        "    self.balance = 0\n",
        "\n",
        "    self.menu()\n",
        "\n",
        "  def menu(self):\n",
        "      user_input = input(\"\"\"\n",
        "                  Hello, how would you like to proced?\n",
        "                  1. Enter 1 to create pin\n",
        "                  2. Enter 2 to deposit\n",
        "                  3. Enter 3 to withdraw\n",
        "                  4. Enter 4 to check balance\n",
        "                  5. Enter 5 to exit\n",
        "\n",
        "      \"\"\")\n",
        "\n",
        "\n",
        "      if user_input == \"1\":\n",
        "        self.create_pin()\n",
        "      elif user_input == \"2\":\n",
        "        print(\"Deposit Pin\")\n",
        "      elif user_input == \"3\":\n",
        "        print(\"Withdraw the money\")\n",
        "      elif user_input == \"4\":\n",
        "        print(\"Check Balance\")\n",
        "      else:\n",
        "        print(\"By\")\n",
        "\n",
        "  def create_pin(self):\n",
        "    self.pin = input(\"Enter your pin:\")\n",
        "    print(\"Pin Set Successfully\")\n",
        "\n",
        "  def deposit(self):\n",
        "    temp = input(\"Enter your pin:\")\n",
        "    if temp == self.pin:\n",
        "      amount = int(input(\"Enter the amount:\"))\n",
        "      if amount <= self.balance:\n",
        "        self.balance = self.balance + amount\n",
        "        print(\"Depost Successfully\")\n",
        "    else:\n",
        "        print(\"Invalid Pin\")\n",
        "\n",
        "  def withdraw(self):\n",
        "    temp = input(\"Enter your Pin:\")\n",
        "    if temp == self.pin:\n",
        "      amount = int(input(\"Enter the amount:\"))\n",
        "      if amount <= self.balance:\n",
        "        self.balance = self.balance - amount\n",
        "        print(\"Operation Successfully\")\n",
        "      else:\n",
        "        print(\"Invalid Pin\")\n",
        "    else:\n",
        "      print(\"Invalid Pin\")\n",
        "\n",
        "  def check_balance(self):\n",
        "    temp = input(\"Enter your pin\")\n",
        "    if temp == self.pin:\n",
        "      print(self.balance)\n",
        "    else:\n",
        "      print(\"Invalid Pin\")\n",
        "\n",
        "\n",
        "\n"
      ],
      "metadata": {
        "id": "hlqBG_7ZVUVO"
      },
      "execution_count": null,
      "outputs": []
    },
    {
      "cell_type": "code",
      "source": [
        "sbi = Atm()\n"
      ],
      "metadata": {
        "id": "7guBpnjwaPX9"
      },
      "execution_count": null,
      "outputs": []
    },
    {
      "cell_type": "code",
      "source": [
        "sbi.deposit()"
      ],
      "metadata": {
        "id": "1m-EHYkuagBm"
      },
      "execution_count": null,
      "outputs": []
    },
    {
      "cell_type": "code",
      "source": [
        "sbi.check_balance()"
      ],
      "metadata": {
        "id": "mq3aaSmkaylr"
      },
      "execution_count": null,
      "outputs": []
    },
    {
      "cell_type": "code",
      "source": [
        "hdfc = Atm()"
      ],
      "metadata": {
        "id": "lzJXqINKa21A"
      },
      "execution_count": null,
      "outputs": []
    },
    {
      "cell_type": "code",
      "source": [
        "sbi.withdraw()"
      ],
      "metadata": {
        "id": "ntuRDkB-a-Fn"
      },
      "execution_count": null,
      "outputs": []
    },
    {
      "cell_type": "code",
      "source": [
        "hdfc = Atm()"
      ],
      "metadata": {
        "id": "0flBcZDTbCR-"
      },
      "execution_count": null,
      "outputs": []
    },
    {
      "cell_type": "code",
      "source": [
        "hdfc.deposit()"
      ],
      "metadata": {
        "id": "HH2HwWblbKss"
      },
      "execution_count": null,
      "outputs": []
    },
    {
      "cell_type": "code",
      "source": [
        "hdfc.check_balance()"
      ],
      "metadata": {
        "id": "bKC9NvcybSdh"
      },
      "execution_count": null,
      "outputs": []
    },
    {
      "cell_type": "code",
      "source": [
        "# Constructor ----> Special/Magic/Dunder Method"
      ],
      "metadata": {
        "id": "imQ-5fQBbZMn"
      },
      "execution_count": null,
      "outputs": []
    },
    {
      "cell_type": "code",
      "source": [
        "dir(int)"
      ],
      "metadata": {
        "id": "ZwlJoMBybsr7"
      },
      "execution_count": null,
      "outputs": []
    },
    {
      "cell_type": "code",
      "source": [
        "# Magic Methods\n",
        "# Predifined (e.g., __and__, __bool__, __float__)\n",
        "# Triggered automatically, not called directly by objects.\n",
        "# Constructor ia a magic method invoked during object creation."
      ],
      "metadata": {
        "id": "bUu8YSFCbt0m"
      },
      "execution_count": null,
      "outputs": []
    },
    {
      "cell_type": "code",
      "source": [
        "# # What is Utility of Costructor?\n",
        "\n",
        "# Special Method auto-executed at app start.\n",
        "# Handles -----> DB/Internet/Hardware Connectivity\n",
        "#         # Initial Configuration"
      ],
      "metadata": {
        "id": "ktPO9AxncJRM"
      },
      "execution_count": null,
      "outputs": []
    },
    {
      "cell_type": "code",
      "source": [
        "# # Highly Philosophical Perspective:\n",
        "\n",
        "# If World  == Class\n",
        "#    God    == Programmer\n",
        "#    Humans == Object\n",
        "\n",
        "# Code Not Controlled by Humans == ?\n",
        "\n",
        "# Breathing, Eating, Drinking is under human control\n",
        "\n",
        "# But, ---> D E A T H\n",
        "\n",
        "# Death is controlled by constructor (God)\n",
        "\n",
        "# constructor's code includes death at birth"
      ],
      "metadata": {
        "id": "_vHn_Xxsca9J"
      },
      "execution_count": null,
      "outputs": []
    },
    {
      "cell_type": "code",
      "source": [
        "# Self"
      ],
      "metadata": {
        "id": "4HK_3d75chnt"
      },
      "execution_count": null,
      "outputs": []
    },
    {
      "cell_type": "code",
      "source": [
        "sbi = Atm()"
      ],
      "metadata": {
        "id": "YddbZ23QcpR6"
      },
      "execution_count": null,
      "outputs": []
    },
    {
      "cell_type": "code",
      "source": [
        "id(sbi)"
      ],
      "metadata": {
        "id": "zyKjxRPrcq6z"
      },
      "execution_count": null,
      "outputs": []
    },
    {
      "cell_type": "code",
      "source": [
        "# sbi = self"
      ],
      "metadata": {
        "id": "is9HgK_rctLv"
      },
      "execution_count": null,
      "outputs": []
    },
    {
      "cell_type": "code",
      "source": [
        "hdfc = Atm()"
      ],
      "metadata": {
        "id": "OE-rSZpvcwMX"
      },
      "execution_count": null,
      "outputs": []
    },
    {
      "cell_type": "code",
      "source": [
        "id(hdfc)"
      ],
      "metadata": {
        "id": "gxZbqDLoc0Fq"
      },
      "execution_count": null,
      "outputs": []
    },
    {
      "cell_type": "code",
      "source": [
        "# hdfc = self"
      ],
      "metadata": {
        "id": "G8oM80tkc2Zb"
      },
      "execution_count": null,
      "outputs": []
    },
    {
      "cell_type": "code",
      "source": [
        "id(sbi)"
      ],
      "metadata": {
        "id": "j61gti33c39s"
      },
      "execution_count": null,
      "outputs": []
    },
    {
      "cell_type": "code",
      "source": [
        "# Self refers to the current object instance."
      ],
      "metadata": {
        "id": "hSf7qnLrc6Cr"
      },
      "execution_count": null,
      "outputs": []
    },
    {
      "cell_type": "code",
      "source": [
        "# The Need of self\n",
        "# class holds data & methods; access via object.\n",
        "# self refers to current object; needed for inter-method/data access within a class\n",
        "# Methods can't access other methods/data directly without self"
      ],
      "metadata": {
        "id": "uEREoueHdCzY"
      },
      "execution_count": null,
      "outputs": []
    },
    {
      "cell_type": "code",
      "source": [
        "# Creating Custom Data Type (Fraction) & Corresponding Methods to Add, Sub, Mul and Divide Fraction"
      ],
      "metadata": {
        "id": "B_JYdkw1dglt"
      },
      "execution_count": null,
      "outputs": []
    },
    {
      "cell_type": "code",
      "source": [
        "class Fraction:\n",
        "\n",
        "    def __init__(self, n, d):\n",
        "        self.num = n\n",
        "        self.den = d\n",
        "\n",
        "    def __str__(self):\n",
        "        return\"{}/{}\".format(self.num, self.den)\n",
        "\n",
        "    def __add__(self, other):\n",
        "        temp_num = self.num * other.den + other.num * self.den\n",
        "        temp_den = self.den * other.den\n",
        "        return\"{}/{}\".format(temp_num, temp_den)\n",
        "\n",
        "    def __sub__(self, other):\n",
        "        temp_num = self.num * other.den - other.num * self.den\n",
        "        temp_den = self.den * other.den\n",
        "        return\"{}/{}\".format(temp_num, temp_den)\n",
        "\n",
        "    def __mul__(self, other):\n",
        "        temp_num = self.num * other.num\n",
        "        temp_den = self.den * other.den\n",
        "        return\"{}/{}\".format(temp_num, temp_den)\n",
        "\n",
        "    def __truediv__(self, other):\n",
        "        temp_num = self.num * other.den\n",
        "        temp_den = self.den * other.num\n",
        "        return\"{}/{}\".format(temp_num, temp_den)"
      ],
      "metadata": {
        "id": "0dPKxFRJ5M2J"
      },
      "execution_count": null,
      "outputs": []
    },
    {
      "cell_type": "code",
      "source": [
        "x = Fraction(4, 5)"
      ],
      "metadata": {
        "id": "tqe8bikg_X1I"
      },
      "execution_count": null,
      "outputs": []
    },
    {
      "cell_type": "code",
      "source": [
        "print(x)"
      ],
      "metadata": {
        "id": "JQKAKOgI_lPK"
      },
      "execution_count": null,
      "outputs": []
    },
    {
      "cell_type": "code",
      "source": [
        "type(x)"
      ],
      "metadata": {
        "id": "dABwpbbJ_oVE"
      },
      "execution_count": null,
      "outputs": []
    },
    {
      "cell_type": "code",
      "source": [
        "y = Fraction(5, 6)"
      ],
      "metadata": {
        "id": "Ma1gyixK_pk_"
      },
      "execution_count": null,
      "outputs": []
    },
    {
      "cell_type": "code",
      "source": [
        "print(y)"
      ],
      "metadata": {
        "id": "CK8igqVy_uwl"
      },
      "execution_count": null,
      "outputs": []
    },
    {
      "cell_type": "code",
      "source": [
        "L = [1, 2, 3, x]"
      ],
      "metadata": {
        "id": "mVsZGzvi_wbI"
      },
      "execution_count": null,
      "outputs": []
    },
    {
      "cell_type": "code",
      "source": [
        "L"
      ],
      "metadata": {
        "id": "xkGKhhWJ_2Sr"
      },
      "execution_count": null,
      "outputs": []
    },
    {
      "cell_type": "code",
      "source": [
        "rew\n",
        "print(x + y)"
      ],
      "metadata": {
        "id": "ez2bwgPc_22Z"
      },
      "execution_count": null,
      "outputs": []
    },
    {
      "cell_type": "code",
      "source": [
        "print(x - y)"
      ],
      "metadata": {
        "id": "CFAbRDMa_5Dq"
      },
      "execution_count": null,
      "outputs": []
    },
    {
      "cell_type": "code",
      "source": [
        "print(x * y)"
      ],
      "metadata": {
        "id": "nSXVHWZBAWFM"
      },
      "execution_count": null,
      "outputs": []
    },
    {
      "cell_type": "code",
      "source": [
        "print(x / y)"
      ],
      "metadata": {
        "id": "my1n0-OOAX50"
      },
      "execution_count": null,
      "outputs": []
    },
    {
      "cell_type": "code",
      "source": [
        "# Encapsulation\n",
        "# Instance Variable\n",
        "# Unique value per object\n",
        "# Defined inside the constructor (e.g., self.pin, self.balance)\n",
        "# Difference values for each object"
      ],
      "metadata": {
        "id": "uYL4q0hlAZmP"
      },
      "execution_count": null,
      "outputs": []
    },
    {
      "cell_type": "code",
      "source": [
        "class Atm:\n",
        "    __counter = 1 # static/class var\n",
        "\n",
        "    def __init__(self): # `__init__` ---> Constructor\n",
        "                        # Special method inside a class.\n",
        "                        # Initializes instance members.\n",
        "                        # Executes automatically on object creation.\n",
        "\n",
        "        self.__pin = \"\"\n",
        "        self.__balance = 0\n",
        "\n",
        "        self.sno = Atm.counter # instance var\n",
        "        Atm.__counter = Atm.__counter + 1\n",
        "        print(id(self))\n",
        "        # self.__menu()\n",
        "\n",
        "    @staticmethod\n",
        "    def get_counter():\n",
        "        return Atm.__counter\n",
        "\n",
        "    @staticmethod\n",
        "    def set_counter(new):\n",
        "        if type(new) == int:\n",
        "            Atm.__counter = new\n",
        "        else:\n",
        "            print('Not Allowed')\n",
        "\n",
        "    def get_pin(self):\n",
        "        return self.__pin\n",
        "\n",
        "    def set_pin(self, new_pin):\n",
        "        if type(new_pin) == str:\n",
        "            self.__pin = new_pin\n",
        "            print(\"Pin changed\")\n",
        "        else:\n",
        "            print(\"Not allowed\")\n",
        "\n",
        "    def __menu(self):\n",
        "        user_input = input(\"\"\"\n",
        "                    Hello, how would you like to proceed?\n",
        "                    1. Enter 1 to create pin\n",
        "                    2. Enter 2 to deposit\n",
        "                    3. Enter 3 to withdraw\n",
        "                    4. Enter 4 to check balance\n",
        "                    5. Enter 5 to exit\n",
        "        \"\"\")\n",
        "        if user_input == \"1\":\n",
        "            self.create_pin()\n",
        "        elif user_input == \"2\":\n",
        "            self.deposit()\n",
        "        elif user_input == \"3\":\n",
        "            self.withdraw()\n",
        "        elif user_input == \"4\":\n",
        "            self.check_balance()\n",
        "        else:\n",
        "            print(\"bye\")\n",
        "\n",
        "    def create_pin(self):\n",
        "        self.__pin = input(\"Enter your pin: \")\n",
        "        print(\"Pin set successfully\")\n",
        "\n",
        "    def deposit(self):\n",
        "        temp = input(\"Enter your pin: \")\n",
        "        if temp == self.__pin:\n",
        "            amount = int(input(\"Enter the amount: \"))\n",
        "            self.__balance = self.__balance + amount\n",
        "            print(\"Deposit successful\")\n",
        "        else:\n",
        "            print(\"Invalid pin\")\n",
        "\n",
        "    def withdraw(self):\n",
        "        temp = input(\"Enter your pin: \")\n",
        "        if temp == self.__pin:\n",
        "            amount = int(input(\"Enter the amount: \"))\n",
        "            if amount <= self.__balance:\n",
        "                self.__balance = self.__balance - amount\n",
        "                print(\"Operation successful\")\n",
        "            else:\n",
        "                print(\"insufficient funds\")\n",
        "        else:\n",
        "            print(\"invalid pin\")\n",
        "\n",
        "    def check_balance(self):\n",
        "        temp = input(\"Enter your pin: \")\n",
        "        if temp == self.__pin:\n",
        "            print(self.__balance)\n",
        "        else:\n",
        "            print(\"invalid pin\")"
      ],
      "metadata": {
        "id": "zAA_XWgsAydp"
      },
      "execution_count": null,
      "outputs": []
    },
    {
      "cell_type": "code",
      "source": [
        "sbi = Atm()"
      ],
      "metadata": {
        "id": "CGKwXQnNA0o5"
      },
      "execution_count": null,
      "outputs": []
    },
    {
      "cell_type": "code",
      "source": [
        "# Inheritance"
      ],
      "metadata": {
        "id": "rUuqEUgLDRq_"
      },
      "execution_count": null,
      "outputs": []
    },
    {
      "cell_type": "code",
      "source": [
        "class Phone:\n",
        "  def __init__(self, price, brand, camera):\n",
        "    self.price = price\n",
        "    self.brand = brand\n",
        "    self.camera = camera\n",
        "\n",
        "class SmartPhone(Phone):\n",
        "  pass\n",
        "\n",
        "s1 = SmartPhone(10000, \"Apple\", 13)\n",
        "\n",
        "print(s1.price)\n",
        "print(s1.brand)\n",
        "print(s1.camera)\n",
        "\n"
      ],
      "metadata": {
        "colab": {
          "base_uri": "https://localhost:8080/"
        },
        "id": "pR78au1l00XB",
        "outputId": "8e4907ea-3a92-4ce0-f11e-174351035a6d"
      },
      "execution_count": null,
      "outputs": [
        {
          "output_type": "stream",
          "name": "stdout",
          "text": [
            "10000\n",
            "Apple\n",
            "13\n"
          ]
        }
      ]
    },
    {
      "cell_type": "code",
      "source": [
        "import math\n",
        "\n",
        "def clock_angle(h, m):\n",
        "    # Step 1: Normalize hour (convert 12 to 0)\n",
        "    h = h % 12\n",
        "\n",
        "    # Step 2: Calculate angles\n",
        "    minute_angle = m * 6  # each minute is 6 degrees\n",
        "    hour_angle = h * 30 + m * 0.5  # each hour is 30 degrees, plus half degree per minute\n",
        "\n",
        "    # Step 3: Find absolute difference\n",
        "    angle = abs(hour_angle - minute_angle)\n",
        "\n",
        "    # Step 4: Take minimum of the two possible angles\n",
        "    min_angle = min(angle, 360 - angle)\n",
        "\n",
        "    # Step 5: Take floor and return\n",
        "    return math.floor(min_angle)\n",
        "\n",
        "# Example usage:\n",
        "h = int(input(\"Enter hour (0-12): \"))\n",
        "m = int(input(\"Enter minutes (0-59): \"))\n",
        "\n",
        "result = clock_angle(h, m)\n",
        "print(\"Minimum angle between clock hands (floor value):\", result)\n"
      ],
      "metadata": {
        "id": "9oWY70-R1c8t",
        "colab": {
          "base_uri": "https://localhost:8080/"
        },
        "outputId": "104a932a-4078-4922-ec5c-e2c2e13e38cd"
      },
      "execution_count": 4,
      "outputs": [
        {
          "output_type": "stream",
          "name": "stdout",
          "text": [
            "Enter hour (0-12): 3\n",
            "Enter minutes (0-59): 15\n",
            "Minimum angle between clock hands (floor value): 7\n"
          ]
        }
      ]
    },
    {
      "cell_type": "code",
      "source": [
        "\n",
        "\n"
      ],
      "metadata": {
        "id": "cq1xvCf_bJ37"
      },
      "execution_count": null,
      "outputs": []
    }
  ],
  "metadata": {
    "colab": {
      "provenance": [],
      "authorship_tag": "ABX9TyMfYSePfk3sVTCqduw3HYI3",
      "include_colab_link": true
    },
    "kernelspec": {
      "display_name": "Python 3",
      "name": "python3"
    },
    "language_info": {
      "name": "python"
    }
  },
  "nbformat": 4,
  "nbformat_minor": 0
}