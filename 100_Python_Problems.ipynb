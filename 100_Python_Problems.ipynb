{
  "cells": [
    {
      "cell_type": "markdown",
      "metadata": {
        "id": "view-in-github",
        "colab_type": "text"
      },
      "source": [
        "<a href=\"https://colab.research.google.com/github/alistechworld/Python_Practice_and_Practice/blob/main/100_Python_Problems.ipynb\" target=\"_parent\"><img src=\"https://colab.research.google.com/assets/colab-badge.svg\" alt=\"Open In Colab\"/></a>"
      ]
    },
    {
      "cell_type": "code",
      "execution_count": null,
      "metadata": {
        "colab": {
          "base_uri": "https://localhost:8080/"
        },
        "id": "NNFd2KgTvm3y",
        "outputId": "d21b8725-d332-4830-e69c-be5d04f90a44"
      },
      "outputs": [
        {
          "name": "stdout",
          "output_type": "stream",
          "text": [
            "Enter the First Age :60\n",
            "Enter the Second Age :30\n",
            "Enter the Third Age :10\n",
            "The Older Age is : 60\n"
          ]
        }
      ],
      "source": [
        "# User input three ages . Find the oldest one\n",
        "first_age = int(input(\"Enter the First Age :\"))\n",
        "second_age = int(input(\"Enter the Second Age :\"))\n",
        "third_age = int(input(\"Enter the Third Age :\"))\n",
        "\n",
        "if first_age > second_age and first_age > third_age:\n",
        "    print(\"The Older Age is :\", first_age)\n",
        "elif second_age > first_age and second_age > third_age:\n",
        "    print(\"The Older Age is :\", second_age)\n",
        "else:\n",
        "    print(\"The Older Age is :\", third_age)"
      ]
    },
    {
      "cell_type": "code",
      "execution_count": null,
      "metadata": {
        "colab": {
          "base_uri": "https://localhost:8080/"
        },
        "id": "1Fd5J0w0xkOh",
        "outputId": "67f4b631-4865-4047-eb0a-255ce4661019"
      },
      "outputs": [
        {
          "name": "stdout",
          "output_type": "stream",
          "text": [
            "Enter the Value of celseus to find the value in faranheight:35\n",
            "The Value of: 35.0 in faraheight 95.0\n"
          ]
        }
      ],
      "source": [
        "celseus = float(input(\"Enter the Value of celseus to find the value in faranheight:\"))\n",
        "\n",
        "faranheight = ((celseus * 9/5) + 32)\n",
        "\n",
        "print(\"The Value of:\", celseus, \"in faraheight\", faranheight)"
      ]
    },
    {
      "cell_type": "code",
      "execution_count": null,
      "metadata": {
        "id": "6TxCqurr1tQ0"
      },
      "outputs": [],
      "source": [
        "# Operators in python"
      ]
    },
    {
      "cell_type": "code",
      "execution_count": null,
      "metadata": {
        "id": "OkzAamQsrsbh"
      },
      "outputs": [],
      "source": [
        "# Arithmetic Operator +, -, *, /, %, **, //\n",
        "# Comparison Operator ==, !=, >, <, >=, <=\n",
        "# Logical Operator and, or, not\n",
        "# Bitwise Operator &, |, ^, ~, <<, >>\n",
        "# Assignment =, +=, -=, *=, /=, %=, **=, //=\n",
        "# Identity Operator is, is not\n",
        "# Membership: in, not in\n"
      ]
    },
    {
      "cell_type": "code",
      "execution_count": null,
      "metadata": {
        "colab": {
          "base_uri": "https://localhost:8080/"
        },
        "id": "LyMTIY8et54Y",
        "outputId": "0f290af5-6094-42fc-c630-87b0eade474d"
      },
      "outputs": [
        {
          "name": "stdout",
          "output_type": "stream",
          "text": [
            "15\n",
            "-5\n",
            "50\n",
            "0.5\n",
            "5\n",
            "9765625\n",
            "0\n"
          ]
        }
      ],
      "source": [
        "# Arithmetic Oprator\n",
        "x = 5\n",
        "y = 10\n",
        "print(x + y)\n",
        "print(x - y)\n",
        "print(x * y)\n",
        "print(x / y)\n",
        "print(x % y)\n",
        "print(x ** y)\n",
        "print(x // y)"
      ]
    },
    {
      "cell_type": "code",
      "execution_count": null,
      "metadata": {
        "colab": {
          "base_uri": "https://localhost:8080/"
        },
        "id": "Gr2mdN5suPMf",
        "outputId": "6fb21a50-bf1a-4357-ca77-64651bf829fe"
      },
      "outputs": [
        {
          "name": "stdout",
          "output_type": "stream",
          "text": [
            "False\n",
            "True\n",
            "False\n",
            "True\n",
            "False\n",
            "True\n"
          ]
        }
      ],
      "source": [
        "# Comparison Operator\n",
        "print(x > y)\n",
        "print(x < y)\n",
        "print(x >= y)\n",
        "print(x <= y)\n",
        "print(x == y)\n",
        "print(x != y)"
      ]
    },
    {
      "cell_type": "code",
      "execution_count": null,
      "metadata": {
        "id": "H8qWI4-guher"
      },
      "outputs": [],
      "source": [
        "# Logical Operator"
      ]
    },
    {
      "cell_type": "code",
      "execution_count": null,
      "metadata": {
        "colab": {
          "base_uri": "https://localhost:8080/"
        },
        "id": "3UKbEFxeumCB",
        "outputId": "50a13fbe-b0a4-45ca-e098-06280249591b"
      },
      "outputs": [
        {
          "name": "stdout",
          "output_type": "stream",
          "text": [
            "False\n",
            "True\n",
            "False\n",
            "True\n"
          ]
        }
      ],
      "source": [
        "x = True\n",
        "y = False\n",
        "print(x and y)\n",
        "print(x or y)\n",
        "print(not x)\n",
        "print(not y)"
      ]
    },
    {
      "cell_type": "code",
      "execution_count": null,
      "metadata": {
        "id": "W0HpOfdquvdY"
      },
      "outputs": [],
      "source": [
        "# Bitwise Operators"
      ]
    },
    {
      "cell_type": "code",
      "execution_count": null,
      "metadata": {
        "colab": {
          "base_uri": "https://localhost:8080/"
        },
        "id": "KciQa54yu0Qx",
        "outputId": "108e393a-d336-415f-9dc8-22aca8e8f5c4"
      },
      "outputs": [
        {
          "name": "stdout",
          "output_type": "stream",
          "text": [
            "2\n",
            "3\n",
            "1\n",
            "0\n",
            "16\n",
            "-3\n"
          ]
        }
      ],
      "source": [
        "x = 2\n",
        "y = 3\n",
        "print(x & y)\n",
        "print(x | y)\n",
        "print(2 ^ 3)\n",
        "print(x >> 2)\n",
        "print(x << 3)\n",
        "print(~ x)"
      ]
    },
    {
      "cell_type": "code",
      "execution_count": null,
      "metadata": {
        "id": "sLfNRMoMvDmY"
      },
      "outputs": [],
      "source": [
        "# Assignment Operator"
      ]
    },
    {
      "cell_type": "code",
      "execution_count": null,
      "metadata": {
        "colab": {
          "base_uri": "https://localhost:8080/"
        },
        "id": "Em_lPlv6vH_m",
        "outputId": "df42923f-cc4c-4b75-f8d6-f1f884f6181c"
      },
      "outputs": [
        {
          "name": "stdout",
          "output_type": "stream",
          "text": [
            "3\n",
            "6\n",
            "3\n",
            "9\n",
            "3.0\n"
          ]
        }
      ],
      "source": [
        "a = 3\n",
        "print(a)\n",
        "a += 3\n",
        "print(a)\n",
        "a -= 3\n",
        "print(a)\n",
        "a *= 3\n",
        "print(a)\n",
        "a /= 3\n",
        "print(a)\n",
        "a = a + 3\n",
        "a += 3"
      ]
    },
    {
      "cell_type": "code",
      "execution_count": null,
      "metadata": {
        "id": "ul4MvQYYvbq-"
      },
      "outputs": [],
      "source": [
        "# Identity Operatorys"
      ]
    },
    {
      "cell_type": "code",
      "execution_count": null,
      "metadata": {
        "colab": {
          "base_uri": "https://localhost:8080/"
        },
        "id": "SYTCUBr8vjwX",
        "outputId": "a4522c4c-d5d8-4270-b79d-455ab3acc531"
      },
      "outputs": [
        {
          "name": "stdout",
          "output_type": "stream",
          "text": [
            "True\n",
            "True\n",
            "False\n",
            "True\n"
          ]
        }
      ],
      "source": [
        "a = 3\n",
        "b = 3\n",
        "print(a is b)\n",
        "\n",
        "a  = \"Hello\"\n",
        "b = \"Hello\"\n",
        "print(a is b)\n",
        "\n",
        "a = \"Hello-World\"\n",
        "b = \"Hello-World\"\n",
        "print(a is b)\n",
        "print(a is not b)"
      ]
    },
    {
      "cell_type": "code",
      "execution_count": null,
      "metadata": {
        "id": "m1fhFu6cv3tY"
      },
      "outputs": [],
      "source": [
        "# Membership Operators"
      ]
    },
    {
      "cell_type": "code",
      "execution_count": null,
      "metadata": {
        "colab": {
          "base_uri": "https://localhost:8080/"
        },
        "id": "1BryZlUDv7C0",
        "outputId": "cbd61a8e-25cd-4379-8366-f6154685d881"
      },
      "outputs": [
        {
          "name": "stdout",
          "output_type": "stream",
          "text": [
            "True\n",
            "False\n"
          ]
        }
      ],
      "source": [
        "x = \"Delhi\"\n",
        "print(\"D\" in x)\n",
        "print(\"D\" not in x)"
      ]
    },
    {
      "cell_type": "code",
      "execution_count": null,
      "metadata": {
        "colab": {
          "base_uri": "https://localhost:8080/"
        },
        "id": "fxjXkaPwwB52",
        "outputId": "61d1ac58-cd49-4f5a-968e-b8f8650e8c0d"
      },
      "outputs": [
        {
          "name": "stdout",
          "output_type": "stream",
          "text": [
            "True\n",
            "False\n"
          ]
        }
      ],
      "source": [
        "x = [1, 2, 3]\n",
        "print(1 in x)\n",
        "print(5 in x)"
      ]
    },
    {
      "cell_type": "code",
      "execution_count": null,
      "metadata": {
        "colab": {
          "base_uri": "https://localhost:8080/"
        },
        "id": "TfRSXSgfwIbp",
        "outputId": "9d710d49-58bf-471b-8b89-491d15f947cf"
      },
      "outputs": [
        {
          "name": "stdout",
          "output_type": "stream",
          "text": [
            "True\n",
            "False\n"
          ]
        }
      ],
      "source": [
        "x = (1, 2, 3)\n",
        "print(1 in x)\n",
        "print(5 in x)"
      ]
    },
    {
      "cell_type": "code",
      "execution_count": null,
      "metadata": {
        "colab": {
          "base_uri": "https://localhost:8080/"
        },
        "id": "jgVFypTDwNuQ",
        "outputId": "a6bed121-26f8-4787-8c27-968c34fe83ca"
      },
      "outputs": [
        {
          "name": "stdout",
          "output_type": "stream",
          "text": [
            "Enter three digits:10\n",
            "1\n"
          ]
        }
      ],
      "source": [
        "# Sum of digits of a 3-digit number\n",
        "number = int(input(\"Enter three digits:\"))\n",
        "\n",
        "# Unit Digit\n",
        "a = number % 10\n",
        "number //= 10\n",
        "\n",
        "# Tens Digit\n",
        "b = number % 10\n",
        "number //= 10\n",
        "\n",
        "# Hundreds Digit\n",
        "c = number % 10\n",
        "\n",
        "print(a + b + c)"
      ]
    },
    {
      "cell_type": "code",
      "execution_count": null,
      "metadata": {
        "id": "QTq1cjeGw5hZ"
      },
      "outputs": [],
      "source": [
        "# If-Else"
      ]
    },
    {
      "cell_type": "code",
      "execution_count": null,
      "metadata": {
        "colab": {
          "base_uri": "https://localhost:8080/"
        },
        "id": "NgGYhG-Jxmun",
        "outputId": "163cc2ac-9ee8-4fc3-8eec-9a4dc25374ce"
      },
      "outputs": [
        {
          "name": "stdout",
          "output_type": "stream",
          "text": [
            "Enter your email:ali@gmail.com\n",
            "Enter the Password:12\n",
            "Password Ghalat ha fir sa dalo:\n",
            "Enter the password:12\n",
            "Still Incorrect\n"
          ]
        }
      ],
      "source": [
        "# Correct Email: ali@gmail.com\n",
        "# Correct Password: 12345\n",
        "\n",
        "email = input(\"Enter your email:\")\n",
        "if \"@\" in email:\n",
        "  password = int(input(\"Enter the Password:\"))\n",
        "\n",
        "  if email == \"ali@gmail.com\" and password == 123:\n",
        "    print(\"Welcom\")\n",
        "  elif email == \"ali@gmail.com\" and password != 123:\n",
        "        print(\"Password Ghalat ha fir sa dalo:\")\n",
        "        password = int(input(\"Enter the password:\"))\n",
        "        if password == 123:\n",
        "          print(\"Welcom\")\n",
        "        else:\n",
        "          print(\"Still Incorrect\")\n",
        "\n",
        "\n",
        "  else:\n",
        "    print(\"Credentials are Wrong! Try again\")\n",
        "else:\n",
        "    print(\"Wrong Email!\")"
      ]
    },
    {
      "cell_type": "code",
      "execution_count": null,
      "metadata": {
        "id": "H8OxlD8ZyIo1"
      },
      "outputs": [],
      "source": [
        "# Menue Driven Program\n"
      ]
    },
    {
      "cell_type": "code",
      "execution_count": null,
      "metadata": {
        "colab": {
          "base_uri": "https://localhost:8080/"
        },
        "id": "bnvgxgeL09LM",
        "outputId": "19bb7f03-5a33-44cf-d990-787197140ea7"
      },
      "outputs": [
        {
          "name": "stdout",
          "output_type": "stream",
          "text": [
            "Enter Your First Number:10\n",
            "Enter Your Second Number:5\n",
            "Enter Your Third Number:2\n",
            "The Smallest Number is: 2\n"
          ]
        }
      ],
      "source": [
        "a = int(input(\"Enter Your First Number:\"))\n",
        "b = int(input(\"Enter Your Second Number:\"))\n",
        "c = int(input(\"Enter Your Third Number:\"))\n",
        "\n",
        "if a < b and a < c:\n",
        "  print(\"The Smallest Number is:\", a)\n",
        "elif b < a and b < c:\n",
        "  print(\"The Smallest Number is:\", b)\n",
        "else:\n",
        "  print(\"The Smallest Number is:\", c)"
      ]
    },
    {
      "cell_type": "code",
      "execution_count": null,
      "metadata": {
        "colab": {
          "base_uri": "https://localhost:8080/"
        },
        "id": "rAllyPud1c28",
        "outputId": "7bc2e102-7e82-47c5-964b-25ee6e6cacc4"
      },
      "outputs": [
        {
          "name": "stdout",
          "output_type": "stream",
          "text": [
            "\n",
            "Hi! how can I help you.\n",
            "1. Enter 1 for pin change\n",
            "2. Enter 2 for balance check\n",
            "3. Enter 3 for withdrawl\n",
            "4. Enter 4 for exit\n",
            "1\n",
            "pin change\n"
          ]
        }
      ],
      "source": [
        "# 2. Menu-Driven Calculator\n",
        "menu = input(\"\"\"\n",
        "Hi! how can I help you.\n",
        "1. Enter 1 for pin change\n",
        "2. Enter 2 for balance check\n",
        "3. Enter 3 for withdrawl\n",
        "4. Enter 4 for exit\n",
        "\"\"\")\n",
        "\n",
        "if menu == '1':\n",
        "  print('pin change')\n",
        "elif menu == '2':\n",
        "  print('balance')\n",
        "else:\n",
        "  print('exit')"
      ]
    },
    {
      "cell_type": "code",
      "execution_count": null,
      "metadata": {
        "colab": {
          "base_uri": "https://localhost:8080/"
        },
        "id": "aulOXkWn1riv",
        "outputId": "191554d6-cd56-4b46-941b-d4538d88ca38"
      },
      "outputs": [
        {
          "name": "stdout",
          "output_type": "stream",
          "text": [
            "Enter the first number:5\n",
            "Enter the second number:10\n",
            "The Value of x: 5\n",
            "The Value of y: 10\n",
            "The Value of x: 10\n",
            "The Value of y: 5\n"
          ]
        }
      ],
      "source": [
        "# Swapping Nunbers\n",
        "\n",
        "x = int(input(\"Enter the first number:\"))\n",
        "y = int(input(\"Enter the second number:\"))\n",
        "\n",
        "# Before Swapping the Numbers:\n",
        "print(\"The Value of x:\", x)\n",
        "print(\"The Value of y:\", y)\n",
        "\n",
        "\n",
        "z = y\n",
        "y = x\n",
        "x = z\n",
        "# After Swapping the Numbers:\n",
        "\n",
        "print(\"The Value of x:\", x)\n",
        "print(\"The Value of y:\", y)\n"
      ]
    },
    {
      "cell_type": "code",
      "execution_count": null,
      "metadata": {
        "colab": {
          "base_uri": "https://localhost:8080/"
        },
        "id": "_SCHjsB532Kp",
        "outputId": "7f92cb3c-9467-4cc3-c99c-90c01b36a138"
      },
      "outputs": [
        {
          "name": "stdout",
          "output_type": "stream",
          "text": [
            "Enter the first digit:10\n",
            "Enter the second digit:20\n",
            "Enter the third digit:30\n",
            "The Sum of three digits are: 60\n"
          ]
        }
      ],
      "source": [
        "x = int(input(\"Enter the first digit:\"))\n",
        "y = int(input(\"Enter the second digit:\"))\n",
        "z = int(input(\"Enter the third digit:\"))\n",
        "\n",
        "sum = x + y + z\n",
        "print(\"The Sum of three digits are:\", sum)"
      ]
    },
    {
      "cell_type": "code",
      "execution_count": null,
      "metadata": {
        "colab": {
          "base_uri": "https://localhost:8080/"
        },
        "id": "iT9sq8qL6ehz",
        "outputId": "413df035-ec7b-4e31-c208-b45cfba4a889"
      },
      "outputs": [
        {
          "name": "stdout",
          "output_type": "stream",
          "text": [
            "Enter the three digits:123\n",
            "6\n"
          ]
        }
      ],
      "source": [
        "num = int(input(\"Enter the three digits:\"))\n",
        "a = num % 10\n",
        "num = num// 10\n",
        "b = num % 10\n",
        "c = num // 10\n",
        "print(a + b + c)\n"
      ]
    },
    {
      "cell_type": "code",
      "execution_count": null,
      "metadata": {
        "id": "iy0L69Fc7ZHK"
      },
      "outputs": [],
      "source": [
        "# Indentation in python\n"
      ]
    },
    {
      "cell_type": "code",
      "execution_count": null,
      "metadata": {
        "colab": {
          "base_uri": "https://localhost:8080/"
        },
        "id": "68NFH11MxtL5",
        "outputId": "44e9cbe9-4577-4e98-ad70-43988af0d8d8"
      },
      "outputs": [
        {
          "name": "stdout",
          "output_type": "stream",
          "text": [
            "Line 1\n",
            "Line 2\n"
          ]
        }
      ],
      "source": [
        "name = \"xyz\"\n",
        "if name == \"xyz\":\n",
        "  print(\"Line 1\")\n",
        "  print(\"Line 2\")\n",
        "else:\n",
        "  print(\"Line 3\")"
      ]
    },
    {
      "cell_type": "code",
      "execution_count": null,
      "metadata": {
        "id": "nfO0-RAmx62U"
      },
      "outputs": [],
      "source": [
        "# While Loop"
      ]
    },
    {
      "cell_type": "code",
      "execution_count": null,
      "metadata": {
        "id": "Cb-1ToB0zNU1"
      },
      "outputs": [],
      "source": [
        "# Repeat Code Block\n",
        "# Iteration: Execute Same Code Repeatedly\n",
        "# Executes while condition true\n",
        "#"
      ]
    },
    {
      "cell_type": "code",
      "execution_count": null,
      "metadata": {
        "colab": {
          "base_uri": "https://localhost:8080/"
        },
        "id": "L4H_wIEGzwIs",
        "outputId": "4ecdde75-321c-40a6-bf66-ff3741e4354e"
      },
      "outputs": [
        {
          "name": "stdout",
          "output_type": "stream",
          "text": [
            "Enter the table number:10\n",
            "10 * 1 = 10\n",
            "10 * 2 = 20\n",
            "10 * 3 = 30\n",
            "10 * 4 = 40\n",
            "10 * 5 = 50\n",
            "10 * 6 = 60\n",
            "10 * 7 = 70\n",
            "10 * 8 = 80\n",
            "10 * 9 = 90\n",
            "10 * 10 = 100\n"
          ]
        }
      ],
      "source": [
        "# Print Multiplication Table\n",
        "number = int(input(\"Enter the table number:\"))\n",
        "\n",
        "i = 1\n",
        "while i <= 10:\n",
        "  print(number, \"*\", i, \"=\", number * i )\n",
        "  i += 1\n"
      ]
    },
    {
      "cell_type": "code",
      "execution_count": null,
      "metadata": {
        "colab": {
          "base_uri": "https://localhost:8080/"
        },
        "id": "cYRVzVQj0yD_",
        "outputId": "bc1c1829-9114-4aa6-ac10-bdf30208a5e5"
      },
      "outputs": [
        {
          "name": "stdout",
          "output_type": "stream",
          "text": [
            "1\n",
            "2\n",
            "Limit Exceed\n"
          ]
        }
      ],
      "source": [
        "# While Loop With Else\n",
        "x = 1\n",
        "while x < 3:\n",
        "  print(x)\n",
        "  x += 1\n",
        "print(\"Limit Exceed\")"
      ]
    },
    {
      "cell_type": "code",
      "execution_count": null,
      "metadata": {
        "colab": {
          "base_uri": "https://localhost:8080/"
        },
        "id": "1Yj6rxSY1ZW1",
        "outputId": "82611a06-dbbc-40d9-a609-3ea94004697b"
      },
      "outputs": [
        {
          "name": "stdout",
          "output_type": "stream",
          "text": [
            "Enter the number:32\n",
            "Sum of digits:5\n"
          ]
        }
      ],
      "source": [
        "# 2. Sum of Digits\n",
        "number = int(input(\"Enter the number:\"))\n",
        "sum_digits = 0\n",
        "while number > 0:\n",
        "  digit = number % 10\n",
        "  sum_digits += digit\n",
        "  number //= 10\n",
        "print(f\"Sum of digits:{sum_digits}\")"
      ]
    },
    {
      "cell_type": "code",
      "execution_count": null,
      "metadata": {
        "colab": {
          "base_uri": "https://localhost:8080/"
        },
        "id": "U2f9Y8-z2U4t",
        "outputId": "be79ed72-9354-472c-a528-7395f12d688e"
      },
      "outputs": [
        {
          "name": "stdout",
          "output_type": "stream",
          "text": [
            "Enter a number (0 to stop):10\n",
            "Enter a number (0 to stop):5\n",
            "Enter a number (0 to stop):6\n",
            "Enter a number (0 to stop):7\n",
            "Enter a number (0 to stop):9\n",
            "Enter a number (0 to stop):0\n",
            "Average of entered numbers:7.4\n"
          ]
        }
      ],
      "source": [
        "# 3. Average of Numbers Until 0\n",
        "count = 0\n",
        "total = 0\n",
        "while True:\n",
        "  number = int(input(\"Enter a number (0 to stop):\"))\n",
        "  if number == 0:\n",
        "    break\n",
        "  total += number\n",
        "  count += 1\n",
        "if count > 0:\n",
        "  average = total / count\n",
        "  print(f\"Average of entered numbers:{average}\")\n",
        "else:\n",
        "  print(\"No numbers entered.\")"
      ]
    },
    {
      "cell_type": "code",
      "execution_count": null,
      "metadata": {
        "id": "xoKnL1Vu3LQQ"
      },
      "outputs": [],
      "source": [
        "# Guessin Games"
      ]
    },
    {
      "cell_type": "code",
      "execution_count": null,
      "metadata": {
        "id": "dkRTZiof4F-n"
      },
      "outputs": [],
      "source": [
        "import random"
      ]
    },
    {
      "cell_type": "code",
      "execution_count": null,
      "metadata": {
        "colab": {
          "base_uri": "https://localhost:8080/"
        },
        "id": "AmDcaWS34SN2",
        "outputId": "93f8e1d1-fdf3-4335-9ba4-d754ce3882d9"
      },
      "outputs": [
        {
          "data": {
            "text/plain": [
              "74"
            ]
          },
          "execution_count": 17,
          "metadata": {},
          "output_type": "execute_result"
        }
      ],
      "source": [
        "random.randint(1, 100)"
      ]
    },
    {
      "cell_type": "code",
      "execution_count": null,
      "metadata": {
        "colab": {
          "base_uri": "https://localhost:8080/"
        },
        "id": "fJyTIcAn4Wf_",
        "outputId": "540a3150-7910-457f-d3d2-bc66144093af"
      },
      "outputs": [
        {
          "name": "stdout",
          "output_type": "stream",
          "text": [
            "Enter the guess number:10\n",
            "Guess Higher\n",
            "Enter the guess number:50\n",
            "Guess Higher\n",
            "Enter the guess number:60\n",
            "Guess Higher\n",
            "Enter the guess number:70\n",
            "Guess Higher\n",
            "Enter the guess number:80\n",
            "Guess Lower\n",
            "Enter the guess number:75\n",
            "Sahii Jawab\n",
            "You took  6 attempts\n"
          ]
        }
      ],
      "source": [
        "jackpot = random.randint(1, 100)\n",
        "guess = int(input(\"Enter the guess number:\"))\n",
        "counter = 1\n",
        "while guess != jackpot:\n",
        "  if guess < jackpot:\n",
        "    print(\"Guess Higher\")\n",
        "  else:\n",
        "    print(\"Guess Lower\")\n",
        "  guess = int(input(\"Enter the guess number:\"))\n",
        "  counter += 1\n",
        "print(\"Sahii Jawab\")\n",
        "print(\"You took \", counter, \"attempts\")"
      ]
    },
    {
      "cell_type": "code",
      "execution_count": null,
      "metadata": {
        "id": "LZ_kxQ705N9H"
      },
      "outputs": [],
      "source": [
        "# For Loop"
      ]
    },
    {
      "cell_type": "code",
      "execution_count": null,
      "metadata": {
        "colab": {
          "base_uri": "https://localhost:8080/"
        },
        "id": "WUiGmQtg5r9R",
        "outputId": "f896b0d3-57ee-4704-8de3-c0b66cf53e58"
      },
      "outputs": [
        {
          "data": {
            "text/plain": [
              "range(1, 11)"
            ]
          },
          "execution_count": 22,
          "metadata": {},
          "output_type": "execute_result"
        }
      ],
      "source": [
        "# Range Function\n",
        "range(1, 11)"
      ]
    },
    {
      "cell_type": "code",
      "execution_count": null,
      "metadata": {
        "colab": {
          "base_uri": "https://localhost:8080/"
        },
        "id": "Y3wlvoSP5xzA",
        "outputId": "3800a327-5005-453a-f58d-568d2d89a61f"
      },
      "outputs": [
        {
          "data": {
            "text/plain": [
              "[1, 2, 3, 4, 5, 6, 7, 8, 9, 10]"
            ]
          },
          "execution_count": 23,
          "metadata": {},
          "output_type": "execute_result"
        }
      ],
      "source": [
        "list(range(1, 11))"
      ]
    },
    {
      "cell_type": "code",
      "execution_count": null,
      "metadata": {
        "colab": {
          "base_uri": "https://localhost:8080/"
        },
        "id": "l_sou2Ge51Wk",
        "outputId": "57ab01c6-c6d8-4863-a6b5-3daddfc4daaf"
      },
      "outputs": [
        {
          "data": {
            "text/plain": [
              "[0, 1, 2, 3, 4]"
            ]
          },
          "execution_count": 24,
          "metadata": {},
          "output_type": "execute_result"
        }
      ],
      "source": [
        "list(range(5))"
      ]
    },
    {
      "cell_type": "code",
      "execution_count": null,
      "metadata": {
        "colab": {
          "base_uri": "https://localhost:8080/"
        },
        "id": "j94w2nBZ59bf",
        "outputId": "4f865c54-4530-4c96-f818-dc2efa89b423"
      },
      "outputs": [
        {
          "data": {
            "text/plain": [
              "[0, 1, 2, 3, 4, 5, 6, 7, 8, 9, 10, 11, 12, 13, 14]"
            ]
          },
          "execution_count": 25,
          "metadata": {},
          "output_type": "execute_result"
        }
      ],
      "source": [
        "list(range(15))"
      ]
    },
    {
      "cell_type": "code",
      "execution_count": null,
      "metadata": {
        "colab": {
          "base_uri": "https://localhost:8080/"
        },
        "id": "ITaRBsVt6AZO",
        "outputId": "a06e24b4-04cd-4c7e-b98e-75acc210e8ab"
      },
      "outputs": [
        {
          "data": {
            "text/plain": [
              "[1, 3, 5, 7, 9]"
            ]
          },
          "execution_count": 26,
          "metadata": {},
          "output_type": "execute_result"
        }
      ],
      "source": [
        "list(range(1, 11, 2))"
      ]
    },
    {
      "cell_type": "code",
      "execution_count": null,
      "metadata": {
        "colab": {
          "base_uri": "https://localhost:8080/"
        },
        "id": "IgPkS1FL6Ept",
        "outputId": "54e3b4e4-cdc1-4b9b-c9bc-36cfdd4dbef0"
      },
      "outputs": [
        {
          "data": {
            "text/plain": [
              "[1, 4, 7, 10]"
            ]
          },
          "execution_count": 27,
          "metadata": {},
          "output_type": "execute_result"
        }
      ],
      "source": [
        "list(range(1, 11, 3))"
      ]
    },
    {
      "cell_type": "code",
      "execution_count": null,
      "metadata": {
        "colab": {
          "base_uri": "https://localhost:8080/"
        },
        "id": "VZMHMvMf6Hk4",
        "outputId": "0781f19c-60d2-4610-8f57-5741294a8c62"
      },
      "outputs": [
        {
          "data": {
            "text/plain": [
              "[10, 9, 8, 7, 6, 5, 4, 3, 2, 1]"
            ]
          },
          "execution_count": 28,
          "metadata": {},
          "output_type": "execute_result"
        }
      ],
      "source": [
        "list(range(10, 0, -1))"
      ]
    },
    {
      "cell_type": "code",
      "execution_count": null,
      "metadata": {
        "colab": {
          "base_uri": "https://localhost:8080/"
        },
        "id": "u9BWu-oZ6Mit",
        "outputId": "c84d164b-68ce-40fe-9d69-455944b96fc3"
      },
      "outputs": [
        {
          "data": {
            "text/plain": [
              "['Lahore', 'Karachi', 'Ali']"
            ]
          },
          "execution_count": 29,
          "metadata": {},
          "output_type": "execute_result"
        }
      ],
      "source": [
        "[\"Lahore\", \"Karachi\", \"Ali\"]"
      ]
    },
    {
      "cell_type": "code",
      "execution_count": null,
      "metadata": {
        "colab": {
          "base_uri": "https://localhost:8080/"
        },
        "id": "DW3w7grL6a4U",
        "outputId": "788066fe-823f-41b3-f1a2-dba4ee4325d5"
      },
      "outputs": [
        {
          "data": {
            "text/plain": [
              "('Lahore', 'Karachi', 'ali')"
            ]
          },
          "execution_count": 30,
          "metadata": {},
          "output_type": "execute_result"
        }
      ],
      "source": [
        "(\"Lahore\", \"Karachi\", \"ali\")"
      ]
    },
    {
      "cell_type": "code",
      "execution_count": null,
      "metadata": {
        "colab": {
          "base_uri": "https://localhost:8080/"
        },
        "id": "381u12E76fi_",
        "outputId": "41a87cc2-4aa3-453f-9eb8-1f4df2f58a89"
      },
      "outputs": [
        {
          "data": {
            "text/plain": [
              "{'Ali', 'Karachi', 'Lahore'}"
            ]
          },
          "execution_count": 31,
          "metadata": {},
          "output_type": "execute_result"
        }
      ],
      "source": [
        "{\"Lahore\", \"Karachi\", \"Ali\"}"
      ]
    },
    {
      "cell_type": "code",
      "execution_count": null,
      "metadata": {
        "colab": {
          "base_uri": "https://localhost:8080/"
        },
        "id": "9d4_h2T86ns8",
        "outputId": "34bf15b5-cef6-42d1-e14d-a5b06ace54ce"
      },
      "outputs": [
        {
          "name": "stdout",
          "output_type": "stream",
          "text": [
            "1\n",
            "2\n",
            "3\n",
            "4\n",
            "5\n",
            "6\n",
            "7\n",
            "8\n",
            "9\n",
            "10\n"
          ]
        }
      ],
      "source": [
        "for i in range(1, 11):\n",
        "  print(i)"
      ]
    },
    {
      "cell_type": "code",
      "execution_count": null,
      "metadata": {
        "colab": {
          "base_uri": "https://localhost:8080/"
        },
        "id": "hajlCKQi6yYM",
        "outputId": "15e8e911-2357-483f-be65-52b0183863b1"
      },
      "outputs": [
        {
          "name": "stdout",
          "output_type": "stream",
          "text": [
            "1\n",
            "3\n",
            "5\n",
            "7\n",
            "9\n"
          ]
        }
      ],
      "source": [
        "for i in range(1, 11, 2):\n",
        "  print(i)"
      ]
    },
    {
      "cell_type": "code",
      "execution_count": null,
      "metadata": {
        "colab": {
          "base_uri": "https://localhost:8080/"
        },
        "id": "88j9Ss0g67gr",
        "outputId": "8ae70f1e-b26d-4aa0-8d7a-873e0b5b1399"
      },
      "outputs": [
        {
          "name": "stdout",
          "output_type": "stream",
          "text": [
            "10\n",
            "9\n",
            "8\n",
            "7\n",
            "6\n",
            "5\n",
            "4\n",
            "3\n",
            "2\n",
            "1\n"
          ]
        }
      ],
      "source": [
        "for i in range(10, 0, -1):\n",
        "  print(i)"
      ]
    },
    {
      "cell_type": "code",
      "execution_count": null,
      "metadata": {
        "colab": {
          "base_uri": "https://localhost:8080/"
        },
        "id": "ig474sS57HFC",
        "outputId": "b3c27b8e-1d56-4a63-bbb6-0b30823efbf1"
      },
      "outputs": [
        {
          "name": "stdout",
          "output_type": "stream",
          "text": [
            "L\n",
            "a\n",
            "h\n",
            "o\n",
            "r\n",
            "e\n"
          ]
        }
      ],
      "source": [
        "for i in \"Lahore\":\n",
        "  print(i)"
      ]
    },
    {
      "cell_type": "code",
      "execution_count": null,
      "metadata": {
        "colab": {
          "base_uri": "https://localhost:8080/"
        },
        "id": "0in517Br7NhS",
        "outputId": "e5b9f0cd-b07b-4417-c19b-994c6ba1abac"
      },
      "outputs": [
        {
          "name": "stdout",
          "output_type": "stream",
          "text": [
            "1\n",
            "2\n",
            "3\n",
            "4\n",
            "5\n"
          ]
        }
      ],
      "source": [
        "for i in(1, 2, 3, 4,5):\n",
        "  print(i)"
      ]
    },
    {
      "cell_type": "code",
      "execution_count": null,
      "metadata": {
        "colab": {
          "base_uri": "https://localhost:8080/"
        },
        "id": "53y8Nc227UCK",
        "outputId": "3adf8512-00d7-4f9b-a606-9082d921c6f6"
      },
      "outputs": [
        {
          "name": "stdout",
          "output_type": "stream",
          "text": [
            "1\n",
            "2\n",
            "3\n",
            "4\n",
            "5\n"
          ]
        }
      ],
      "source": [
        "for i in {1, 2, 3, 4, 5}:\n",
        "  print(i)"
      ]
    },
    {
      "cell_type": "code",
      "execution_count": null,
      "metadata": {
        "colab": {
          "base_uri": "https://localhost:8080/"
        },
        "id": "P1SAeYjK7bDn",
        "outputId": "206e6a88-bb76-4cd6-a5a1-9638c7b33b05"
      },
      "outputs": [
        {
          "name": "stdout",
          "output_type": "stream",
          "text": [
            "10 10000\n",
            "9 9090.90909090909\n",
            "8 8264.462809917353\n",
            "7 7513.148009015775\n",
            "6 6830.134553650703\n",
            "5 6209.213230591548\n",
            "4 5644.739300537771\n",
            "3 5131.5811823070635\n",
            "2 4665.07380209733\n",
            "1 4240.976183724845\n"
          ]
        }
      ],
      "source": [
        "# 1. Population Growth Calculation\n",
        "\n",
        "# Initial Population: 10000\n",
        "# Growth Rate: 10 % annually\n",
        "# Duration: 10 years\n",
        "\n",
        "curr_pop = 10000\n",
        "for i in range(10, 0,  -1):\n",
        "  print(i, curr_pop)\n",
        "  curr_pop = curr_pop / 1.1"
      ]
    },
    {
      "cell_type": "code",
      "execution_count": null,
      "metadata": {
        "id": "spBYhgWv8Icu"
      },
      "outputs": [],
      "source": [
        "# Nested Loops"
      ]
    },
    {
      "cell_type": "code",
      "execution_count": null,
      "metadata": {
        "colab": {
          "base_uri": "https://localhost:8080/"
        },
        "id": "NNKPJd2QMvVi",
        "outputId": "5fde849b-a5b1-4fa7-cbc4-3fee2debb342"
      },
      "outputs": [
        {
          "name": "stdout",
          "output_type": "stream",
          "text": [
            "1 1\n",
            "1 2\n",
            "1 3\n",
            "1 4\n",
            "2 1\n",
            "2 2\n",
            "2 3\n",
            "2 4\n",
            "3 1\n",
            "3 2\n",
            "3 3\n",
            "3 4\n",
            "4 1\n",
            "4 2\n",
            "4 3\n",
            "4 4\n"
          ]
        }
      ],
      "source": [
        "for i in range(1, 5):\n",
        "  for j in range(1, 5):\n",
        "    print(i, j)"
      ]
    },
    {
      "cell_type": "code",
      "execution_count": null,
      "metadata": {
        "colab": {
          "base_uri": "https://localhost:8080/"
        },
        "id": "J7z5IS9TM7II",
        "outputId": "204a8202-6658-4e88-fb1a-c199719809ea"
      },
      "outputs": [
        {
          "name": "stdout",
          "output_type": "stream",
          "text": [
            "Enter rows:5\n",
            "* \n",
            "* * \n",
            "* * * \n",
            "* * * * \n",
            "* * * * * \n"
          ]
        }
      ],
      "source": [
        "rows = int(input(\"Enter rows:\"))\n",
        "for i in range(1, rows + 1):\n",
        "  for j in range(0, i):\n",
        "    print(\"*\", end=\" \")\n",
        "  print(\"\")"
      ]
    },
    {
      "cell_type": "code",
      "execution_count": null,
      "metadata": {
        "colab": {
          "base_uri": "https://localhost:8080/"
        },
        "id": "teDAq83kN3kG",
        "outputId": "a47efb86-f185-424f-ee05-d878c081c0a0"
      },
      "outputs": [
        {
          "name": "stdout",
          "output_type": "stream",
          "text": [
            "Enter rows:5\n",
            "1\n",
            "121\n",
            "12321\n",
            "1234321\n",
            "123454321\n"
          ]
        }
      ],
      "source": [
        "rows = int(input(\"Enter rows:\"))\n",
        "for i in range(1, rows  + 1):\n",
        "  for j in range(1, i + 1):\n",
        "    print(j, end=\"\")\n",
        "  for k in range(i-1, 0, -1):\n",
        "    print(k, end=\"\")\n",
        "  print()"
      ]
    },
    {
      "cell_type": "code",
      "execution_count": null,
      "metadata": {
        "id": "yhEFH9bAOoCy"
      },
      "outputs": [],
      "source": [
        "# Loop Control Statement\n",
        "# Break: Ends Loop immediately\n",
        "# Continue: Skips to next iteration\n",
        "# Pass: Placeholder; does nothing."
      ]
    },
    {
      "cell_type": "code",
      "execution_count": null,
      "metadata": {
        "colab": {
          "base_uri": "https://localhost:8080/"
        },
        "id": "OTFItVvxPUYW",
        "outputId": "e9d72d31-2384-4f65-d4bd-0e7fe9f75c22"
      },
      "outputs": [
        {
          "name": "stdout",
          "output_type": "stream",
          "text": [
            "1\n",
            "2\n",
            "3\n",
            "4\n"
          ]
        }
      ],
      "source": [
        "for i in range(1, 11):\n",
        "  if i == 5:\n",
        "    break\n",
        "  print(i)"
      ]
    },
    {
      "cell_type": "code",
      "execution_count": null,
      "metadata": {
        "colab": {
          "base_uri": "https://localhost:8080/"
        },
        "id": "bx0I64B9Pmyc",
        "outputId": "9baa3639-45f7-4092-a355-26e9cf8745f3"
      },
      "outputs": [
        {
          "name": "stdout",
          "output_type": "stream",
          "text": [
            "Lower:10\n",
            "Upper:100\n",
            "11\n",
            "13\n",
            "17\n",
            "19\n",
            "23\n",
            "29\n",
            "31\n",
            "37\n",
            "41\n",
            "43\n",
            "47\n",
            "53\n",
            "59\n",
            "61\n",
            "67\n",
            "71\n",
            "73\n",
            "79\n",
            "83\n",
            "89\n",
            "97\n"
          ]
        }
      ],
      "source": [
        "lower = 10\n",
        "upper = 20\n",
        "for i in range(lower, upper + 1):\n",
        "  for j in range(2, i):\n",
        "    if i % j == 0:\n",
        "      break\n",
        "  else:\n",
        "    print(i)"
      ]
    },
    {
      "cell_type": "code",
      "execution_count": null,
      "metadata": {
        "colab": {
          "base_uri": "https://localhost:8080/"
        },
        "id": "OVOo0FJCQ5M4",
        "outputId": "458b46da-145c-46f2-84b0-248d4266020e"
      },
      "outputs": [
        {
          "name": "stdout",
          "output_type": "stream",
          "text": [
            "1\n",
            "2\n",
            "3\n",
            "4\n",
            "6\n",
            "7\n",
            "8\n",
            "9\n",
            "10\n"
          ]
        }
      ],
      "source": [
        "for i in range(1, 11):\n",
        "  if i == 5:\n",
        "    continue\n",
        "  print(i)"
      ]
    },
    {
      "cell_type": "code",
      "execution_count": null,
      "metadata": {
        "colab": {
          "base_uri": "https://localhost:8080/"
        },
        "id": "tJ8qEtYSSmOI",
        "outputId": "cb0127ec-b3e3-4a23-d62f-d138e5d2419e"
      },
      "outputs": [
        {
          "name": "stdout",
          "output_type": "stream",
          "text": [
            "1\n",
            "Hello\n",
            "2\n",
            "Hello\n",
            "3\n",
            "Hello\n",
            "4\n",
            "Hello\n",
            "6\n",
            "Hello\n",
            "7\n",
            "Hello\n",
            "8\n",
            "Hello\n",
            "9\n",
            "Hello\n",
            "10\n",
            "Hello\n"
          ]
        }
      ],
      "source": [
        "for i in range(1, 11):\n",
        "  if i == 5:\n",
        "    continue\n",
        "  print(i)\n",
        "  print(\"Hello\")"
      ]
    },
    {
      "cell_type": "code",
      "execution_count": null,
      "metadata": {
        "id": "m0N88VyfS17u"
      },
      "outputs": [],
      "source": [
        "for i in range(1, 11):\n",
        "  pass"
      ]
    },
    {
      "cell_type": "code",
      "execution_count": null,
      "metadata": {
        "id": "yNwCbQW5S6qr"
      },
      "outputs": [],
      "source": [
        "# Built in Functions in Python\n"
      ]
    },
    {
      "cell_type": "code",
      "execution_count": null,
      "metadata": {
        "colab": {
          "base_uri": "https://localhost:8080/"
        },
        "id": "o864gn7STBGX",
        "outputId": "6a6adc9e-91c1-4ef0-cc29-e9724f8690e7"
      },
      "outputs": [
        {
          "name": "stdout",
          "output_type": "stream",
          "text": [
            "Hello World\n"
          ]
        }
      ],
      "source": [
        "# 1. Print\n",
        "print(\"Hello World\")"
      ]
    },
    {
      "cell_type": "code",
      "execution_count": null,
      "metadata": {
        "colab": {
          "base_uri": "https://localhost:8080/",
          "height": 55
        },
        "id": "cnkPJY3xTD7y",
        "outputId": "40322dcc-ce45-40db-9d33-d0b621ce46ef"
      },
      "outputs": [
        {
          "name": "stdout",
          "output_type": "stream",
          "text": [
            "Enter your Name:ali\n"
          ]
        },
        {
          "data": {
            "application/vnd.google.colaboratory.intrinsic+json": {
              "type": "string"
            },
            "text/plain": [
              "'ali'"
            ]
          },
          "execution_count": 14,
          "metadata": {},
          "output_type": "execute_result"
        }
      ],
      "source": [
        "# 2. Input\n",
        "input(\"Enter your Name:\")"
      ]
    },
    {
      "cell_type": "code",
      "execution_count": null,
      "metadata": {
        "colab": {
          "base_uri": "https://localhost:8080/"
        },
        "id": "TsS0Haj5TNrQ",
        "outputId": "b861845e-4b5f-46a7-bdea-4e1b02f5b63f"
      },
      "outputs": [
        {
          "data": {
            "text/plain": [
              "int"
            ]
          },
          "execution_count": 15,
          "metadata": {},
          "output_type": "execute_result"
        }
      ],
      "source": [
        "# 3. type\n",
        "a = 3\n",
        "type(a)"
      ]
    },
    {
      "cell_type": "code",
      "execution_count": null,
      "metadata": {
        "colab": {
          "base_uri": "https://localhost:8080/"
        },
        "id": "UbZ4qT3jTTrT",
        "outputId": "f34dd36b-2e3c-4323-84a4-b3bf38dc75a7"
      },
      "outputs": [
        {
          "data": {
            "text/plain": [
              "float"
            ]
          },
          "execution_count": 16,
          "metadata": {},
          "output_type": "execute_result"
        }
      ],
      "source": [
        "a = 3.5\n",
        "type(a)"
      ]
    },
    {
      "cell_type": "code",
      "execution_count": null,
      "metadata": {
        "colab": {
          "base_uri": "https://localhost:8080/"
        },
        "id": "pbUnoAS8TXjO",
        "outputId": "1792bef0-d53b-4e4c-d5c2-e1a14f7fba65"
      },
      "outputs": [
        {
          "data": {
            "text/plain": [
              "bool"
            ]
          },
          "execution_count": 17,
          "metadata": {},
          "output_type": "execute_result"
        }
      ],
      "source": [
        "a = True\n",
        "type(a)"
      ]
    },
    {
      "cell_type": "code",
      "execution_count": null,
      "metadata": {
        "colab": {
          "base_uri": "https://localhost:8080/"
        },
        "id": "yayoJ29OTZ2x",
        "outputId": "e88597cb-6f85-4cf6-8a61-619e97c837e0"
      },
      "outputs": [
        {
          "data": {
            "text/plain": [
              "5"
            ]
          },
          "execution_count": 18,
          "metadata": {},
          "output_type": "execute_result"
        }
      ],
      "source": [
        "# 4. int\n",
        "int('5')\n",
        "# Float\n",
        "# str\n",
        "# list\n",
        "# tuple"
      ]
    },
    {
      "cell_type": "code",
      "execution_count": null,
      "metadata": {
        "colab": {
          "base_uri": "https://localhost:8080/"
        },
        "id": "qQtVI7arTi2d",
        "outputId": "887e9de0-13be-41c3-a683-4ed3f9d3814d"
      },
      "outputs": [
        {
          "data": {
            "text/plain": [
              "4"
            ]
          },
          "execution_count": 20,
          "metadata": {},
          "output_type": "execute_result"
        }
      ],
      "source": [
        "# 5. abs\n",
        "abs(4)\n"
      ]
    },
    {
      "cell_type": "code",
      "execution_count": null,
      "metadata": {
        "colab": {
          "base_uri": "https://localhost:8080/"
        },
        "id": "twNbCqRMTmkh",
        "outputId": "2988348d-8fde-4c97-8b2b-937323f9e55e"
      },
      "outputs": [
        {
          "data": {
            "text/plain": [
              "4"
            ]
          },
          "execution_count": 21,
          "metadata": {},
          "output_type": "execute_result"
        }
      ],
      "source": [
        "abs(-4)"
      ]
    },
    {
      "cell_type": "code",
      "execution_count": null,
      "metadata": {
        "colab": {
          "base_uri": "https://localhost:8080/"
        },
        "id": "4s3YlqIyTrQw",
        "outputId": "88aaca65-dec9-48ba-db24-3b7bdeb53c8f"
      },
      "outputs": [
        {
          "data": {
            "text/plain": [
              "8"
            ]
          },
          "execution_count": 22,
          "metadata": {},
          "output_type": "execute_result"
        }
      ],
      "source": [
        "# 6. pow\n",
        "pow(2, 3)"
      ]
    },
    {
      "cell_type": "code",
      "execution_count": null,
      "metadata": {
        "colab": {
          "base_uri": "https://localhost:8080/"
        },
        "id": "TiectfAJTwZ3",
        "outputId": "273f0914-f0c5-4773-fd43-9f194d37077a"
      },
      "outputs": [
        {
          "data": {
            "text/plain": [
              "0.125"
            ]
          },
          "execution_count": 23,
          "metadata": {},
          "output_type": "execute_result"
        }
      ],
      "source": [
        "pow(2, -3)"
      ]
    },
    {
      "cell_type": "code",
      "execution_count": null,
      "metadata": {
        "colab": {
          "base_uri": "https://localhost:8080/"
        },
        "id": "WAb0hZOwTzKy",
        "outputId": "7337d21a-2f02-4ad0-b1df-4b4083d8defa"
      },
      "outputs": [
        {
          "data": {
            "text/plain": [
              "0"
            ]
          },
          "execution_count": 24,
          "metadata": {},
          "output_type": "execute_result"
        }
      ],
      "source": [
        "# 7. min/max\n",
        "min([2, 1, 3, 0])"
      ]
    },
    {
      "cell_type": "code",
      "execution_count": null,
      "metadata": {
        "colab": {
          "base_uri": "https://localhost:8080/"
        },
        "id": "av_Y_oYrT6I5",
        "outputId": "219baea9-017d-4eda-a058-e4805343ddc0"
      },
      "outputs": [
        {
          "data": {
            "text/plain": [
              "3"
            ]
          },
          "execution_count": 25,
          "metadata": {},
          "output_type": "execute_result"
        }
      ],
      "source": [
        "max([2, 1, 3, 0])"
      ]
    },
    {
      "cell_type": "code",
      "execution_count": null,
      "metadata": {
        "colab": {
          "base_uri": "https://localhost:8080/",
          "height": 36
        },
        "id": "q1iw_uU0T-o5",
        "outputId": "598d8a67-834a-4af6-dcf5-c1519cc8da80"
      },
      "outputs": [
        {
          "data": {
            "application/vnd.google.colaboratory.intrinsic+json": {
              "type": "string"
            },
            "text/plain": [
              "'L'"
            ]
          },
          "execution_count": 26,
          "metadata": {},
          "output_type": "execute_result"
        }
      ],
      "source": [
        "min(\"Lahore\")"
      ]
    },
    {
      "cell_type": "code",
      "execution_count": null,
      "metadata": {
        "colab": {
          "base_uri": "https://localhost:8080/",
          "height": 36
        },
        "id": "6DrrqhBgUATd",
        "outputId": "54cf7a53-5b6e-4275-cdfa-5eecc5762e91"
      },
      "outputs": [
        {
          "data": {
            "application/vnd.google.colaboratory.intrinsic+json": {
              "type": "string"
            },
            "text/plain": [
              "'r'"
            ]
          },
          "execution_count": 27,
          "metadata": {},
          "output_type": "execute_result"
        }
      ],
      "source": [
        "max(\"Lahore\")"
      ]
    },
    {
      "cell_type": "code",
      "execution_count": null,
      "metadata": {
        "colab": {
          "base_uri": "https://localhost:8080/"
        },
        "id": "QEjCLiiEUC4R",
        "outputId": "6fe5e8e2-cb67-426e-9828-a9ad485c1535"
      },
      "outputs": [
        {
          "name": "stdout",
          "output_type": "stream",
          "text": [
            "3.142857142857143\n"
          ]
        },
        {
          "data": {
            "text/plain": [
              "3"
            ]
          },
          "execution_count": 28,
          "metadata": {},
          "output_type": "execute_result"
        }
      ],
      "source": [
        "# 8. round\n",
        "c = 22/7\n",
        "print(c)\n",
        "round(c)"
      ]
    },
    {
      "cell_type": "code",
      "execution_count": null,
      "metadata": {
        "colab": {
          "base_uri": "https://localhost:8080/"
        },
        "id": "qa5qmK_HULLD",
        "outputId": "3e677e95-170a-4295-d309-8e21a2d4a7d2"
      },
      "outputs": [
        {
          "data": {
            "text/plain": [
              "3.14"
            ]
          },
          "execution_count": 29,
          "metadata": {},
          "output_type": "execute_result"
        }
      ],
      "source": [
        "round(c, 2)"
      ]
    },
    {
      "cell_type": "code",
      "execution_count": null,
      "metadata": {
        "colab": {
          "base_uri": "https://localhost:8080/"
        },
        "id": "PTwLqx0nUNuN",
        "outputId": "89ceea2f-2942-4245-ad8e-ae158adc406b"
      },
      "outputs": [
        {
          "data": {
            "text/plain": [
              "(2, 1)"
            ]
          },
          "execution_count": 30,
          "metadata": {},
          "output_type": "execute_result"
        }
      ],
      "source": [
        "# 9. divmod\n",
        "divmod(5, 2)"
      ]
    },
    {
      "cell_type": "code",
      "execution_count": null,
      "metadata": {
        "colab": {
          "base_uri": "https://localhost:8080/",
          "height": 36
        },
        "id": "pGaPxc7AUR2t",
        "outputId": "06888121-1012-4c43-8daa-6374099ef3af"
      },
      "outputs": [
        {
          "data": {
            "application/vnd.google.colaboratory.intrinsic+json": {
              "type": "string"
            },
            "text/plain": [
              "'0b100'"
            ]
          },
          "execution_count": 31,
          "metadata": {},
          "output_type": "execute_result"
        }
      ],
      "source": [
        "# 10. bin/oct/hex\n",
        "bin(4)"
      ]
    },
    {
      "cell_type": "code",
      "execution_count": null,
      "metadata": {
        "colab": {
          "base_uri": "https://localhost:8080/",
          "height": 36
        },
        "id": "TgP256P7Uchu",
        "outputId": "985bc6b2-9321-4b92-b4e5-7db5db383d45"
      },
      "outputs": [
        {
          "data": {
            "application/vnd.google.colaboratory.intrinsic+json": {
              "type": "string"
            },
            "text/plain": [
              "'0o4'"
            ]
          },
          "execution_count": 32,
          "metadata": {},
          "output_type": "execute_result"
        }
      ],
      "source": [
        "oct(4)"
      ]
    },
    {
      "cell_type": "code",
      "execution_count": null,
      "metadata": {
        "colab": {
          "base_uri": "https://localhost:8080/",
          "height": 36
        },
        "id": "ZEIoINvOUeQV",
        "outputId": "509d058a-34b7-4eee-e5be-6b314dfca613"
      },
      "outputs": [
        {
          "data": {
            "application/vnd.google.colaboratory.intrinsic+json": {
              "type": "string"
            },
            "text/plain": [
              "'0x4'"
            ]
          },
          "execution_count": 33,
          "metadata": {},
          "output_type": "execute_result"
        }
      ],
      "source": [
        "hex(4)"
      ]
    },
    {
      "cell_type": "code",
      "execution_count": null,
      "metadata": {
        "colab": {
          "base_uri": "https://localhost:8080/"
        },
        "id": "VhRUrplhUf29",
        "outputId": "1862dbf3-ced5-472f-f303-225d8311069a"
      },
      "outputs": [
        {
          "data": {
            "text/plain": [
              "10757800"
            ]
          },
          "execution_count": 34,
          "metadata": {},
          "output_type": "execute_result"
        }
      ],
      "source": [
        "# 11. id\n",
        "a = 3\n",
        "id(a)"
      ]
    },
    {
      "cell_type": "code",
      "execution_count": null,
      "metadata": {
        "colab": {
          "base_uri": "https://localhost:8080/"
        },
        "id": "VFl4Yu8IUloT",
        "outputId": "80379aeb-3d11-4cbb-b2ba-66a765da53b0"
      },
      "outputs": [
        {
          "data": {
            "text/plain": [
              "65"
            ]
          },
          "execution_count": 35,
          "metadata": {},
          "output_type": "execute_result"
        }
      ],
      "source": [
        "# 12. ord\n",
        "ord('A')"
      ]
    },
    {
      "cell_type": "code",
      "execution_count": null,
      "metadata": {
        "colab": {
          "base_uri": "https://localhost:8080/"
        },
        "id": "VMuAPw2MUqL_",
        "outputId": "482358ed-b6cc-48b7-dec6-a913459d1a92"
      },
      "outputs": [
        {
          "data": {
            "text/plain": [
              "97"
            ]
          },
          "execution_count": 36,
          "metadata": {},
          "output_type": "execute_result"
        }
      ],
      "source": [
        "ord('a')"
      ]
    },
    {
      "cell_type": "code",
      "execution_count": null,
      "metadata": {
        "colab": {
          "base_uri": "https://localhost:8080/"
        },
        "id": "Z9k2b36AUthy",
        "outputId": "dd8f24ae-c75e-4454-9568-d403222c482f"
      },
      "outputs": [
        {
          "data": {
            "text/plain": [
              "9"
            ]
          },
          "execution_count": 37,
          "metadata": {},
          "output_type": "execute_result"
        }
      ],
      "source": [
        "# 13. len\n",
        "len('Ali Nawaz')"
      ]
    },
    {
      "cell_type": "code",
      "execution_count": null,
      "metadata": {
        "colab": {
          "base_uri": "https://localhost:8080/"
        },
        "id": "1ePHm1CAUyu9",
        "outputId": "ab166906-bc1b-47fa-ce64-71ace0ef3d18"
      },
      "outputs": [
        {
          "data": {
            "text/plain": [
              "3"
            ]
          },
          "execution_count": 38,
          "metadata": {},
          "output_type": "execute_result"
        }
      ],
      "source": [
        "len([1, 2, 3])"
      ]
    },
    {
      "cell_type": "code",
      "execution_count": null,
      "metadata": {
        "colab": {
          "base_uri": "https://localhost:8080/"
        },
        "id": "6m1k64UmU2SX",
        "outputId": "feecb8a5-3b9c-4bac-f2d3-d91d1b302d70"
      },
      "outputs": [
        {
          "data": {
            "text/plain": [
              "15"
            ]
          },
          "execution_count": 39,
          "metadata": {},
          "output_type": "execute_result"
        }
      ],
      "source": [
        "# 14. sum\n",
        "sum([1, 2, 3, 4, 5])"
      ]
    },
    {
      "cell_type": "code",
      "execution_count": null,
      "metadata": {
        "colab": {
          "base_uri": "https://localhost:8080/"
        },
        "id": "BskGTf4AU7-4",
        "outputId": "08ce7a68-277d-4a8a-919f-cb167f116cde"
      },
      "outputs": [
        {
          "data": {
            "text/plain": [
              "15"
            ]
          },
          "execution_count": 40,
          "metadata": {},
          "output_type": "execute_result"
        }
      ],
      "source": [
        "sum({1, 2, 3, 4, 5})"
      ]
    },
    {
      "cell_type": "code",
      "execution_count": null,
      "metadata": {
        "colab": {
          "base_uri": "https://localhost:8080/"
        },
        "id": "VaWyF3PwU_UY",
        "outputId": "65a9408e-9795-4428-ee1d-080fd6a9bc8d"
      },
      "outputs": [
        {
          "name": "stdout",
          "output_type": "stream",
          "text": [
            "Help on built-in function print in module builtins:\n",
            "\n",
            "print(*args, sep=' ', end='\\n', file=None, flush=False)\n",
            "    Prints the values to a stream, or to sys.stdout by default.\n",
            "    \n",
            "    sep\n",
            "      string inserted between values, default a space.\n",
            "    end\n",
            "      string appended after the last value, default a newline.\n",
            "    file\n",
            "      a file-like object (stream); defaults to the current sys.stdout.\n",
            "    flush\n",
            "      whether to forcibly flush the stream.\n",
            "\n"
          ]
        }
      ],
      "source": [
        "# 15. help\n",
        "help(\"print\")"
      ]
    },
    {
      "cell_type": "code",
      "execution_count": null,
      "metadata": {
        "id": "y4qxuDfOVDgY"
      },
      "outputs": [],
      "source": [
        "# What are Modules?\n",
        "# Code libraries in python\n",
        "# Contain functions for use.\n",
        "# Examples:\n",
        "  # Math: Math ops\n",
        "  # Random: Random numbers;\n",
        "  # os: OS interaction\n",
        "  # time: Time tasks\n"
      ]
    },
    {
      "cell_type": "code",
      "execution_count": null,
      "metadata": {
        "colab": {
          "base_uri": "https://localhost:8080/",
          "height": 1000
        },
        "id": "78s9Rns9b1qu",
        "outputId": "fb509be9-e3d2-4e9b-b805-c7d097266320"
      },
      "outputs": [
        {
          "name": "stderr",
          "output_type": "stream",
          "text": [
            "ERROR:root:Internal Python error in the inspect module.\n",
            "Below is the traceback from this internal error.\n",
            "\n"
          ]
        },
        {
          "name": "stdout",
          "output_type": "stream",
          "text": [
            "\n",
            "Please wait a moment while I gather a list of all available modules...\n",
            "\n",
            "\u001b[31mUnable to import `black` from betterproto plugin! Please ensure that you've installed betterproto as `pip install \"betterproto[compiler]\"` so that compiler dependencies are included.\u001b[0m\n",
            "Traceback (most recent call last):\n",
            "  File \"/usr/local/lib/python3.11/dist-packages/betterproto/plugin/compiler.py\", line 6, in <module>\n",
            "    import black\n",
            "ModuleNotFoundError: No module named 'black'\n",
            "\n",
            "During handling of the above exception, another exception occurred:\n",
            "\n",
            "Traceback (most recent call last):\n",
            "  File \"/usr/local/lib/python3.11/dist-packages/IPython/core/interactiveshell.py\", line 3553, in run_code\n",
            "    exec(code_obj, self.user_global_ns, self.user_ns)\n",
            "  File \"/tmp/ipython-input-44-2756529105.py\", line 1, in <cell line: 0>\n",
            "    help('modules')\n",
            "  File \"<frozen _sitebuiltins>\", line 103, in __call__\n",
            "  File \"/usr/lib/python3.11/pydoc.py\", line 2101, in __call__\n",
            "    self.help(request)\n",
            "  File \"/usr/lib/python3.11/pydoc.py\", line 2150, in help\n",
            "    elif request == 'modules': self.listmodules()\n",
            "                               ^^^^^^^^^^^^^^^^^^\n",
            "  File \"/usr/lib/python3.11/pydoc.py\", line 2304, in listmodules\n",
            "    ModuleScanner().run(callback, onerror=onerror)\n",
            "  File \"/usr/lib/python3.11/pydoc.py\", line 2333, in run\n",
            "    for importer, modname, ispkg in pkgutil.walk_packages(onerror=onerror):\n",
            "  File \"/usr/lib/python3.11/pkgutil.py\", line 107, in walk_packages\n",
            "    yield from walk_packages(path, info.name+'.', onerror)\n",
            "  File \"/usr/lib/python3.11/pkgutil.py\", line 92, in walk_packages\n",
            "    __import__(info.name)\n",
            "  File \"/usr/local/lib/python3.11/dist-packages/betterproto/plugin/__init__.py\", line 1, in <module>\n",
            "    from .main import main\n",
            "  File \"/usr/local/lib/python3.11/dist-packages/betterproto/plugin/main.py\", line 11, in <module>\n",
            "    from betterproto.plugin.parser import generate_code\n",
            "  File \"/usr/local/lib/python3.11/dist-packages/betterproto/plugin/parser.py\", line 25, in <module>\n",
            "    from .compiler import outputfile_compiler\n",
            "  File \"/usr/local/lib/python3.11/dist-packages/betterproto/plugin/compiler.py\", line 18, in <module>\n",
            "    raise SystemExit(1)\n",
            "SystemExit: 1\n",
            "\n",
            "During handling of the above exception, another exception occurred:\n",
            "\n",
            "Traceback (most recent call last):\n",
            "  File \"/usr/local/lib/python3.11/dist-packages/IPython/core/ultratb.py\", line 1101, in get_records\n",
            "    return _fixed_getinnerframes(etb, number_of_lines_of_context, tb_offset)\n",
            "           ^^^^^^^^^^^^^^^^^^^^^^^^^^^^^^^^^^^^^^^^^^^^^^^^^^^^^^^^^^^^^^^^^\n",
            "  File \"/usr/local/lib/python3.11/dist-packages/IPython/core/ultratb.py\", line 248, in wrapped\n",
            "    return f(*args, **kwargs)\n",
            "           ^^^^^^^^^^^^^^^^^^\n",
            "  File \"/usr/local/lib/python3.11/dist-packages/IPython/core/ultratb.py\", line 281, in _fixed_getinnerframes\n",
            "    records = fix_frame_records_filenames(inspect.getinnerframes(etb, context))\n",
            "                                          ^^^^^^^^^^^^^^^^^^^^^^^^^^^^^^^^^^^^\n",
            "  File \"/usr/lib/python3.11/inspect.py\", line 1739, in getinnerframes\n",
            "    traceback_info = getframeinfo(tb, context)\n",
            "                     ^^^^^^^^^^^^^^^^^^^^^^^^^\n",
            "  File \"/usr/lib/python3.11/inspect.py\", line 1671, in getframeinfo\n",
            "    lineno = frame.f_lineno\n",
            "             ^^^^^^^^^^^^^^\n",
            "AttributeError: 'tuple' object has no attribute 'f_lineno'\n"
          ]
        },
        {
          "ename": "TypeError",
          "evalue": "object of type 'NoneType' has no len()",
          "output_type": "error",
          "traceback": [
            "\u001b[0;31m---------------------------------------------------------------------------\u001b[0m",
            "\u001b[0;31mModuleNotFoundError\u001b[0m                       Traceback (most recent call last)",
            "\u001b[0;32m/usr/local/lib/python3.11/dist-packages/betterproto/plugin/compiler.py\u001b[0m in \u001b[0;36m<module>\u001b[0;34m\u001b[0m\n\u001b[1;32m      5\u001b[0m     \u001b[0;31m# betterproto[compiler] specific dependencies\u001b[0m\u001b[0;34m\u001b[0m\u001b[0;34m\u001b[0m\u001b[0m\n\u001b[0;32m----> 6\u001b[0;31m     \u001b[0;32mimport\u001b[0m \u001b[0mblack\u001b[0m\u001b[0;34m\u001b[0m\u001b[0;34m\u001b[0m\u001b[0m\n\u001b[0m\u001b[1;32m      7\u001b[0m     \u001b[0;32mimport\u001b[0m \u001b[0misort\u001b[0m\u001b[0;34m.\u001b[0m\u001b[0mapi\u001b[0m\u001b[0;34m\u001b[0m\u001b[0;34m\u001b[0m\u001b[0m\n",
            "\u001b[0;31mModuleNotFoundError\u001b[0m: No module named 'black'",
            "\nDuring handling of the above exception, another exception occurred:\n",
            "\u001b[0;31mSystemExit\u001b[0m                                Traceback (most recent call last)",
            "    \u001b[0;31m[... skipping hidden 1 frame]\u001b[0m\n",
            "\u001b[0;32m/tmp/ipython-input-44-2756529105.py\u001b[0m in \u001b[0;36m<cell line: 0>\u001b[0;34m()\u001b[0m\n\u001b[0;32m----> 1\u001b[0;31m \u001b[0mhelp\u001b[0m\u001b[0;34m(\u001b[0m\u001b[0;34m'modules'\u001b[0m\u001b[0;34m)\u001b[0m\u001b[0;34m\u001b[0m\u001b[0;34m\u001b[0m\u001b[0m\n\u001b[0m",
            "\u001b[0;32m/usr/lib/python3.11/_sitebuiltins.py\u001b[0m in \u001b[0;36m__call__\u001b[0;34m(self, *args, **kwds)\u001b[0m\n",
            "\u001b[0;32m/usr/lib/python3.11/pydoc.py\u001b[0m in \u001b[0;36m__call__\u001b[0;34m(self, request)\u001b[0m\n\u001b[1;32m   2100\u001b[0m             \u001b[0;32mtry\u001b[0m\u001b[0;34m:\u001b[0m\u001b[0;34m\u001b[0m\u001b[0;34m\u001b[0m\u001b[0m\n\u001b[0;32m-> 2101\u001b[0;31m                 \u001b[0mself\u001b[0m\u001b[0;34m.\u001b[0m\u001b[0mhelp\u001b[0m\u001b[0;34m(\u001b[0m\u001b[0mrequest\u001b[0m\u001b[0;34m)\u001b[0m\u001b[0;34m\u001b[0m\u001b[0;34m\u001b[0m\u001b[0m\n\u001b[0m\u001b[1;32m   2102\u001b[0m             \u001b[0;32mexcept\u001b[0m \u001b[0mImportError\u001b[0m \u001b[0;32mas\u001b[0m \u001b[0me\u001b[0m\u001b[0;34m:\u001b[0m\u001b[0;34m\u001b[0m\u001b[0;34m\u001b[0m\u001b[0m\n",
            "\u001b[0;32m/usr/lib/python3.11/pydoc.py\u001b[0m in \u001b[0;36mhelp\u001b[0;34m(self, request, is_cli)\u001b[0m\n\u001b[1;32m   2149\u001b[0m             \u001b[0;32melif\u001b[0m \u001b[0mrequest\u001b[0m \u001b[0;34m==\u001b[0m \u001b[0;34m'topics'\u001b[0m\u001b[0;34m:\u001b[0m \u001b[0mself\u001b[0m\u001b[0;34m.\u001b[0m\u001b[0mlisttopics\u001b[0m\u001b[0;34m(\u001b[0m\u001b[0;34m)\u001b[0m\u001b[0;34m\u001b[0m\u001b[0;34m\u001b[0m\u001b[0m\n\u001b[0;32m-> 2150\u001b[0;31m             \u001b[0;32melif\u001b[0m \u001b[0mrequest\u001b[0m \u001b[0;34m==\u001b[0m \u001b[0;34m'modules'\u001b[0m\u001b[0;34m:\u001b[0m \u001b[0mself\u001b[0m\u001b[0;34m.\u001b[0m\u001b[0mlistmodules\u001b[0m\u001b[0;34m(\u001b[0m\u001b[0;34m)\u001b[0m\u001b[0;34m\u001b[0m\u001b[0;34m\u001b[0m\u001b[0m\n\u001b[0m\u001b[1;32m   2151\u001b[0m             \u001b[0;32melif\u001b[0m \u001b[0mrequest\u001b[0m\u001b[0;34m[\u001b[0m\u001b[0;34m:\u001b[0m\u001b[0;36m8\u001b[0m\u001b[0;34m]\u001b[0m \u001b[0;34m==\u001b[0m \u001b[0;34m'modules '\u001b[0m\u001b[0;34m:\u001b[0m\u001b[0;34m\u001b[0m\u001b[0;34m\u001b[0m\u001b[0m\n",
            "\u001b[0;32m/usr/lib/python3.11/pydoc.py\u001b[0m in \u001b[0;36mlistmodules\u001b[0;34m(self, key)\u001b[0m\n\u001b[1;32m   2303\u001b[0m                 \u001b[0mcallback\u001b[0m\u001b[0;34m(\u001b[0m\u001b[0;32mNone\u001b[0m\u001b[0;34m,\u001b[0m \u001b[0mmodname\u001b[0m\u001b[0;34m,\u001b[0m \u001b[0;32mNone\u001b[0m\u001b[0;34m)\u001b[0m\u001b[0;34m\u001b[0m\u001b[0;34m\u001b[0m\u001b[0m\n\u001b[0;32m-> 2304\u001b[0;31m             \u001b[0mModuleScanner\u001b[0m\u001b[0;34m(\u001b[0m\u001b[0;34m)\u001b[0m\u001b[0;34m.\u001b[0m\u001b[0mrun\u001b[0m\u001b[0;34m(\u001b[0m\u001b[0mcallback\u001b[0m\u001b[0;34m,\u001b[0m \u001b[0monerror\u001b[0m\u001b[0;34m=\u001b[0m\u001b[0monerror\u001b[0m\u001b[0;34m)\u001b[0m\u001b[0;34m\u001b[0m\u001b[0;34m\u001b[0m\u001b[0m\n\u001b[0m\u001b[1;32m   2305\u001b[0m             \u001b[0mself\u001b[0m\u001b[0;34m.\u001b[0m\u001b[0mlist\u001b[0m\u001b[0;34m(\u001b[0m\u001b[0mmodules\u001b[0m\u001b[0;34m.\u001b[0m\u001b[0mkeys\u001b[0m\u001b[0;34m(\u001b[0m\u001b[0;34m)\u001b[0m\u001b[0;34m)\u001b[0m\u001b[0;34m\u001b[0m\u001b[0;34m\u001b[0m\u001b[0m\n",
            "\u001b[0;32m/usr/lib/python3.11/pydoc.py\u001b[0m in \u001b[0;36mrun\u001b[0;34m(self, callback, key, completer, onerror)\u001b[0m\n\u001b[1;32m   2332\u001b[0m \u001b[0;34m\u001b[0m\u001b[0m\n\u001b[0;32m-> 2333\u001b[0;31m         \u001b[0;32mfor\u001b[0m \u001b[0mimporter\u001b[0m\u001b[0;34m,\u001b[0m \u001b[0mmodname\u001b[0m\u001b[0;34m,\u001b[0m \u001b[0mispkg\u001b[0m \u001b[0;32min\u001b[0m \u001b[0mpkgutil\u001b[0m\u001b[0;34m.\u001b[0m\u001b[0mwalk_packages\u001b[0m\u001b[0;34m(\u001b[0m\u001b[0monerror\u001b[0m\u001b[0;34m=\u001b[0m\u001b[0monerror\u001b[0m\u001b[0;34m)\u001b[0m\u001b[0;34m:\u001b[0m\u001b[0;34m\u001b[0m\u001b[0;34m\u001b[0m\u001b[0m\n\u001b[0m\u001b[1;32m   2334\u001b[0m             \u001b[0;32mif\u001b[0m \u001b[0mself\u001b[0m\u001b[0;34m.\u001b[0m\u001b[0mquit\u001b[0m\u001b[0;34m:\u001b[0m\u001b[0;34m\u001b[0m\u001b[0;34m\u001b[0m\u001b[0m\n",
            "\u001b[0;32m/usr/lib/python3.11/pkgutil.py\u001b[0m in \u001b[0;36mwalk_packages\u001b[0;34m(path, prefix, onerror)\u001b[0m\n\u001b[1;32m    106\u001b[0m \u001b[0;34m\u001b[0m\u001b[0m\n\u001b[0;32m--> 107\u001b[0;31m                 \u001b[0;32myield\u001b[0m \u001b[0;32mfrom\u001b[0m \u001b[0mwalk_packages\u001b[0m\u001b[0;34m(\u001b[0m\u001b[0mpath\u001b[0m\u001b[0;34m,\u001b[0m \u001b[0minfo\u001b[0m\u001b[0;34m.\u001b[0m\u001b[0mname\u001b[0m\u001b[0;34m+\u001b[0m\u001b[0;34m'.'\u001b[0m\u001b[0;34m,\u001b[0m \u001b[0monerror\u001b[0m\u001b[0;34m)\u001b[0m\u001b[0;34m\u001b[0m\u001b[0;34m\u001b[0m\u001b[0m\n\u001b[0m\u001b[1;32m    108\u001b[0m \u001b[0;34m\u001b[0m\u001b[0m\n",
            "\u001b[0;32m/usr/lib/python3.11/pkgutil.py\u001b[0m in \u001b[0;36mwalk_packages\u001b[0;34m(path, prefix, onerror)\u001b[0m\n\u001b[1;32m     91\u001b[0m             \u001b[0;32mtry\u001b[0m\u001b[0;34m:\u001b[0m\u001b[0;34m\u001b[0m\u001b[0;34m\u001b[0m\u001b[0m\n\u001b[0;32m---> 92\u001b[0;31m                 \u001b[0m__import__\u001b[0m\u001b[0;34m(\u001b[0m\u001b[0minfo\u001b[0m\u001b[0;34m.\u001b[0m\u001b[0mname\u001b[0m\u001b[0;34m)\u001b[0m\u001b[0;34m\u001b[0m\u001b[0;34m\u001b[0m\u001b[0m\n\u001b[0m\u001b[1;32m     93\u001b[0m             \u001b[0;32mexcept\u001b[0m \u001b[0mImportError\u001b[0m\u001b[0;34m:\u001b[0m\u001b[0;34m\u001b[0m\u001b[0;34m\u001b[0m\u001b[0m\n",
            "\u001b[0;32m/usr/local/lib/python3.11/dist-packages/betterproto/plugin/__init__.py\u001b[0m in \u001b[0;36m<module>\u001b[0;34m\u001b[0m\n\u001b[0;32m----> 1\u001b[0;31m \u001b[0;32mfrom\u001b[0m \u001b[0;34m.\u001b[0m\u001b[0mmain\u001b[0m \u001b[0;32mimport\u001b[0m \u001b[0mmain\u001b[0m\u001b[0;34m\u001b[0m\u001b[0;34m\u001b[0m\u001b[0m\n\u001b[0m",
            "\u001b[0;32m/usr/local/lib/python3.11/dist-packages/betterproto/plugin/main.py\u001b[0m in \u001b[0;36m<module>\u001b[0;34m\u001b[0m\n\u001b[1;32m     10\u001b[0m \u001b[0;32mfrom\u001b[0m \u001b[0mbetterproto\u001b[0m\u001b[0;34m.\u001b[0m\u001b[0mplugin\u001b[0m\u001b[0;34m.\u001b[0m\u001b[0mmodels\u001b[0m \u001b[0;32mimport\u001b[0m \u001b[0mmonkey_patch_oneof_index\u001b[0m\u001b[0;34m\u001b[0m\u001b[0;34m\u001b[0m\u001b[0m\n\u001b[0;32m---> 11\u001b[0;31m \u001b[0;32mfrom\u001b[0m \u001b[0mbetterproto\u001b[0m\u001b[0;34m.\u001b[0m\u001b[0mplugin\u001b[0m\u001b[0;34m.\u001b[0m\u001b[0mparser\u001b[0m \u001b[0;32mimport\u001b[0m \u001b[0mgenerate_code\u001b[0m\u001b[0;34m\u001b[0m\u001b[0;34m\u001b[0m\u001b[0m\n\u001b[0m\u001b[1;32m     12\u001b[0m \u001b[0;34m\u001b[0m\u001b[0m\n",
            "\u001b[0;32m/usr/local/lib/python3.11/dist-packages/betterproto/plugin/parser.py\u001b[0m in \u001b[0;36m<module>\u001b[0;34m\u001b[0m\n\u001b[1;32m     24\u001b[0m \u001b[0;34m\u001b[0m\u001b[0m\n\u001b[0;32m---> 25\u001b[0;31m \u001b[0;32mfrom\u001b[0m \u001b[0;34m.\u001b[0m\u001b[0mcompiler\u001b[0m \u001b[0;32mimport\u001b[0m \u001b[0moutputfile_compiler\u001b[0m\u001b[0;34m\u001b[0m\u001b[0;34m\u001b[0m\u001b[0m\n\u001b[0m\u001b[1;32m     26\u001b[0m from .models import (\n",
            "\u001b[0;32m/usr/local/lib/python3.11/dist-packages/betterproto/plugin/compiler.py\u001b[0m in \u001b[0;36m<module>\u001b[0;34m\u001b[0m\n\u001b[1;32m     17\u001b[0m     )\n\u001b[0;32m---> 18\u001b[0;31m     \u001b[0;32mraise\u001b[0m \u001b[0mSystemExit\u001b[0m\u001b[0;34m(\u001b[0m\u001b[0;36m1\u001b[0m\u001b[0;34m)\u001b[0m\u001b[0;34m\u001b[0m\u001b[0;34m\u001b[0m\u001b[0m\n\u001b[0m\u001b[1;32m     19\u001b[0m \u001b[0;34m\u001b[0m\u001b[0m\n",
            "\u001b[0;31mSystemExit\u001b[0m: 1",
            "\nDuring handling of the above exception, another exception occurred:\n",
            "\u001b[0;31mTypeError\u001b[0m                                 Traceback (most recent call last)",
            "    \u001b[0;31m[... skipping hidden 1 frame]\u001b[0m\n",
            "\u001b[0;32m/usr/local/lib/python3.11/dist-packages/IPython/core/interactiveshell.py\u001b[0m in \u001b[0;36mshowtraceback\u001b[0;34m(self, exc_tuple, filename, tb_offset, exception_only, running_compiled_code)\u001b[0m\n\u001b[1;32m   2090\u001b[0m                     stb = ['An exception has occurred, use %tb to see '\n\u001b[1;32m   2091\u001b[0m                            'the full traceback.\\n']\n\u001b[0;32m-> 2092\u001b[0;31m                     stb.extend(self.InteractiveTB.get_exception_only(etype,\n\u001b[0m\u001b[1;32m   2093\u001b[0m                                                                      value))\n\u001b[1;32m   2094\u001b[0m                 \u001b[0;32melse\u001b[0m\u001b[0;34m:\u001b[0m\u001b[0;34m\u001b[0m\u001b[0;34m\u001b[0m\u001b[0m\n",
            "\u001b[0;32m/usr/local/lib/python3.11/dist-packages/IPython/core/ultratb.py\u001b[0m in \u001b[0;36mget_exception_only\u001b[0;34m(self, etype, value)\u001b[0m\n\u001b[1;32m    752\u001b[0m         \u001b[0mvalue\u001b[0m \u001b[0;34m:\u001b[0m \u001b[0mexception\u001b[0m \u001b[0mvalue\u001b[0m\u001b[0;34m\u001b[0m\u001b[0;34m\u001b[0m\u001b[0m\n\u001b[1;32m    753\u001b[0m         \"\"\"\n\u001b[0;32m--> 754\u001b[0;31m         \u001b[0;32mreturn\u001b[0m \u001b[0mListTB\u001b[0m\u001b[0;34m.\u001b[0m\u001b[0mstructured_traceback\u001b[0m\u001b[0;34m(\u001b[0m\u001b[0mself\u001b[0m\u001b[0;34m,\u001b[0m \u001b[0metype\u001b[0m\u001b[0;34m,\u001b[0m \u001b[0mvalue\u001b[0m\u001b[0;34m)\u001b[0m\u001b[0;34m\u001b[0m\u001b[0;34m\u001b[0m\u001b[0m\n\u001b[0m\u001b[1;32m    755\u001b[0m \u001b[0;34m\u001b[0m\u001b[0m\n\u001b[1;32m    756\u001b[0m     \u001b[0;32mdef\u001b[0m \u001b[0mshow_exception_only\u001b[0m\u001b[0;34m(\u001b[0m\u001b[0mself\u001b[0m\u001b[0;34m,\u001b[0m \u001b[0metype\u001b[0m\u001b[0;34m,\u001b[0m \u001b[0mevalue\u001b[0m\u001b[0;34m)\u001b[0m\u001b[0;34m:\u001b[0m\u001b[0;34m\u001b[0m\u001b[0;34m\u001b[0m\u001b[0m\n",
            "\u001b[0;32m/usr/local/lib/python3.11/dist-packages/IPython/core/ultratb.py\u001b[0m in \u001b[0;36mstructured_traceback\u001b[0;34m(self, etype, evalue, etb, tb_offset, context)\u001b[0m\n\u001b[1;32m    627\u001b[0m             \u001b[0mchained_exceptions_tb_offset\u001b[0m \u001b[0;34m=\u001b[0m \u001b[0;36m0\u001b[0m\u001b[0;34m\u001b[0m\u001b[0;34m\u001b[0m\u001b[0m\n\u001b[1;32m    628\u001b[0m             out_list = (\n\u001b[0;32m--> 629\u001b[0;31m                 self.structured_traceback(\n\u001b[0m\u001b[1;32m    630\u001b[0m                     \u001b[0metype\u001b[0m\u001b[0;34m,\u001b[0m \u001b[0mevalue\u001b[0m\u001b[0;34m,\u001b[0m \u001b[0;34m(\u001b[0m\u001b[0metb\u001b[0m\u001b[0;34m,\u001b[0m \u001b[0mchained_exc_ids\u001b[0m\u001b[0;34m)\u001b[0m\u001b[0;34m,\u001b[0m\u001b[0;34m\u001b[0m\u001b[0;34m\u001b[0m\u001b[0m\n\u001b[1;32m    631\u001b[0m                     chained_exceptions_tb_offset, context)\n",
            "\u001b[0;32m/usr/local/lib/python3.11/dist-packages/IPython/core/ultratb.py\u001b[0m in \u001b[0;36mstructured_traceback\u001b[0;34m(self, etype, value, tb, tb_offset, number_of_lines_of_context)\u001b[0m\n\u001b[1;32m   1365\u001b[0m         \u001b[0;32melse\u001b[0m\u001b[0;34m:\u001b[0m\u001b[0;34m\u001b[0m\u001b[0;34m\u001b[0m\u001b[0m\n\u001b[1;32m   1366\u001b[0m             \u001b[0mself\u001b[0m\u001b[0;34m.\u001b[0m\u001b[0mtb\u001b[0m \u001b[0;34m=\u001b[0m \u001b[0mtb\u001b[0m\u001b[0;34m\u001b[0m\u001b[0;34m\u001b[0m\u001b[0m\n\u001b[0;32m-> 1367\u001b[0;31m         return FormattedTB.structured_traceback(\n\u001b[0m\u001b[1;32m   1368\u001b[0m             self, etype, value, tb, tb_offset, number_of_lines_of_context)\n\u001b[1;32m   1369\u001b[0m \u001b[0;34m\u001b[0m\u001b[0m\n",
            "\u001b[0;32m/usr/local/lib/python3.11/dist-packages/IPython/core/ultratb.py\u001b[0m in \u001b[0;36mstructured_traceback\u001b[0;34m(self, etype, value, tb, tb_offset, number_of_lines_of_context)\u001b[0m\n\u001b[1;32m   1265\u001b[0m         \u001b[0;32mif\u001b[0m \u001b[0mmode\u001b[0m \u001b[0;32min\u001b[0m \u001b[0mself\u001b[0m\u001b[0;34m.\u001b[0m\u001b[0mverbose_modes\u001b[0m\u001b[0;34m:\u001b[0m\u001b[0;34m\u001b[0m\u001b[0;34m\u001b[0m\u001b[0m\n\u001b[1;32m   1266\u001b[0m             \u001b[0;31m# Verbose modes need a full traceback\u001b[0m\u001b[0;34m\u001b[0m\u001b[0;34m\u001b[0m\u001b[0m\n\u001b[0;32m-> 1267\u001b[0;31m             return VerboseTB.structured_traceback(\n\u001b[0m\u001b[1;32m   1268\u001b[0m                 \u001b[0mself\u001b[0m\u001b[0;34m,\u001b[0m \u001b[0metype\u001b[0m\u001b[0;34m,\u001b[0m \u001b[0mvalue\u001b[0m\u001b[0;34m,\u001b[0m \u001b[0mtb\u001b[0m\u001b[0;34m,\u001b[0m \u001b[0mtb_offset\u001b[0m\u001b[0;34m,\u001b[0m \u001b[0mnumber_of_lines_of_context\u001b[0m\u001b[0;34m\u001b[0m\u001b[0;34m\u001b[0m\u001b[0m\n\u001b[1;32m   1269\u001b[0m             )\n",
            "\u001b[0;32m/usr/local/lib/python3.11/dist-packages/IPython/core/ultratb.py\u001b[0m in \u001b[0;36mstructured_traceback\u001b[0;34m(self, etype, evalue, etb, tb_offset, number_of_lines_of_context)\u001b[0m\n\u001b[1;32m   1122\u001b[0m         \u001b[0;34m\"\"\"Return a nice text document describing the traceback.\"\"\"\u001b[0m\u001b[0;34m\u001b[0m\u001b[0;34m\u001b[0m\u001b[0m\n\u001b[1;32m   1123\u001b[0m \u001b[0;34m\u001b[0m\u001b[0m\n\u001b[0;32m-> 1124\u001b[0;31m         formatted_exception = self.format_exception_as_a_whole(etype, evalue, etb, number_of_lines_of_context,\n\u001b[0m\u001b[1;32m   1125\u001b[0m                                                                tb_offset)\n\u001b[1;32m   1126\u001b[0m \u001b[0;34m\u001b[0m\u001b[0m\n",
            "\u001b[0;32m/usr/local/lib/python3.11/dist-packages/IPython/core/ultratb.py\u001b[0m in \u001b[0;36mformat_exception_as_a_whole\u001b[0;34m(self, etype, evalue, etb, number_of_lines_of_context, tb_offset)\u001b[0m\n\u001b[1;32m   1080\u001b[0m \u001b[0;34m\u001b[0m\u001b[0m\n\u001b[1;32m   1081\u001b[0m \u001b[0;34m\u001b[0m\u001b[0m\n\u001b[0;32m-> 1082\u001b[0;31m         \u001b[0mlast_unique\u001b[0m\u001b[0;34m,\u001b[0m \u001b[0mrecursion_repeat\u001b[0m \u001b[0;34m=\u001b[0m \u001b[0mfind_recursion\u001b[0m\u001b[0;34m(\u001b[0m\u001b[0morig_etype\u001b[0m\u001b[0;34m,\u001b[0m \u001b[0mevalue\u001b[0m\u001b[0;34m,\u001b[0m \u001b[0mrecords\u001b[0m\u001b[0;34m)\u001b[0m\u001b[0;34m\u001b[0m\u001b[0;34m\u001b[0m\u001b[0m\n\u001b[0m\u001b[1;32m   1083\u001b[0m \u001b[0;34m\u001b[0m\u001b[0m\n\u001b[1;32m   1084\u001b[0m         \u001b[0mframes\u001b[0m \u001b[0;34m=\u001b[0m \u001b[0mself\u001b[0m\u001b[0;34m.\u001b[0m\u001b[0mformat_records\u001b[0m\u001b[0;34m(\u001b[0m\u001b[0mrecords\u001b[0m\u001b[0;34m,\u001b[0m \u001b[0mlast_unique\u001b[0m\u001b[0;34m,\u001b[0m \u001b[0mrecursion_repeat\u001b[0m\u001b[0;34m)\u001b[0m\u001b[0;34m\u001b[0m\u001b[0;34m\u001b[0m\u001b[0m\n",
            "\u001b[0;32m/usr/local/lib/python3.11/dist-packages/IPython/core/ultratb.py\u001b[0m in \u001b[0;36mfind_recursion\u001b[0;34m(etype, value, records)\u001b[0m\n\u001b[1;32m    380\u001b[0m     \u001b[0;31m# first frame (from in to out) that looks different.\u001b[0m\u001b[0;34m\u001b[0m\u001b[0;34m\u001b[0m\u001b[0m\n\u001b[1;32m    381\u001b[0m     \u001b[0;32mif\u001b[0m \u001b[0;32mnot\u001b[0m \u001b[0mis_recursion_error\u001b[0m\u001b[0;34m(\u001b[0m\u001b[0metype\u001b[0m\u001b[0;34m,\u001b[0m \u001b[0mvalue\u001b[0m\u001b[0;34m,\u001b[0m \u001b[0mrecords\u001b[0m\u001b[0;34m)\u001b[0m\u001b[0;34m:\u001b[0m\u001b[0;34m\u001b[0m\u001b[0;34m\u001b[0m\u001b[0m\n\u001b[0;32m--> 382\u001b[0;31m         \u001b[0;32mreturn\u001b[0m \u001b[0mlen\u001b[0m\u001b[0;34m(\u001b[0m\u001b[0mrecords\u001b[0m\u001b[0;34m)\u001b[0m\u001b[0;34m,\u001b[0m \u001b[0;36m0\u001b[0m\u001b[0;34m\u001b[0m\u001b[0;34m\u001b[0m\u001b[0m\n\u001b[0m\u001b[1;32m    383\u001b[0m \u001b[0;34m\u001b[0m\u001b[0m\n\u001b[1;32m    384\u001b[0m     \u001b[0;31m# Select filename, lineno, func_name to track frames with\u001b[0m\u001b[0;34m\u001b[0m\u001b[0;34m\u001b[0m\u001b[0m\n",
            "\u001b[0;31mTypeError\u001b[0m: object of type 'NoneType' has no len()"
          ]
        }
      ],
      "source": [
        "help('modules')"
      ]
    },
    {
      "cell_type": "code",
      "execution_count": null,
      "metadata": {
        "colab": {
          "base_uri": "https://localhost:8080/"
        },
        "id": "_j4lRc8ob48E",
        "outputId": "797badd6-a48f-47b4-9e31-10f0c955a444"
      },
      "outputs": [
        {
          "name": "stdout",
          "output_type": "stream",
          "text": [
            "['False', 'None', 'True', 'and', 'as', 'assert', 'async', 'await', 'break', 'class', 'continue', 'def', 'del', 'elif', 'else', 'except', 'finally', 'for', 'from', 'global', 'if', 'import', 'in', 'is', 'lambda', 'nonlocal', 'not', 'or', 'pass', 'raise', 'return', 'try', 'while', 'with', 'yield']\n"
          ]
        }
      ],
      "source": [
        "# Keyword module\n",
        "import keyword\n",
        "print(keyword.kwlist) # Reserved Keywords"
      ]
    },
    {
      "cell_type": "code",
      "execution_count": null,
      "metadata": {
        "id": "ThttiBqxcRdW"
      },
      "outputs": [],
      "source": [
        "# Math Module\n",
        "import math"
      ]
    },
    {
      "cell_type": "code",
      "execution_count": null,
      "metadata": {
        "colab": {
          "base_uri": "https://localhost:8080/"
        },
        "id": "y1VwPUHgcXqb",
        "outputId": "3d4153c0-c3a2-412a-b8f4-95cd90b2a090"
      },
      "outputs": [
        {
          "data": {
            "text/plain": [
              "3.141592653589793"
            ]
          },
          "execution_count": 47,
          "metadata": {},
          "output_type": "execute_result"
        }
      ],
      "source": [
        "math.pi"
      ]
    },
    {
      "cell_type": "code",
      "execution_count": null,
      "metadata": {
        "colab": {
          "base_uri": "https://localhost:8080/"
        },
        "id": "uSUU_Wz0cZIj",
        "outputId": "2ce6989b-2428-4f89-c165-a977f3c57384"
      },
      "outputs": [
        {
          "data": {
            "text/plain": [
              "2.718281828459045"
            ]
          },
          "execution_count": 48,
          "metadata": {},
          "output_type": "execute_result"
        }
      ],
      "source": [
        "math.e"
      ]
    },
    {
      "cell_type": "code",
      "execution_count": null,
      "metadata": {
        "colab": {
          "base_uri": "https://localhost:8080/"
        },
        "id": "0H8aE1MxcbMJ",
        "outputId": "91a30f7a-a031-4f71-e052-51e979ff781f"
      },
      "outputs": [
        {
          "data": {
            "text/plain": [
              "120"
            ]
          },
          "execution_count": 49,
          "metadata": {},
          "output_type": "execute_result"
        }
      ],
      "source": [
        "math.factorial(5)"
      ]
    },
    {
      "cell_type": "code",
      "execution_count": null,
      "metadata": {
        "colab": {
          "base_uri": "https://localhost:8080/"
        },
        "id": "T0t_ZIdacd_D",
        "outputId": "776c0597-b0cf-49c2-94bb-a95157f38395"
      },
      "outputs": [
        {
          "data": {
            "text/plain": [
              "7"
            ]
          },
          "execution_count": 50,
          "metadata": {},
          "output_type": "execute_result"
        }
      ],
      "source": [
        "math.ceil(6.3)"
      ]
    },
    {
      "cell_type": "code",
      "execution_count": null,
      "metadata": {
        "colab": {
          "base_uri": "https://localhost:8080/"
        },
        "id": "cM74Zr15chhc",
        "outputId": "a265e98c-6799-4c83-c6c7-fab6d84ac120"
      },
      "outputs": [
        {
          "data": {
            "text/plain": [
              "6"
            ]
          },
          "execution_count": 51,
          "metadata": {},
          "output_type": "execute_result"
        }
      ],
      "source": [
        "math.floor(6.9)"
      ]
    },
    {
      "cell_type": "code",
      "execution_count": null,
      "metadata": {
        "id": "-5F6qfI1cla1"
      },
      "outputs": [],
      "source": [
        "# Random Module"
      ]
    },
    {
      "cell_type": "code",
      "execution_count": null,
      "metadata": {
        "id": "5Vn1szS9coZK"
      },
      "outputs": [],
      "source": [
        "import random"
      ]
    },
    {
      "cell_type": "code",
      "execution_count": null,
      "metadata": {
        "colab": {
          "base_uri": "https://localhost:8080/"
        },
        "id": "CTr0Ls1XcpbY",
        "outputId": "c4ed40aa-5327-44ab-f6da-bfa97afd742e"
      },
      "outputs": [
        {
          "data": {
            "text/plain": [
              "24"
            ]
          },
          "execution_count": 54,
          "metadata": {},
          "output_type": "execute_result"
        }
      ],
      "source": [
        "random.randint(1, 100)"
      ]
    },
    {
      "cell_type": "code",
      "execution_count": null,
      "metadata": {
        "colab": {
          "base_uri": "https://localhost:8080/"
        },
        "id": "qhqUWzlNcuxZ",
        "outputId": "40122bf1-d1d7-4387-92f5-68ec550902dd"
      },
      "outputs": [
        {
          "data": {
            "text/plain": [
              "[3, 5, 1, 4, 2]"
            ]
          },
          "execution_count": 55,
          "metadata": {},
          "output_type": "execute_result"
        }
      ],
      "source": [
        "a = [1, 2, 3, 4, 5]\n",
        "random.shuffle(a)\n",
        "a"
      ]
    },
    {
      "cell_type": "code",
      "execution_count": null,
      "metadata": {
        "id": "TUUMBXICc0g4"
      },
      "outputs": [],
      "source": [
        "# Time Module\n"
      ]
    },
    {
      "cell_type": "code",
      "execution_count": null,
      "metadata": {
        "id": "NPIxL-uUdAXA"
      },
      "outputs": [],
      "source": [
        "import time"
      ]
    },
    {
      "cell_type": "code",
      "execution_count": null,
      "metadata": {
        "colab": {
          "base_uri": "https://localhost:8080/"
        },
        "id": "nLIT7POfdBO-",
        "outputId": "2fadf2f5-478e-4ed7-f853-97c0dab19c4d"
      },
      "outputs": [
        {
          "data": {
            "text/plain": [
              "1750324241.155336"
            ]
          },
          "execution_count": 58,
          "metadata": {},
          "output_type": "execute_result"
        }
      ],
      "source": [
        "time.time() # Current time (seconds)"
      ]
    },
    {
      "cell_type": "code",
      "execution_count": null,
      "metadata": {
        "colab": {
          "base_uri": "https://localhost:8080/",
          "height": 36
        },
        "id": "zlZFo5vGdHJm",
        "outputId": "93ca5f52-1eee-4b87-b29c-43264b30d460"
      },
      "outputs": [
        {
          "data": {
            "application/vnd.google.colaboratory.intrinsic+json": {
              "type": "string"
            },
            "text/plain": [
              "'Thu Jun 19 09:11:15 2025'"
            ]
          },
          "execution_count": 59,
          "metadata": {},
          "output_type": "execute_result"
        }
      ],
      "source": [
        "time.ctime() # Current time (string)"
      ]
    },
    {
      "cell_type": "code",
      "execution_count": null,
      "metadata": {
        "colab": {
          "base_uri": "https://localhost:8080/"
        },
        "id": "6zdON9uVdPcC",
        "outputId": "0be475bb-3f4c-4bd7-feff-e32b02194e53"
      },
      "outputs": [
        {
          "name": "stdout",
          "output_type": "stream",
          "text": [
            "Hello\n",
            "World\n"
          ]
        }
      ],
      "source": [
        "print(\"Hello\")\n",
        "time.sleep(5)\n",
        "print(\"World\")"
      ]
    },
    {
      "cell_type": "code",
      "execution_count": null,
      "metadata": {
        "id": "ibYdhK4gdXFS"
      },
      "outputs": [],
      "source": [
        "# Datetime Module\n"
      ]
    },
    {
      "cell_type": "code",
      "execution_count": null,
      "metadata": {
        "colab": {
          "base_uri": "https://localhost:8080/"
        },
        "id": "qyqusJkwdcj4",
        "outputId": "30510cf7-eb3f-4bf6-e6e0-6c572cb4217f"
      },
      "outputs": [
        {
          "name": "stdout",
          "output_type": "stream",
          "text": [
            "2025-06-19 09:12:43.307687\n"
          ]
        }
      ],
      "source": [
        "import datetime\n",
        "print(datetime.datetime.now())"
      ]
    },
    {
      "cell_type": "code",
      "execution_count": null,
      "metadata": {
        "id": "IL7q-imvdhze"
      },
      "outputs": [],
      "source": [
        "# OS Module"
      ]
    },
    {
      "cell_type": "code",
      "execution_count": null,
      "metadata": {
        "id": "S0zRcbMqdnVn"
      },
      "outputs": [],
      "source": [
        "import os"
      ]
    },
    {
      "cell_type": "code",
      "execution_count": null,
      "metadata": {
        "colab": {
          "base_uri": "https://localhost:8080/"
        },
        "id": "18ZN8xAUdpJD",
        "outputId": "c913742c-4ee3-46fa-ba7c-fc5d909493e0"
      },
      "outputs": [
        {
          "data": {
            "text/plain": [
              "<function posix.getcwd()>"
            ]
          },
          "execution_count": 66,
          "metadata": {},
          "output_type": "execute_result"
        }
      ],
      "source": [
        "os.getcwd # Current Working dir"
      ]
    },
    {
      "cell_type": "code",
      "execution_count": null,
      "metadata": {
        "colab": {
          "base_uri": "https://localhost:8080/"
        },
        "id": "_6BuKHbsdtR1",
        "outputId": "2591de3b-d149-44b6-e7af-d7e647f168f8"
      },
      "outputs": [
        {
          "data": {
            "text/plain": [
              "['.config', 'sample_data']"
            ]
          },
          "execution_count": 67,
          "metadata": {},
          "output_type": "execute_result"
        }
      ],
      "source": [
        "os.listdir() # Files in dir"
      ]
    },
    {
      "cell_type": "code",
      "execution_count": null,
      "metadata": {
        "id": "gQU5DlpPdzgY"
      },
      "outputs": [],
      "source": [
        "# Strings in Python\n",
        "# Seq. of Chars\n",
        "# In python: Unicode Chars\n",
        "# OPs:\n",
        "  # Create\n",
        "  # Access\n",
        "  # Add Chars\n",
        "  # Edit\n",
        "  # Delete\n",
        "  # Ops on Strings\n",
        "  # String Functions"
      ]
    },
    {
      "cell_type": "code",
      "execution_count": null,
      "metadata": {
        "id": "qS_x6ceIUR0g"
      },
      "outputs": [],
      "source": [
        "# 1. Create\n"
      ]
    },
    {
      "cell_type": "code",
      "execution_count": null,
      "metadata": {
        "colab": {
          "base_uri": "https://localhost:8080/"
        },
        "id": "RuYOwFTnm6n8",
        "outputId": "3d962d79-65c4-4458-ed6d-d033d4328c0c"
      },
      "outputs": [
        {
          "name": "stdout",
          "output_type": "stream",
          "text": [
            "Hello\n"
          ]
        }
      ],
      "source": [
        "c = \"Hello\"\n",
        "print(c)"
      ]
    },
    {
      "cell_type": "code",
      "execution_count": null,
      "metadata": {
        "colab": {
          "base_uri": "https://localhost:8080/"
        },
        "id": "o__cBSBSm9UH",
        "outputId": "cf9b81d9-e5a9-4866-ef25-2e1fa524e8a7"
      },
      "outputs": [
        {
          "name": "stdout",
          "output_type": "stream",
          "text": [
            "Hello\n"
          ]
        }
      ],
      "source": [
        "c = 'Hello'\n",
        "print(c)"
      ]
    },
    {
      "cell_type": "code",
      "execution_count": null,
      "metadata": {
        "colab": {
          "base_uri": "https://localhost:8080/",
          "height": 36
        },
        "id": "QftaUFbFnA3V",
        "outputId": "e15c4013-6a55-4686-9fa7-817ec1a59996"
      },
      "outputs": [
        {
          "data": {
            "application/vnd.google.colaboratory.intrinsic+json": {
              "type": "string"
            },
            "text/plain": [
              "\"It's raining outside\""
            ]
          },
          "execution_count": 8,
          "metadata": {},
          "output_type": "execute_result"
        }
      ],
      "source": [
        "\"It's raining outside\""
      ]
    },
    {
      "cell_type": "code",
      "execution_count": null,
      "metadata": {
        "colab": {
          "base_uri": "https://localhost:8080/"
        },
        "id": "4k8GHougnGCr",
        "outputId": "ae4f2f53-0e00-4552-967d-15cf8d1df147"
      },
      "outputs": [
        {
          "name": "stdout",
          "output_type": "stream",
          "text": [
            "Hello\n"
          ]
        }
      ],
      "source": [
        "# Multiline String\n",
        "c = \"\"\"Hello\"\"\"\n",
        "print(c)"
      ]
    },
    {
      "cell_type": "code",
      "execution_count": null,
      "metadata": {
        "colab": {
          "base_uri": "https://localhost:8080/"
        },
        "id": "8wY588T5nNIC",
        "outputId": "ee1683a7-b173-467d-b0aa-d06b966f846d"
      },
      "outputs": [
        {
          "name": "stdout",
          "output_type": "stream",
          "text": [
            "Hello\n"
          ]
        }
      ],
      "source": [
        "c = '''Hello'''\n",
        "print(c)"
      ]
    },
    {
      "cell_type": "code",
      "execution_count": null,
      "metadata": {
        "id": "hnvhiDN1nTQd"
      },
      "outputs": [],
      "source": [
        "# 2. Access\n",
        "# Accessing Substrings from a String\n"
      ]
    },
    {
      "cell_type": "code",
      "execution_count": null,
      "metadata": {
        "colab": {
          "base_uri": "https://localhost:8080/"
        },
        "id": "ziREXd18ndvD",
        "outputId": "8546c799-2ba3-4d69-a233-3162f6d05e6f"
      },
      "outputs": [
        {
          "name": "stdout",
          "output_type": "stream",
          "text": [
            "hello\n"
          ]
        }
      ],
      "source": [
        "# Concept of Indexing\n",
        "c = \"hello\"\n",
        "print(c)"
      ]
    },
    {
      "cell_type": "code",
      "execution_count": null,
      "metadata": {
        "colab": {
          "base_uri": "https://localhost:8080/"
        },
        "id": "THb4PRBVnjF6",
        "outputId": "911a3ad4-f7cd-436a-d5d1-6b6bcf47aae5"
      },
      "outputs": [
        {
          "name": "stdout",
          "output_type": "stream",
          "text": [
            "h\n"
          ]
        }
      ],
      "source": [
        "print(c[0])"
      ]
    },
    {
      "cell_type": "code",
      "execution_count": null,
      "metadata": {
        "id": "KTApEhUZnlvc"
      },
      "outputs": [],
      "source": [
        "# Indexing Types:\n",
        "  # Positive\n",
        "  # Negative\n"
      ]
    },
    {
      "cell_type": "code",
      "execution_count": null,
      "metadata": {
        "colab": {
          "base_uri": "https://localhost:8080/"
        },
        "id": "YrSmPSBAnvE9",
        "outputId": "aff21e71-6197-41eb-97a1-874acd6c85d0"
      },
      "outputs": [
        {
          "name": "stdout",
          "output_type": "stream",
          "text": [
            "o\n"
          ]
        }
      ],
      "source": [
        "print(c[-1])"
      ]
    },
    {
      "cell_type": "code",
      "execution_count": null,
      "metadata": {
        "colab": {
          "base_uri": "https://localhost:8080/"
        },
        "id": "mr7hwf8XUi3Y",
        "outputId": "462a2931-f674-44bf-8573-59900ee8884e"
      },
      "outputs": [
        {
          "name": "stdout",
          "output_type": "stream",
          "text": [
            "Hello World\n"
          ]
        }
      ],
      "source": [
        "# Slicing\n",
        "c = \"Hello World\"\n",
        "print(c)"
      ]
    },
    {
      "cell_type": "code",
      "execution_count": null,
      "metadata": {
        "colab": {
          "base_uri": "https://localhost:8080/"
        },
        "id": "54-yzXaEU67K",
        "outputId": "9839dd55-3355-426b-956e-5a22b9a6d598"
      },
      "outputs": [
        {
          "name": "stdout",
          "output_type": "stream",
          "text": [
            "Hello\n"
          ]
        }
      ],
      "source": [
        "print(c[0:5])"
      ]
    },
    {
      "cell_type": "code",
      "execution_count": null,
      "metadata": {
        "colab": {
          "base_uri": "https://localhost:8080/"
        },
        "id": "sTA8oCD7VA-m",
        "outputId": "9e54827e-17cd-4b06-9335-de4a9716b460"
      },
      "outputs": [
        {
          "name": "stdout",
          "output_type": "stream",
          "text": [
            "llo World\n"
          ]
        }
      ],
      "source": [
        "print(c[2:])"
      ]
    },
    {
      "cell_type": "code",
      "execution_count": null,
      "metadata": {
        "colab": {
          "base_uri": "https://localhost:8080/"
        },
        "id": "zcwL9Xn-VFkO",
        "outputId": "a71841d8-3698-4253-d7f7-2957d2ce7778"
      },
      "outputs": [
        {
          "name": "stdout",
          "output_type": "stream",
          "text": [
            "Hell\n"
          ]
        }
      ],
      "source": [
        "print(c[0:4])"
      ]
    },
    {
      "cell_type": "code",
      "execution_count": null,
      "metadata": {
        "colab": {
          "base_uri": "https://localhost:8080/"
        },
        "id": "h6QdvsJrVJck",
        "outputId": "d6e8e2d1-f2bb-4177-e12b-a4a9eb5063d8"
      },
      "outputs": [
        {
          "name": "stdout",
          "output_type": "stream",
          "text": [
            "Hello World\n"
          ]
        }
      ],
      "source": [
        "print(c[:])"
      ]
    },
    {
      "cell_type": "code",
      "execution_count": null,
      "metadata": {
        "colab": {
          "base_uri": "https://localhost:8080/"
        },
        "id": "dt3LnoQNVOox",
        "outputId": "629ebccf-7bef-4376-8c56-dd7e14f0679a"
      },
      "outputs": [
        {
          "name": "stdout",
          "output_type": "stream",
          "text": [
            "lo\n"
          ]
        }
      ],
      "source": [
        "print(c[2:6:2])"
      ]
    },
    {
      "cell_type": "code",
      "execution_count": null,
      "metadata": {
        "colab": {
          "base_uri": "https://localhost:8080/"
        },
        "id": "9aPZO3dlVafP",
        "outputId": "c7453357-629a-4a15-dea7-88baf65e7c9f"
      },
      "outputs": [
        {
          "name": "stdout",
          "output_type": "stream",
          "text": [
            "l \n"
          ]
        }
      ],
      "source": [
        "print(c[2:8:3])"
      ]
    },
    {
      "cell_type": "code",
      "execution_count": null,
      "metadata": {
        "colab": {
          "base_uri": "https://localhost:8080/"
        },
        "id": "Gqiaj1BMVey3",
        "outputId": "e9f7a544-5a10-4763-a1b5-bc8295f8950c"
      },
      "outputs": [
        {
          "name": "stdout",
          "output_type": "stream",
          "text": [
            "\n"
          ]
        }
      ],
      "source": [
        "print(c[0:6:-1])"
      ]
    },
    {
      "cell_type": "code",
      "execution_count": null,
      "metadata": {
        "colab": {
          "base_uri": "https://localhost:8080/"
        },
        "id": "Es-yJSdIVq-M",
        "outputId": "598171bb-eb21-4d42-964b-06e125c4b3cc"
      },
      "outputs": [
        {
          "name": "stdout",
          "output_type": "stream",
          "text": [
            "Hello World\n"
          ]
        }
      ],
      "source": [
        "print(c)"
      ]
    },
    {
      "cell_type": "code",
      "execution_count": null,
      "metadata": {
        "colab": {
          "base_uri": "https://localhost:8080/"
        },
        "id": "qbGs23bLV-ys",
        "outputId": "da933365-e5d2-46c8-afb7-3b75e42aa114"
      },
      "outputs": [
        {
          "name": "stdout",
          "output_type": "stream",
          "text": [
            "Worl\n"
          ]
        }
      ],
      "source": [
        "print(c[-5:-1])"
      ]
    },
    {
      "cell_type": "code",
      "execution_count": null,
      "metadata": {
        "colab": {
          "base_uri": "https://localhost:8080/"
        },
        "id": "fnUgjo0rWOh7",
        "outputId": "aad22f7e-5b9c-4d6d-df1a-6fffaae67fdc"
      },
      "outputs": [
        {
          "name": "stdout",
          "output_type": "stream",
          "text": [
            "Wr\n"
          ]
        }
      ],
      "source": [
        "print(c[-5:-1:2])"
      ]
    },
    {
      "cell_type": "code",
      "execution_count": null,
      "metadata": {
        "colab": {
          "base_uri": "https://localhost:8080/"
        },
        "id": "KaqqoThNWeve",
        "outputId": "ec52215e-dc7b-4204-c192-1d74bd853bbd"
      },
      "outputs": [
        {
          "name": "stdout",
          "output_type": "stream",
          "text": [
            "dlroW olleH\n"
          ]
        }
      ],
      "source": [
        "print(c[::-1])"
      ]
    },
    {
      "cell_type": "code",
      "execution_count": null,
      "metadata": {
        "colab": {
          "base_uri": "https://localhost:8080/"
        },
        "id": "tBxjU7-TWydx",
        "outputId": "2fa850f0-36dd-47fe-9cb2-dc025af6d585"
      },
      "outputs": [
        {
          "name": "stdout",
          "output_type": "stream",
          "text": [
            "dlro\n"
          ]
        }
      ],
      "source": [
        "print(c[-1:-5:-1])"
      ]
    },
    {
      "cell_type": "code",
      "execution_count": null,
      "metadata": {
        "id": "UoPQloXzXGC5"
      },
      "outputs": [],
      "source": [
        "# 3. Add Chars\n"
      ]
    },
    {
      "cell_type": "code",
      "execution_count": null,
      "metadata": {
        "id": "pSTya0tpXI9m"
      },
      "outputs": [],
      "source": [
        "strings1 = \"Hello\"\n",
        "strings2 = \"World\""
      ]
    },
    {
      "cell_type": "code",
      "execution_count": null,
      "metadata": {
        "colab": {
          "base_uri": "https://localhost:8080/"
        },
        "id": "neJzBxs7XNMh",
        "outputId": "4af8e299-cadb-4ab3-f88f-ad1715161041"
      },
      "outputs": [
        {
          "name": "stdout",
          "output_type": "stream",
          "text": [
            "Hello World\n"
          ]
        }
      ],
      "source": [
        "new_string = strings1+\" \"+strings2\n",
        "print(new_string)"
      ]
    },
    {
      "cell_type": "code",
      "execution_count": null,
      "metadata": {
        "colab": {
          "base_uri": "https://localhost:8080/"
        },
        "id": "iuMSm4esXTvC",
        "outputId": "56a20666-d9f8-4909-e398-148a27d97119"
      },
      "outputs": [
        {
          "name": "stdout",
          "output_type": "stream",
          "text": [
            "Hello, How are you?\n"
          ]
        }
      ],
      "source": [
        "another_string = strings1 + \", How are you?\"\n",
        "print(another_string)"
      ]
    },
    {
      "cell_type": "code",
      "execution_count": null,
      "metadata": {
        "id": "19AqFDWcXlMl"
      },
      "outputs": [],
      "source": [
        "# 4. Edit & 5. Delete\n"
      ]
    },
    {
      "cell_type": "code",
      "execution_count": null,
      "metadata": {
        "colab": {
          "base_uri": "https://localhost:8080/"
        },
        "id": "tpsq4E3FXvds",
        "outputId": "34a61da1-ec79-443a-de55-4880744bfb92"
      },
      "outputs": [
        {
          "name": "stdout",
          "output_type": "stream",
          "text": [
            "Hello\n"
          ]
        }
      ],
      "source": [
        "c = \"Hello\"\n",
        "print(c)"
      ]
    },
    {
      "cell_type": "code",
      "execution_count": null,
      "metadata": {
        "id": "V96quHVaXyCV"
      },
      "outputs": [],
      "source": [
        "# c[0] = 'x'"
      ]
    },
    {
      "cell_type": "code",
      "execution_count": null,
      "metadata": {
        "id": "jTIZIYyKX8yI"
      },
      "outputs": [],
      "source": [
        "# Strings are immutable data types"
      ]
    },
    {
      "cell_type": "code",
      "execution_count": null,
      "metadata": {
        "colab": {
          "base_uri": "https://localhost:8080/"
        },
        "id": "qxoorsYPYC9J",
        "outputId": "92aed18f-fafc-4d3c-ebab-77adcf9036f1"
      },
      "outputs": [
        {
          "name": "stdout",
          "output_type": "stream",
          "text": [
            "World\n"
          ]
        }
      ],
      "source": [
        "c = 'World'\n",
        "print(c)"
      ]
    },
    {
      "cell_type": "code",
      "execution_count": null,
      "metadata": {
        "id": "C3XiapfPYFyP"
      },
      "outputs": [],
      "source": [
        "# c[5] = 'X'"
      ]
    },
    {
      "cell_type": "code",
      "execution_count": null,
      "metadata": {
        "colab": {
          "base_uri": "https://localhost:8080/",
          "height": 36
        },
        "id": "OaNOsoOoYIoQ",
        "outputId": "248e0851-0da7-4f9d-f1d3-51e08615e497"
      },
      "outputs": [
        {
          "data": {
            "application/vnd.google.colaboratory.intrinsic+json": {
              "type": "string"
            },
            "text/plain": [
              "'World'"
            ]
          },
          "execution_count": 48,
          "metadata": {},
          "output_type": "execute_result"
        }
      ],
      "source": [
        "# Deletion\n",
        "c"
      ]
    },
    {
      "cell_type": "code",
      "execution_count": null,
      "metadata": {
        "id": "ekIvG-z6YU8-"
      },
      "outputs": [],
      "source": [
        "del c"
      ]
    },
    {
      "cell_type": "code",
      "execution_count": null,
      "metadata": {
        "id": "b_NKD761YV5M"
      },
      "outputs": [],
      "source": [
        "# print(c)"
      ]
    },
    {
      "cell_type": "code",
      "execution_count": null,
      "metadata": {
        "id": "LKO8htvVYXXg"
      },
      "outputs": [],
      "source": [
        "c = \"Hello\"\n"
      ]
    },
    {
      "cell_type": "code",
      "execution_count": null,
      "metadata": {
        "colab": {
          "base_uri": "https://localhost:8080/"
        },
        "id": "EEM0LMLBYcXs",
        "outputId": "b526fd38-2640-4095-8464-ce99425ae392"
      },
      "outputs": [
        {
          "name": "stdout",
          "output_type": "stream",
          "text": [
            "Hello\n"
          ]
        }
      ],
      "source": [
        "print(c)"
      ]
    },
    {
      "cell_type": "code",
      "execution_count": null,
      "metadata": {
        "id": "j9hXEyd5YdqD"
      },
      "outputs": [],
      "source": [
        "# del c[0]"
      ]
    },
    {
      "cell_type": "code",
      "execution_count": null,
      "metadata": {
        "id": "IP-RbpWDYe5L"
      },
      "outputs": [],
      "source": [
        "# Operations On Strings"
      ]
    },
    {
      "cell_type": "code",
      "execution_count": null,
      "metadata": {
        "colab": {
          "base_uri": "https://localhost:8080/",
          "height": 36
        },
        "id": "P9TC_4AbYvzA",
        "outputId": "83d6cac4-82c1-46d8-81e2-b4597f155d16"
      },
      "outputs": [
        {
          "data": {
            "application/vnd.google.colaboratory.intrinsic+json": {
              "type": "string"
            },
            "text/plain": [
              "'Hello World'"
            ]
          },
          "execution_count": 58,
          "metadata": {},
          "output_type": "execute_result"
        }
      ],
      "source": [
        "# Arithmetic\n",
        "\"Hello\" + \" \" + \"World\""
      ]
    },
    {
      "cell_type": "code",
      "execution_count": null,
      "metadata": {
        "colab": {
          "base_uri": "https://localhost:8080/"
        },
        "id": "PKDm8O42Y0xN",
        "outputId": "9ab7ae3a-387f-4d7b-d70e-11e01e0bd1e4"
      },
      "outputs": [
        {
          "name": "stdout",
          "output_type": "stream",
          "text": [
            "**************************************************\n"
          ]
        }
      ],
      "source": [
        "print(\"*\" * 50)"
      ]
    },
    {
      "cell_type": "code",
      "execution_count": null,
      "metadata": {
        "colab": {
          "base_uri": "https://localhost:8080/"
        },
        "id": "T0kRWNzrY4mT",
        "outputId": "cbf237b2-6f0e-416e-99f8-5c383dbd5b36"
      },
      "outputs": [
        {
          "name": "stdout",
          "output_type": "stream",
          "text": [
            "HelloHelloHelloHello\n"
          ]
        }
      ],
      "source": [
        "print(\"Hello\" * 4)"
      ]
    },
    {
      "cell_type": "code",
      "execution_count": null,
      "metadata": {
        "colab": {
          "base_uri": "https://localhost:8080/"
        },
        "id": "nhVYST2sY9jc",
        "outputId": "f405fe5d-ffea-424c-b597-cd12a67ba4c9"
      },
      "outputs": [
        {
          "data": {
            "text/plain": [
              "False"
            ]
          },
          "execution_count": 61,
          "metadata": {},
          "output_type": "execute_result"
        }
      ],
      "source": [
        "# Relational\n",
        "\"Hello\" == \"World\""
      ]
    },
    {
      "cell_type": "code",
      "execution_count": null,
      "metadata": {
        "colab": {
          "base_uri": "https://localhost:8080/"
        },
        "id": "NeA7joLyZB9P",
        "outputId": "0468f9c8-276a-4054-9d6a-2d5d8515a474"
      },
      "outputs": [
        {
          "data": {
            "text/plain": [
              "True"
            ]
          },
          "execution_count": 62,
          "metadata": {},
          "output_type": "execute_result"
        }
      ],
      "source": [
        "\"Hello\" != \"World\""
      ]
    },
    {
      "cell_type": "code",
      "execution_count": null,
      "metadata": {
        "colab": {
          "base_uri": "https://localhost:8080/"
        },
        "id": "8VGyEpCxZGns",
        "outputId": "2b082f90-e720-4f52-b4a8-06247b0a637f"
      },
      "outputs": [
        {
          "data": {
            "text/plain": [
              "False"
            ]
          },
          "execution_count": 63,
          "metadata": {},
          "output_type": "execute_result"
        }
      ],
      "source": [
        "# Lexiographically\n",
        "\"Mumbai\" > \"Pune\""
      ]
    },
    {
      "cell_type": "code",
      "execution_count": null,
      "metadata": {
        "colab": {
          "base_uri": "https://localhost:8080/"
        },
        "id": "r0R39zGcZQNx",
        "outputId": "8cbdb2ee-6ada-4eaf-febe-96ac4548b29c"
      },
      "outputs": [
        {
          "data": {
            "text/plain": [
              "False"
            ]
          },
          "execution_count": 64,
          "metadata": {},
          "output_type": "execute_result"
        }
      ],
      "source": [
        "\"Lahore\" < \"Karachi\""
      ]
    },
    {
      "cell_type": "code",
      "execution_count": null,
      "metadata": {
        "colab": {
          "base_uri": "https://localhost:8080/",
          "height": 36
        },
        "id": "OBZIv50PZTuy",
        "outputId": "bfe121ff-0c81-43f5-81a6-82ea686173c8"
      },
      "outputs": [
        {
          "data": {
            "application/vnd.google.colaboratory.intrinsic+json": {
              "type": "string"
            },
            "text/plain": [
              "'World'"
            ]
          },
          "execution_count": 65,
          "metadata": {},
          "output_type": "execute_result"
        }
      ],
      "source": [
        "# Logical\n",
        "\"Hello\" and \"World\""
      ]
    },
    {
      "cell_type": "code",
      "execution_count": null,
      "metadata": {
        "id": "nKx_NSGMZWzP"
      },
      "outputs": [],
      "source": [
        "# \"\"    ----> False\n",
        "# \"Ali\" ----> True"
      ]
    },
    {
      "cell_type": "code",
      "execution_count": null,
      "metadata": {
        "colab": {
          "base_uri": "https://localhost:8080/",
          "height": 36
        },
        "id": "1oucKeB5Zfgl",
        "outputId": "8383d0d4-43f3-4a3d-a2b1-de3e1271d048"
      },
      "outputs": [
        {
          "data": {
            "application/vnd.google.colaboratory.intrinsic+json": {
              "type": "string"
            },
            "text/plain": [
              "''"
            ]
          },
          "execution_count": 67,
          "metadata": {},
          "output_type": "execute_result"
        }
      ],
      "source": [
        "\"\" and \"Hello\""
      ]
    },
    {
      "cell_type": "code",
      "execution_count": null,
      "metadata": {
        "colab": {
          "base_uri": "https://localhost:8080/",
          "height": 36
        },
        "id": "lTezuY7CZkBq",
        "outputId": "d325e642-cbcb-4ead-b444-ca71ae39b1ab"
      },
      "outputs": [
        {
          "data": {
            "application/vnd.google.colaboratory.intrinsic+json": {
              "type": "string"
            },
            "text/plain": [
              "'World'"
            ]
          },
          "execution_count": 68,
          "metadata": {},
          "output_type": "execute_result"
        }
      ],
      "source": [
        "\"\" or \"World\""
      ]
    },
    {
      "cell_type": "code",
      "execution_count": null,
      "metadata": {
        "colab": {
          "base_uri": "https://localhost:8080/",
          "height": 36
        },
        "id": "Tau7UQzGZner",
        "outputId": "3a719112-a140-4cd6-b8f5-cd1e1b0e7ab9"
      },
      "outputs": [
        {
          "data": {
            "application/vnd.google.colaboratory.intrinsic+json": {
              "type": "string"
            },
            "text/plain": [
              "'Hello'"
            ]
          },
          "execution_count": 69,
          "metadata": {},
          "output_type": "execute_result"
        }
      ],
      "source": [
        "\"Hello\" or \"World\""
      ]
    },
    {
      "cell_type": "code",
      "execution_count": null,
      "metadata": {
        "colab": {
          "base_uri": "https://localhost:8080/",
          "height": 36
        },
        "id": "9eO0iWWzZuh7",
        "outputId": "76ad3151-a6a9-4065-91dc-f81bb4a3b150"
      },
      "outputs": [
        {
          "data": {
            "application/vnd.google.colaboratory.intrinsic+json": {
              "type": "string"
            },
            "text/plain": [
              "'World'"
            ]
          },
          "execution_count": 70,
          "metadata": {},
          "output_type": "execute_result"
        }
      ],
      "source": [
        "\"Hello\" and \"World\""
      ]
    },
    {
      "cell_type": "code",
      "execution_count": null,
      "metadata": {
        "colab": {
          "base_uri": "https://localhost:8080/"
        },
        "id": "fyVMDkdOZxFx",
        "outputId": "1cced20e-2ddd-454b-afdd-ce4520c5d4ee"
      },
      "outputs": [
        {
          "data": {
            "text/plain": [
              "False"
            ]
          },
          "execution_count": 71,
          "metadata": {},
          "output_type": "execute_result"
        }
      ],
      "source": [
        "not \"Hello\""
      ]
    },
    {
      "cell_type": "code",
      "execution_count": null,
      "metadata": {
        "colab": {
          "base_uri": "https://localhost:8080/"
        },
        "id": "GXE7r3UmZyWq",
        "outputId": "6da3cf57-6b7f-42af-c221-d31838abb66c"
      },
      "outputs": [
        {
          "name": "stdout",
          "output_type": "stream",
          "text": [
            "False\n"
          ]
        }
      ],
      "source": [
        "print(not \"Hello\")"
      ]
    },
    {
      "cell_type": "code",
      "execution_count": null,
      "metadata": {
        "id": "P8fgoFDqZ1FP"
      },
      "outputs": [],
      "source": [
        "# Loops on Strings\n"
      ]
    },
    {
      "cell_type": "code",
      "execution_count": null,
      "metadata": {
        "colab": {
          "base_uri": "https://localhost:8080/"
        },
        "id": "35ic0mAKZ5mk",
        "outputId": "69e3b4b1-8624-4e6e-a9f0-631af331913c"
      },
      "outputs": [
        {
          "name": "stdout",
          "output_type": "stream",
          "text": [
            "H\n",
            "e\n",
            "l\n",
            "l\n",
            "o\n",
            " \n",
            "W\n",
            "o\n",
            "r\n",
            "l\n",
            "d\n"
          ]
        }
      ],
      "source": [
        "c = \"Hello World\"\n",
        "for i in c:\n",
        "  print(i)"
      ]
    },
    {
      "cell_type": "code",
      "execution_count": null,
      "metadata": {
        "colab": {
          "base_uri": "https://localhost:8080/"
        },
        "id": "iLb2dzUOZ9Z4",
        "outputId": "9e508cdc-f64a-4944-a27d-57f92a19655f"
      },
      "outputs": [
        {
          "name": "stdout",
          "output_type": "stream",
          "text": [
            "l\n",
            "l\n",
            "o\n",
            " \n",
            "W\n"
          ]
        }
      ],
      "source": [
        "for i in c[2:7]:\n",
        "  print(i)"
      ]
    },
    {
      "cell_type": "code",
      "execution_count": null,
      "metadata": {
        "colab": {
          "base_uri": "https://localhost:8080/"
        },
        "id": "tHdMAxtraC0s",
        "outputId": "27d56cf8-7e2b-4d01-fb65-f8aef6b8cf7b"
      },
      "outputs": [
        {
          "name": "stdout",
          "output_type": "stream",
          "text": [
            "l\n",
            "o\n",
            "W\n"
          ]
        }
      ],
      "source": [
        "for i in c[2:7:2]:\n",
        "  print(i)"
      ]
    },
    {
      "cell_type": "code",
      "execution_count": null,
      "metadata": {
        "colab": {
          "base_uri": "https://localhost:8080/"
        },
        "id": "vfnasEe_aH0F",
        "outputId": "9039586b-be80-4739-e6f7-cce24cd34beb"
      },
      "outputs": [
        {
          "name": "stdout",
          "output_type": "stream",
          "text": [
            "d\n",
            "l\n",
            "r\n",
            "o\n",
            "W\n",
            " \n",
            "o\n",
            "l\n",
            "l\n",
            "e\n",
            "H\n"
          ]
        }
      ],
      "source": [
        "for i in c[::-1]:\n",
        "  print(i)"
      ]
    },
    {
      "cell_type": "code",
      "execution_count": null,
      "metadata": {
        "colab": {
          "base_uri": "https://localhost:8080/",
          "height": 36
        },
        "id": "Uo2365KcaM6k",
        "outputId": "9c3b3f49-8dfb-4193-b35b-1fa5e15a19e5"
      },
      "outputs": [
        {
          "data": {
            "application/vnd.google.colaboratory.intrinsic+json": {
              "type": "string"
            },
            "text/plain": [
              "'Hello World'"
            ]
          },
          "execution_count": 78,
          "metadata": {},
          "output_type": "execute_result"
        }
      ],
      "source": [
        "# Membership\n",
        "c"
      ]
    },
    {
      "cell_type": "code",
      "execution_count": null,
      "metadata": {
        "colab": {
          "base_uri": "https://localhost:8080/"
        },
        "id": "5lQ07pDdaSAr",
        "outputId": "a0d710f7-1642-4eb1-b8a5-2a33e586475f"
      },
      "outputs": [
        {
          "data": {
            "text/plain": [
              "True"
            ]
          },
          "execution_count": 79,
          "metadata": {},
          "output_type": "execute_result"
        }
      ],
      "source": [
        "'H' in c"
      ]
    },
    {
      "cell_type": "code",
      "execution_count": null,
      "metadata": {
        "colab": {
          "base_uri": "https://localhost:8080/"
        },
        "id": "66cy2KHFaT7V",
        "outputId": "332de311-071c-4971-cfc6-46cae612fbf6"
      },
      "outputs": [
        {
          "data": {
            "text/plain": [
              "False"
            ]
          },
          "execution_count": 80,
          "metadata": {},
          "output_type": "execute_result"
        }
      ],
      "source": [
        "'h' in c"
      ]
    },
    {
      "cell_type": "code",
      "execution_count": null,
      "metadata": {
        "colab": {
          "base_uri": "https://localhost:8080/"
        },
        "id": "bo-glWVfaVS0",
        "outputId": "5ec5811f-cf8a-446a-9f39-f74e37a0cf62"
      },
      "outputs": [
        {
          "data": {
            "text/plain": [
              "True"
            ]
          },
          "execution_count": 82,
          "metadata": {},
          "output_type": "execute_result"
        }
      ],
      "source": [
        "\"world\" not in c"
      ]
    },
    {
      "cell_type": "code",
      "execution_count": null,
      "metadata": {
        "id": "yCsdbO-GaXoR"
      },
      "outputs": [],
      "source": [
        "# 7. String Functions\n",
        "# 1. Common Functions\n",
        "# len()\n",
        "# max()\n",
        "# min()\n",
        "# sorted()"
      ]
    },
    {
      "cell_type": "code",
      "execution_count": null,
      "metadata": {
        "colab": {
          "base_uri": "https://localhost:8080/"
        },
        "id": "71-MmPWdalV0",
        "outputId": "a31a9f05-7c0b-4206-d862-d4f41f18dccd"
      },
      "outputs": [
        {
          "data": {
            "text/plain": [
              "6"
            ]
          },
          "execution_count": 84,
          "metadata": {},
          "output_type": "execute_result"
        }
      ],
      "source": [
        "c = \"Lahore\"\n",
        "len(c)"
      ]
    },
    {
      "cell_type": "code",
      "execution_count": null,
      "metadata": {
        "colab": {
          "base_uri": "https://localhost:8080/",
          "height": 36
        },
        "id": "-W8APwIkanvd",
        "outputId": "f1833882-23a3-4145-beeb-aecfd326eaaa"
      },
      "outputs": [
        {
          "data": {
            "application/vnd.google.colaboratory.intrinsic+json": {
              "type": "string"
            },
            "text/plain": [
              "'r'"
            ]
          },
          "execution_count": 85,
          "metadata": {},
          "output_type": "execute_result"
        }
      ],
      "source": [
        "max(c)"
      ]
    },
    {
      "cell_type": "code",
      "execution_count": null,
      "metadata": {
        "colab": {
          "base_uri": "https://localhost:8080/",
          "height": 36
        },
        "id": "mpe5s55NaptM",
        "outputId": "453fc92d-6396-408a-80c3-d027a6356f55"
      },
      "outputs": [
        {
          "data": {
            "application/vnd.google.colaboratory.intrinsic+json": {
              "type": "string"
            },
            "text/plain": [
              "'L'"
            ]
          },
          "execution_count": 86,
          "metadata": {},
          "output_type": "execute_result"
        }
      ],
      "source": [
        "min(c)"
      ]
    },
    {
      "cell_type": "code",
      "execution_count": null,
      "metadata": {
        "colab": {
          "base_uri": "https://localhost:8080/"
        },
        "id": "V2X_rNh1aqdY",
        "outputId": "f89ec953-2aa6-4b34-8f61-d6348385e7eb"
      },
      "outputs": [
        {
          "data": {
            "text/plain": [
              "['L', 'a', 'e', 'h', 'o', 'r']"
            ]
          },
          "execution_count": 87,
          "metadata": {},
          "output_type": "execute_result"
        }
      ],
      "source": [
        "sorted(c)"
      ]
    },
    {
      "cell_type": "code",
      "execution_count": null,
      "metadata": {
        "colab": {
          "base_uri": "https://localhost:8080/"
        },
        "id": "Hk2yweOlatCu",
        "outputId": "c1a5f296-a01a-4623-d9f3-f8e95a90d6f3"
      },
      "outputs": [
        {
          "data": {
            "text/plain": [
              "['r', 'o', 'h', 'e', 'a', 'L']"
            ]
          },
          "execution_count": 88,
          "metadata": {},
          "output_type": "execute_result"
        }
      ],
      "source": [
        "sorted(c, reverse=True)"
      ]
    },
    {
      "cell_type": "code",
      "execution_count": null,
      "metadata": {
        "id": "yKcvqJAUav-m"
      },
      "outputs": [],
      "source": [
        "# 2. Capitalize/Title/Upper/Lower"
      ]
    },
    {
      "cell_type": "code",
      "execution_count": null,
      "metadata": {
        "colab": {
          "base_uri": "https://localhost:8080/",
          "height": 36
        },
        "id": "gfjCPa17a5d7",
        "outputId": "2609f10d-d466-4cba-eb80-c46b972a63c9"
      },
      "outputs": [
        {
          "data": {
            "application/vnd.google.colaboratory.intrinsic+json": {
              "type": "string"
            },
            "text/plain": [
              "'Lahore'"
            ]
          },
          "execution_count": 90,
          "metadata": {},
          "output_type": "execute_result"
        }
      ],
      "source": [
        "c"
      ]
    },
    {
      "cell_type": "code",
      "execution_count": null,
      "metadata": {
        "colab": {
          "base_uri": "https://localhost:8080/",
          "height": 36
        },
        "id": "MMBOarXFejQx",
        "outputId": "d12c0090-4fc2-4507-ba01-8ccc220f8325"
      },
      "outputs": [
        {
          "data": {
            "application/vnd.google.colaboratory.intrinsic+json": {
              "type": "string"
            },
            "text/plain": [
              "'Lahore'"
            ]
          },
          "execution_count": 91,
          "metadata": {},
          "output_type": "execute_result"
        }
      ],
      "source": [
        "c.capitalize()"
      ]
    },
    {
      "cell_type": "code",
      "execution_count": null,
      "metadata": {
        "colab": {
          "base_uri": "https://localhost:8080/",
          "height": 36
        },
        "id": "U65c6EZ4elY2",
        "outputId": "258f8187-7c26-4286-f166-e7f241dabb19"
      },
      "outputs": [
        {
          "data": {
            "application/vnd.google.colaboratory.intrinsic+json": {
              "type": "string"
            },
            "text/plain": [
              "'It is raining today'"
            ]
          },
          "execution_count": 92,
          "metadata": {},
          "output_type": "execute_result"
        }
      ],
      "source": [
        "'it is raining today'.capitalize()"
      ]
    },
    {
      "cell_type": "code",
      "execution_count": null,
      "metadata": {
        "colab": {
          "base_uri": "https://localhost:8080/",
          "height": 36
        },
        "id": "4C4ZculYerbD",
        "outputId": "2456e142-57d7-46b2-c67d-698eb63c9c85"
      },
      "outputs": [
        {
          "data": {
            "application/vnd.google.colaboratory.intrinsic+json": {
              "type": "string"
            },
            "text/plain": [
              "'It Is Raining Today'"
            ]
          },
          "execution_count": 93,
          "metadata": {},
          "output_type": "execute_result"
        }
      ],
      "source": [
        "'it is raining today'.title()"
      ]
    },
    {
      "cell_type": "code",
      "execution_count": null,
      "metadata": {
        "colab": {
          "base_uri": "https://localhost:8080/",
          "height": 36
        },
        "id": "nACpe3O5evY1",
        "outputId": "19f353b0-8587-4da1-9eb4-4dd9186ebc0f"
      },
      "outputs": [
        {
          "data": {
            "application/vnd.google.colaboratory.intrinsic+json": {
              "type": "string"
            },
            "text/plain": [
              "'lahore'"
            ]
          },
          "execution_count": 95,
          "metadata": {},
          "output_type": "execute_result"
        }
      ],
      "source": [
        "c.upper().lower()"
      ]
    },
    {
      "cell_type": "code",
      "execution_count": null,
      "metadata": {
        "colab": {
          "base_uri": "https://localhost:8080/",
          "height": 36
        },
        "id": "TJtc3SHVeydE",
        "outputId": "753cf4da-971b-46f2-d50f-e7363637740c"
      },
      "outputs": [
        {
          "data": {
            "application/vnd.google.colaboratory.intrinsic+json": {
              "type": "string"
            },
            "text/plain": [
              "'laHORE'"
            ]
          },
          "execution_count": 96,
          "metadata": {},
          "output_type": "execute_result"
        }
      ],
      "source": [
        "\"LAhore\".swapcase()"
      ]
    },
    {
      "cell_type": "code",
      "execution_count": null,
      "metadata": {
        "id": "xrxz3RAHe5Jf"
      },
      "outputs": [],
      "source": [
        "# 3. Count"
      ]
    },
    {
      "cell_type": "code",
      "execution_count": null,
      "metadata": {
        "colab": {
          "base_uri": "https://localhost:8080/"
        },
        "id": "Q77BaXlVe66x",
        "outputId": "bf1ec74f-2695-4bd6-9dc2-dfe59e9ff1df"
      },
      "outputs": [
        {
          "data": {
            "text/plain": [
              "4"
            ]
          },
          "execution_count": 98,
          "metadata": {},
          "output_type": "execute_result"
        }
      ],
      "source": [
        "\"it is raining \".count('i')"
      ]
    },
    {
      "cell_type": "code",
      "execution_count": null,
      "metadata": {
        "colab": {
          "base_uri": "https://localhost:8080/"
        },
        "id": "XcUGBjMRe_Yc",
        "outputId": "4af06231-3cd8-452e-98a4-7561f00d424b"
      },
      "outputs": [
        {
          "data": {
            "text/plain": [
              "1"
            ]
          },
          "execution_count": 99,
          "metadata": {},
          "output_type": "execute_result"
        }
      ],
      "source": [
        "\"it is raining \".count('ing')"
      ]
    },
    {
      "cell_type": "code",
      "execution_count": null,
      "metadata": {
        "colab": {
          "base_uri": "https://localhost:8080/"
        },
        "id": "M3vzgszzfCRX",
        "outputId": "b2c67669-64e8-43c9-9218-6c2fc8eea870"
      },
      "outputs": [
        {
          "data": {
            "text/plain": [
              "0"
            ]
          },
          "execution_count": 100,
          "metadata": {},
          "output_type": "execute_result"
        }
      ],
      "source": [
        "\"it is raining \".count('X')"
      ]
    },
    {
      "cell_type": "code",
      "execution_count": null,
      "metadata": {
        "id": "8OBtbOAxfGR0"
      },
      "outputs": [],
      "source": [
        "# 4. Find / Index"
      ]
    },
    {
      "cell_type": "code",
      "execution_count": null,
      "metadata": {
        "colab": {
          "base_uri": "https://localhost:8080/"
        },
        "id": "TcOiHAlnfIcp",
        "outputId": "529ed287-3147-4f4a-e384-56b937de4a59"
      },
      "outputs": [
        {
          "data": {
            "text/plain": [
              "0"
            ]
          },
          "execution_count": 103,
          "metadata": {},
          "output_type": "execute_result"
        }
      ],
      "source": [
        "\"it is raining \".find(\"i\")"
      ]
    },
    {
      "cell_type": "code",
      "execution_count": null,
      "metadata": {
        "colab": {
          "base_uri": "https://localhost:8080/"
        },
        "id": "KfjOWDJvfMH4",
        "outputId": "98988d80-623e-48dd-8bb8-30f54f02e035"
      },
      "outputs": [
        {
          "data": {
            "text/plain": [
              "9"
            ]
          },
          "execution_count": 106,
          "metadata": {},
          "output_type": "execute_result"
        }
      ],
      "source": [
        "\"it is raining \".find('n')"
      ]
    },
    {
      "cell_type": "code",
      "execution_count": null,
      "metadata": {
        "colab": {
          "base_uri": "https://localhost:8080/"
        },
        "id": "zxB-OfEsfSSz",
        "outputId": "73d2b320-7738-4fc1-b5ba-7df6882ab99d"
      },
      "outputs": [
        {
          "data": {
            "text/plain": [
              "-1"
            ]
          },
          "execution_count": 107,
          "metadata": {},
          "output_type": "execute_result"
        }
      ],
      "source": [
        "\"it is raining \".find('x')"
      ]
    },
    {
      "cell_type": "code",
      "execution_count": null,
      "metadata": {
        "id": "5-sIRmIXfdnt"
      },
      "outputs": [],
      "source": [
        "# 5. endswith / startswith"
      ]
    },
    {
      "cell_type": "code",
      "execution_count": null,
      "metadata": {
        "colab": {
          "base_uri": "https://localhost:8080/"
        },
        "id": "CdRpFeHJfoDc",
        "outputId": "27cea546-3997-47e8-8c85-ec1886cbbf49"
      },
      "outputs": [
        {
          "data": {
            "text/plain": [
              "True"
            ]
          },
          "execution_count": 114,
          "metadata": {},
          "output_type": "execute_result"
        }
      ],
      "source": [
        "\"it is raining\".endswith(\"g\")"
      ]
    },
    {
      "cell_type": "code",
      "execution_count": null,
      "metadata": {
        "colab": {
          "base_uri": "https://localhost:8080/"
        },
        "id": "A01u9JcofrkR",
        "outputId": "08a709c1-1f8a-474e-e335-92db50e5f92e"
      },
      "outputs": [
        {
          "data": {
            "text/plain": [
              "False"
            ]
          },
          "execution_count": 115,
          "metadata": {},
          "output_type": "execute_result"
        }
      ],
      "source": [
        "\"it is raining\".endswith(\"ingf\")"
      ]
    },
    {
      "cell_type": "code",
      "execution_count": null,
      "metadata": {
        "colab": {
          "base_uri": "https://localhost:8080/"
        },
        "id": "tvZxnY2jf3P1",
        "outputId": "c6456412-6ee0-4ab3-dbd1-a0cb12619a5e"
      },
      "outputs": [
        {
          "data": {
            "text/plain": [
              "True"
            ]
          },
          "execution_count": 116,
          "metadata": {},
          "output_type": "execute_result"
        }
      ],
      "source": [
        "\"it is raining \".startswith(\"it\")"
      ]
    },
    {
      "cell_type": "code",
      "execution_count": null,
      "metadata": {
        "id": "UwPmtkabgAtE"
      },
      "outputs": [],
      "source": [
        "# 6. Format"
      ]
    },
    {
      "cell_type": "code",
      "execution_count": null,
      "metadata": {
        "colab": {
          "base_uri": "https://localhost:8080/",
          "height": 36
        },
        "id": "m7JAcsgEgE8D",
        "outputId": "0a2646cc-c9b4-40db-90df-c6670a1834f5"
      },
      "outputs": [
        {
          "data": {
            "application/vnd.google.colaboratory.intrinsic+json": {
              "type": "string"
            },
            "text/plain": [
              "'Hello my name is Ali Nawaz and I am 22'"
            ]
          },
          "execution_count": 118,
          "metadata": {},
          "output_type": "execute_result"
        }
      ],
      "source": [
        "\"Hello my name is {} and I am {}\".format(\"Ali Nawaz\", 22)"
      ]
    },
    {
      "cell_type": "code",
      "execution_count": null,
      "metadata": {
        "colab": {
          "base_uri": "https://localhost:8080/",
          "height": 36
        },
        "id": "UWp7VOh6gRV2",
        "outputId": "e6c70bfe-2b1d-47c4-ab84-69eaf25cbbc9"
      },
      "outputs": [
        {
          "data": {
            "application/vnd.google.colaboratory.intrinsic+json": {
              "type": "string"
            },
            "text/plain": [
              "'Hello my name is Ali Nawaz and I am 22'"
            ]
          },
          "execution_count": 119,
          "metadata": {},
          "output_type": "execute_result"
        }
      ],
      "source": [
        "\"Hello my name is {0} and I am {1}\".format(\"Ali Nawaz\", 22)"
      ]
    },
    {
      "cell_type": "code",
      "execution_count": null,
      "metadata": {
        "colab": {
          "base_uri": "https://localhost:8080/",
          "height": 36
        },
        "id": "L2lGK6uJgVsY",
        "outputId": "40c29ece-deec-4186-b902-9e8f59aa2224"
      },
      "outputs": [
        {
          "data": {
            "application/vnd.google.colaboratory.intrinsic+json": {
              "type": "string"
            },
            "text/plain": [
              "'Hello my name is Ali Nawaz and I am 22'"
            ]
          },
          "execution_count": 121,
          "metadata": {},
          "output_type": "execute_result"
        }
      ],
      "source": [
        "\"Hello my name is {name} and I am {age}\".format(name = \"Ali Nawaz\", age = 22)"
      ]
    },
    {
      "cell_type": "code",
      "execution_count": null,
      "metadata": {
        "colab": {
          "base_uri": "https://localhost:8080/",
          "height": 36
        },
        "id": "-AdjffZggdNR",
        "outputId": "52bdfbd4-029c-40ad-d819-0a08d9fdb3a9"
      },
      "outputs": [
        {
          "data": {
            "application/vnd.google.colaboratory.intrinsic+json": {
              "type": "string"
            },
            "text/plain": [
              "'Hello my name is 22 and I am Ali Nawaz'"
            ]
          },
          "execution_count": 122,
          "metadata": {},
          "output_type": "execute_result"
        }
      ],
      "source": [
        "\"Hello my name is {age} and I am {name}\".format(name = \"Ali Nawaz\", age = 22)"
      ]
    },
    {
      "cell_type": "code",
      "execution_count": null,
      "metadata": {
        "id": "v5MKCGlEgi53"
      },
      "outputs": [],
      "source": [
        "# 7. isalnum/isalpha/isdecimal/isdigit"
      ]
    },
    {
      "cell_type": "code",
      "execution_count": null,
      "metadata": {
        "colab": {
          "base_uri": "https://localhost:8080/"
        },
        "id": "OLaAzdYSgtAY",
        "outputId": "a742b1d2-78e9-42bf-c930-52464df618f2"
      },
      "outputs": [
        {
          "data": {
            "text/plain": [
              "True"
            ]
          },
          "execution_count": 124,
          "metadata": {},
          "output_type": "execute_result"
        }
      ],
      "source": [
        "\"FLAT20\".isalnum() # Alphanumeric\n"
      ]
    },
    {
      "cell_type": "code",
      "execution_count": null,
      "metadata": {
        "colab": {
          "base_uri": "https://localhost:8080/"
        },
        "id": "zF9ZPn1bg1yE",
        "outputId": "07632fc2-96b4-476a-804b-9d13db59c5d2"
      },
      "outputs": [
        {
          "data": {
            "text/plain": [
              "False"
            ]
          },
          "execution_count": 126,
          "metadata": {},
          "output_type": "execute_result"
        }
      ],
      "source": [
        "\"FLAT20&\".isalnum()"
      ]
    },
    {
      "cell_type": "code",
      "execution_count": null,
      "metadata": {
        "colab": {
          "base_uri": "https://localhost:8080/"
        },
        "id": "JuXmAuy5g5i2",
        "outputId": "f4a10ead-218e-4955-d1af-88592687a9b8"
      },
      "outputs": [
        {
          "data": {
            "text/plain": [
              "True"
            ]
          },
          "execution_count": 127,
          "metadata": {},
          "output_type": "execute_result"
        }
      ],
      "source": [
        "\"FLAT\".isalpha() # Alphabetic"
      ]
    },
    {
      "cell_type": "code",
      "execution_count": null,
      "metadata": {
        "colab": {
          "base_uri": "https://localhost:8080/"
        },
        "id": "GoCUp9XchCdT",
        "outputId": "4083eb7f-e271-4b74-98b9-d5862c3ed785"
      },
      "outputs": [
        {
          "data": {
            "text/plain": [
              "True"
            ]
          },
          "execution_count": 128,
          "metadata": {},
          "output_type": "execute_result"
        }
      ],
      "source": [
        "\"20\".isdigit()"
      ]
    },
    {
      "cell_type": "code",
      "execution_count": null,
      "metadata": {
        "colab": {
          "base_uri": "https://localhost:8080/"
        },
        "id": "bDZyk-55hHXs",
        "outputId": "3cbe8f66-e651-49a0-e183-4519920d6e47"
      },
      "outputs": [
        {
          "data": {
            "text/plain": [
              "False"
            ]
          },
          "execution_count": 129,
          "metadata": {},
          "output_type": "execute_result"
        }
      ],
      "source": [
        "\"Hello World\".isidentifier()"
      ]
    },
    {
      "cell_type": "code",
      "execution_count": null,
      "metadata": {
        "id": "93V5YQN2hKyy"
      },
      "outputs": [],
      "source": [
        "# 8. Split\n"
      ]
    },
    {
      "cell_type": "code",
      "execution_count": null,
      "metadata": {
        "colab": {
          "base_uri": "https://localhost:8080/"
        },
        "id": "lk3-wbgxhQCm",
        "outputId": "1829c406-dd6f-403a-cf3c-685d96ac5168"
      },
      "outputs": [
        {
          "data": {
            "text/plain": [
              "['Who', 'is', 'the', 'PM', 'of', 'Pakistan']"
            ]
          },
          "execution_count": 131,
          "metadata": {},
          "output_type": "execute_result"
        }
      ],
      "source": [
        "\"Who is the PM of Pakistan\".split()"
      ]
    },
    {
      "cell_type": "code",
      "execution_count": null,
      "metadata": {
        "colab": {
          "base_uri": "https://localhost:8080/"
        },
        "id": "DqJwRSE7hTEZ",
        "outputId": "ac2f1bfe-06a4-4f1d-e618-74dec983f6cb"
      },
      "outputs": [
        {
          "data": {
            "text/plain": [
              "['Who is the ', ' of Pakistan']"
            ]
          },
          "execution_count": 133,
          "metadata": {},
          "output_type": "execute_result"
        }
      ],
      "source": [
        "\"Who is the PM of Pakistan\".split(\"PM\")"
      ]
    },
    {
      "cell_type": "code",
      "execution_count": null,
      "metadata": {
        "colab": {
          "base_uri": "https://localhost:8080/"
        },
        "id": "poNWJTjThaAU",
        "outputId": "527782d7-a520-47d4-b5b5-7fcc01f48d73"
      },
      "outputs": [
        {
          "data": {
            "text/plain": [
              "['Who ', 's the PM of Pak', 'stan']"
            ]
          },
          "execution_count": 134,
          "metadata": {},
          "output_type": "execute_result"
        }
      ],
      "source": [
        "\"Who is the PM of Pakistan\".split(\"i\")"
      ]
    },
    {
      "cell_type": "code",
      "execution_count": null,
      "metadata": {
        "colab": {
          "base_uri": "https://localhost:8080/"
        },
        "id": "4eqtrq5Rhkwi",
        "outputId": "1e6bd5e0-fde6-4f07-e307-6cf923f98d36"
      },
      "outputs": [
        {
          "data": {
            "text/plain": [
              "['Who is the PM of Pakistan']"
            ]
          },
          "execution_count": 135,
          "metadata": {},
          "output_type": "execute_result"
        }
      ],
      "source": [
        "\"Who is the PM of Pakistan\".split(\"x\")"
      ]
    },
    {
      "cell_type": "code",
      "execution_count": null,
      "metadata": {
        "id": "70N3Sz-9hn7B"
      },
      "outputs": [],
      "source": [
        "# 9. Join"
      ]
    },
    {
      "cell_type": "code",
      "execution_count": null,
      "metadata": {
        "colab": {
          "base_uri": "https://localhost:8080/",
          "height": 36
        },
        "id": "ntw8ZqaEhqkg",
        "outputId": "5d864f19-75b2-4d28-a3da-9434527dd330"
      },
      "outputs": [
        {
          "data": {
            "application/vnd.google.colaboratory.intrinsic+json": {
              "type": "string"
            },
            "text/plain": [
              "'Who is the PM of Pakistan'"
            ]
          },
          "execution_count": 137,
          "metadata": {},
          "output_type": "execute_result"
        }
      ],
      "source": [
        "\" \".join(['Who', 'is', 'the', 'PM', 'of', 'Pakistan'])"
      ]
    },
    {
      "cell_type": "code",
      "execution_count": null,
      "metadata": {
        "colab": {
          "base_uri": "https://localhost:8080/",
          "height": 36
        },
        "id": "qch7HeCHhwTW",
        "outputId": "7bddc499-62f8-4e18-cd03-f35b5c3c9fae"
      },
      "outputs": [
        {
          "data": {
            "application/vnd.google.colaboratory.intrinsic+json": {
              "type": "string"
            },
            "text/plain": [
              "'WhoisthePMofPakistan'"
            ]
          },
          "execution_count": 138,
          "metadata": {},
          "output_type": "execute_result"
        }
      ],
      "source": [
        "\"\".join(['Who', 'is', 'the', 'PM', 'of', 'Pakistan'])"
      ]
    },
    {
      "cell_type": "code",
      "execution_count": null,
      "metadata": {
        "colab": {
          "base_uri": "https://localhost:8080/",
          "height": 36
        },
        "id": "Yd8HR0EZh1x8",
        "outputId": "d304df48-705e-4d42-9786-c2dcb80b642d"
      },
      "outputs": [
        {
          "data": {
            "application/vnd.google.colaboratory.intrinsic+json": {
              "type": "string"
            },
            "text/plain": [
              "'Who-is-the-PM-of-Pakistan'"
            ]
          },
          "execution_count": 139,
          "metadata": {},
          "output_type": "execute_result"
        }
      ],
      "source": [
        "\"-\".join(['Who', 'is', 'the', 'PM', 'of', 'Pakistan'])"
      ]
    },
    {
      "cell_type": "code",
      "execution_count": null,
      "metadata": {
        "id": "z1Fln_Qfh3D5"
      },
      "outputs": [],
      "source": [
        "# 10 . Replace"
      ]
    },
    {
      "cell_type": "code",
      "execution_count": null,
      "metadata": {
        "colab": {
          "base_uri": "https://localhost:8080/",
          "height": 36
        },
        "id": "xwC9suTah6RX",
        "outputId": "8ff1a405-b89b-4ee8-91fc-786bf8fa6cb7"
      },
      "outputs": [
        {
          "data": {
            "application/vnd.google.colaboratory.intrinsic+json": {
              "type": "string"
            },
            "text/plain": [
              "'Hi name is Khalid Nawaz'"
            ]
          },
          "execution_count": 141,
          "metadata": {},
          "output_type": "execute_result"
        }
      ],
      "source": [
        "\"Hi name is Ali Nawaz\".replace(\"Ali\", \"Khalid\")"
      ]
    },
    {
      "cell_type": "code",
      "execution_count": null,
      "metadata": {
        "id": "YoYIIBQoh_wZ"
      },
      "outputs": [],
      "source": [
        "# 11. Strip"
      ]
    },
    {
      "cell_type": "code",
      "execution_count": null,
      "metadata": {
        "colab": {
          "base_uri": "https://localhost:8080/",
          "height": 36
        },
        "id": "f7WQixTuiCHD",
        "outputId": "f70e2b1f-dbd2-4822-a896-64d8dfaf2dfa"
      },
      "outputs": [
        {
          "data": {
            "application/vnd.google.colaboratory.intrinsic+json": {
              "type": "string"
            },
            "text/plain": [
              "'Ali'"
            ]
          },
          "execution_count": 143,
          "metadata": {},
          "output_type": "execute_result"
        }
      ],
      "source": [
        "name = \"                         Ali               \"\n",
        "name.strip()"
      ]
    },
    {
      "cell_type": "code",
      "execution_count": null,
      "metadata": {
        "colab": {
          "base_uri": "https://localhost:8080/",
          "height": 36
        },
        "id": "KNNeqxkmiG5B",
        "outputId": "e3da407d-a600-4933-a93e-bf2790d4cfd8"
      },
      "outputs": [
        {
          "data": {
            "application/vnd.google.colaboratory.intrinsic+json": {
              "type": "string"
            },
            "text/plain": [
              "'Hi                         Ali               '"
            ]
          },
          "execution_count": 144,
          "metadata": {},
          "output_type": "execute_result"
        }
      ],
      "source": [
        "\"Hi\" + name"
      ]
    },
    {
      "cell_type": "code",
      "execution_count": null,
      "metadata": {
        "colab": {
          "base_uri": "https://localhost:8080/",
          "height": 36
        },
        "id": "Sgctwk9viME2",
        "outputId": "162f5ec1-cd0e-442a-93d7-dfb05bf2f64d"
      },
      "outputs": [
        {
          "data": {
            "application/vnd.google.colaboratory.intrinsic+json": {
              "type": "string"
            },
            "text/plain": [
              "'Ali'"
            ]
          },
          "execution_count": 145,
          "metadata": {},
          "output_type": "execute_result"
        }
      ],
      "source": [
        "name.strip()"
      ]
    },
    {
      "cell_type": "code",
      "execution_count": null,
      "metadata": {
        "id": "0ytSckyKiOMA"
      },
      "outputs": [],
      "source": [
        "# Example Programs"
      ]
    },
    {
      "cell_type": "code",
      "execution_count": null,
      "metadata": {
        "colab": {
          "base_uri": "https://localhost:8080/"
        },
        "id": "7ZSXGT0JiTi-",
        "outputId": "fda3ab9b-e2dc-4da0-8957-ea25f92386f5"
      },
      "outputs": [
        {
          "name": "stdout",
          "output_type": "stream",
          "text": [
            "Enter the string:ali\n",
            "length of string is 3\n"
          ]
        }
      ],
      "source": [
        "# 1. Length of string without len()\n",
        "\n",
        "s = (input(\"Enter the string:\"))\n",
        "counter = 0\n",
        "for i in s:\n",
        "  counter += 1\n",
        "print(\"length of string is\", counter)"
      ]
    },
    {
      "cell_type": "code",
      "execution_count": null,
      "metadata": {
        "colab": {
          "base_uri": "https://localhost:8080/"
        },
        "id": "smSVtQJdiwOQ",
        "outputId": "87d6c054-55e4-4ab1-9d0d-6c8ff8598434"
      },
      "outputs": [
        {
          "name": "stdout",
          "output_type": "stream",
          "text": [
            "Enter the email:alinawaz@gmail.com\n",
            "alinawaz\n"
          ]
        }
      ],
      "source": [
        "# 2. Extract username from email\n",
        "# alinawaz@gmail.com --------> alinawaz\n",
        "s = input(\"Enter the email:\")\n",
        "pos = s.index(\"@\")\n",
        "print(s[0:pos])"
      ]
    },
    {
      "cell_type": "code",
      "execution_count": null,
      "metadata": {
        "colab": {
          "base_uri": "https://localhost:8080/"
        },
        "id": "yjvmnSqYjUVq",
        "outputId": "7c2171b5-c296-4599-96c7-30dc9a5b0ffa"
      },
      "outputs": [
        {
          "name": "stdout",
          "output_type": "stream",
          "text": [
            "Enter the email:alinawaz\n",
            "What would like to search for :i\n",
            "Frequency 1\n"
          ]
        }
      ],
      "source": [
        "# 3. Count character frequency in a string\n",
        "s = input(\"Enter the email:\")\n",
        "term = input(\"What would like to search for :\")\n",
        "counter = 0\n",
        "for i in s:\n",
        "  if i == term:\n",
        "    counter += 1\n",
        "print(\"Frequency\", counter)"
      ]
    },
    {
      "cell_type": "code",
      "execution_count": null,
      "metadata": {
        "colab": {
          "base_uri": "https://localhost:8080/"
        },
        "id": "NQekNud1kA9o",
        "outputId": "65f4cb81-61b1-4686-9e46-9d4779f25204"
      },
      "outputs": [
        {
          "name": "stdout",
          "output_type": "stream",
          "text": [
            "Enter the string:alinawazg\n",
            "What would like to remove:g\n",
            "alinawaz\n"
          ]
        }
      ],
      "source": [
        "# 4. Remove Character from string\n",
        "s = input(\"Enter the string:\")\n",
        "term = input(\"What would like to remove:\")\n",
        "result = ''\n",
        "for i in s:\n",
        "  if i != term:\n",
        "    result += i\n",
        "print(result)"
      ]
    },
    {
      "cell_type": "code",
      "execution_count": null,
      "metadata": {
        "colab": {
          "base_uri": "https://localhost:8080/"
        },
        "id": "Ltb093cytrdq",
        "outputId": "27200639-f41b-4a46-955c-c7e45e254e98"
      },
      "outputs": [
        {
          "name": "stdout",
          "output_type": "stream",
          "text": [
            "Enter the String:ali\n",
            "Not a Palindrome\n",
            "Palindrome\n"
          ]
        }
      ],
      "source": [
        "# 5. Check if a string is a palindrome\n",
        "s = input(\"Enter the String:\")\n",
        "flag = True\n",
        "for i in range(0, len(s)//2):\n",
        "  if s[i] != s[len(s) - i - 1]:\n",
        "    flage = False\n",
        "    print(\"Not a Palindrome\")\n",
        "    break\n",
        "if flag:\n",
        "    print(\"Palindrome\")"
      ]
    },
    {
      "cell_type": "code",
      "execution_count": null,
      "metadata": {
        "colab": {
          "base_uri": "https://localhost:8080/"
        },
        "id": "GhrLh-WavFJE",
        "outputId": "a63664dd-c1cc-4dc8-c7a7-76cd4c85f127"
      },
      "outputs": [
        {
          "name": "stdout",
          "output_type": "stream",
          "text": [
            "Enter the String:ali nawaz wattoo\n",
            "['ali', 'nawaz', 'wattoo']\n"
          ]
        }
      ],
      "source": [
        "# 6. Word Count Without split()\n",
        "s = input(\"Enter the String:\")\n",
        "L = []\n",
        "temp = ''\n",
        "for i in s:\n",
        "  if i != ' ':\n",
        "    temp += i\n",
        "  else:\n",
        "    L.append(temp)\n",
        "    temp = ''\n",
        "L.append(temp)\n",
        "print(L)"
      ]
    },
    {
      "cell_type": "code",
      "execution_count": null,
      "metadata": {
        "colab": {
          "base_uri": "https://localhost:8080/"
        },
        "id": "2Jk15XNuxipX",
        "outputId": "9d04baf0-8158-4cb4-db6a-24669036ce30"
      },
      "outputs": [
        {
          "name": "stdout",
          "output_type": "stream",
          "text": [
            "Enter the Stringsaliwattoo\n",
            "Aliwattoo\n"
          ]
        }
      ],
      "source": [
        "# 7. Convert String to Title Case (no title())\n",
        "s = input(\"Enter the Strings\")\n",
        "L = []\n",
        "for i in s.split():\n",
        "  L.append(i[0].upper() + i[1:].lower())\n",
        "print(\" \".join(L))"
      ]
    },
    {
      "cell_type": "code",
      "execution_count": null,
      "metadata": {
        "colab": {
          "base_uri": "https://localhost:8080/"
        },
        "id": "2Q7dFpjoz42k",
        "outputId": "39855aed-7601-4698-c5f3-ae89798cf304"
      },
      "outputs": [
        {
          "name": "stdout",
          "output_type": "stream",
          "text": [
            "enter the number: 123\n",
            "123\n",
            "<class 'str'>\n"
          ]
        }
      ],
      "source": [
        "# 8. Integer to String Conversion\n",
        "number = int(input('enter the number: '))\n",
        "digits = '0123456789'\n",
        "result = ''\n",
        "while number != 0:\n",
        "  result = digits[number % 10] + result\n",
        "  number //= 10\n",
        "print(result)\n",
        "print(type(result))"
      ]
    },
    {
      "cell_type": "code",
      "execution_count": null,
      "metadata": {
        "id": "CasIkG3H0F5A"
      },
      "outputs": [],
      "source": [
        "# List\n",
        "# Collection in python for sequence of diverse data types"
      ]
    },
    {
      "cell_type": "code",
      "execution_count": null,
      "metadata": {
        "id": "TPnIQYqObUPN"
      },
      "outputs": [],
      "source": [
        "# List vs Array\n",
        "# Array: Homogeneous; Contiguous memory; Fast; Numerical/Scientific use.\n",
        "# List: Hetrogeneous; Non-contiguous memory; Programmer-friendly; General-purpose"
      ]
    },
    {
      "cell_type": "code",
      "execution_count": null,
      "metadata": {
        "id": "P6KFq0Skbv9_"
      },
      "outputs": [],
      "source": [
        "# Create\n",
        "# Access\n",
        "# Edit\n",
        "# Add\n",
        "# Delete\n",
        "# Operations\n",
        "# Functions"
      ]
    },
    {
      "cell_type": "code",
      "execution_count": null,
      "metadata": {
        "id": "CL9myOncb55B"
      },
      "outputs": [],
      "source": [
        "# Array vs.Lists in Memory:\n",
        "# Array:\n",
        "  # int arr[50]; ---> 50 contiguous memory blocks.\n",
        "  # Elements stored in binary form at consecutive address\n",
        "\n",
        "# Lists:\n",
        "  # list_example = [1, 2, 3] ----> Elements at different locations.\n",
        "  # Stores references/pointers to elements, not the values"
      ]
    },
    {
      "cell_type": "code",
      "execution_count": null,
      "metadata": {
        "colab": {
          "base_uri": "https://localhost:8080/"
        },
        "id": "ridPb29hczh_",
        "outputId": "6a6212f1-5c73-4661-be1e-5686608a6a69"
      },
      "outputs": [
        {
          "name": "stdout",
          "output_type": "stream",
          "text": [
            "134626115504256\n",
            "10757736\n",
            "10757768\n",
            "10757800\n",
            "10757736\n",
            "10757768\n",
            "10757800\n"
          ]
        }
      ],
      "source": [
        "# Proof ----->\n",
        "L = [1, 2, 3]\n",
        "print(id(L))\n",
        "print(id(L[0]))\n",
        "print(id(L[1]))\n",
        "print(id(L[2]))\n",
        "print(id(1))\n",
        "print(id(2))\n",
        "print(id(3))"
      ]
    },
    {
      "cell_type": "code",
      "execution_count": null,
      "metadata": {
        "id": "rfiZuLq3c_jb"
      },
      "outputs": [],
      "source": [
        "# List Characteristics\n",
        "  # Ordered\n",
        "  # Mutable\n",
        "  # Hetrogeneous\n",
        "  # Duplicates Allowed\n",
        "  # Dynamic size\n",
        "  # Nesting Supported\n",
        "  # Indexable\n",
        "  # Any Object type"
      ]
    },
    {
      "cell_type": "code",
      "execution_count": null,
      "metadata": {
        "id": "NdVR4qRZhpm_"
      },
      "outputs": [],
      "source": [
        "# 1. Create\n"
      ]
    },
    {
      "cell_type": "code",
      "execution_count": null,
      "metadata": {
        "colab": {
          "base_uri": "https://localhost:8080/"
        },
        "id": "g2e4IxFWhsMO",
        "outputId": "6481f0f4-8b67-4e2a-b7cb-e5d95c2a96a5"
      },
      "outputs": [
        {
          "data": {
            "text/plain": [
              "[]"
            ]
          },
          "execution_count": 10,
          "metadata": {},
          "output_type": "execute_result"
        }
      ],
      "source": [
        "# Empty\n",
        "L = []\n",
        "L"
      ]
    },
    {
      "cell_type": "code",
      "execution_count": null,
      "metadata": {
        "colab": {
          "base_uri": "https://localhost:8080/"
        },
        "id": "VF547b0YhuxO",
        "outputId": "83bcde3a-d34f-40d9-8f42-1758c22a50f4"
      },
      "outputs": [
        {
          "data": {
            "text/plain": [
              "[1, 2, 3, 4, 5]"
            ]
          },
          "execution_count": 11,
          "metadata": {},
          "output_type": "execute_result"
        }
      ],
      "source": [
        "# 1D ---> Homo\n",
        "L1 = [1, 2, 3, 4, 5]\n",
        "L1"
      ]
    },
    {
      "cell_type": "code",
      "execution_count": null,
      "metadata": {
        "colab": {
          "base_uri": "https://localhost:8080/"
        },
        "id": "EfCOBQxhh6SJ",
        "outputId": "7130b655-5890-47d0-db09-92876a6b56e2"
      },
      "outputs": [
        {
          "data": {
            "text/plain": [
              "['Hello', 4, 5, 6, True, (5+6j)]"
            ]
          },
          "execution_count": 13,
          "metadata": {},
          "output_type": "execute_result"
        }
      ],
      "source": [
        "# Hetrogenous\n",
        "L2 = [\"Hello\", 4, 5, 6, True, 5 + 6j]\n",
        "L2"
      ]
    },
    {
      "cell_type": "code",
      "execution_count": null,
      "metadata": {
        "colab": {
          "base_uri": "https://localhost:8080/"
        },
        "id": "WByVTL-QiFY8",
        "outputId": "62b76d73-19e1-499d-a258-f7a9fdcd28b0"
      },
      "outputs": [
        {
          "data": {
            "text/plain": [
              "[1, 2, 3, [4, 5]]"
            ]
          },
          "execution_count": 14,
          "metadata": {},
          "output_type": "execute_result"
        }
      ],
      "source": [
        "# Multidimentional list:\n",
        "# 2D\n",
        "L3 = [1, 2, 3, [4, 5]]\n",
        "L3"
      ]
    },
    {
      "cell_type": "code",
      "execution_count": null,
      "metadata": {
        "colab": {
          "base_uri": "https://localhost:8080/"
        },
        "id": "_kwUMlwwiU0R",
        "outputId": "c4ad4cac-9fe7-466b-de55-86c4727f6053"
      },
      "outputs": [
        {
          "data": {
            "text/plain": [
              "[[[1, 2], [3, 4], [[5, 6], [7, 8]]]]"
            ]
          },
          "execution_count": 15,
          "metadata": {},
          "output_type": "execute_result"
        }
      ],
      "source": [
        "# 3D\n",
        "L4 = [[[1, 2,], [3, 4], [[5, 6], [7, 8]]]]\n",
        "L4"
      ]
    },
    {
      "cell_type": "code",
      "execution_count": null,
      "metadata": {
        "colab": {
          "base_uri": "https://localhost:8080/"
        },
        "id": "DU51qgyNiiQP",
        "outputId": "628e2256-9e47-420b-fba4-39294ff1a7d2"
      },
      "outputs": [
        {
          "data": {
            "text/plain": [
              "['H', 'e', 'l', 'l', 'o']"
            ]
          },
          "execution_count": 18,
          "metadata": {},
          "output_type": "execute_result"
        }
      ],
      "source": [
        "# Using Type Conversion\n",
        "L5 = list(\"Hello\")\n",
        "L5\n"
      ]
    },
    {
      "cell_type": "code",
      "execution_count": null,
      "metadata": {
        "colab": {
          "base_uri": "https://localhost:8080/"
        },
        "id": "aJSckrjcinee",
        "outputId": "6b8f6d88-29de-401d-d8a0-37da85c54083"
      },
      "outputs": [
        {
          "data": {
            "text/plain": [
              "[]"
            ]
          },
          "execution_count": 19,
          "metadata": {},
          "output_type": "execute_result"
        }
      ],
      "source": [
        "L6 = list()\n",
        "L6"
      ]
    },
    {
      "cell_type": "code",
      "execution_count": null,
      "metadata": {
        "id": "03_RWLsNi1mr"
      },
      "outputs": [],
      "source": [
        "# 2. Access\n"
      ]
    },
    {
      "cell_type": "code",
      "execution_count": null,
      "metadata": {
        "colab": {
          "base_uri": "https://localhost:8080/"
        },
        "id": "9cFzMSm8i5WF",
        "outputId": "8b85c183-8c76-414f-d9e1-d7815b184225"
      },
      "outputs": [
        {
          "data": {
            "text/plain": [
              "[1, 2, 3, 4, 5]"
            ]
          },
          "execution_count": 21,
          "metadata": {},
          "output_type": "execute_result"
        }
      ],
      "source": [
        "L1"
      ]
    },
    {
      "cell_type": "code",
      "execution_count": null,
      "metadata": {
        "colab": {
          "base_uri": "https://localhost:8080/"
        },
        "id": "g6xKv7A1i6VO",
        "outputId": "dfff00bb-4082-4d22-86f6-3c061e9ce13b"
      },
      "outputs": [
        {
          "data": {
            "text/plain": [
              "1"
            ]
          },
          "execution_count": 22,
          "metadata": {},
          "output_type": "execute_result"
        }
      ],
      "source": [
        "L1[0]"
      ]
    },
    {
      "cell_type": "code",
      "execution_count": null,
      "metadata": {
        "colab": {
          "base_uri": "https://localhost:8080/"
        },
        "id": "fu65zn2di7_Q",
        "outputId": "48e153d8-4ccc-4a53-ed59-5adfcf9cbdfa"
      },
      "outputs": [
        {
          "data": {
            "text/plain": [
              "5"
            ]
          },
          "execution_count": 24,
          "metadata": {},
          "output_type": "execute_result"
        }
      ],
      "source": [
        "L1[-1]"
      ]
    },
    {
      "cell_type": "code",
      "execution_count": null,
      "metadata": {
        "id": "V5OxtrJPi91i"
      },
      "outputs": [],
      "source": [
        "# Slicing\n"
      ]
    },
    {
      "cell_type": "code",
      "execution_count": null,
      "metadata": {
        "colab": {
          "base_uri": "https://localhost:8080/"
        },
        "id": "1C2ZlkvpjC-v",
        "outputId": "45eed126-955c-49f2-a341-a3e0a037d563"
      },
      "outputs": [
        {
          "data": {
            "text/plain": [
              "[2, 3]"
            ]
          },
          "execution_count": 27,
          "metadata": {},
          "output_type": "execute_result"
        }
      ],
      "source": [
        "L1[1:3]"
      ]
    },
    {
      "cell_type": "code",
      "execution_count": null,
      "metadata": {
        "colab": {
          "base_uri": "https://localhost:8080/"
        },
        "id": "0CA7UbvjjET6",
        "outputId": "b579d270-e219-44d1-da5d-299ab9354cc9"
      },
      "outputs": [
        {
          "data": {
            "text/plain": [
              "[5, 4, 3, 2, 1]"
            ]
          },
          "execution_count": 28,
          "metadata": {},
          "output_type": "execute_result"
        }
      ],
      "source": [
        "L1[::-1]"
      ]
    },
    {
      "cell_type": "code",
      "execution_count": null,
      "metadata": {
        "colab": {
          "base_uri": "https://localhost:8080/"
        },
        "id": "isWq9yuRjHkl",
        "outputId": "6a62e866-cb53-4b80-ba92-03b380556517"
      },
      "outputs": [
        {
          "data": {
            "text/plain": [
              "[1, 2, 3, [4, 5]]"
            ]
          },
          "execution_count": 29,
          "metadata": {},
          "output_type": "execute_result"
        }
      ],
      "source": [
        "L3"
      ]
    },
    {
      "cell_type": "code",
      "execution_count": null,
      "metadata": {
        "colab": {
          "base_uri": "https://localhost:8080/"
        },
        "id": "AV7dDI7QjJjT",
        "outputId": "be4daad5-6f8e-46fd-a9df-d5a75ad28599"
      },
      "outputs": [
        {
          "data": {
            "text/plain": [
              "1"
            ]
          },
          "execution_count": 30,
          "metadata": {},
          "output_type": "execute_result"
        }
      ],
      "source": [
        "L3[0]"
      ]
    },
    {
      "cell_type": "code",
      "execution_count": null,
      "metadata": {
        "colab": {
          "base_uri": "https://localhost:8080/"
        },
        "id": "3AoYiMMLjMnJ",
        "outputId": "6ec1c6b8-ab1f-4205-d8eb-76155b9466ab"
      },
      "outputs": [
        {
          "data": {
            "text/plain": [
              "[4, 5]"
            ]
          },
          "execution_count": 31,
          "metadata": {},
          "output_type": "execute_result"
        }
      ],
      "source": [
        "L3[-1]"
      ]
    },
    {
      "cell_type": "code",
      "execution_count": null,
      "metadata": {
        "colab": {
          "base_uri": "https://localhost:8080/"
        },
        "id": "eG005HL3jOVI",
        "outputId": "902296d7-038e-466b-ebaa-892ad1e34221"
      },
      "outputs": [
        {
          "data": {
            "text/plain": [
              "[4, 5]"
            ]
          },
          "execution_count": 32,
          "metadata": {},
          "output_type": "execute_result"
        }
      ],
      "source": [
        "x = L3[-1]\n",
        "x"
      ]
    },
    {
      "cell_type": "code",
      "execution_count": null,
      "metadata": {
        "colab": {
          "base_uri": "https://localhost:8080/"
        },
        "id": "BwASgOubjUem",
        "outputId": "5d810792-fdc7-4fb6-93c1-d287227656b2"
      },
      "outputs": [
        {
          "data": {
            "text/plain": [
              "4"
            ]
          },
          "execution_count": 33,
          "metadata": {},
          "output_type": "execute_result"
        }
      ],
      "source": [
        "x[0]"
      ]
    },
    {
      "cell_type": "code",
      "execution_count": null,
      "metadata": {
        "colab": {
          "base_uri": "https://localhost:8080/"
        },
        "id": "HUTwfINzjYmd",
        "outputId": "03231632-203e-4377-b857-c03ca4e78548"
      },
      "outputs": [
        {
          "data": {
            "text/plain": [
              "4"
            ]
          },
          "execution_count": 34,
          "metadata": {},
          "output_type": "execute_result"
        }
      ],
      "source": [
        "L3[-1][0]"
      ]
    },
    {
      "cell_type": "code",
      "execution_count": null,
      "metadata": {
        "colab": {
          "base_uri": "https://localhost:8080/"
        },
        "id": "WGNCS90cjcqY",
        "outputId": "9a3eadc1-3645-4beb-c9d1-bdec02e0b471"
      },
      "outputs": [
        {
          "data": {
            "text/plain": [
              "5"
            ]
          },
          "execution_count": 35,
          "metadata": {},
          "output_type": "execute_result"
        }
      ],
      "source": [
        "L3[-1][-1]"
      ]
    },
    {
      "cell_type": "code",
      "execution_count": null,
      "metadata": {
        "colab": {
          "base_uri": "https://localhost:8080/"
        },
        "id": "DW7ycKZ6jgz1",
        "outputId": "223233f5-235a-446b-a93d-0dd3fb5afa06"
      },
      "outputs": [
        {
          "data": {
            "text/plain": [
              "[[[1, 2], [3, 4], [[5, 6], [7, 8]]]]"
            ]
          },
          "execution_count": 36,
          "metadata": {},
          "output_type": "execute_result"
        }
      ],
      "source": [
        "L4"
      ]
    },
    {
      "cell_type": "code",
      "execution_count": null,
      "metadata": {
        "colab": {
          "base_uri": "https://localhost:8080/"
        },
        "id": "WfHFtEKVji8k",
        "outputId": "4850ebe2-0fae-4425-ea3e-0e236ae85bab"
      },
      "outputs": [
        {
          "data": {
            "text/plain": [
              "[5, 6]"
            ]
          },
          "execution_count": 40,
          "metadata": {},
          "output_type": "execute_result"
        }
      ],
      "source": [
        "L4[-1][-1][0]"
      ]
    },
    {
      "cell_type": "code",
      "execution_count": null,
      "metadata": {
        "colab": {
          "base_uri": "https://localhost:8080/"
        },
        "id": "UMO7wXpGjrh4",
        "outputId": "b81ae3dd-c4b4-44d7-d9dc-c29c4d3bd66a"
      },
      "outputs": [
        {
          "data": {
            "text/plain": [
              "4"
            ]
          },
          "execution_count": 41,
          "metadata": {},
          "output_type": "execute_result"
        }
      ],
      "source": [
        "L4[0][1][1]"
      ]
    },
    {
      "cell_type": "code",
      "execution_count": null,
      "metadata": {
        "id": "XXVd5nBekB-c"
      },
      "outputs": [],
      "source": [
        "# 3. Edit"
      ]
    },
    {
      "cell_type": "code",
      "execution_count": null,
      "metadata": {
        "colab": {
          "base_uri": "https://localhost:8080/"
        },
        "id": "fRLFN648kD88",
        "outputId": "8294b200-c08f-40d0-d04c-7f350a26aa06"
      },
      "outputs": [
        {
          "data": {
            "text/plain": [
              "[1, 2, 3, 4, 5]"
            ]
          },
          "execution_count": 43,
          "metadata": {},
          "output_type": "execute_result"
        }
      ],
      "source": [
        "L1"
      ]
    },
    {
      "cell_type": "code",
      "execution_count": null,
      "metadata": {
        "colab": {
          "base_uri": "https://localhost:8080/"
        },
        "id": "NXKB9_6HkEng",
        "outputId": "58adfd56-4cbc-4f6c-f591-ee63e9e0b6ea"
      },
      "outputs": [
        {
          "data": {
            "text/plain": [
              "[100, 2, 3, 4, 5]"
            ]
          },
          "execution_count": 44,
          "metadata": {},
          "output_type": "execute_result"
        }
      ],
      "source": [
        "# Editing With Indexing\n",
        "L1[0] = 100\n",
        "L1"
      ]
    },
    {
      "cell_type": "code",
      "execution_count": null,
      "metadata": {
        "colab": {
          "base_uri": "https://localhost:8080/"
        },
        "id": "n-m-8pIDkSH4",
        "outputId": "0631831b-3d68-44b3-f0ec-59815d0d7553"
      },
      "outputs": [
        {
          "data": {
            "text/plain": [
              "[100, 2, 3, 4, 500]"
            ]
          },
          "execution_count": 45,
          "metadata": {},
          "output_type": "execute_result"
        }
      ],
      "source": [
        "L1[-1] = 500\n",
        "L1"
      ]
    },
    {
      "cell_type": "code",
      "execution_count": null,
      "metadata": {
        "colab": {
          "base_uri": "https://localhost:8080/"
        },
        "id": "oiTGvUvfkVRe",
        "outputId": "24256af8-c2e8-4b07-91ff-af79cf2513ac"
      },
      "outputs": [
        {
          "data": {
            "text/plain": [
              "[100, 200, 300, 400, 500]"
            ]
          },
          "execution_count": 46,
          "metadata": {},
          "output_type": "execute_result"
        }
      ],
      "source": [
        "# Editing with Slicing\n",
        "L1[1:4] = [200, 300, 400]\n",
        "L1"
      ]
    },
    {
      "cell_type": "code",
      "execution_count": null,
      "metadata": {
        "id": "KWNGLfv3kcps"
      },
      "outputs": [],
      "source": [
        "# Add\n",
        "  # append()\n",
        "  # extend()\n",
        "  # insert()"
      ]
    },
    {
      "cell_type": "code",
      "execution_count": null,
      "metadata": {
        "colab": {
          "base_uri": "https://localhost:8080/"
        },
        "id": "0DOOT8pgkkzx",
        "outputId": "5334ba8f-3e41-4e42-cdbe-8a91a601d378"
      },
      "outputs": [
        {
          "data": {
            "text/plain": [
              "[100, 200, 300, 400, 500]"
            ]
          },
          "execution_count": 48,
          "metadata": {},
          "output_type": "execute_result"
        }
      ],
      "source": [
        "L1"
      ]
    },
    {
      "cell_type": "code",
      "execution_count": null,
      "metadata": {
        "id": "U-ieTvDnknaq"
      },
      "outputs": [],
      "source": [
        "L1.append(1000)"
      ]
    },
    {
      "cell_type": "code",
      "execution_count": null,
      "metadata": {
        "colab": {
          "base_uri": "https://localhost:8080/"
        },
        "id": "wAV4JCIFkp2-",
        "outputId": "18cec362-5684-495f-ed2d-0b452ae68cbb"
      },
      "outputs": [
        {
          "data": {
            "text/plain": [
              "[100, 200, 300, 400, 500, 1000]"
            ]
          },
          "execution_count": 50,
          "metadata": {},
          "output_type": "execute_result"
        }
      ],
      "source": [
        "L1\n"
      ]
    },
    {
      "cell_type": "code",
      "execution_count": null,
      "metadata": {
        "id": "AD2m7JJPkq6D"
      },
      "outputs": [],
      "source": [
        "L1.append(\"Hello\")"
      ]
    },
    {
      "cell_type": "code",
      "execution_count": null,
      "metadata": {
        "colab": {
          "base_uri": "https://localhost:8080/"
        },
        "id": "SEH1C2g1kt5l",
        "outputId": "16b788da-e26e-4b76-e0b9-cdb7bfe8d669"
      },
      "outputs": [
        {
          "data": {
            "text/plain": [
              "[100, 200, 300, 400, 500, 1000, 'Hello']"
            ]
          },
          "execution_count": 52,
          "metadata": {},
          "output_type": "execute_result"
        }
      ],
      "source": [
        "L1"
      ]
    },
    {
      "cell_type": "code",
      "execution_count": null,
      "metadata": {
        "colab": {
          "base_uri": "https://localhost:8080/"
        },
        "id": "Yfsjj9Dhkulx",
        "outputId": "de1380e1-8c47-4582-bcee-afc1a01b560e"
      },
      "outputs": [
        {
          "data": {
            "text/plain": [
              "[100, 200, 300, 400, 500, 1000, 'Hello', 5000, 6000, 7000]"
            ]
          },
          "execution_count": 53,
          "metadata": {},
          "output_type": "execute_result"
        }
      ],
      "source": [
        "L1.extend([5000, 6000, 7000])\n",
        "L1"
      ]
    },
    {
      "cell_type": "code",
      "execution_count": null,
      "metadata": {
        "id": "rs09C2c5k12J"
      },
      "outputs": [],
      "source": [
        "L1.append([5, 6])"
      ]
    },
    {
      "cell_type": "code",
      "execution_count": null,
      "metadata": {
        "colab": {
          "base_uri": "https://localhost:8080/"
        },
        "id": "qIPO_a5hk68V",
        "outputId": "3b517410-5498-40ba-e03c-7db91f11ec9a"
      },
      "outputs": [
        {
          "data": {
            "text/plain": [
              "[100, 200, 300, 400, 500, 1000, 'Hello', 5000, 6000, 7000, [5, 6]]"
            ]
          },
          "execution_count": 55,
          "metadata": {},
          "output_type": "execute_result"
        }
      ],
      "source": [
        "L1"
      ]
    },
    {
      "cell_type": "code",
      "execution_count": null,
      "metadata": {
        "colab": {
          "base_uri": "https://localhost:8080/"
        },
        "id": "vxiDqXQsk7qH",
        "outputId": "fcd55894-8020-4efa-997d-d92d612df590"
      },
      "outputs": [
        {
          "data": {
            "text/plain": [
              "[100,\n",
              " 200,\n",
              " 300,\n",
              " 400,\n",
              " 500,\n",
              " 1000,\n",
              " 'Hello',\n",
              " 5000,\n",
              " 6000,\n",
              " 7000,\n",
              " [5, 6],\n",
              " 'g',\n",
              " 'o',\n",
              " 'a']"
            ]
          },
          "execution_count": 56,
          "metadata": {},
          "output_type": "execute_result"
        }
      ],
      "source": [
        "L1.extend(\"goa\")\n",
        "L1"
      ]
    },
    {
      "cell_type": "code",
      "execution_count": null,
      "metadata": {
        "colab": {
          "base_uri": "https://localhost:8080/"
        },
        "id": "ncvtNIJsk-kO",
        "outputId": "1a687758-c74a-4f5c-cd5a-6d178cc90ccb"
      },
      "outputs": [
        {
          "data": {
            "text/plain": [
              "[100,\n",
              " 'world',\n",
              " 200,\n",
              " 300,\n",
              " 400,\n",
              " 500,\n",
              " 1000,\n",
              " 'Hello',\n",
              " 5000,\n",
              " 6000,\n",
              " 7000,\n",
              " [5, 6],\n",
              " 'g',\n",
              " 'o',\n",
              " 'a']"
            ]
          },
          "execution_count": 57,
          "metadata": {},
          "output_type": "execute_result"
        }
      ],
      "source": [
        "L1.insert(1, \"world\")\n",
        "L1"
      ]
    },
    {
      "cell_type": "code",
      "execution_count": null,
      "metadata": {
        "id": "f5qVdwpilDwa"
      },
      "outputs": [],
      "source": [
        "# 5. Delete"
      ]
    },
    {
      "cell_type": "code",
      "execution_count": null,
      "metadata": {
        "id": "cMa3UjNSlIah"
      },
      "outputs": [],
      "source": [
        "# del\n",
        "# .remove()\n",
        "# .pop()\n",
        "# .clear()"
      ]
    },
    {
      "cell_type": "code",
      "execution_count": null,
      "metadata": {
        "colab": {
          "base_uri": "https://localhost:8080/"
        },
        "id": "aIZkcCyBlPfk",
        "outputId": "a071d59f-204d-4737-e8dc-e99203231469"
      },
      "outputs": [
        {
          "data": {
            "text/plain": [
              "['Hello', 4, 5, 6, True, (5+6j)]"
            ]
          },
          "execution_count": 60,
          "metadata": {},
          "output_type": "execute_result"
        }
      ],
      "source": [
        "L2"
      ]
    },
    {
      "cell_type": "code",
      "execution_count": null,
      "metadata": {
        "colab": {
          "base_uri": "https://localhost:8080/",
          "height": 166
        },
        "id": "GQxLy1MllTcR",
        "outputId": "89290cd7-f3d7-4dbc-8e2d-e6d3e8d3679e"
      },
      "outputs": [
        {
          "ename": "NameError",
          "evalue": "name 'L2' is not defined",
          "output_type": "error",
          "traceback": [
            "\u001b[0;31m---------------------------------------------------------------------------\u001b[0m",
            "\u001b[0;31mNameError\u001b[0m                                 Traceback (most recent call last)",
            "\u001b[0;32m/tmp/ipython-input-61-3495304003.py\u001b[0m in \u001b[0;36m<cell line: 0>\u001b[0;34m()\u001b[0m\n\u001b[1;32m      1\u001b[0m \u001b[0;32mdel\u001b[0m \u001b[0mL2\u001b[0m\u001b[0;34m\u001b[0m\u001b[0;34m\u001b[0m\u001b[0m\n\u001b[0;32m----> 2\u001b[0;31m \u001b[0mL2\u001b[0m\u001b[0;34m\u001b[0m\u001b[0;34m\u001b[0m\u001b[0m\n\u001b[0m",
            "\u001b[0;31mNameError\u001b[0m: name 'L2' is not defined"
          ]
        }
      ],
      "source": [
        "del L2\n",
        "L2"
      ]
    },
    {
      "cell_type": "code",
      "execution_count": null,
      "metadata": {
        "colab": {
          "base_uri": "https://localhost:8080/"
        },
        "id": "lWgVVbSllWyp",
        "outputId": "647145c7-8922-4d2b-a26a-a0015526a33f"
      },
      "outputs": [
        {
          "data": {
            "text/plain": [
              "['world',\n",
              " 200,\n",
              " 300,\n",
              " 400,\n",
              " 500,\n",
              " 1000,\n",
              " 'Hello',\n",
              " 5000,\n",
              " 6000,\n",
              " 7000,\n",
              " [5, 6],\n",
              " 'g',\n",
              " 'o',\n",
              " 'a']"
            ]
          },
          "execution_count": 62,
          "metadata": {},
          "output_type": "execute_result"
        }
      ],
      "source": [
        "del L1[0]\n",
        "L1"
      ]
    },
    {
      "cell_type": "code",
      "execution_count": null,
      "metadata": {
        "colab": {
          "base_uri": "https://localhost:8080/"
        },
        "id": "MdL1qr2JlbaY",
        "outputId": "7947d051-3311-46d3-be82-57ee6b6c6a71"
      },
      "outputs": [
        {
          "data": {
            "text/plain": [
              "['world', 200, 300, 400, 500, 1000, 'Hello', 5000, 6000, 7000, 'g', 'o', 'a']"
            ]
          },
          "execution_count": 63,
          "metadata": {},
          "output_type": "execute_result"
        }
      ],
      "source": [
        "del L1[-4]\n",
        "L1"
      ]
    },
    {
      "cell_type": "code",
      "execution_count": null,
      "metadata": {
        "colab": {
          "base_uri": "https://localhost:8080/"
        },
        "id": "dWa4sWWWliFr",
        "outputId": "5ac991a4-5db3-4baf-f258-82ef0dd0555a"
      },
      "outputs": [
        {
          "data": {
            "text/plain": [
              "['world', 200, 300, 400, 500, 1000, 'Hello', 5000, 6000, 7000]"
            ]
          },
          "execution_count": 64,
          "metadata": {},
          "output_type": "execute_result"
        }
      ],
      "source": [
        "del L1[-3:]\n",
        "L1"
      ]
    },
    {
      "cell_type": "code",
      "execution_count": null,
      "metadata": {
        "colab": {
          "base_uri": "https://localhost:8080/"
        },
        "id": "HJ1OUKkYlpAx",
        "outputId": "1ddb79ce-e441-4291-dbd3-32f675f4d7af"
      },
      "outputs": [
        {
          "data": {
            "text/plain": [
              "['world', 200, 300, 400, 500, 1000, 5000, 6000, 7000]"
            ]
          },
          "execution_count": 66,
          "metadata": {},
          "output_type": "execute_result"
        }
      ],
      "source": [
        "L1.remove(\"Hello\")\n",
        "L1"
      ]
    },
    {
      "cell_type": "code",
      "execution_count": null,
      "metadata": {
        "colab": {
          "base_uri": "https://localhost:8080/"
        },
        "id": "Y7F-am_Blvz2",
        "outputId": "a2a4baaa-564f-4a62-c643-b8eded58b324"
      },
      "outputs": [
        {
          "data": {
            "text/plain": [
              "7000"
            ]
          },
          "execution_count": 67,
          "metadata": {},
          "output_type": "execute_result"
        }
      ],
      "source": [
        "L1.pop()"
      ]
    },
    {
      "cell_type": "code",
      "execution_count": null,
      "metadata": {
        "colab": {
          "base_uri": "https://localhost:8080/"
        },
        "id": "bFoWPntel2OS",
        "outputId": "51e1891e-0e2b-4d97-e23e-6b998b198e34"
      },
      "outputs": [
        {
          "data": {
            "text/plain": [
              "6000"
            ]
          },
          "execution_count": 68,
          "metadata": {},
          "output_type": "execute_result"
        }
      ],
      "source": [
        "L1.pop()"
      ]
    },
    {
      "cell_type": "code",
      "execution_count": null,
      "metadata": {
        "colab": {
          "base_uri": "https://localhost:8080/"
        },
        "id": "GEkfpI8el4WT",
        "outputId": "20e3cd3d-37af-4987-d18d-b6cabc116cb9"
      },
      "outputs": [
        {
          "data": {
            "text/plain": [
              "['world', 200, 300, 400, 500, 1000, 5000]"
            ]
          },
          "execution_count": 69,
          "metadata": {},
          "output_type": "execute_result"
        }
      ],
      "source": [
        "L1"
      ]
    },
    {
      "cell_type": "code",
      "execution_count": null,
      "metadata": {
        "colab": {
          "base_uri": "https://localhost:8080/"
        },
        "id": "PkltzbaEl5Ry",
        "outputId": "98e495fd-626d-4dfa-d03c-5483fd255fdc"
      },
      "outputs": [
        {
          "data": {
            "text/plain": [
              "[]"
            ]
          },
          "execution_count": 70,
          "metadata": {},
          "output_type": "execute_result"
        }
      ],
      "source": [
        "L1.clear()\n",
        "L1"
      ]
    },
    {
      "cell_type": "code",
      "execution_count": null,
      "metadata": {
        "id": "gehskWyRl-78"
      },
      "outputs": [],
      "source": [
        "# 6. Operations\n",
        "  # Arithmetic\n",
        "  # Membership\n",
        "  # Loop"
      ]
    },
    {
      "cell_type": "code",
      "execution_count": null,
      "metadata": {
        "id": "wptCn6jrmFb5"
      },
      "outputs": [],
      "source": [
        "L = [1, 2, 3, 4]\n",
        "L1 = [5, 6, 7, 8]"
      ]
    },
    {
      "cell_type": "code",
      "execution_count": null,
      "metadata": {
        "colab": {
          "base_uri": "https://localhost:8080/"
        },
        "id": "kG8EwgEZmRuZ",
        "outputId": "08fe588d-c04f-452a-bd89-573f96d67f36"
      },
      "outputs": [
        {
          "data": {
            "text/plain": [
              "[1, 2, 3, 4, 5, 6, 7, 8]"
            ]
          },
          "execution_count": 73,
          "metadata": {},
          "output_type": "execute_result"
        }
      ],
      "source": [
        "# Concatenation/Merge\n",
        "L + L1"
      ]
    },
    {
      "cell_type": "code",
      "execution_count": null,
      "metadata": {
        "colab": {
          "base_uri": "https://localhost:8080/"
        },
        "id": "MtO04kcTmUnf",
        "outputId": "721e5f51-2bbe-40f5-9215-034c64e2cc66"
      },
      "outputs": [
        {
          "data": {
            "text/plain": [
              "([1, 2, 3, 4], [5, 6, 7, 8])"
            ]
          },
          "execution_count": 74,
          "metadata": {},
          "output_type": "execute_result"
        }
      ],
      "source": [
        "L, L1"
      ]
    },
    {
      "cell_type": "code",
      "execution_count": null,
      "metadata": {
        "colab": {
          "base_uri": "https://localhost:8080/"
        },
        "id": "BkQ3jNK6mXs3",
        "outputId": "ec52f17b-5b9a-4c3d-b50a-42f2e7854b57"
      },
      "outputs": [
        {
          "data": {
            "text/plain": [
              "[1, 2, 3, 4, 1, 2, 3, 4, 1, 2, 3, 4]"
            ]
          },
          "execution_count": 75,
          "metadata": {},
          "output_type": "execute_result"
        }
      ],
      "source": [
        "L * 3"
      ]
    },
    {
      "cell_type": "code",
      "execution_count": null,
      "metadata": {
        "colab": {
          "base_uri": "https://localhost:8080/"
        },
        "id": "_oO3TwMvmdr9",
        "outputId": "95ca2acb-f608-4342-b737-d2312462ad90"
      },
      "outputs": [
        {
          "name": "stdout",
          "output_type": "stream",
          "text": [
            "1\n",
            "2\n",
            "3\n",
            "4\n"
          ]
        }
      ],
      "source": [
        "# Loops\n",
        "for i in L:\n",
        "  print(i)"
      ]
    },
    {
      "cell_type": "code",
      "execution_count": null,
      "metadata": {
        "colab": {
          "base_uri": "https://localhost:8080/"
        },
        "id": "Zf8iSWZVmhcz",
        "outputId": "22ca3831-63a1-4f18-ddef-2c36255edd94"
      },
      "outputs": [
        {
          "data": {
            "text/plain": [
              "[1, 2, 3, [4, 5]]"
            ]
          },
          "execution_count": 77,
          "metadata": {},
          "output_type": "execute_result"
        }
      ],
      "source": [
        "L3"
      ]
    },
    {
      "cell_type": "code",
      "execution_count": null,
      "metadata": {
        "colab": {
          "base_uri": "https://localhost:8080/"
        },
        "id": "4gR1hlD_mj58",
        "outputId": "fd4c6454-6d8a-4a7b-c54d-1cd239d8f56f"
      },
      "outputs": [
        {
          "name": "stdout",
          "output_type": "stream",
          "text": [
            "1\n",
            "2\n",
            "3\n",
            "[4, 5]\n"
          ]
        }
      ],
      "source": [
        "for i in L3:\n",
        "  print(i)"
      ]
    },
    {
      "cell_type": "code",
      "execution_count": null,
      "metadata": {
        "colab": {
          "base_uri": "https://localhost:8080/"
        },
        "id": "0xiCxtd4mq41",
        "outputId": "7f776003-d0aa-4177-9289-6ec6c481c5e8"
      },
      "outputs": [
        {
          "data": {
            "text/plain": [
              "False"
            ]
          },
          "execution_count": 79,
          "metadata": {},
          "output_type": "execute_result"
        }
      ],
      "source": [
        "4 in L3"
      ]
    },
    {
      "cell_type": "code",
      "execution_count": null,
      "metadata": {
        "colab": {
          "base_uri": "https://localhost:8080/"
        },
        "id": "__X-xUiymuiY",
        "outputId": "e6eb4f1e-81b6-43ed-c737-fc995a623cb3"
      },
      "outputs": [
        {
          "data": {
            "text/plain": [
              "True"
            ]
          },
          "execution_count": 80,
          "metadata": {},
          "output_type": "execute_result"
        }
      ],
      "source": [
        "[4, 5] in L3"
      ]
    },
    {
      "cell_type": "code",
      "execution_count": null,
      "metadata": {
        "id": "scnHNZ0HmxBZ"
      },
      "outputs": [],
      "source": [
        "# 7. Functions\n",
        "# len()\n",
        "# min()\n",
        "# max()\n",
        "# sorted()"
      ]
    },
    {
      "cell_type": "code",
      "execution_count": null,
      "metadata": {
        "colab": {
          "base_uri": "https://localhost:8080/"
        },
        "id": "aTq8awifm4eV",
        "outputId": "d31faa8b-d6ec-4375-bdda-b689677effae"
      },
      "outputs": [
        {
          "data": {
            "text/plain": [
              "[1, 2, 3, 4]"
            ]
          },
          "execution_count": 82,
          "metadata": {},
          "output_type": "execute_result"
        }
      ],
      "source": [
        "L"
      ]
    },
    {
      "cell_type": "code",
      "execution_count": null,
      "metadata": {
        "colab": {
          "base_uri": "https://localhost:8080/"
        },
        "id": "fOG3bGWym52D",
        "outputId": "61f27c5b-18fb-48e1-e865-989665f9d9ac"
      },
      "outputs": [
        {
          "data": {
            "text/plain": [
              "4"
            ]
          },
          "execution_count": 83,
          "metadata": {},
          "output_type": "execute_result"
        }
      ],
      "source": [
        "len(L)"
      ]
    },
    {
      "cell_type": "code",
      "execution_count": null,
      "metadata": {
        "colab": {
          "base_uri": "https://localhost:8080/"
        },
        "id": "hQr2LbV1m7oR",
        "outputId": "6fdc1411-65aa-4b96-8892-7d273220fa2c"
      },
      "outputs": [
        {
          "data": {
            "text/plain": [
              "1"
            ]
          },
          "execution_count": 84,
          "metadata": {},
          "output_type": "execute_result"
        }
      ],
      "source": [
        "min(L)"
      ]
    },
    {
      "cell_type": "code",
      "execution_count": null,
      "metadata": {
        "colab": {
          "base_uri": "https://localhost:8080/"
        },
        "id": "K_HGxy5am9xr",
        "outputId": "3e3c629a-e34f-4b89-c3be-8863ab75a5ec"
      },
      "outputs": [
        {
          "data": {
            "text/plain": [
              "4"
            ]
          },
          "execution_count": 85,
          "metadata": {},
          "output_type": "execute_result"
        }
      ],
      "source": [
        "max(L)"
      ]
    },
    {
      "cell_type": "code",
      "execution_count": null,
      "metadata": {
        "colab": {
          "base_uri": "https://localhost:8080/"
        },
        "id": "AvGsLzvLm_z-",
        "outputId": "1bdc1c23-ccb6-43e4-dbfd-20b7967d174e"
      },
      "outputs": [
        {
          "data": {
            "text/plain": [
              "[1, 2, 3, 4]"
            ]
          },
          "execution_count": 86,
          "metadata": {},
          "output_type": "execute_result"
        }
      ],
      "source": [
        "sorted(L)"
      ]
    },
    {
      "cell_type": "code",
      "execution_count": null,
      "metadata": {
        "colab": {
          "base_uri": "https://localhost:8080/"
        },
        "id": "_mnZ9MAcnBpn",
        "outputId": "7de683e1-7f07-4afc-9f11-dc43fc1cef7f"
      },
      "outputs": [
        {
          "data": {
            "text/plain": [
              "[4, 3, 2, 1]"
            ]
          },
          "execution_count": 87,
          "metadata": {},
          "output_type": "execute_result"
        }
      ],
      "source": [
        "sorted(L, reverse = True)"
      ]
    },
    {
      "cell_type": "code",
      "execution_count": null,
      "metadata": {
        "colab": {
          "base_uri": "https://localhost:8080/"
        },
        "id": "SCadM5_VnE_a",
        "outputId": "0cc19955-c232-4d7a-edc7-8c613985ff1b"
      },
      "outputs": [
        {
          "data": {
            "text/plain": [
              "[1, 2, 3, 4]"
            ]
          },
          "execution_count": 88,
          "metadata": {},
          "output_type": "execute_result"
        }
      ],
      "source": [
        "L"
      ]
    },
    {
      "cell_type": "code",
      "execution_count": null,
      "metadata": {
        "id": "NEAMvbYznH0Q"
      },
      "outputs": [],
      "source": [
        "L.sort(reverse = True)"
      ]
    },
    {
      "cell_type": "code",
      "execution_count": null,
      "metadata": {
        "colab": {
          "base_uri": "https://localhost:8080/"
        },
        "id": "kNBuDpOEnLOF",
        "outputId": "a468c954-072c-415b-be16-4b9af4ba241b"
      },
      "outputs": [
        {
          "data": {
            "text/plain": [
              "[4, 3, 2, 1]"
            ]
          },
          "execution_count": 90,
          "metadata": {},
          "output_type": "execute_result"
        }
      ],
      "source": [
        "L\n"
      ]
    },
    {
      "cell_type": "code",
      "execution_count": null,
      "metadata": {
        "id": "mSR2KcYxnL4u"
      },
      "outputs": [],
      "source": [
        "L.sort()"
      ]
    },
    {
      "cell_type": "code",
      "execution_count": null,
      "metadata": {
        "colab": {
          "base_uri": "https://localhost:8080/"
        },
        "id": "e7eSoRCKnNWX",
        "outputId": "7395eab3-5145-4e37-ec69-171d8dce9db3"
      },
      "outputs": [
        {
          "data": {
            "text/plain": [
              "[1, 2, 3, 4]"
            ]
          },
          "execution_count": 92,
          "metadata": {},
          "output_type": "execute_result"
        }
      ],
      "source": [
        "L"
      ]
    },
    {
      "cell_type": "code",
      "execution_count": null,
      "metadata": {
        "colab": {
          "base_uri": "https://localhost:8080/"
        },
        "id": "BrX2ja-MnN3M",
        "outputId": "1b6f8321-bfa9-4fcb-b823-8c7208d9b7b8"
      },
      "outputs": [
        {
          "data": {
            "text/plain": [
              "2"
            ]
          },
          "execution_count": 95,
          "metadata": {},
          "output_type": "execute_result"
        }
      ],
      "source": [
        "# count\n",
        "L = [1, 2, 3, 4, 5, 1, 2, 3, 4, 1, 5]\n",
        "L.count(5)"
      ]
    },
    {
      "cell_type": "code",
      "execution_count": null,
      "metadata": {
        "colab": {
          "base_uri": "https://localhost:8080/"
        },
        "id": "msuOVG0KnRoc",
        "outputId": "28a83c2f-ebe6-495c-fdaf-073da5272f0b"
      },
      "outputs": [
        {
          "data": {
            "text/plain": [
              "[1, 2, 3, 4, 5, 1, 2, 3, 4, 1, 5]"
            ]
          },
          "execution_count": 96,
          "metadata": {},
          "output_type": "execute_result"
        }
      ],
      "source": [
        "L"
      ]
    },
    {
      "cell_type": "code",
      "execution_count": null,
      "metadata": {
        "colab": {
          "base_uri": "https://localhost:8080/"
        },
        "id": "FMUeFZebnavw",
        "outputId": "4e9dd560-16ac-4a0e-d2d2-bd1a5f28c7e8"
      },
      "outputs": [
        {
          "data": {
            "text/plain": [
              "4"
            ]
          },
          "execution_count": 97,
          "metadata": {},
          "output_type": "execute_result"
        }
      ],
      "source": [
        "# index\n",
        "L.index(5)"
      ]
    },
    {
      "cell_type": "code",
      "execution_count": null,
      "metadata": {
        "colab": {
          "base_uri": "https://localhost:8080/"
        },
        "id": "cWWxtDU7ndf3",
        "outputId": "51f6b896-73b8-457b-c1cc-d9cc2000a2f5"
      },
      "outputs": [
        {
          "name": "stdout",
          "output_type": "stream",
          "text": [
            "[0, 7, 5, 1, 2]\n"
          ]
        }
      ],
      "source": [
        "# reverse\n",
        "L = [2, 1, 5, 7, 0]\n",
        "# permanently reverses the list\n",
        "L.reverse()\n",
        "print(L)"
      ]
    },
    {
      "cell_type": "code",
      "execution_count": null,
      "metadata": {
        "colab": {
          "base_uri": "https://localhost:8080/"
        },
        "id": "kKIUwEkRntj1",
        "outputId": "ac3b5338-7512-4515-e278-77f383ac47c2"
      },
      "outputs": [
        {
          "name": "stdout",
          "output_type": "stream",
          "text": [
            "[2, 1, 5, 7, 0]\n",
            "[0, 1, 2, 5, 7]\n",
            "[2, 1, 5, 7, 0]\n",
            "[0, 1, 2, 5, 7]\n"
          ]
        }
      ],
      "source": [
        "# Sort (Vs Sorted)\n",
        "L = [2, 1, 5, 7, 0]\n",
        "print(L)\n",
        "print(sorted(L))\n",
        "print(L)\n",
        "L.sort()\n",
        "print(L)"
      ]
    },
    {
      "cell_type": "code",
      "execution_count": null,
      "metadata": {
        "colab": {
          "base_uri": "https://localhost:8080/"
        },
        "id": "U2dvutw7n-oO",
        "outputId": "41c2488e-5ddf-4794-e37f-e06c342cfa95"
      },
      "outputs": [
        {
          "name": "stdout",
          "output_type": "stream",
          "text": [
            "[2, 1, 5, 7, 0]\n",
            "134626102360448\n",
            "[2, 1, 5, 7, 0]\n",
            "134626102430016\n"
          ]
        }
      ],
      "source": [
        "# Copy ----> shallow\n",
        "L = [2, 1, 5, 7, 0]\n",
        "print(L)\n",
        "print(id(L))\n",
        "L1 = L.copy()\n",
        "print(L1)\n",
        "print(id(L1))"
      ]
    },
    {
      "cell_type": "code",
      "execution_count": null,
      "metadata": {
        "colab": {
          "base_uri": "https://localhost:8080/",
          "height": 36
        },
        "id": "s1BnFjK7o6_X",
        "outputId": "d3801231-21d8-4415-90f0-d4cc3daca535"
      },
      "outputs": [
        {
          "data": {
            "application/vnd.google.colaboratory.intrinsic+json": {
              "type": "string"
            },
            "text/plain": [
              "'Hello How Are You'"
            ]
          },
          "execution_count": 102,
          "metadata": {},
          "output_type": "execute_result"
        }
      ],
      "source": [
        "\"hello how are you\".title()"
      ]
    },
    {
      "cell_type": "code",
      "execution_count": null,
      "metadata": {
        "colab": {
          "base_uri": "https://localhost:8080/"
        },
        "id": "rvkoK2bWpL1V",
        "outputId": "59495a7c-ff06-45bb-828d-7dc2cb5f8d7a"
      },
      "outputs": [
        {
          "name": "stdout",
          "output_type": "stream",
          "text": [
            "['How', 'Are', 'You?']\n",
            "How Are You?\n",
            "how are you?\n"
          ]
        }
      ],
      "source": [
        "# Title Case a String Without title()\n",
        "sample = \"how are you?\"\n",
        "sample.split()\n",
        "L = []\n",
        "for i in sample.split():\n",
        "  L.append(i.capitalize())\n",
        "print(L)\n",
        "print(\" \".join(L))\n",
        "print(sample)"
      ]
    },
    {
      "cell_type": "code",
      "execution_count": null,
      "metadata": {
        "colab": {
          "base_uri": "https://localhost:8080/"
        },
        "id": "SVASQ2pAplu-",
        "outputId": "1e68ec11-89cd-40d8-e76b-173a6e1da29a"
      },
      "outputs": [
        {
          "name": "stdout",
          "output_type": "stream",
          "text": [
            "ali\n"
          ]
        }
      ],
      "source": [
        "sample = \"ali@gmail.com\"\n",
        "print(sample[:sample.find(\"@\")])"
      ]
    },
    {
      "cell_type": "code",
      "execution_count": null,
      "metadata": {
        "colab": {
          "base_uri": "https://localhost:8080/"
        },
        "id": "wo5Q0ABRp3pY",
        "outputId": "0ba9eedc-350e-4b68-b644-fe0c9d6f7f3d"
      },
      "outputs": [
        {
          "name": "stdout",
          "output_type": "stream",
          "text": [
            "[1, 2, 3, 4]\n"
          ]
        }
      ],
      "source": [
        "L1 = [1, 1, 2, 2, 3, 3, 4, 4]\n",
        "# Output: L2 = [1, 2, 3, 4]\n",
        "L = []\n",
        "for i in L1:\n",
        "  if i not in L:\n",
        "    L.append(i)\n",
        "print(L)"
      ]
    },
    {
      "cell_type": "code",
      "execution_count": null,
      "metadata": {
        "id": "5WHada9LqYwG"
      },
      "outputs": [],
      "source": [
        "# List Comprehension"
      ]
    },
    {
      "cell_type": "code",
      "execution_count": null,
      "metadata": {
        "id": "s7JsJoItriP0"
      },
      "outputs": [],
      "source": [
        "L = [1, 2, 3, 4, 5, 6, 7]\n"
      ]
    },
    {
      "cell_type": "code",
      "execution_count": null,
      "metadata": {
        "colab": {
          "base_uri": "https://localhost:8080/"
        },
        "id": "vUghLEG4rrvq",
        "outputId": "c77fcdf7-ae6f-4d5e-9b97-d641b2776b48"
      },
      "outputs": [
        {
          "data": {
            "text/plain": [
              "[2, 4, 6, 8, 10, 12, 14]"
            ]
          },
          "execution_count": 109,
          "metadata": {},
          "output_type": "execute_result"
        }
      ],
      "source": [
        "L1 = [item * 2 for item in L]\n",
        "L1"
      ]
    },
    {
      "cell_type": "code",
      "execution_count": null,
      "metadata": {
        "colab": {
          "base_uri": "https://localhost:8080/"
        },
        "id": "GP5rkVZIr5rE",
        "outputId": "235ac9d3-b5be-4796-9577-5dbf1146a6bb"
      },
      "outputs": [
        {
          "data": {
            "text/plain": [
              "[0, 1, 4, 9, 16, 25, 36, 49, 64, 81]"
            ]
          },
          "execution_count": 111,
          "metadata": {},
          "output_type": "execute_result"
        }
      ],
      "source": [
        "L2 = [i**2 for i in range(10)]\n",
        "L2"
      ]
    },
    {
      "cell_type": "code",
      "execution_count": null,
      "metadata": {
        "colab": {
          "base_uri": "https://localhost:8080/"
        },
        "id": "pAzKag0FsikO",
        "outputId": "910267c6-6b06-48e3-bd3e-1f9f88637a91"
      },
      "outputs": [
        {
          "data": {
            "text/plain": [
              "[1, 9, 25, 49, 81]"
            ]
          },
          "execution_count": 112,
          "metadata": {},
          "output_type": "execute_result"
        }
      ],
      "source": [
        "L3 = [i**2 for i in range(10) if i%2!=0]\n",
        "L3"
      ]
    },
    {
      "cell_type": "code",
      "execution_count": null,
      "metadata": {
        "colab": {
          "base_uri": "https://localhost:8080/"
        },
        "id": "UqtpB2ROs1t6",
        "outputId": "5b0e5d1f-554b-4a68-dd9a-d2a69770baac"
      },
      "outputs": [
        {
          "data": {
            "text/plain": [
              "['Apple', 'Orange', 'Mango', 'Guava']"
            ]
          },
          "execution_count": 113,
          "metadata": {},
          "output_type": "execute_result"
        }
      ],
      "source": [
        "fruits = ['Apple', 'Orange', 'Mango', 'Guava']\n",
        "fruits"
      ]
    },
    {
      "cell_type": "code",
      "execution_count": null,
      "metadata": {
        "colab": {
          "base_uri": "https://localhost:8080/"
        },
        "id": "YtvpXmH2tHqc",
        "outputId": "3582f9cf-b01d-4fd4-8d59-8a0a611d3aae"
      },
      "outputs": [
        {
          "data": {
            "text/plain": [
              "['Orange']"
            ]
          },
          "execution_count": 114,
          "metadata": {},
          "output_type": "execute_result"
        }
      ],
      "source": [
        "L4 = [fruits for fruits in fruits if fruits[0] == \"O\" ]\n",
        "L4"
      ]
    },
    {
      "cell_type": "code",
      "execution_count": null,
      "metadata": {
        "colab": {
          "base_uri": "https://localhost:8080/"
        },
        "id": "I0pzSnUGtYId",
        "outputId": "43ea3aa2-e227-4b19-975b-4256be9f1196"
      },
      "outputs": [
        {
          "name": "stdout",
          "output_type": "stream",
          "text": [
            "[1, 2, 3, 4, 5, 6, 7, 8, 9, 10]\n"
          ]
        }
      ],
      "source": [
        "# Add 1-10 to list\n",
        "L = []\n",
        "for i in range(1, 11):\n",
        "  L.append(i)\n",
        "print(L)"
      ]
    },
    {
      "cell_type": "code",
      "execution_count": null,
      "metadata": {
        "colab": {
          "base_uri": "https://localhost:8080/"
        },
        "id": "lCQLuuwBtln2",
        "outputId": "9910f609-e1a0-4724-8e69-5f211e2a1f49"
      },
      "outputs": [
        {
          "name": "stdout",
          "output_type": "stream",
          "text": [
            "[1, 2, 3, 4, 5, 6, 7, 8, 9, 10]\n"
          ]
        }
      ],
      "source": [
        "L = [i for i in range(1, 11)]\n",
        "print(L)"
      ]
    },
    {
      "cell_type": "code",
      "execution_count": null,
      "metadata": {
        "colab": {
          "base_uri": "https://localhost:8080/"
        },
        "id": "wzwnzf6rttRL",
        "outputId": "04f145c6-19a5-4742-b3a6-2b97aefc80bb"
      },
      "outputs": [
        {
          "data": {
            "text/plain": [
              "[-6, -9, -12]"
            ]
          },
          "execution_count": 117,
          "metadata": {},
          "output_type": "execute_result"
        }
      ],
      "source": [
        "# Scalar Multiplication\n",
        "v = [2, 3, 4] # Vector\n",
        "s = -3\n",
        "# [-6, -9, -12]\n",
        "[s*i for i in v]"
      ]
    },
    {
      "cell_type": "code",
      "execution_count": null,
      "metadata": {
        "colab": {
          "base_uri": "https://localhost:8080/"
        },
        "id": "7Bupu7R6uNfu",
        "outputId": "4a18d570-c11f-409d-95fa-32d10284fa1a"
      },
      "outputs": [
        {
          "data": {
            "text/plain": [
              "[1, 4, 9, 16, 25]"
            ]
          },
          "execution_count": 118,
          "metadata": {},
          "output_type": "execute_result"
        }
      ],
      "source": [
        "# Add squares\n",
        "L = [1, 2, 3, 4, 5]\n",
        "[i**2 for i in L]"
      ]
    },
    {
      "cell_type": "code",
      "execution_count": null,
      "metadata": {
        "id": "FJG0fchHudgl"
      },
      "outputs": [],
      "source": [
        "# # Languages starting with 'P'\n",
        "# languages = ['java', 'python', 'php', 'c', 'javascript']\n",
        "# [languages for language in lnaguages if language.startswith('p') ]"
      ]
    },
    {
      "cell_type": "code",
      "execution_count": null,
      "metadata": {
        "id": "P0zHnyV-vaRW"
      },
      "outputs": [],
      "source": [
        "# List Traversal\n",
        "  # Itemwise\n",
        "  # Indexwise"
      ]
    },
    {
      "cell_type": "code",
      "execution_count": null,
      "metadata": {
        "colab": {
          "base_uri": "https://localhost:8080/"
        },
        "id": "dCbJH7pTwQZ_",
        "outputId": "76d0e928-dfce-4548-f9b3-79d4564c3fe4"
      },
      "outputs": [
        {
          "name": "stdout",
          "output_type": "stream",
          "text": [
            "1\n",
            "2\n",
            "3\n",
            "4\n"
          ]
        }
      ],
      "source": [
        "# Itemwise\n",
        "L = [1, 2, 3, 4]\n",
        "for i in L:\n",
        "  print(i)"
      ]
    },
    {
      "cell_type": "code",
      "execution_count": null,
      "metadata": {
        "colab": {
          "base_uri": "https://localhost:8080/"
        },
        "id": "O2MHDIYRwYYu",
        "outputId": "f3119d72-b58c-408f-9275-cc07e2b82dab"
      },
      "outputs": [
        {
          "name": "stdout",
          "output_type": "stream",
          "text": [
            "1\n",
            "2\n",
            "3\n",
            "4\n"
          ]
        }
      ],
      "source": [
        "# Indexwise\n",
        "L = [1, 2, 3, 4]\n",
        "for i in range(0, len(L)):\n",
        "  print(L[i])"
      ]
    },
    {
      "cell_type": "code",
      "execution_count": null,
      "metadata": {
        "id": "Ls-RTjxbwpWP"
      },
      "outputs": [],
      "source": [
        "# Zip\n",
        "  # zip() Function:\n"
      ]
    },
    {
      "cell_type": "code",
      "execution_count": null,
      "metadata": {
        "id": "ORHnqVqHh7Rw"
      },
      "outputs": [],
      "source": [
        "# Tuples:\n",
        "  # Immutable list-like collection\n",
        "# Characteristics:\n",
        "  # Ordered elements\n",
        "  # Unmodifiable post-creation\n",
        "  # Allows Duplicates"
      ]
    },
    {
      "cell_type": "code",
      "execution_count": null,
      "metadata": {
        "id": "qNeHanf9i8EF"
      },
      "outputs": [],
      "source": [
        "# Create\n",
        "# Access\n",
        "# Edit\n",
        "# Add\n",
        "# Delete\n",
        "# Operations\n",
        "# Functions"
      ]
    },
    {
      "cell_type": "code",
      "execution_count": null,
      "metadata": {
        "id": "7Z2EKvdujCmr"
      },
      "outputs": [],
      "source": [
        "# 1. Create\n"
      ]
    },
    {
      "cell_type": "code",
      "execution_count": null,
      "metadata": {
        "colab": {
          "base_uri": "https://localhost:8080/"
        },
        "id": "3GQBvVzujIbq",
        "outputId": "a40a796d-6e9f-4963-e5d3-bb9d28c6b4bf"
      },
      "outputs": [
        {
          "data": {
            "text/plain": [
              "()"
            ]
          },
          "execution_count": 6,
          "metadata": {},
          "output_type": "execute_result"
        }
      ],
      "source": [
        "# Empty\n",
        "T1 = ()\n",
        "T1"
      ]
    },
    {
      "cell_type": "code",
      "execution_count": null,
      "metadata": {
        "colab": {
          "base_uri": "https://localhost:8080/"
        },
        "id": "vCDi1jgajMHm",
        "outputId": "0c003786-ff06-4b0d-b34e-01ee8f2aba51"
      },
      "outputs": [
        {
          "data": {
            "text/plain": [
              "(1, 2, 3, 4, 5)"
            ]
          },
          "execution_count": 7,
          "metadata": {},
          "output_type": "execute_result"
        }
      ],
      "source": [
        "# Homo\n",
        "T2 = (1, 2, 3, 4, 5)\n",
        "T2"
      ]
    },
    {
      "cell_type": "code",
      "execution_count": null,
      "metadata": {
        "colab": {
          "base_uri": "https://localhost:8080/"
        },
        "id": "Ife4z8DwkJzf",
        "outputId": "7053259f-60cb-46c7-9dfb-75b13ea59be8"
      },
      "outputs": [
        {
          "data": {
            "text/plain": [
              "('Hello', 4, 5, 6)"
            ]
          },
          "execution_count": 8,
          "metadata": {},
          "output_type": "execute_result"
        }
      ],
      "source": [
        "# Hetro\n",
        "T3 = (\"Hello\", 4, 5, 6)\n",
        "T3"
      ]
    },
    {
      "cell_type": "code",
      "execution_count": null,
      "metadata": {
        "colab": {
          "base_uri": "https://localhost:8080/"
        },
        "id": "_QlrnzTJkTfh",
        "outputId": "c409e273-a908-46d9-a9a6-c37a70a7c095"
      },
      "outputs": [
        {
          "data": {
            "text/plain": [
              "(1, 2, 3, (4, 5))"
            ]
          },
          "execution_count": 9,
          "metadata": {},
          "output_type": "execute_result"
        }
      ],
      "source": [
        "# Tuple\n",
        "T4 = (1, 2, 3, (4, 5))\n",
        "T4"
      ]
    },
    {
      "cell_type": "code",
      "execution_count": null,
      "metadata": {
        "colab": {
          "base_uri": "https://localhost:8080/"
        },
        "id": "4FO5THQskb7W",
        "outputId": "c03b90fd-89f7-4fab-d084-975f1a245c66"
      },
      "outputs": [
        {
          "data": {
            "text/plain": [
              "1"
            ]
          },
          "execution_count": 10,
          "metadata": {},
          "output_type": "execute_result"
        }
      ],
      "source": [
        "T5 = (1)\n",
        "T5"
      ]
    },
    {
      "cell_type": "code",
      "execution_count": null,
      "metadata": {
        "colab": {
          "base_uri": "https://localhost:8080/"
        },
        "id": "A446YzsOke3T",
        "outputId": "772ddaf1-1117-41a9-a04d-e61fc6aa3def"
      },
      "outputs": [
        {
          "data": {
            "text/plain": [
              "int"
            ]
          },
          "execution_count": 11,
          "metadata": {},
          "output_type": "execute_result"
        }
      ],
      "source": [
        "type(T5)"
      ]
    },
    {
      "cell_type": "code",
      "execution_count": null,
      "metadata": {
        "colab": {
          "base_uri": "https://localhost:8080/"
        },
        "id": "Q-igO5U0kjiv",
        "outputId": "89026a4e-19b6-4044-b4d9-08f44468df11"
      },
      "outputs": [
        {
          "data": {
            "text/plain": [
              "str"
            ]
          },
          "execution_count": 12,
          "metadata": {},
          "output_type": "execute_result"
        }
      ],
      "source": [
        "# Type Conversion\n",
        "T5 = (\"Hello\")\n",
        "type(T5)"
      ]
    },
    {
      "cell_type": "code",
      "execution_count": null,
      "metadata": {
        "colab": {
          "base_uri": "https://localhost:8080/"
        },
        "id": "JM3wJJGFkpzp",
        "outputId": "4eff26a8-3fde-4436-adf8-81dd5e90a36f"
      },
      "outputs": [
        {
          "data": {
            "text/plain": [
              "tuple"
            ]
          },
          "execution_count": 13,
          "metadata": {},
          "output_type": "execute_result"
        }
      ],
      "source": [
        "# Single-item tuple creation\n",
        "T5 = (\"Hello\",)\n",
        "type(T5)"
      ]
    },
    {
      "cell_type": "code",
      "execution_count": null,
      "metadata": {
        "colab": {
          "base_uri": "https://localhost:8080/"
        },
        "id": "TBggdUP7kyAO",
        "outputId": "491250b2-3a4b-4f6a-81b2-4daca9613ce4"
      },
      "outputs": [
        {
          "data": {
            "text/plain": [
              "('G', 'o', 'a')"
            ]
          },
          "execution_count": 14,
          "metadata": {},
          "output_type": "execute_result"
        }
      ],
      "source": [
        "T6 = tuple(\"Goa\")\n",
        "T6"
      ]
    },
    {
      "cell_type": "code",
      "execution_count": null,
      "metadata": {
        "colab": {
          "base_uri": "https://localhost:8080/"
        },
        "id": "3XOMS2gvk3wQ",
        "outputId": "f1ab739c-c3b1-4f18-9c58-4a40ec29c6d6"
      },
      "outputs": [
        {
          "data": {
            "text/plain": [
              "(1, 2, 3, 4)"
            ]
          },
          "execution_count": 15,
          "metadata": {},
          "output_type": "execute_result"
        }
      ],
      "source": [
        "T6 = tuple([1, 2, 3, 4])\n",
        "T6"
      ]
    },
    {
      "cell_type": "code",
      "execution_count": null,
      "metadata": {
        "id": "rR5VZqqgk9PA"
      },
      "outputs": [],
      "source": [
        "# 2. Access\n",
        "# Indexing\n",
        "# Slicing"
      ]
    },
    {
      "cell_type": "code",
      "execution_count": null,
      "metadata": {
        "colab": {
          "base_uri": "https://localhost:8080/"
        },
        "id": "wUB6ScQklETt",
        "outputId": "7dc9f54f-9eaa-417a-fff9-b8084d0954b9"
      },
      "outputs": [
        {
          "data": {
            "text/plain": [
              "(1, 2, 3, 4, 5)"
            ]
          },
          "execution_count": 17,
          "metadata": {},
          "output_type": "execute_result"
        }
      ],
      "source": [
        "T2"
      ]
    },
    {
      "cell_type": "code",
      "execution_count": null,
      "metadata": {
        "colab": {
          "base_uri": "https://localhost:8080/"
        },
        "id": "0xUqZImzlFZ6",
        "outputId": "67d4332e-7596-498f-d862-1c0843570ade"
      },
      "outputs": [
        {
          "data": {
            "text/plain": [
              "1"
            ]
          },
          "execution_count": 18,
          "metadata": {},
          "output_type": "execute_result"
        }
      ],
      "source": [
        "T2[0]"
      ]
    },
    {
      "cell_type": "code",
      "execution_count": null,
      "metadata": {
        "colab": {
          "base_uri": "https://localhost:8080/"
        },
        "id": "6m3qaFArlG7t",
        "outputId": "44391cb1-d956-49c1-f888-312a7587c23e"
      },
      "outputs": [
        {
          "data": {
            "text/plain": [
              "5"
            ]
          },
          "execution_count": 19,
          "metadata": {},
          "output_type": "execute_result"
        }
      ],
      "source": [
        "T2[-1]"
      ]
    },
    {
      "cell_type": "code",
      "execution_count": null,
      "metadata": {
        "colab": {
          "base_uri": "https://localhost:8080/"
        },
        "id": "0OZjGa2AlIgl",
        "outputId": "b8737a66-189b-4e6b-ad38-bf8c54a58c53"
      },
      "outputs": [
        {
          "data": {
            "text/plain": [
              "(1, 2, 3, 4)"
            ]
          },
          "execution_count": 20,
          "metadata": {},
          "output_type": "execute_result"
        }
      ],
      "source": [
        "T2[:4]"
      ]
    },
    {
      "cell_type": "code",
      "execution_count": null,
      "metadata": {
        "colab": {
          "base_uri": "https://localhost:8080/"
        },
        "id": "M49d-Ho-lMea",
        "outputId": "2b7cbd83-0efa-424f-d7d0-4cfa6fc542e4"
      },
      "outputs": [
        {
          "data": {
            "text/plain": [
              "(1, 2, 3, (4, 5))"
            ]
          },
          "execution_count": 21,
          "metadata": {},
          "output_type": "execute_result"
        }
      ],
      "source": [
        "T4"
      ]
    },
    {
      "cell_type": "code",
      "execution_count": null,
      "metadata": {
        "colab": {
          "base_uri": "https://localhost:8080/"
        },
        "id": "znCo4dWYlRVn",
        "outputId": "12dd1cd3-82a1-4635-ce49-edb0bb3c6815"
      },
      "outputs": [
        {
          "data": {
            "text/plain": [
              "5"
            ]
          },
          "execution_count": 22,
          "metadata": {},
          "output_type": "execute_result"
        }
      ],
      "source": [
        "T4[-1][1]"
      ]
    },
    {
      "cell_type": "code",
      "execution_count": null,
      "metadata": {
        "id": "KgffwZYalWNZ"
      },
      "outputs": [],
      "source": [
        "# 3. Edit"
      ]
    },
    {
      "cell_type": "code",
      "execution_count": null,
      "metadata": {
        "id": "26KcekwXlYYL"
      },
      "outputs": [],
      "source": [
        "L = [1, 2, 3, 4, 5]\n",
        "L[0] = 100"
      ]
    },
    {
      "cell_type": "code",
      "execution_count": null,
      "metadata": {
        "colab": {
          "base_uri": "https://localhost:8080/"
        },
        "id": "A3Yp4Bv6leY7",
        "outputId": "cebd1a39-d067-4b1e-d320-e066fbe9b45a"
      },
      "outputs": [
        {
          "data": {
            "text/plain": [
              "[100, 2, 3, 4, 5]"
            ]
          },
          "execution_count": 25,
          "metadata": {},
          "output_type": "execute_result"
        }
      ],
      "source": [
        "L"
      ]
    },
    {
      "cell_type": "code",
      "execution_count": null,
      "metadata": {
        "colab": {
          "base_uri": "https://localhost:8080/"
        },
        "id": "vIJGx73alfP3",
        "outputId": "29f1286d-8220-4a82-af20-b623f0d95a18"
      },
      "outputs": [
        {
          "data": {
            "text/plain": [
              "(1, 2, 3, 4, 5)"
            ]
          },
          "execution_count": 26,
          "metadata": {},
          "output_type": "execute_result"
        }
      ],
      "source": [
        "T2"
      ]
    },
    {
      "cell_type": "code",
      "execution_count": null,
      "metadata": {
        "colab": {
          "base_uri": "https://localhost:8080/",
          "height": 166
        },
        "id": "wHba_vAdlhlc",
        "outputId": "baf135e5-34f9-468a-f6c1-0fbc5b5fb177"
      },
      "outputs": [
        {
          "ename": "TypeError",
          "evalue": "'tuple' object does not support item assignment",
          "output_type": "error",
          "traceback": [
            "\u001b[0;31m---------------------------------------------------------------------------\u001b[0m",
            "\u001b[0;31mTypeError\u001b[0m                                 Traceback (most recent call last)",
            "\u001b[0;32m/tmp/ipython-input-28-1126625652.py\u001b[0m in \u001b[0;36m<cell line: 0>\u001b[0;34m()\u001b[0m\n\u001b[0;32m----> 1\u001b[0;31m \u001b[0mT2\u001b[0m\u001b[0;34m[\u001b[0m\u001b[0;36m0\u001b[0m\u001b[0;34m]\u001b[0m \u001b[0;34m=\u001b[0m \u001b[0;36m100\u001b[0m\u001b[0;34m\u001b[0m\u001b[0;34m\u001b[0m\u001b[0m\n\u001b[0m\u001b[1;32m      2\u001b[0m \u001b[0;31m# Immutable, like strings\u001b[0m\u001b[0;34m\u001b[0m\u001b[0;34m\u001b[0m\u001b[0m\n",
            "\u001b[0;31mTypeError\u001b[0m: 'tuple' object does not support item assignment"
          ]
        }
      ],
      "source": [
        "T2[0] = 100\n",
        "# Immutable, like strings"
      ]
    },
    {
      "cell_type": "code",
      "execution_count": null,
      "metadata": {
        "id": "RfJ-QXzjl0Oc"
      },
      "outputs": [],
      "source": [
        "# Tuples = immutable (like strings)"
      ]
    },
    {
      "cell_type": "code",
      "execution_count": null,
      "metadata": {
        "id": "5uJ8NJVrl95N"
      },
      "outputs": [],
      "source": [
        "# 4. Add\n",
        " # not possible\n",
        " # Tuples: immutable"
      ]
    },
    {
      "cell_type": "code",
      "execution_count": null,
      "metadata": {
        "id": "GSl-kn12mEqn"
      },
      "outputs": [],
      "source": [
        "# 5. Delete"
      ]
    },
    {
      "cell_type": "code",
      "execution_count": null,
      "metadata": {
        "colab": {
          "base_uri": "https://localhost:8080/"
        },
        "id": "pzCZmLyomHAn",
        "outputId": "6dd46919-4a8f-4824-9010-351455466820"
      },
      "outputs": [
        {
          "data": {
            "text/plain": [
              "()"
            ]
          },
          "execution_count": 32,
          "metadata": {},
          "output_type": "execute_result"
        }
      ],
      "source": [
        "T1"
      ]
    },
    {
      "cell_type": "code",
      "execution_count": null,
      "metadata": {
        "colab": {
          "base_uri": "https://localhost:8080/",
          "height": 166
        },
        "id": "zEhxBuFfmHwD",
        "outputId": "1570acfb-817b-44a5-c784-1ddf91cfed85"
      },
      "outputs": [
        {
          "ename": "NameError",
          "evalue": "name 'T1' is not defined",
          "output_type": "error",
          "traceback": [
            "\u001b[0;31m---------------------------------------------------------------------------\u001b[0m",
            "\u001b[0;31mNameError\u001b[0m                                 Traceback (most recent call last)",
            "\u001b[0;32m/tmp/ipython-input-33-1707313094.py\u001b[0m in \u001b[0;36m<cell line: 0>\u001b[0;34m()\u001b[0m\n\u001b[1;32m      1\u001b[0m \u001b[0;32mdel\u001b[0m \u001b[0mT1\u001b[0m\u001b[0;34m\u001b[0m\u001b[0;34m\u001b[0m\u001b[0m\n\u001b[0;32m----> 2\u001b[0;31m \u001b[0mT1\u001b[0m\u001b[0;34m\u001b[0m\u001b[0;34m\u001b[0m\u001b[0m\n\u001b[0m",
            "\u001b[0;31mNameError\u001b[0m: name 'T1' is not defined"
          ]
        }
      ],
      "source": [
        "del T1\n",
        "T1"
      ]
    },
    {
      "cell_type": "code",
      "execution_count": null,
      "metadata": {
        "colab": {
          "base_uri": "https://localhost:8080/"
        },
        "id": "WRNaLk89mKC4",
        "outputId": "23b851b4-e2e8-4f52-990b-5d70e9f56f3f"
      },
      "outputs": [
        {
          "data": {
            "text/plain": [
              "('Hello', 4, 5, 6)"
            ]
          },
          "execution_count": 34,
          "metadata": {},
          "output_type": "execute_result"
        }
      ],
      "source": [
        "T3"
      ]
    },
    {
      "cell_type": "code",
      "execution_count": null,
      "metadata": {
        "colab": {
          "base_uri": "https://localhost:8080/"
        },
        "id": "pgQrmYWmmNZq",
        "outputId": "57a0a5f8-cae7-4924-b02a-584423e70dc7"
      },
      "outputs": [
        {
          "data": {
            "text/plain": [
              "(1, 2, 3, 4, 5)"
            ]
          },
          "execution_count": 35,
          "metadata": {},
          "output_type": "execute_result"
        }
      ],
      "source": [
        "T2"
      ]
    },
    {
      "cell_type": "code",
      "execution_count": null,
      "metadata": {
        "colab": {
          "base_uri": "https://localhost:8080/",
          "height": 111
        },
        "id": "6hQL-vXLmOLb",
        "outputId": "551d1c6c-cd4d-4f87-fcf1-4918b0edb513"
      },
      "outputs": [
        {
          "ename": "SyntaxError",
          "evalue": "cannot delete function call (ipython-input-36-1610192391.py, line 1)",
          "output_type": "error",
          "traceback": [
            "\u001b[0;36m  File \u001b[0;32m\"/tmp/ipython-input-36-1610192391.py\"\u001b[0;36m, line \u001b[0;32m1\u001b[0m\n\u001b[0;31m    del T2(-1)\u001b[0m\n\u001b[0m        ^\u001b[0m\n\u001b[0;31mSyntaxError\u001b[0m\u001b[0;31m:\u001b[0m cannot delete function call\n"
          ]
        }
      ],
      "source": [
        "del T2(-1)"
      ]
    },
    {
      "cell_type": "code",
      "execution_count": null,
      "metadata": {
        "id": "jmvraj8AmWru"
      },
      "outputs": [],
      "source": [
        "# Tuples are immutable"
      ]
    },
    {
      "cell_type": "code",
      "execution_count": null,
      "metadata": {
        "id": "Nd0MVKXemawx"
      },
      "outputs": [],
      "source": [
        "# 6. Operations"
      ]
    },
    {
      "cell_type": "code",
      "execution_count": null,
      "metadata": {
        "colab": {
          "base_uri": "https://localhost:8080/"
        },
        "id": "pupp8tddmcSL",
        "outputId": "3df26476-fecb-4163-fa87-bf896f4b5e62"
      },
      "outputs": [
        {
          "data": {
            "text/plain": [
              "(1, 2, 3, 4, 5)"
            ]
          },
          "execution_count": 39,
          "metadata": {},
          "output_type": "execute_result"
        }
      ],
      "source": [
        "T2"
      ]
    },
    {
      "cell_type": "code",
      "execution_count": null,
      "metadata": {
        "colab": {
          "base_uri": "https://localhost:8080/"
        },
        "id": "TNojihGEmdUq",
        "outputId": "09d65281-44d8-479d-def8-7c76694d8fb1"
      },
      "outputs": [
        {
          "data": {
            "text/plain": [
              "('Hello', 4, 5, 6)"
            ]
          },
          "execution_count": 40,
          "metadata": {},
          "output_type": "execute_result"
        }
      ],
      "source": [
        "T3"
      ]
    },
    {
      "cell_type": "code",
      "execution_count": null,
      "metadata": {
        "id": "BqZvT_HVmeHh"
      },
      "outputs": [],
      "source": [
        "# + and *"
      ]
    },
    {
      "cell_type": "code",
      "execution_count": null,
      "metadata": {
        "colab": {
          "base_uri": "https://localhost:8080/"
        },
        "id": "oqgQDfg5miEn",
        "outputId": "c789da29-0985-4d3c-fc88-26a111915752"
      },
      "outputs": [
        {
          "data": {
            "text/plain": [
              "(1, 2, 3, 4, 5, 'Hello', 4, 5, 6)"
            ]
          },
          "execution_count": 42,
          "metadata": {},
          "output_type": "execute_result"
        }
      ],
      "source": [
        "T2 + T3"
      ]
    },
    {
      "cell_type": "code",
      "execution_count": null,
      "metadata": {
        "colab": {
          "base_uri": "https://localhost:8080/"
        },
        "id": "SYcMvESnmjz4",
        "outputId": "9067a19c-30e1-452b-fba2-6041af85a000"
      },
      "outputs": [
        {
          "data": {
            "text/plain": [
              "(1, 2, 3, 4, 5, 1, 2, 3, 4, 5, 1, 2, 3, 4, 5)"
            ]
          },
          "execution_count": 43,
          "metadata": {},
          "output_type": "execute_result"
        }
      ],
      "source": [
        "T2 * 3"
      ]
    },
    {
      "cell_type": "code",
      "execution_count": null,
      "metadata": {
        "colab": {
          "base_uri": "https://localhost:8080/"
        },
        "id": "OYIY1HX0mlfP",
        "outputId": "d83bff10-e534-48ae-dde9-b589acd3f48f"
      },
      "outputs": [
        {
          "name": "stdout",
          "output_type": "stream",
          "text": [
            "1\n",
            "2\n",
            "3\n",
            "4\n",
            "5\n"
          ]
        }
      ],
      "source": [
        "# iteration\n",
        "for i in T2:\n",
        "  print(i)"
      ]
    },
    {
      "cell_type": "code",
      "execution_count": null,
      "metadata": {
        "colab": {
          "base_uri": "https://localhost:8080/"
        },
        "id": "y6zcZ5nXmrgq",
        "outputId": "3b9511fa-9c58-4e38-d115-9f37e5eab870"
      },
      "outputs": [
        {
          "data": {
            "text/plain": [
              "True"
            ]
          },
          "execution_count": 45,
          "metadata": {},
          "output_type": "execute_result"
        }
      ],
      "source": [
        "# membership\n",
        "1 in T2"
      ]
    },
    {
      "cell_type": "code",
      "execution_count": null,
      "metadata": {
        "id": "9BRTAmB1mvgP"
      },
      "outputs": [],
      "source": [
        "# 7. Functions"
      ]
    },
    {
      "cell_type": "code",
      "execution_count": null,
      "metadata": {
        "colab": {
          "base_uri": "https://localhost:8080/"
        },
        "id": "LzqiEPermxwh",
        "outputId": "7e081368-794f-4191-c489-e9a52483c149"
      },
      "outputs": [
        {
          "data": {
            "text/plain": [
              "5"
            ]
          },
          "execution_count": 47,
          "metadata": {},
          "output_type": "execute_result"
        }
      ],
      "source": [
        "len(T2)"
      ]
    },
    {
      "cell_type": "code",
      "execution_count": null,
      "metadata": {
        "colab": {
          "base_uri": "https://localhost:8080/"
        },
        "id": "qtcTX7VHm5xQ",
        "outputId": "cfdccfd1-4533-4c48-e0ff-74ed931d1878"
      },
      "outputs": [
        {
          "data": {
            "text/plain": [
              "1"
            ]
          },
          "execution_count": 48,
          "metadata": {},
          "output_type": "execute_result"
        }
      ],
      "source": [
        "min(T2)"
      ]
    },
    {
      "cell_type": "code",
      "execution_count": null,
      "metadata": {
        "colab": {
          "base_uri": "https://localhost:8080/"
        },
        "id": "nqAhhFaPm7oX",
        "outputId": "3ba8acf7-93d4-49e9-b738-33673757ff7c"
      },
      "outputs": [
        {
          "data": {
            "text/plain": [
              "5"
            ]
          },
          "execution_count": 49,
          "metadata": {},
          "output_type": "execute_result"
        }
      ],
      "source": [
        "max(T2)"
      ]
    },
    {
      "cell_type": "code",
      "execution_count": null,
      "metadata": {
        "colab": {
          "base_uri": "https://localhost:8080/"
        },
        "id": "4bHz-atVm9Pv",
        "outputId": "9daeb6ad-d78f-43e1-c493-ec6ea5c0a1d0"
      },
      "outputs": [
        {
          "data": {
            "text/plain": [
              "15"
            ]
          },
          "execution_count": 50,
          "metadata": {},
          "output_type": "execute_result"
        }
      ],
      "source": [
        "sum(T2)"
      ]
    },
    {
      "cell_type": "code",
      "execution_count": null,
      "metadata": {
        "colab": {
          "base_uri": "https://localhost:8080/"
        },
        "id": "RfnBM26JnBpq",
        "outputId": "0025f9d3-8d85-4131-a179-0f82047f2d3f"
      },
      "outputs": [
        {
          "data": {
            "text/plain": [
              "[1, 2, 3, 4, 5]"
            ]
          },
          "execution_count": 51,
          "metadata": {},
          "output_type": "execute_result"
        }
      ],
      "source": [
        "sorted(T2)"
      ]
    },
    {
      "cell_type": "code",
      "execution_count": null,
      "metadata": {
        "colab": {
          "base_uri": "https://localhost:8080/"
        },
        "id": "88xpkteqnEZG",
        "outputId": "14a89ebc-434f-4d2d-a12a-cd8b3239dfd9"
      },
      "outputs": [
        {
          "data": {
            "text/plain": [
              "[5, 4, 3, 2, 1]"
            ]
          },
          "execution_count": 52,
          "metadata": {},
          "output_type": "execute_result"
        }
      ],
      "source": [
        "sorted(T2, reverse = True)"
      ]
    },
    {
      "cell_type": "code",
      "execution_count": null,
      "metadata": {
        "id": "ozQdu1pOnkQZ"
      },
      "outputs": [],
      "source": []
    },
    {
      "cell_type": "code",
      "execution_count": null,
      "metadata": {
        "colab": {
          "base_uri": "https://localhost:8080/"
        },
        "id": "1kzYTS2gnHqD",
        "outputId": "ab1970fa-bfdb-4b6a-ce13-10d99dd9672b"
      },
      "outputs": [
        {
          "data": {
            "text/plain": [
              "2"
            ]
          },
          "execution_count": 54,
          "metadata": {},
          "output_type": "execute_result"
        }
      ],
      "source": [
        "# Count\n",
        "t = (1, 2, 3, 4, 5, 5)\n",
        "t.count(5)"
      ]
    },
    {
      "cell_type": "code",
      "execution_count": null,
      "metadata": {
        "colab": {
          "base_uri": "https://localhost:8080/"
        },
        "id": "C9vBdbY8nOeu",
        "outputId": "819e5c97-cb03-43d4-a447-c08582c77b26"
      },
      "outputs": [
        {
          "data": {
            "text/plain": [
              "4"
            ]
          },
          "execution_count": 55,
          "metadata": {},
          "output_type": "execute_result"
        }
      ],
      "source": [
        "# index\n",
        "t.index(5)"
      ]
    },
    {
      "cell_type": "code",
      "execution_count": null,
      "metadata": {
        "id": "6o0eZ-ddnWI3"
      },
      "outputs": [],
      "source": [
        "# List vs Tuples\n",
        "# Syntax:\n",
        "  # List: []\n",
        "  # Tuples: ()\n",
        "\n",
        "# Mutability:\n",
        "  # List: Mutable\n",
        "  # Tuples: Immutable\n",
        "\n",
        "# Speed:\n",
        "  # Lists: Slower(mutable)\n",
        "  # Tuples: Faster(immutable)\n",
        "\n",
        "# Memory:\n",
        "  # Lists: Higher\n",
        "  # Tuples: Lower\n",
        "\n",
        "# Functionality:\n",
        "  # Both: Indexing, slicing\n",
        "  # Lists: More Methods\n",
        "\n",
        "# Error-Prone:\n",
        "  # Lists: Modifiable\n",
        "  # Tuples: Safer"
      ]
    },
    {
      "cell_type": "code",
      "execution_count": null,
      "metadata": {
        "id": "OZROuInqpZjE"
      },
      "outputs": [],
      "source": [
        "# Sets:"
      ]
    },
    {
      "cell_type": "code",
      "source": [
        "# Unordered, unique elements\n",
        "# Set is mutable; elements are immutable\n",
        "# Operations: Union, intersection, symmetric difference, etc."
      ],
      "metadata": {
        "id": "RY52qkPGrBUQ"
      },
      "execution_count": null,
      "outputs": []
    },
    {
      "cell_type": "code",
      "source": [
        "# Unordered\n",
        "# Mutable\n",
        "# Unique Elements\n",
        "# No Mutable Data Types"
      ],
      "metadata": {
        "id": "YbRP0hdKrW8w"
      },
      "execution_count": null,
      "outputs": []
    },
    {
      "cell_type": "code",
      "source": [
        "# Important Rules about Sets\n",
        "  # No duplicates\n",
        "  # No indexing/slicing\n",
        "  # No Mutable Elements\n",
        "  # Set is Mutable\n"
      ],
      "metadata": {
        "id": "IqYBm41rreJw"
      },
      "execution_count": null,
      "outputs": []
    },
    {
      "cell_type": "code",
      "source": [
        "# Create\n",
        "# Access\n",
        "# Edit\n",
        "# Add\n",
        "# Delete\n",
        "# Operations\n",
        "# Functions"
      ],
      "metadata": {
        "id": "TFe8g0wyruPY"
      },
      "execution_count": null,
      "outputs": []
    },
    {
      "cell_type": "code",
      "source": [
        "# 1. Create"
      ],
      "metadata": {
        "id": "-xSCmyZSr2BS"
      },
      "execution_count": null,
      "outputs": []
    },
    {
      "cell_type": "code",
      "source": [
        "# empty\n",
        "S1 = {}\n",
        "S1"
      ],
      "metadata": {
        "colab": {
          "base_uri": "https://localhost:8080/"
        },
        "id": "HCJKv6sRr4En",
        "outputId": "9944f58e-2629-4144-9e21-267e0285ae2d"
      },
      "execution_count": null,
      "outputs": [
        {
          "output_type": "execute_result",
          "data": {
            "text/plain": [
              "{}"
            ]
          },
          "metadata": {},
          "execution_count": 64
        }
      ]
    },
    {
      "cell_type": "code",
      "source": [
        "type(S1)"
      ],
      "metadata": {
        "colab": {
          "base_uri": "https://localhost:8080/"
        },
        "id": "xasJJRbnr7Sc",
        "outputId": "1ae8dc62-a4be-48a4-db56-754b97cefccf"
      },
      "execution_count": null,
      "outputs": [
        {
          "output_type": "execute_result",
          "data": {
            "text/plain": [
              "dict"
            ]
          },
          "metadata": {},
          "execution_count": 65
        }
      ]
    },
    {
      "cell_type": "code",
      "source": [
        "# 1D & 2D Sets\n",
        "S1 = {1, 2, 3, 4, 5} # 1D Set\n",
        "S1"
      ],
      "metadata": {
        "colab": {
          "base_uri": "https://localhost:8080/"
        },
        "id": "eHqZ3qcxsA40",
        "outputId": "8119637e-9a93-4ac4-b574-65dd1eae8890"
      },
      "execution_count": null,
      "outputs": [
        {
          "output_type": "execute_result",
          "data": {
            "text/plain": [
              "{1, 2, 3, 4, 5}"
            ]
          },
          "metadata": {},
          "execution_count": 66
        }
      ]
    },
    {
      "cell_type": "code",
      "source": [
        "# Homo and Hetro\n",
        "S2 = {\"Hello\", 4.5, True}\n",
        "S2"
      ],
      "metadata": {
        "colab": {
          "base_uri": "https://localhost:8080/"
        },
        "id": "ADNt0-T7sNUj",
        "outputId": "40d25f98-adcd-4043-815f-bb204ae20111"
      },
      "execution_count": null,
      "outputs": [
        {
          "output_type": "execute_result",
          "data": {
            "text/plain": [
              "{4.5, 'Hello', True}"
            ]
          },
          "metadata": {},
          "execution_count": 67
        }
      ]
    },
    {
      "cell_type": "code",
      "source": [
        "# Type Conversion\n",
        "s4 = set([1, 2, 3])\n",
        "print(s4)"
      ],
      "metadata": {
        "colab": {
          "base_uri": "https://localhost:8080/"
        },
        "id": "R1mMC81DsUwx",
        "outputId": "7fcb1c0c-a2e0-4e01-d77a-53db292345db"
      },
      "execution_count": null,
      "outputs": [
        {
          "output_type": "stream",
          "name": "stdout",
          "text": [
            "{1, 2, 3}\n"
          ]
        }
      ]
    },
    {
      "cell_type": "code",
      "source": [
        "# Duplicates not allowed\n",
        "s3 = {1, 1, 2, 2, 3, 3}\n",
        "s3"
      ],
      "metadata": {
        "colab": {
          "base_uri": "https://localhost:8080/"
        },
        "id": "WFpcKuNssjWL",
        "outputId": "80339ef7-f1d9-4249-f950-2f65cd21800a"
      },
      "execution_count": null,
      "outputs": [
        {
          "output_type": "execute_result",
          "data": {
            "text/plain": [
              "{1, 2, 3}"
            ]
          },
          "metadata": {},
          "execution_count": 69
        }
      ]
    },
    {
      "cell_type": "code",
      "source": [
        "s4 = {[1, 2, 3], \"Hello\"}\n",
        "s4"
      ],
      "metadata": {
        "colab": {
          "base_uri": "https://localhost:8080/",
          "height": 166
        },
        "id": "JF4AHfCzsqlG",
        "outputId": "f4322be6-5290-4c58-9a48-41f9e1e6a660"
      },
      "execution_count": null,
      "outputs": [
        {
          "output_type": "error",
          "ename": "TypeError",
          "evalue": "unhashable type: 'list'",
          "traceback": [
            "\u001b[0;31m---------------------------------------------------------------------------\u001b[0m",
            "\u001b[0;31mTypeError\u001b[0m                                 Traceback (most recent call last)",
            "\u001b[0;32m/tmp/ipython-input-70-3889062078.py\u001b[0m in \u001b[0;36m<cell line: 0>\u001b[0;34m()\u001b[0m\n\u001b[0;32m----> 1\u001b[0;31m \u001b[0ms4\u001b[0m \u001b[0;34m=\u001b[0m \u001b[0;34m{\u001b[0m\u001b[0;34m[\u001b[0m\u001b[0;36m1\u001b[0m\u001b[0;34m,\u001b[0m \u001b[0;36m2\u001b[0m\u001b[0;34m,\u001b[0m \u001b[0;36m3\u001b[0m\u001b[0;34m]\u001b[0m\u001b[0;34m,\u001b[0m \u001b[0;34m\"Hello\"\u001b[0m\u001b[0;34m}\u001b[0m\u001b[0;34m\u001b[0m\u001b[0;34m\u001b[0m\u001b[0m\n\u001b[0m\u001b[1;32m      2\u001b[0m \u001b[0ms4\u001b[0m\u001b[0;34m\u001b[0m\u001b[0;34m\u001b[0m\u001b[0m\n",
            "\u001b[0;31mTypeError\u001b[0m: unhashable type: 'list'"
          ]
        }
      ]
    },
    {
      "cell_type": "code",
      "source": [
        "# set can't have mutable items\n",
        "s6 = {1, 2, [3, 4]}\n",
        "print(s6)"
      ],
      "metadata": {
        "colab": {
          "base_uri": "https://localhost:8080/",
          "height": 185
        },
        "id": "ym8NG9XIsv2V",
        "outputId": "6064c459-b696-4f6f-d6ae-4e30d4a02ff8"
      },
      "execution_count": null,
      "outputs": [
        {
          "output_type": "error",
          "ename": "TypeError",
          "evalue": "unhashable type: 'list'",
          "traceback": [
            "\u001b[0;31m---------------------------------------------------------------------------\u001b[0m",
            "\u001b[0;31mTypeError\u001b[0m                                 Traceback (most recent call last)",
            "\u001b[0;32m/tmp/ipython-input-71-3324855377.py\u001b[0m in \u001b[0;36m<cell line: 0>\u001b[0;34m()\u001b[0m\n\u001b[1;32m      1\u001b[0m \u001b[0;31m# set can't have mutable items\u001b[0m\u001b[0;34m\u001b[0m\u001b[0;34m\u001b[0m\u001b[0m\n\u001b[0;32m----> 2\u001b[0;31m \u001b[0ms6\u001b[0m \u001b[0;34m=\u001b[0m \u001b[0;34m{\u001b[0m\u001b[0;36m1\u001b[0m\u001b[0;34m,\u001b[0m \u001b[0;36m2\u001b[0m\u001b[0;34m,\u001b[0m \u001b[0;34m[\u001b[0m\u001b[0;36m3\u001b[0m\u001b[0;34m,\u001b[0m \u001b[0;36m4\u001b[0m\u001b[0;34m]\u001b[0m\u001b[0;34m}\u001b[0m\u001b[0;34m\u001b[0m\u001b[0;34m\u001b[0m\u001b[0m\n\u001b[0m\u001b[1;32m      3\u001b[0m \u001b[0mprint\u001b[0m\u001b[0;34m(\u001b[0m\u001b[0ms6\u001b[0m\u001b[0;34m)\u001b[0m\u001b[0;34m\u001b[0m\u001b[0;34m\u001b[0m\u001b[0m\n",
            "\u001b[0;31mTypeError\u001b[0m: unhashable type: 'list'"
          ]
        }
      ]
    },
    {
      "cell_type": "code",
      "source": [
        "# Sets have no indexing\n",
        "# Hashing"
      ],
      "metadata": {
        "id": "6pZ-SqRos_2i"
      },
      "execution_count": null,
      "outputs": []
    },
    {
      "cell_type": "code",
      "source": [
        "s5 = {{1}, {2}}"
      ],
      "metadata": {
        "colab": {
          "base_uri": "https://localhost:8080/",
          "height": 148
        },
        "id": "ceGYnNzVtDxr",
        "outputId": "7283b460-1d81-461b-b493-5f1c3a43f403"
      },
      "execution_count": null,
      "outputs": [
        {
          "output_type": "error",
          "ename": "TypeError",
          "evalue": "unhashable type: 'set'",
          "traceback": [
            "\u001b[0;31m---------------------------------------------------------------------------\u001b[0m",
            "\u001b[0;31mTypeError\u001b[0m                                 Traceback (most recent call last)",
            "\u001b[0;32m/tmp/ipython-input-73-850747476.py\u001b[0m in \u001b[0;36m<cell line: 0>\u001b[0;34m()\u001b[0m\n\u001b[0;32m----> 1\u001b[0;31m \u001b[0ms5\u001b[0m \u001b[0;34m=\u001b[0m \u001b[0;34m{\u001b[0m\u001b[0;34m{\u001b[0m\u001b[0;36m1\u001b[0m\u001b[0;34m}\u001b[0m\u001b[0;34m,\u001b[0m \u001b[0;34m{\u001b[0m\u001b[0;36m2\u001b[0m\u001b[0;34m}\u001b[0m\u001b[0;34m}\u001b[0m\u001b[0;34m\u001b[0m\u001b[0;34m\u001b[0m\u001b[0m\n\u001b[0m",
            "\u001b[0;31mTypeError\u001b[0m: unhashable type: 'set'"
          ]
        }
      ]
    },
    {
      "cell_type": "code",
      "source": [
        "s1 = {1, 2, 3}\n",
        "s2 = {3, 2, 1}\n",
        "print(s1 == s2)"
      ],
      "metadata": {
        "colab": {
          "base_uri": "https://localhost:8080/"
        },
        "id": "jdLcWCHCtHFK",
        "outputId": "bf3c7ecc-6be9-4f47-b51d-e1e3c37c5771"
      },
      "execution_count": null,
      "outputs": [
        {
          "output_type": "stream",
          "name": "stdout",
          "text": [
            "True\n"
          ]
        }
      ]
    },
    {
      "cell_type": "code",
      "source": [
        "# 2. Access\n"
      ],
      "metadata": {
        "id": "PhM0ASBbtQ0-"
      },
      "execution_count": null,
      "outputs": []
    },
    {
      "cell_type": "code",
      "source": [
        "S1"
      ],
      "metadata": {
        "colab": {
          "base_uri": "https://localhost:8080/"
        },
        "id": "dGgqDIUStTBB",
        "outputId": "97c00576-6f9d-41c5-aa88-f327359b8e1d"
      },
      "execution_count": null,
      "outputs": [
        {
          "output_type": "execute_result",
          "data": {
            "text/plain": [
              "{1, 2, 3, 4, 5}"
            ]
          },
          "metadata": {},
          "execution_count": 77
        }
      ]
    },
    {
      "cell_type": "code",
      "source": [
        "S1[0]"
      ],
      "metadata": {
        "colab": {
          "base_uri": "https://localhost:8080/",
          "height": 148
        },
        "id": "UEiHTewMtTg-",
        "outputId": "8c60b4ad-ce42-46f2-eac4-164ee57a7946"
      },
      "execution_count": null,
      "outputs": [
        {
          "output_type": "error",
          "ename": "TypeError",
          "evalue": "'set' object is not subscriptable",
          "traceback": [
            "\u001b[0;31m---------------------------------------------------------------------------\u001b[0m",
            "\u001b[0;31mTypeError\u001b[0m                                 Traceback (most recent call last)",
            "\u001b[0;32m/tmp/ipython-input-78-1819249319.py\u001b[0m in \u001b[0;36m<cell line: 0>\u001b[0;34m()\u001b[0m\n\u001b[0;32m----> 1\u001b[0;31m \u001b[0mS1\u001b[0m\u001b[0;34m[\u001b[0m\u001b[0;36m0\u001b[0m\u001b[0;34m]\u001b[0m\u001b[0;34m\u001b[0m\u001b[0;34m\u001b[0m\u001b[0m\n\u001b[0m",
            "\u001b[0;31mTypeError\u001b[0m: 'set' object is not subscriptable"
          ]
        }
      ]
    },
    {
      "cell_type": "code",
      "source": [
        "S1[-1]"
      ],
      "metadata": {
        "colab": {
          "base_uri": "https://localhost:8080/",
          "height": 148
        },
        "id": "XMUroNputWXX",
        "outputId": "a811f8e1-7748-4355-bea8-44ac5fec64bd"
      },
      "execution_count": null,
      "outputs": [
        {
          "output_type": "error",
          "ename": "TypeError",
          "evalue": "'set' object is not subscriptable",
          "traceback": [
            "\u001b[0;31m---------------------------------------------------------------------------\u001b[0m",
            "\u001b[0;31mTypeError\u001b[0m                                 Traceback (most recent call last)",
            "\u001b[0;32m/tmp/ipython-input-79-387789777.py\u001b[0m in \u001b[0;36m<cell line: 0>\u001b[0;34m()\u001b[0m\n\u001b[0;32m----> 1\u001b[0;31m \u001b[0mS1\u001b[0m\u001b[0;34m[\u001b[0m\u001b[0;34m-\u001b[0m\u001b[0;36m1\u001b[0m\u001b[0;34m]\u001b[0m\u001b[0;34m\u001b[0m\u001b[0;34m\u001b[0m\u001b[0m\n\u001b[0m",
            "\u001b[0;31mTypeError\u001b[0m: 'set' object is not subscriptable"
          ]
        }
      ]
    },
    {
      "cell_type": "code",
      "source": [
        "S1[0:3]"
      ],
      "metadata": {
        "colab": {
          "base_uri": "https://localhost:8080/",
          "height": 148
        },
        "id": "7ip0rKdYteZN",
        "outputId": "a1432616-c3f8-4f75-a6de-d2be3c9e1d3c"
      },
      "execution_count": null,
      "outputs": [
        {
          "output_type": "error",
          "ename": "TypeError",
          "evalue": "'set' object is not subscriptable",
          "traceback": [
            "\u001b[0;31m---------------------------------------------------------------------------\u001b[0m",
            "\u001b[0;31mTypeError\u001b[0m                                 Traceback (most recent call last)",
            "\u001b[0;32m/tmp/ipython-input-80-3138535836.py\u001b[0m in \u001b[0;36m<cell line: 0>\u001b[0;34m()\u001b[0m\n\u001b[0;32m----> 1\u001b[0;31m \u001b[0mS1\u001b[0m\u001b[0;34m[\u001b[0m\u001b[0;36m0\u001b[0m\u001b[0;34m:\u001b[0m\u001b[0;36m3\u001b[0m\u001b[0;34m]\u001b[0m\u001b[0;34m\u001b[0m\u001b[0;34m\u001b[0m\u001b[0m\n\u001b[0m",
            "\u001b[0;31mTypeError\u001b[0m: 'set' object is not subscriptable"
          ]
        }
      ]
    },
    {
      "cell_type": "code",
      "source": [
        "# 3. Edit"
      ],
      "metadata": {
        "id": "z_cOJ-Z6tiDT"
      },
      "execution_count": null,
      "outputs": []
    },
    {
      "cell_type": "code",
      "source": [
        "S1[2] = 100"
      ],
      "metadata": {
        "colab": {
          "base_uri": "https://localhost:8080/",
          "height": 148
        },
        "id": "HXHyQASotmDY",
        "outputId": "1599ab7f-7ab6-4d23-f716-8449ecd8e65e"
      },
      "execution_count": null,
      "outputs": [
        {
          "output_type": "error",
          "ename": "TypeError",
          "evalue": "'set' object does not support item assignment",
          "traceback": [
            "\u001b[0;31m---------------------------------------------------------------------------\u001b[0m",
            "\u001b[0;31mTypeError\u001b[0m                                 Traceback (most recent call last)",
            "\u001b[0;32m/tmp/ipython-input-82-2261523821.py\u001b[0m in \u001b[0;36m<cell line: 0>\u001b[0;34m()\u001b[0m\n\u001b[0;32m----> 1\u001b[0;31m \u001b[0mS1\u001b[0m\u001b[0;34m[\u001b[0m\u001b[0;36m2\u001b[0m\u001b[0;34m]\u001b[0m \u001b[0;34m=\u001b[0m \u001b[0;36m100\u001b[0m\u001b[0;34m\u001b[0m\u001b[0;34m\u001b[0m\u001b[0m\n\u001b[0m",
            "\u001b[0;31mTypeError\u001b[0m: 'set' object does not support item assignment"
          ]
        }
      ]
    },
    {
      "cell_type": "code",
      "source": [
        "S1"
      ],
      "metadata": {
        "colab": {
          "base_uri": "https://localhost:8080/"
        },
        "id": "mpEqiXcHtoVf",
        "outputId": "1668589a-2f05-4f19-ff0b-437b3836306a"
      },
      "execution_count": null,
      "outputs": [
        {
          "output_type": "execute_result",
          "data": {
            "text/plain": [
              "{1, 2, 3, 4, 5}"
            ]
          },
          "metadata": {},
          "execution_count": 83
        }
      ]
    },
    {
      "cell_type": "code",
      "source": [
        "id(S1)"
      ],
      "metadata": {
        "colab": {
          "base_uri": "https://localhost:8080/"
        },
        "id": "hx4vMPpYtpKX",
        "outputId": "72c38fb6-97b2-4b98-c0e0-c3a6c0e44935"
      },
      "execution_count": null,
      "outputs": [
        {
          "output_type": "execute_result",
          "data": {
            "text/plain": [
              "133228402915840"
            ]
          },
          "metadata": {},
          "execution_count": 84
        }
      ]
    },
    {
      "cell_type": "code",
      "source": [
        "L = list(S1)\n",
        "L"
      ],
      "metadata": {
        "colab": {
          "base_uri": "https://localhost:8080/"
        },
        "id": "l5QVUxijttTe",
        "outputId": "e0150def-6fa4-4771-98a3-3576d2b28bec"
      },
      "execution_count": null,
      "outputs": [
        {
          "output_type": "execute_result",
          "data": {
            "text/plain": [
              "[1, 2, 3, 4, 5]"
            ]
          },
          "metadata": {},
          "execution_count": 85
        }
      ]
    },
    {
      "cell_type": "code",
      "source": [
        "L[0] = 100\n",
        "L"
      ],
      "metadata": {
        "colab": {
          "base_uri": "https://localhost:8080/"
        },
        "id": "Rz2Kpq2Ftvoi",
        "outputId": "cbe4274e-0a64-40ca-b253-089f01268e8c"
      },
      "execution_count": null,
      "outputs": [
        {
          "output_type": "execute_result",
          "data": {
            "text/plain": [
              "[100, 2, 3, 4, 5]"
            ]
          },
          "metadata": {},
          "execution_count": 86
        }
      ]
    },
    {
      "cell_type": "code",
      "source": [
        "S1 = set(L)\n",
        "S1"
      ],
      "metadata": {
        "colab": {
          "base_uri": "https://localhost:8080/"
        },
        "id": "fKDve3zmt0PA",
        "outputId": "c9faf4f9-8804-476b-9d9f-edae653a6d2b"
      },
      "execution_count": null,
      "outputs": [
        {
          "output_type": "execute_result",
          "data": {
            "text/plain": [
              "{2, 3, 4, 5, 100}"
            ]
          },
          "metadata": {},
          "execution_count": 87
        }
      ]
    },
    {
      "cell_type": "code",
      "source": [
        "id(S1)"
      ],
      "metadata": {
        "colab": {
          "base_uri": "https://localhost:8080/"
        },
        "id": "Y-k_n6oLt3LA",
        "outputId": "72c9dd11-df29-4fe8-8ce8-393ecab76759"
      },
      "execution_count": null,
      "outputs": [
        {
          "output_type": "execute_result",
          "data": {
            "text/plain": [
              "133228402915616"
            ]
          },
          "metadata": {},
          "execution_count": 88
        }
      ]
    },
    {
      "cell_type": "code",
      "source": [
        "# 4. Add"
      ],
      "metadata": {
        "id": "TTWCcu1ZuCR6"
      },
      "execution_count": null,
      "outputs": []
    },
    {
      "cell_type": "code",
      "source": [
        "S1"
      ],
      "metadata": {
        "colab": {
          "base_uri": "https://localhost:8080/"
        },
        "id": "aT9qXlDbuFJW",
        "outputId": "696c469d-832d-4425-ac38-b9a2c4b33093"
      },
      "execution_count": null,
      "outputs": [
        {
          "output_type": "execute_result",
          "data": {
            "text/plain": [
              "{2, 3, 4, 5, 100}"
            ]
          },
          "metadata": {},
          "execution_count": 90
        }
      ]
    },
    {
      "cell_type": "code",
      "source": [
        "S1.add(6)"
      ],
      "metadata": {
        "id": "0KLKaWbwuFyD"
      },
      "execution_count": null,
      "outputs": []
    },
    {
      "cell_type": "code",
      "source": [
        "S1"
      ],
      "metadata": {
        "colab": {
          "base_uri": "https://localhost:8080/"
        },
        "id": "Tm9fNKecuH30",
        "outputId": "b7e1fdb2-0ce5-45f7-ce75-9b8af7e2e4e7"
      },
      "execution_count": null,
      "outputs": [
        {
          "output_type": "execute_result",
          "data": {
            "text/plain": [
              "{2, 3, 4, 5, 6, 100}"
            ]
          },
          "metadata": {},
          "execution_count": 92
        }
      ]
    },
    {
      "cell_type": "code",
      "source": [
        "id(S1)"
      ],
      "metadata": {
        "colab": {
          "base_uri": "https://localhost:8080/"
        },
        "id": "d0rn-CCSuJtZ",
        "outputId": "514ef5e0-6ef6-4536-b6f1-da1dd7b85f97"
      },
      "execution_count": null,
      "outputs": [
        {
          "output_type": "execute_result",
          "data": {
            "text/plain": [
              "133228402915616"
            ]
          },
          "metadata": {},
          "execution_count": 93
        }
      ]
    },
    {
      "cell_type": "code",
      "source": [
        "S1.update([5, 6, 7])\n",
        "print(S1)"
      ],
      "metadata": {
        "colab": {
          "base_uri": "https://localhost:8080/"
        },
        "id": "iZ0OPrV2uNh1",
        "outputId": "e6606f83-f4c1-4dbf-c560-e40ff5a3e60b"
      },
      "execution_count": null,
      "outputs": [
        {
          "output_type": "stream",
          "name": "stdout",
          "text": [
            "{2, 3, 100, 5, 4, 6, 7}\n"
          ]
        }
      ]
    },
    {
      "cell_type": "code",
      "source": [
        "# Delete\n",
        "  # del\n",
        "  # remove()\n",
        "  # pop()\n",
        "  # discard()\n",
        "  # clear()\n"
      ],
      "metadata": {
        "id": "twpsRiWEuT0x"
      },
      "execution_count": null,
      "outputs": []
    },
    {
      "cell_type": "code",
      "source": [
        "S2"
      ],
      "metadata": {
        "colab": {
          "base_uri": "https://localhost:8080/"
        },
        "id": "1VVy1CfLup9T",
        "outputId": "d970763c-9434-4223-8134-f7e6dcf1c65a"
      },
      "execution_count": null,
      "outputs": [
        {
          "output_type": "execute_result",
          "data": {
            "text/plain": [
              "{4.5, 'Hello', True}"
            ]
          },
          "metadata": {},
          "execution_count": 96
        }
      ]
    },
    {
      "cell_type": "code",
      "source": [
        "del S2"
      ],
      "metadata": {
        "id": "XLX4jj05uqyp"
      },
      "execution_count": null,
      "outputs": []
    },
    {
      "cell_type": "code",
      "source": [
        "S2"
      ],
      "metadata": {
        "colab": {
          "base_uri": "https://localhost:8080/",
          "height": 148
        },
        "id": "lkrzJuIrusLb",
        "outputId": "b51e40e7-dd87-4c5b-da67-bd53bae98d61"
      },
      "execution_count": null,
      "outputs": [
        {
          "output_type": "error",
          "ename": "NameError",
          "evalue": "name 'S2' is not defined",
          "traceback": [
            "\u001b[0;31m---------------------------------------------------------------------------\u001b[0m",
            "\u001b[0;31mNameError\u001b[0m                                 Traceback (most recent call last)",
            "\u001b[0;32m/tmp/ipython-input-98-2688754781.py\u001b[0m in \u001b[0;36m<cell line: 0>\u001b[0;34m()\u001b[0m\n\u001b[0;32m----> 1\u001b[0;31m \u001b[0mS2\u001b[0m\u001b[0;34m\u001b[0m\u001b[0;34m\u001b[0m\u001b[0m\n\u001b[0m",
            "\u001b[0;31mNameError\u001b[0m: name 'S2' is not defined"
          ]
        }
      ]
    },
    {
      "cell_type": "code",
      "source": [
        "del S1[0]"
      ],
      "metadata": {
        "colab": {
          "base_uri": "https://localhost:8080/",
          "height": 148
        },
        "id": "nvDMoNG-utBs",
        "outputId": "5ae519f3-6c0e-46f1-a200-cf7e7f58cde2"
      },
      "execution_count": null,
      "outputs": [
        {
          "output_type": "error",
          "ename": "TypeError",
          "evalue": "'set' object doesn't support item deletion",
          "traceback": [
            "\u001b[0;31m---------------------------------------------------------------------------\u001b[0m",
            "\u001b[0;31mTypeError\u001b[0m                                 Traceback (most recent call last)",
            "\u001b[0;32m/tmp/ipython-input-99-2134711622.py\u001b[0m in \u001b[0;36m<cell line: 0>\u001b[0;34m()\u001b[0m\n\u001b[0;32m----> 1\u001b[0;31m \u001b[0;32mdel\u001b[0m \u001b[0mS1\u001b[0m\u001b[0;34m[\u001b[0m\u001b[0;36m0\u001b[0m\u001b[0;34m]\u001b[0m\u001b[0;34m\u001b[0m\u001b[0;34m\u001b[0m\u001b[0m\n\u001b[0m",
            "\u001b[0;31mTypeError\u001b[0m: 'set' object doesn't support item deletion"
          ]
        }
      ]
    },
    {
      "cell_type": "code",
      "source": [
        "S1"
      ],
      "metadata": {
        "colab": {
          "base_uri": "https://localhost:8080/"
        },
        "id": "On1ZPE7uu9i8",
        "outputId": "546c7501-9e9b-45fa-83ef-aec1ff0efebf"
      },
      "execution_count": null,
      "outputs": [
        {
          "output_type": "execute_result",
          "data": {
            "text/plain": [
              "{2, 3, 4, 5, 6, 7, 100}"
            ]
          },
          "metadata": {},
          "execution_count": 100
        }
      ]
    },
    {
      "cell_type": "code",
      "source": [
        "S1.remove(100)\n",
        "S1"
      ],
      "metadata": {
        "colab": {
          "base_uri": "https://localhost:8080/"
        },
        "id": "wqGTCTXPu_L5",
        "outputId": "3cd1fe46-ce52-43f5-8863-a225c278e5d0"
      },
      "execution_count": null,
      "outputs": [
        {
          "output_type": "execute_result",
          "data": {
            "text/plain": [
              "{2, 3, 4, 5, 6, 7}"
            ]
          },
          "metadata": {},
          "execution_count": 102
        }
      ]
    },
    {
      "cell_type": "code",
      "source": [
        "S1.pop()\n",
        "S1"
      ],
      "metadata": {
        "colab": {
          "base_uri": "https://localhost:8080/"
        },
        "id": "dv9fDvl3vB5w",
        "outputId": "b9e9067c-1d3b-421f-95ed-48149b753d52"
      },
      "execution_count": null,
      "outputs": [
        {
          "output_type": "execute_result",
          "data": {
            "text/plain": [
              "{3, 4, 5, 6, 7}"
            ]
          },
          "metadata": {},
          "execution_count": 103
        }
      ]
    },
    {
      "cell_type": "code",
      "source": [
        "S1.pop()\n",
        "S1"
      ],
      "metadata": {
        "colab": {
          "base_uri": "https://localhost:8080/"
        },
        "id": "8dnQycH7vGyy",
        "outputId": "31d462cd-d6c8-4ae6-f8a3-38148a326e75"
      },
      "execution_count": null,
      "outputs": [
        {
          "output_type": "execute_result",
          "data": {
            "text/plain": [
              "{4, 5, 6, 7}"
            ]
          },
          "metadata": {},
          "execution_count": 104
        }
      ]
    },
    {
      "cell_type": "code",
      "source": [
        "S1.discard(7)\n",
        "S1"
      ],
      "metadata": {
        "colab": {
          "base_uri": "https://localhost:8080/"
        },
        "id": "GhNWLNdgvI_u",
        "outputId": "e675acb2-5114-4662-d768-ef7933095695"
      },
      "execution_count": null,
      "outputs": [
        {
          "output_type": "execute_result",
          "data": {
            "text/plain": [
              "{4, 5, 6}"
            ]
          },
          "metadata": {},
          "execution_count": 105
        }
      ]
    },
    {
      "cell_type": "code",
      "source": [
        "S1.clear()\n",
        "S1"
      ],
      "metadata": {
        "colab": {
          "base_uri": "https://localhost:8080/"
        },
        "id": "2lAJgCNJvN24",
        "outputId": "7226a274-7717-4c20-908e-4df603982b34"
      },
      "execution_count": null,
      "outputs": [
        {
          "output_type": "execute_result",
          "data": {
            "text/plain": [
              "set()"
            ]
          },
          "metadata": {},
          "execution_count": 106
        }
      ]
    },
    {
      "cell_type": "code",
      "source": [
        "# 6. Operations"
      ],
      "metadata": {
        "id": "DWdMCKepvTQu"
      },
      "execution_count": null,
      "outputs": []
    },
    {
      "cell_type": "code",
      "source": [
        "s1 = {1, 2, 3, 4, 5}\n",
        "s2 = {3, 4, 5, 6, 7}\n"
      ],
      "metadata": {
        "id": "a-ld8sB3vV9p"
      },
      "execution_count": null,
      "outputs": []
    },
    {
      "cell_type": "code",
      "source": [
        "s1 + s2"
      ],
      "metadata": {
        "colab": {
          "base_uri": "https://localhost:8080/",
          "height": 148
        },
        "id": "jjNrxLPovbtV",
        "outputId": "15f1de94-29bc-4b18-98e2-6a0a1f69e879"
      },
      "execution_count": null,
      "outputs": [
        {
          "output_type": "error",
          "ename": "TypeError",
          "evalue": "unsupported operand type(s) for +: 'set' and 'set'",
          "traceback": [
            "\u001b[0;31m---------------------------------------------------------------------------\u001b[0m",
            "\u001b[0;31mTypeError\u001b[0m                                 Traceback (most recent call last)",
            "\u001b[0;32m/tmp/ipython-input-109-1743780635.py\u001b[0m in \u001b[0;36m<cell line: 0>\u001b[0;34m()\u001b[0m\n\u001b[0;32m----> 1\u001b[0;31m \u001b[0ms1\u001b[0m \u001b[0;34m+\u001b[0m \u001b[0ms2\u001b[0m\u001b[0;34m\u001b[0m\u001b[0;34m\u001b[0m\u001b[0m\n\u001b[0m",
            "\u001b[0;31mTypeError\u001b[0m: unsupported operand type(s) for +: 'set' and 'set'"
          ]
        }
      ]
    },
    {
      "cell_type": "code",
      "source": [
        "s1 * 3"
      ],
      "metadata": {
        "colab": {
          "base_uri": "https://localhost:8080/",
          "height": 148
        },
        "id": "BrUT6BoUvcyj",
        "outputId": "fa053543-597c-4c1c-d50e-1aaef5b8abdc"
      },
      "execution_count": null,
      "outputs": [
        {
          "output_type": "error",
          "ename": "TypeError",
          "evalue": "unsupported operand type(s) for *: 'set' and 'int'",
          "traceback": [
            "\u001b[0;31m---------------------------------------------------------------------------\u001b[0m",
            "\u001b[0;31mTypeError\u001b[0m                                 Traceback (most recent call last)",
            "\u001b[0;32m/tmp/ipython-input-110-3113677268.py\u001b[0m in \u001b[0;36m<cell line: 0>\u001b[0;34m()\u001b[0m\n\u001b[0;32m----> 1\u001b[0;31m \u001b[0ms1\u001b[0m \u001b[0;34m*\u001b[0m \u001b[0;36m3\u001b[0m\u001b[0;34m\u001b[0m\u001b[0;34m\u001b[0m\u001b[0m\n\u001b[0m",
            "\u001b[0;31mTypeError\u001b[0m: unsupported operand type(s) for *: 'set' and 'int'"
          ]
        }
      ]
    },
    {
      "cell_type": "code",
      "source": [
        "# Iteration\n",
        "for i in s1:\n",
        "  print(i)"
      ],
      "metadata": {
        "colab": {
          "base_uri": "https://localhost:8080/"
        },
        "id": "UaLqYz_Ovhve",
        "outputId": "abf1f09b-f267-4241-9913-cb170a2019c2"
      },
      "execution_count": null,
      "outputs": [
        {
          "output_type": "stream",
          "name": "stdout",
          "text": [
            "1\n",
            "2\n",
            "3\n",
            "4\n",
            "5\n"
          ]
        }
      ]
    },
    {
      "cell_type": "code",
      "source": [
        "# Membership\n",
        "1 in s1"
      ],
      "metadata": {
        "colab": {
          "base_uri": "https://localhost:8080/"
        },
        "id": "J5VMC2Nhvmjq",
        "outputId": "e1dba0b1-7119-4619-b6ed-665002574081"
      },
      "execution_count": null,
      "outputs": [
        {
          "output_type": "execute_result",
          "data": {
            "text/plain": [
              "True"
            ]
          },
          "metadata": {},
          "execution_count": 112
        }
      ]
    },
    {
      "cell_type": "code",
      "source": [
        "1 not in s1"
      ],
      "metadata": {
        "colab": {
          "base_uri": "https://localhost:8080/"
        },
        "id": "R-GBboW9vqow",
        "outputId": "9ff75f45-1f87-4e2d-f6fb-d4720031b52a"
      },
      "execution_count": null,
      "outputs": [
        {
          "output_type": "execute_result",
          "data": {
            "text/plain": [
              "False"
            ]
          },
          "metadata": {},
          "execution_count": 113
        }
      ]
    },
    {
      "cell_type": "code",
      "source": [
        "s1 = {1, 2, 3, 4, 5}\n",
        "s2 = {4, 5, 6, 7, 8}"
      ],
      "metadata": {
        "id": "GB9T5YI7vsd1"
      },
      "execution_count": null,
      "outputs": []
    },
    {
      "cell_type": "code",
      "source": [
        "# Union(|)\n",
        "s1 | s2"
      ],
      "metadata": {
        "colab": {
          "base_uri": "https://localhost:8080/"
        },
        "id": "McawDYWpvxr9",
        "outputId": "d63bdedc-ecf8-4bfb-b728-679498008ceb"
      },
      "execution_count": null,
      "outputs": [
        {
          "output_type": "execute_result",
          "data": {
            "text/plain": [
              "{1, 2, 3, 4, 5, 6, 7, 8}"
            ]
          },
          "metadata": {},
          "execution_count": 115
        }
      ]
    },
    {
      "cell_type": "code",
      "source": [
        "# Intersection(&)\n",
        "s1 & s2"
      ],
      "metadata": {
        "colab": {
          "base_uri": "https://localhost:8080/"
        },
        "id": "WEeGmoC3v0V3",
        "outputId": "2f52db13-ca43-4b41-b63a-3bb1110ab192"
      },
      "execution_count": null,
      "outputs": [
        {
          "output_type": "execute_result",
          "data": {
            "text/plain": [
              "{4, 5}"
            ]
          },
          "metadata": {},
          "execution_count": 116
        }
      ]
    },
    {
      "cell_type": "code",
      "source": [
        "# Difference(-)\n",
        "s1 - s2\n",
        "s2 - s1"
      ],
      "metadata": {
        "colab": {
          "base_uri": "https://localhost:8080/"
        },
        "id": "qREa5MUdv5N8",
        "outputId": "b3ec00bd-092b-44c3-dfed-24d5bb70ec5d"
      },
      "execution_count": null,
      "outputs": [
        {
          "output_type": "execute_result",
          "data": {
            "text/plain": [
              "{6, 7, 8}"
            ]
          },
          "metadata": {},
          "execution_count": 117
        }
      ]
    },
    {
      "cell_type": "code",
      "source": [
        "# symmetric Difference(^)\n",
        "s1 ^ s2"
      ],
      "metadata": {
        "colab": {
          "base_uri": "https://localhost:8080/"
        },
        "id": "kZy8V7Hgv_NR",
        "outputId": "eec0ab74-cd4e-4c38-9a2e-fcf33368225c"
      },
      "execution_count": null,
      "outputs": [
        {
          "output_type": "execute_result",
          "data": {
            "text/plain": [
              "{1, 2, 3, 6, 7, 8}"
            ]
          },
          "metadata": {},
          "execution_count": 119
        }
      ]
    },
    {
      "cell_type": "code",
      "source": [
        "# 7. Functions\n",
        "  # len()\n",
        "  # min()\n",
        "  # max()\n",
        "  # sorted()"
      ],
      "metadata": {
        "id": "X_0QxzXqwC6b"
      },
      "execution_count": null,
      "outputs": []
    },
    {
      "cell_type": "code",
      "source": [
        "# Dictionary"
      ],
      "metadata": {
        "id": "U1ACMi8zwLIo"
      },
      "execution_count": null,
      "outputs": []
    },
    {
      "cell_type": "code",
      "source": [
        "# Dictionary\n",
        "  # Key-Value pairs: Data Mapping\n",
        "  # Aliases: Map, Associative Array"
      ],
      "metadata": {
        "id": "KNOvPyXYJ3G8"
      },
      "execution_count": null,
      "outputs": []
    },
    {
      "cell_type": "code",
      "source": [
        "dict = {\"name\": \"Ali\", \"age\":\"25\", \"gender\": \"male\"}\n"
      ],
      "metadata": {
        "id": "gQiIVbWkKEz4"
      },
      "execution_count": null,
      "outputs": []
    },
    {
      "cell_type": "code",
      "source": [
        "# Traits:\n",
        "  # Mutable\n",
        "  # No indexing\n",
        "  # Unique Values\n",
        "  # Immutable keys"
      ],
      "metadata": {
        "id": "xUmMh7_FKOts"
      },
      "execution_count": null,
      "outputs": []
    },
    {
      "cell_type": "code",
      "source": [
        "{\"Name\": \"Ali\", \"Gender\": \"Male\"}"
      ],
      "metadata": {
        "colab": {
          "base_uri": "https://localhost:8080/"
        },
        "id": "OCoLQBLzKaLQ",
        "outputId": "b4c55f87-553c-4b8e-ca82-687c568ece92"
      },
      "execution_count": null,
      "outputs": [
        {
          "output_type": "execute_result",
          "data": {
            "text/plain": [
              "{'Name': 'Ali', 'Gender': 'Male'}"
            ]
          },
          "metadata": {},
          "execution_count": 5
        }
      ]
    },
    {
      "cell_type": "code",
      "source": [
        "# 4 key rules about dictionaries\n",
        "  # No Indexing: No index support\n",
        "  # Mutable: Can modify post-creation\n",
        "  # Keys: Immutable(str, num, tuple); Values: Any type\n",
        "  # Unique Keys: Keys must be unique; overwrite on reassignment"
      ],
      "metadata": {
        "id": "NELsANt3KfJX"
      },
      "execution_count": null,
      "outputs": []
    },
    {
      "cell_type": "code",
      "source": [
        "# 1. Create\n",
        "# 2. Access\n",
        "# 3. Edit\n",
        "# 4. Add\n",
        "# 5. Delete\n",
        "# 6. Operations\n",
        "# 7. Functions"
      ],
      "metadata": {
        "id": "0ToB5BUNLFbc"
      },
      "execution_count": null,
      "outputs": []
    },
    {
      "cell_type": "code",
      "source": [
        "# 1. Create\n",
        "\n",
        "# empty\n",
        "D = {}\n",
        "D"
      ],
      "metadata": {
        "colab": {
          "base_uri": "https://localhost:8080/"
        },
        "id": "vH5DhUuILQT-",
        "outputId": "299a5404-8bba-4994-9a48-15dd546ee3c3"
      },
      "execution_count": null,
      "outputs": [
        {
          "output_type": "execute_result",
          "data": {
            "text/plain": [
              "{}"
            ]
          },
          "metadata": {},
          "execution_count": 8
        }
      ]
    },
    {
      "cell_type": "code",
      "source": [
        "# 1D dictionary\n",
        "D = {\"Name\":\"Ali\", \"Age\": 25, \"Gender\": \"Male\"}"
      ],
      "metadata": {
        "id": "klJsVdrRLaUJ"
      },
      "execution_count": null,
      "outputs": []
    },
    {
      "cell_type": "code",
      "source": [
        "D"
      ],
      "metadata": {
        "colab": {
          "base_uri": "https://localhost:8080/"
        },
        "id": "rBaEdKy4Llgb",
        "outputId": "3123c03c-1e84-409c-d0fa-4db0f09b5c24"
      },
      "execution_count": null,
      "outputs": [
        {
          "output_type": "execute_result",
          "data": {
            "text/plain": [
              "{'Name': 'Ali', 'Age': 25, 'Gender': 'Male'}"
            ]
          },
          "metadata": {},
          "execution_count": 10
        }
      ]
    },
    {
      "cell_type": "code",
      "source": [
        "D1 = {[1, 2, 3,]: \"Ali\"}"
      ],
      "metadata": {
        "colab": {
          "base_uri": "https://localhost:8080/",
          "height": 148
        },
        "id": "cOa3LigcLmiM",
        "outputId": "3f852156-d6b1-44d2-a6e9-337c773ebcd8"
      },
      "execution_count": null,
      "outputs": [
        {
          "output_type": "error",
          "ename": "TypeError",
          "evalue": "unhashable type: 'list'",
          "traceback": [
            "\u001b[0;31m---------------------------------------------------------------------------\u001b[0m",
            "\u001b[0;31mTypeError\u001b[0m                                 Traceback (most recent call last)",
            "\u001b[0;32m/tmp/ipython-input-11-2848764938.py\u001b[0m in \u001b[0;36m<cell line: 0>\u001b[0;34m()\u001b[0m\n\u001b[0;32m----> 1\u001b[0;31m \u001b[0mD1\u001b[0m \u001b[0;34m=\u001b[0m \u001b[0;34m{\u001b[0m\u001b[0;34m[\u001b[0m\u001b[0;36m1\u001b[0m\u001b[0;34m,\u001b[0m \u001b[0;36m2\u001b[0m\u001b[0;34m,\u001b[0m \u001b[0;36m3\u001b[0m\u001b[0;34m,\u001b[0m\u001b[0;34m]\u001b[0m\u001b[0;34m:\u001b[0m \u001b[0;34m\"Ali\"\u001b[0m\u001b[0;34m}\u001b[0m\u001b[0;34m\u001b[0m\u001b[0;34m\u001b[0m\u001b[0m\n\u001b[0m",
            "\u001b[0;31mTypeError\u001b[0m: unhashable type: 'list'"
          ]
        }
      ]
    },
    {
      "cell_type": "code",
      "source": [
        "# with mixed keys\n",
        "D1 = {(1, 2, 3):\"Ali\"}\n",
        "D1"
      ],
      "metadata": {
        "colab": {
          "base_uri": "https://localhost:8080/"
        },
        "id": "u0ER9Q62LqtM",
        "outputId": "525ff317-625d-485b-e257-4f3af01208f8"
      },
      "execution_count": null,
      "outputs": [
        {
          "output_type": "execute_result",
          "data": {
            "text/plain": [
              "{(1, 2, 3): 'Ali'}"
            ]
          },
          "metadata": {},
          "execution_count": 12
        }
      ]
    },
    {
      "cell_type": "code",
      "source": [
        "# duplicate keys\n",
        "D2 = {\"Name\": \"Ali\", \"Name\": \"Nawaz\"}\n",
        "D2"
      ],
      "metadata": {
        "colab": {
          "base_uri": "https://localhost:8080/"
        },
        "id": "BhGEQU5sL0-_",
        "outputId": "3db83076-0092-4ee1-ad9e-aa8f1e22c6ac"
      },
      "execution_count": null,
      "outputs": [
        {
          "output_type": "execute_result",
          "data": {
            "text/plain": [
              "{'Name': 'Nawaz'}"
            ]
          },
          "metadata": {},
          "execution_count": 14
        }
      ]
    },
    {
      "cell_type": "code",
      "source": [
        "D3 = {\"Name\": \"Ali\", \"Collage\": \"AGC\", \"Marks\": {\"M1\": 99, \"DS\": 97, \"Eng\":98}}\n",
        "D3"
      ],
      "metadata": {
        "colab": {
          "base_uri": "https://localhost:8080/"
        },
        "id": "dQINzbEuMAu6",
        "outputId": "22c47c08-808a-4eef-da48-2c03d97be884"
      },
      "execution_count": null,
      "outputs": [
        {
          "output_type": "execute_result",
          "data": {
            "text/plain": [
              "{'Name': 'Ali', 'Collage': 'AGC', 'Marks': {'M1': 99, 'DS': 97, 'Eng': 98}}"
            ]
          },
          "metadata": {},
          "execution_count": 15
        }
      ]
    },
    {
      "cell_type": "code",
      "source": [
        "# 2D dictionary ----> Json\n",
        "s = {\n",
        "    \"Name\": \"Ali\",\n",
        "    \"Collage\": \"AGC\",\n",
        "    \"Semester\": 2,\n",
        "    \"Subjects\":{\n",
        "        \"DSA\": 50,\n",
        "        \"Maths\": 67,\n",
        "        \"English\": 34\n",
        "    }\n",
        "}"
      ],
      "metadata": {
        "id": "-pu_5bOpMcmz"
      },
      "execution_count": null,
      "outputs": []
    },
    {
      "cell_type": "code",
      "source": [
        "s"
      ],
      "metadata": {
        "colab": {
          "base_uri": "https://localhost:8080/"
        },
        "id": "CQ3_kNEIM6hk",
        "outputId": "2088a839-c64b-4b14-c13f-d372dfa1ed75"
      },
      "execution_count": null,
      "outputs": [
        {
          "output_type": "execute_result",
          "data": {
            "text/plain": [
              "{'Name': 'Ali',\n",
              " 'Collage': 'AGC',\n",
              " 'Semester': 2,\n",
              " 'Subjects': {'DSA': 50, 'Maths': 67, 'English': 34}}"
            ]
          },
          "metadata": {},
          "execution_count": 17
        }
      ]
    },
    {
      "cell_type": "code",
      "source": [
        "# Mutable items as keys\n",
        "D4 = {\"name\": \"Ali\", (1, 2, 3):2}\n",
        "print(D4)"
      ],
      "metadata": {
        "colab": {
          "base_uri": "https://localhost:8080/"
        },
        "id": "C3gJQA3XM7jT",
        "outputId": "7c38ff07-44ad-4e48-c2fe-acc0e8c06782"
      },
      "execution_count": null,
      "outputs": [
        {
          "output_type": "stream",
          "name": "stdout",
          "text": [
            "{'name': 'Ali', (1, 2, 3): 2}\n"
          ]
        }
      ]
    },
    {
      "cell_type": "code",
      "source": [
        "# Using Sequence and dict function\n",
        "D5 = dict([('name', 'ali'), ('age', 32), (3, 3)])\n",
        "D5"
      ],
      "metadata": {
        "colab": {
          "base_uri": "https://localhost:8080/",
          "height": 185
        },
        "id": "1pG8vySfNIvW",
        "outputId": "849511be-cb92-44c6-cb23-a7f2d9e6d0ef"
      },
      "execution_count": null,
      "outputs": [
        {
          "output_type": "error",
          "ename": "TypeError",
          "evalue": "'dict' object is not callable",
          "traceback": [
            "\u001b[0;31m---------------------------------------------------------------------------\u001b[0m",
            "\u001b[0;31mTypeError\u001b[0m                                 Traceback (most recent call last)",
            "\u001b[0;32m/tmp/ipython-input-19-4062727369.py\u001b[0m in \u001b[0;36m<cell line: 0>\u001b[0;34m()\u001b[0m\n\u001b[1;32m      1\u001b[0m \u001b[0;31m# Using Sequence and dict function\u001b[0m\u001b[0;34m\u001b[0m\u001b[0;34m\u001b[0m\u001b[0m\n\u001b[0;32m----> 2\u001b[0;31m \u001b[0mD5\u001b[0m \u001b[0;34m=\u001b[0m \u001b[0mdict\u001b[0m\u001b[0;34m(\u001b[0m\u001b[0;34m[\u001b[0m\u001b[0;34m(\u001b[0m\u001b[0;34m'name'\u001b[0m\u001b[0;34m,\u001b[0m \u001b[0;34m'ali'\u001b[0m\u001b[0;34m)\u001b[0m\u001b[0;34m,\u001b[0m \u001b[0;34m(\u001b[0m\u001b[0;34m'age'\u001b[0m\u001b[0;34m,\u001b[0m \u001b[0;36m32\u001b[0m\u001b[0;34m)\u001b[0m\u001b[0;34m,\u001b[0m \u001b[0;34m(\u001b[0m\u001b[0;36m3\u001b[0m\u001b[0;34m,\u001b[0m \u001b[0;36m3\u001b[0m\u001b[0;34m)\u001b[0m\u001b[0;34m]\u001b[0m\u001b[0;34m)\u001b[0m\u001b[0;34m\u001b[0m\u001b[0;34m\u001b[0m\u001b[0m\n\u001b[0m\u001b[1;32m      3\u001b[0m \u001b[0mD5\u001b[0m\u001b[0;34m\u001b[0m\u001b[0;34m\u001b[0m\u001b[0m\n",
            "\u001b[0;31mTypeError\u001b[0m: 'dict' object is not callable"
          ]
        }
      ]
    },
    {
      "cell_type": "code",
      "source": [
        "# 2. Access"
      ],
      "metadata": {
        "id": "xsT2pScsNb8e"
      },
      "execution_count": null,
      "outputs": []
    },
    {
      "cell_type": "code",
      "source": [
        "D"
      ],
      "metadata": {
        "colab": {
          "base_uri": "https://localhost:8080/"
        },
        "id": "V3CFCpCLNkur",
        "outputId": "01e0a4a7-ac36-454a-ec2a-01c0cb5ce509"
      },
      "execution_count": null,
      "outputs": [
        {
          "output_type": "execute_result",
          "data": {
            "text/plain": [
              "{'Name': 'Ali', 'Age': 25, 'Gender': 'Male'}"
            ]
          },
          "metadata": {},
          "execution_count": 21
        }
      ]
    },
    {
      "cell_type": "code",
      "source": [
        "D[0]"
      ],
      "metadata": {
        "colab": {
          "base_uri": "https://localhost:8080/",
          "height": 148
        },
        "id": "HGXOl1CZNlKJ",
        "outputId": "9b069504-cc99-4bd5-b19a-25192260e350"
      },
      "execution_count": null,
      "outputs": [
        {
          "output_type": "error",
          "ename": "KeyError",
          "evalue": "0",
          "traceback": [
            "\u001b[0;31m---------------------------------------------------------------------------\u001b[0m",
            "\u001b[0;31mKeyError\u001b[0m                                  Traceback (most recent call last)",
            "\u001b[0;32m/tmp/ipython-input-22-3858647015.py\u001b[0m in \u001b[0;36m<cell line: 0>\u001b[0;34m()\u001b[0m\n\u001b[0;32m----> 1\u001b[0;31m \u001b[0mD\u001b[0m\u001b[0;34m[\u001b[0m\u001b[0;36m0\u001b[0m\u001b[0;34m]\u001b[0m\u001b[0;34m\u001b[0m\u001b[0;34m\u001b[0m\u001b[0m\n\u001b[0m",
            "\u001b[0;31mKeyError\u001b[0m: 0"
          ]
        }
      ]
    },
    {
      "cell_type": "code",
      "source": [
        "D[\"Name\"]"
      ],
      "metadata": {
        "colab": {
          "base_uri": "https://localhost:8080/",
          "height": 36
        },
        "id": "ftw4cbGKNmhI",
        "outputId": "c408fa2c-72c4-432e-f144-feeb5caa86fe"
      },
      "execution_count": null,
      "outputs": [
        {
          "output_type": "execute_result",
          "data": {
            "text/plain": [
              "'Ali'"
            ],
            "application/vnd.google.colaboratory.intrinsic+json": {
              "type": "string"
            }
          },
          "metadata": {},
          "execution_count": 23
        }
      ]
    },
    {
      "cell_type": "code",
      "source": [
        "D.get(\"Name\")"
      ],
      "metadata": {
        "colab": {
          "base_uri": "https://localhost:8080/",
          "height": 36
        },
        "id": "60xPC1aFNsfz",
        "outputId": "03c00cb1-1898-42bf-8a51-1e99a6a53e5b"
      },
      "execution_count": null,
      "outputs": [
        {
          "output_type": "execute_result",
          "data": {
            "text/plain": [
              "'Ali'"
            ],
            "application/vnd.google.colaboratory.intrinsic+json": {
              "type": "string"
            }
          },
          "metadata": {},
          "execution_count": 24
        }
      ]
    },
    {
      "cell_type": "code",
      "source": [
        "D[\"Gender\"]"
      ],
      "metadata": {
        "colab": {
          "base_uri": "https://localhost:8080/",
          "height": 36
        },
        "id": "0ZOGkB67NvI6",
        "outputId": "414f5cab-44c1-4f52-b1ce-6e01ee3a42fb"
      },
      "execution_count": null,
      "outputs": [
        {
          "output_type": "execute_result",
          "data": {
            "text/plain": [
              "'Male'"
            ],
            "application/vnd.google.colaboratory.intrinsic+json": {
              "type": "string"
            }
          },
          "metadata": {},
          "execution_count": 25
        }
      ]
    },
    {
      "cell_type": "code",
      "source": [
        "D.get(\"Gender\")"
      ],
      "metadata": {
        "colab": {
          "base_uri": "https://localhost:8080/",
          "height": 36
        },
        "id": "AAromnzPNyDF",
        "outputId": "91fc79df-5564-4ead-ad39-cec2befe8d59"
      },
      "execution_count": null,
      "outputs": [
        {
          "output_type": "execute_result",
          "data": {
            "text/plain": [
              "'Male'"
            ],
            "application/vnd.google.colaboratory.intrinsic+json": {
              "type": "string"
            }
          },
          "metadata": {},
          "execution_count": 26
        }
      ]
    },
    {
      "cell_type": "code",
      "source": [
        "D.get(\"Gender\")"
      ],
      "metadata": {
        "colab": {
          "base_uri": "https://localhost:8080/",
          "height": 36
        },
        "id": "zo0nk-T8N2rA",
        "outputId": "9528b963-79e9-455f-c8ae-9bcf17de36bf"
      },
      "execution_count": null,
      "outputs": [
        {
          "output_type": "execute_result",
          "data": {
            "text/plain": [
              "'Male'"
            ],
            "application/vnd.google.colaboratory.intrinsic+json": {
              "type": "string"
            }
          },
          "metadata": {},
          "execution_count": 27
        }
      ]
    },
    {
      "cell_type": "code",
      "source": [
        "D3"
      ],
      "metadata": {
        "colab": {
          "base_uri": "https://localhost:8080/"
        },
        "id": "ytZHgz92N-Rr",
        "outputId": "b3e8164d-be1f-4946-ff0f-a11c85bb2346"
      },
      "execution_count": null,
      "outputs": [
        {
          "output_type": "execute_result",
          "data": {
            "text/plain": [
              "{'Name': 'Ali', 'Collage': 'AGC', 'Marks': {'M1': 99, 'DS': 97, 'Eng': 98}}"
            ]
          },
          "metadata": {},
          "execution_count": 28
        }
      ]
    },
    {
      "cell_type": "code",
      "source": [
        "# 3. Edit"
      ],
      "metadata": {
        "id": "_IDLGm-1OAiO"
      },
      "execution_count": null,
      "outputs": []
    },
    {
      "cell_type": "code",
      "source": [
        "D"
      ],
      "metadata": {
        "colab": {
          "base_uri": "https://localhost:8080/"
        },
        "id": "xAq-L8wUOCdt",
        "outputId": "d3f873fd-661b-48dd-8308-2ef11c84d808"
      },
      "execution_count": null,
      "outputs": [
        {
          "output_type": "execute_result",
          "data": {
            "text/plain": [
              "{'Name': 'Ali', 'Age': 25, 'Gender': 'Male'}"
            ]
          },
          "metadata": {},
          "execution_count": 30
        }
      ]
    },
    {
      "cell_type": "code",
      "source": [
        "D['Name'] = \"AliNawaz\"\n",
        "D"
      ],
      "metadata": {
        "colab": {
          "base_uri": "https://localhost:8080/"
        },
        "id": "3j2TIHacOC0c",
        "outputId": "70d10252-90b2-4936-875f-70796be32d6c"
      },
      "execution_count": null,
      "outputs": [
        {
          "output_type": "execute_result",
          "data": {
            "text/plain": [
              "{'Name': 'AliNawaz', 'Age': 25, 'Gender': 'Male'}"
            ]
          },
          "metadata": {},
          "execution_count": 31
        }
      ]
    },
    {
      "cell_type": "code",
      "source": [
        "D3[\"Marks\"][\"DS\"] = 10\n",
        "D3"
      ],
      "metadata": {
        "colab": {
          "base_uri": "https://localhost:8080/"
        },
        "id": "sjyfh8zXOHCW",
        "outputId": "5732d3d6-9a9a-4796-8304-f8c4390ac84a"
      },
      "execution_count": null,
      "outputs": [
        {
          "output_type": "execute_result",
          "data": {
            "text/plain": [
              "{'Name': 'Ali', 'Collage': 'AGC', 'Marks': {'M1': 99, 'DS': 10, 'Eng': 98}}"
            ]
          },
          "metadata": {},
          "execution_count": 32
        }
      ]
    },
    {
      "cell_type": "code",
      "source": [
        "# 4. Add\n",
        "D"
      ],
      "metadata": {
        "colab": {
          "base_uri": "https://localhost:8080/"
        },
        "id": "RRkEvHB2OP7n",
        "outputId": "c63ef90e-04e7-4cc8-cd23-3440b0eebdec"
      },
      "execution_count": null,
      "outputs": [
        {
          "output_type": "execute_result",
          "data": {
            "text/plain": [
              "{'Name': 'AliNawaz', 'Age': 25, 'Gender': 'Male'}"
            ]
          },
          "metadata": {},
          "execution_count": 33
        }
      ]
    },
    {
      "cell_type": "code",
      "source": [
        "D[\"Age\"] = 22\n",
        "D"
      ],
      "metadata": {
        "colab": {
          "base_uri": "https://localhost:8080/"
        },
        "id": "M1Osb-_7OR3X",
        "outputId": "599022f6-658b-4adb-8369-1ecb12eb214a"
      },
      "execution_count": null,
      "outputs": [
        {
          "output_type": "execute_result",
          "data": {
            "text/plain": [
              "{'Name': 'AliNawaz', 'Age': 22, 'Gender': 'Male'}"
            ]
          },
          "metadata": {},
          "execution_count": 34
        }
      ]
    },
    {
      "cell_type": "code",
      "source": [
        "D3[\"Marks\"][\"M2\"] = 95\n",
        "D3"
      ],
      "metadata": {
        "colab": {
          "base_uri": "https://localhost:8080/"
        },
        "id": "azDm-priOVGF",
        "outputId": "e954bc7b-1c8f-4b85-9a6b-19412e1233b0"
      },
      "execution_count": null,
      "outputs": [
        {
          "output_type": "execute_result",
          "data": {
            "text/plain": [
              "{'Name': 'Ali',\n",
              " 'Collage': 'AGC',\n",
              " 'Marks': {'M1': 99, 'DS': 10, 'Eng': 98, 'M2': 95}}"
            ]
          },
          "metadata": {},
          "execution_count": 35
        }
      ]
    },
    {
      "cell_type": "code",
      "source": [
        "# 5. Delete\n",
        "D5 = {}\n",
        "D5"
      ],
      "metadata": {
        "colab": {
          "base_uri": "https://localhost:8080/"
        },
        "id": "BTl7-1g7Ob6x",
        "outputId": "9297d973-031d-4af0-bcb3-a50316227248"
      },
      "execution_count": null,
      "outputs": [
        {
          "output_type": "execute_result",
          "data": {
            "text/plain": [
              "{}"
            ]
          },
          "metadata": {},
          "execution_count": 36
        }
      ]
    },
    {
      "cell_type": "code",
      "source": [
        "del D5\n",
        "D5"
      ],
      "metadata": {
        "colab": {
          "base_uri": "https://localhost:8080/",
          "height": 166
        },
        "id": "jM90ErPFOlf3",
        "outputId": "7431145b-dfe8-4c2f-866d-265e0df6617c"
      },
      "execution_count": null,
      "outputs": [
        {
          "output_type": "error",
          "ename": "NameError",
          "evalue": "name 'D5' is not defined",
          "traceback": [
            "\u001b[0;31m---------------------------------------------------------------------------\u001b[0m",
            "\u001b[0;31mNameError\u001b[0m                                 Traceback (most recent call last)",
            "\u001b[0;32m/tmp/ipython-input-37-1783440616.py\u001b[0m in \u001b[0;36m<cell line: 0>\u001b[0;34m()\u001b[0m\n\u001b[1;32m      1\u001b[0m \u001b[0;32mdel\u001b[0m \u001b[0mD5\u001b[0m\u001b[0;34m\u001b[0m\u001b[0;34m\u001b[0m\u001b[0m\n\u001b[0;32m----> 2\u001b[0;31m \u001b[0mD5\u001b[0m\u001b[0;34m\u001b[0m\u001b[0;34m\u001b[0m\u001b[0m\n\u001b[0m",
            "\u001b[0;31mNameError\u001b[0m: name 'D5' is not defined"
          ]
        }
      ]
    },
    {
      "cell_type": "code",
      "source": [
        "D.pop(\"Name\")"
      ],
      "metadata": {
        "colab": {
          "base_uri": "https://localhost:8080/",
          "height": 36
        },
        "id": "HdtkUVgyOoGJ",
        "outputId": "a6da0abc-d5f9-4426-f823-6d65f4bcf868"
      },
      "execution_count": null,
      "outputs": [
        {
          "output_type": "execute_result",
          "data": {
            "text/plain": [
              "'AliNawaz'"
            ],
            "application/vnd.google.colaboratory.intrinsic+json": {
              "type": "string"
            }
          },
          "metadata": {},
          "execution_count": 38
        }
      ]
    },
    {
      "cell_type": "code",
      "source": [
        "D.popitem()"
      ],
      "metadata": {
        "colab": {
          "base_uri": "https://localhost:8080/"
        },
        "id": "BHzfUm5eOtDN",
        "outputId": "6b8f2503-817f-41c8-ac8d-936179de9efc"
      },
      "execution_count": null,
      "outputs": [
        {
          "output_type": "execute_result",
          "data": {
            "text/plain": [
              "('Gender', 'Male')"
            ]
          },
          "metadata": {},
          "execution_count": 39
        }
      ]
    },
    {
      "cell_type": "code",
      "source": [
        "D"
      ],
      "metadata": {
        "colab": {
          "base_uri": "https://localhost:8080/"
        },
        "id": "VDeoe3CaOwgZ",
        "outputId": "c7403cfe-b08a-4fea-b1bd-22017b31883f"
      },
      "execution_count": null,
      "outputs": [
        {
          "output_type": "execute_result",
          "data": {
            "text/plain": [
              "{'Age': 22}"
            ]
          },
          "metadata": {},
          "execution_count": 40
        }
      ]
    },
    {
      "cell_type": "code",
      "source": [
        "del D[\"Age\"]\n",
        "D"
      ],
      "metadata": {
        "colab": {
          "base_uri": "https://localhost:8080/"
        },
        "id": "72C9u7IbOxpd",
        "outputId": "ce34f1b9-5d5a-4a17-cfe1-e5ed1d6b71d7"
      },
      "execution_count": null,
      "outputs": [
        {
          "output_type": "execute_result",
          "data": {
            "text/plain": [
              "{}"
            ]
          },
          "metadata": {},
          "execution_count": 42
        }
      ]
    },
    {
      "cell_type": "code",
      "source": [
        "D.clear()\n",
        "D"
      ],
      "metadata": {
        "colab": {
          "base_uri": "https://localhost:8080/"
        },
        "id": "qzgAmmzkO0n1",
        "outputId": "135c709d-325e-44a5-92fa-e1776a942056"
      },
      "execution_count": null,
      "outputs": [
        {
          "output_type": "execute_result",
          "data": {
            "text/plain": [
              "{}"
            ]
          },
          "metadata": {},
          "execution_count": 43
        }
      ]
    },
    {
      "cell_type": "code",
      "source": [
        "# 6. Operations\n",
        "D3"
      ],
      "metadata": {
        "colab": {
          "base_uri": "https://localhost:8080/"
        },
        "id": "oQxO2s1aO63Q",
        "outputId": "53f160dd-925b-4390-88e8-60cd7ed4f088"
      },
      "execution_count": null,
      "outputs": [
        {
          "output_type": "execute_result",
          "data": {
            "text/plain": [
              "{'Name': 'Ali',\n",
              " 'Collage': 'AGC',\n",
              " 'Marks': {'M1': 99, 'DS': 10, 'Eng': 98, 'M2': 95}}"
            ]
          },
          "metadata": {},
          "execution_count": 44
        }
      ]
    },
    {
      "cell_type": "code",
      "source": [
        "D4"
      ],
      "metadata": {
        "colab": {
          "base_uri": "https://localhost:8080/"
        },
        "id": "VKXAfgRaO9kg",
        "outputId": "a60b4e2b-52d9-4092-b4bb-6f420b3b0e72"
      },
      "execution_count": null,
      "outputs": [
        {
          "output_type": "execute_result",
          "data": {
            "text/plain": [
              "{'name': 'Ali', (1, 2, 3): 2}"
            ]
          },
          "metadata": {},
          "execution_count": 45
        }
      ]
    },
    {
      "cell_type": "code",
      "source": [
        "D3 + D4"
      ],
      "metadata": {
        "colab": {
          "base_uri": "https://localhost:8080/",
          "height": 148
        },
        "id": "_dRearJsO-vT",
        "outputId": "708a2ff4-5d93-4fea-ba1c-a6492372e04e"
      },
      "execution_count": null,
      "outputs": [
        {
          "output_type": "error",
          "ename": "TypeError",
          "evalue": "unsupported operand type(s) for +: 'dict' and 'dict'",
          "traceback": [
            "\u001b[0;31m---------------------------------------------------------------------------\u001b[0m",
            "\u001b[0;31mTypeError\u001b[0m                                 Traceback (most recent call last)",
            "\u001b[0;32m/tmp/ipython-input-46-2431701292.py\u001b[0m in \u001b[0;36m<cell line: 0>\u001b[0;34m()\u001b[0m\n\u001b[0;32m----> 1\u001b[0;31m \u001b[0mD3\u001b[0m \u001b[0;34m+\u001b[0m \u001b[0mD4\u001b[0m\u001b[0;34m\u001b[0m\u001b[0;34m\u001b[0m\u001b[0m\n\u001b[0m",
            "\u001b[0;31mTypeError\u001b[0m: unsupported operand type(s) for +: 'dict' and 'dict'"
          ]
        }
      ]
    },
    {
      "cell_type": "code",
      "source": [
        "D3 * 3"
      ],
      "metadata": {
        "colab": {
          "base_uri": "https://localhost:8080/",
          "height": 148
        },
        "id": "KIXsgfHFPAb8",
        "outputId": "01636d10-21ba-4c90-cfb5-35578e8ec5d1"
      },
      "execution_count": null,
      "outputs": [
        {
          "output_type": "error",
          "ename": "TypeError",
          "evalue": "unsupported operand type(s) for *: 'dict' and 'int'",
          "traceback": [
            "\u001b[0;31m---------------------------------------------------------------------------\u001b[0m",
            "\u001b[0;31mTypeError\u001b[0m                                 Traceback (most recent call last)",
            "\u001b[0;32m/tmp/ipython-input-47-3841871278.py\u001b[0m in \u001b[0;36m<cell line: 0>\u001b[0;34m()\u001b[0m\n\u001b[0;32m----> 1\u001b[0;31m \u001b[0mD3\u001b[0m \u001b[0;34m*\u001b[0m \u001b[0;36m3\u001b[0m\u001b[0;34m\u001b[0m\u001b[0;34m\u001b[0m\u001b[0m\n\u001b[0m",
            "\u001b[0;31mTypeError\u001b[0m: unsupported operand type(s) for *: 'dict' and 'int'"
          ]
        }
      ]
    },
    {
      "cell_type": "code",
      "source": [
        "D3"
      ],
      "metadata": {
        "colab": {
          "base_uri": "https://localhost:8080/"
        },
        "id": "EJfHVI3aPGfz",
        "outputId": "92e0172d-38f2-467e-f4aa-7ab633973157"
      },
      "execution_count": null,
      "outputs": [
        {
          "output_type": "execute_result",
          "data": {
            "text/plain": [
              "{'Name': 'Ali',\n",
              " 'Collage': 'AGC',\n",
              " 'Marks': {'M1': 99, 'DS': 10, 'Eng': 98, 'M2': 95}}"
            ]
          },
          "metadata": {},
          "execution_count": 48
        }
      ]
    },
    {
      "cell_type": "code",
      "source": [
        "# Iteration\n",
        "for i in D3:\n",
        "  print(i)"
      ],
      "metadata": {
        "colab": {
          "base_uri": "https://localhost:8080/"
        },
        "id": "Gie8DCM0PHVK",
        "outputId": "cfb74061-6765-49bb-ea33-e5e0c15b11d0"
      },
      "execution_count": null,
      "outputs": [
        {
          "output_type": "stream",
          "name": "stdout",
          "text": [
            "Name\n",
            "Collage\n",
            "Marks\n"
          ]
        }
      ]
    },
    {
      "cell_type": "code",
      "source": [
        "for i in D3:\n",
        "  print(i, D3[i])"
      ],
      "metadata": {
        "colab": {
          "base_uri": "https://localhost:8080/"
        },
        "id": "776oL4BrPK9m",
        "outputId": "92ea4cce-982a-49b2-f6d9-8cb98e9fde6a"
      },
      "execution_count": null,
      "outputs": [
        {
          "output_type": "stream",
          "name": "stdout",
          "text": [
            "Name Ali\n",
            "Collage AGC\n",
            "Marks {'M1': 99, 'DS': 10, 'Eng': 98, 'M2': 95}\n"
          ]
        }
      ]
    },
    {
      "cell_type": "code",
      "source": [
        "# Membership\n",
        "\"ali\" in D3"
      ],
      "metadata": {
        "colab": {
          "base_uri": "https://localhost:8080/"
        },
        "id": "Au7tjNhBPY76",
        "outputId": "ccc473c7-7348-4af8-fbb3-bb48989fdd80"
      },
      "execution_count": null,
      "outputs": [
        {
          "output_type": "execute_result",
          "data": {
            "text/plain": [
              "False"
            ]
          },
          "metadata": {},
          "execution_count": 51
        }
      ]
    },
    {
      "cell_type": "code",
      "source": [
        "\"Name\" in D3"
      ],
      "metadata": {
        "colab": {
          "base_uri": "https://localhost:8080/"
        },
        "id": "CWAKzqVIPg32",
        "outputId": "fe8dccdf-d9a0-4f29-d71c-17506b94e72c"
      },
      "execution_count": null,
      "outputs": [
        {
          "output_type": "execute_result",
          "data": {
            "text/plain": [
              "True"
            ]
          },
          "metadata": {},
          "execution_count": 52
        }
      ]
    },
    {
      "cell_type": "code",
      "source": [
        "# Functions\n",
        "len(D3)\n",
        "min(D3)\n",
        "max(D3)\n",
        "sorted(D3)\n",
        "sorted(D3, reverse = True)\n",
        "D3.items()\n",
        "D3.keys()\n",
        "D3.values()\n",
        "# Update\n",
        "d1 = {1:2, 3:4, 4:5}\n",
        "d2 = {4:7, 6:8}\n",
        "d1.update(d2)\n",
        "print(d1)"
      ],
      "metadata": {
        "colab": {
          "base_uri": "https://localhost:8080/"
        },
        "id": "RAYVSJMIPi-Q",
        "outputId": "9b7de918-4b60-4964-8bed-663acc554369"
      },
      "execution_count": null,
      "outputs": [
        {
          "output_type": "stream",
          "name": "stdout",
          "text": [
            "{1: 2, 3: 4, 4: 7, 6: 8}\n"
          ]
        }
      ]
    },
    {
      "cell_type": "code",
      "source": [
        "# int a\n",
        "# int b\n",
        "a = (input(\"Entr the first numbe:\"))\n",
        "b = (input(\"Enter the second number:\"))\n",
        "print(a + \" + \" + b +  \" = \" + (int(a) + int(b)))\n"
      ],
      "metadata": {
        "id": "vUORynd1QFCZ",
        "colab": {
          "base_uri": "https://localhost:8080/",
          "height": 211
        },
        "outputId": "56414c84-febe-4d47-f193-d2fa7fb73aea"
      },
      "execution_count": null,
      "outputs": [
        {
          "name": "stdout",
          "output_type": "stream",
          "text": [
            "Entr the first numbe:10\n",
            "Enter the second number:10\n"
          ]
        },
        {
          "output_type": "error",
          "ename": "TypeError",
          "evalue": "can only concatenate str (not \"int\") to str",
          "traceback": [
            "\u001b[0;31m---------------------------------------------------------------------------\u001b[0m",
            "\u001b[0;31mTypeError\u001b[0m                                 Traceback (most recent call last)",
            "\u001b[0;32m/tmp/ipython-input-8-2072028495.py\u001b[0m in \u001b[0;36m<cell line: 0>\u001b[0;34m()\u001b[0m\n\u001b[1;32m      3\u001b[0m \u001b[0ma\u001b[0m \u001b[0;34m=\u001b[0m \u001b[0;34m(\u001b[0m\u001b[0minput\u001b[0m\u001b[0;34m(\u001b[0m\u001b[0;34m\"Entr the first numbe:\"\u001b[0m\u001b[0;34m)\u001b[0m\u001b[0;34m)\u001b[0m\u001b[0;34m\u001b[0m\u001b[0;34m\u001b[0m\u001b[0m\n\u001b[1;32m      4\u001b[0m \u001b[0mb\u001b[0m \u001b[0;34m=\u001b[0m \u001b[0;34m(\u001b[0m\u001b[0minput\u001b[0m\u001b[0;34m(\u001b[0m\u001b[0;34m\"Enter the second number:\"\u001b[0m\u001b[0;34m)\u001b[0m\u001b[0;34m)\u001b[0m\u001b[0;34m\u001b[0m\u001b[0;34m\u001b[0m\u001b[0m\n\u001b[0;32m----> 5\u001b[0;31m \u001b[0mprint\u001b[0m\u001b[0;34m(\u001b[0m\u001b[0ma\u001b[0m \u001b[0;34m+\u001b[0m \u001b[0;34m\" + \"\u001b[0m \u001b[0;34m+\u001b[0m \u001b[0mb\u001b[0m \u001b[0;34m+\u001b[0m  \u001b[0;34m\" = \"\u001b[0m \u001b[0;34m+\u001b[0m \u001b[0;34m(\u001b[0m\u001b[0mint\u001b[0m\u001b[0;34m(\u001b[0m\u001b[0ma\u001b[0m\u001b[0;34m)\u001b[0m \u001b[0;34m+\u001b[0m \u001b[0mint\u001b[0m\u001b[0;34m(\u001b[0m\u001b[0mb\u001b[0m\u001b[0;34m)\u001b[0m\u001b[0;34m)\u001b[0m\u001b[0;34m)\u001b[0m\u001b[0;34m\u001b[0m\u001b[0;34m\u001b[0m\u001b[0m\n\u001b[0m",
            "\u001b[0;31mTypeError\u001b[0m: can only concatenate str (not \"int\") to str"
          ]
        }
      ]
    },
    {
      "cell_type": "code",
      "source": [
        "a = \"3\"\n",
        "b = \"5\"\n",
        "print(a + \" + \" + b + \" = \" + str(int(a) + int(b)))\n"
      ],
      "metadata": {
        "colab": {
          "base_uri": "https://localhost:8080/"
        },
        "id": "nTCT8V_oi8xD",
        "outputId": "b2d70042-205d-4642-b714-c60bfc886452"
      },
      "execution_count": null,
      "outputs": [
        {
          "output_type": "stream",
          "name": "stdout",
          "text": [
            "3 + 5 = 8\n"
          ]
        }
      ]
    },
    {
      "cell_type": "code",
      "source": [
        "# Variable and Memory References"
      ],
      "metadata": {
        "id": "mGz73pT8jczS"
      },
      "execution_count": null,
      "outputs": []
    },
    {
      "cell_type": "code",
      "source": [
        "# Python calls variable names\n",
        "a"
      ],
      "metadata": {
        "colab": {
          "base_uri": "https://localhost:8080/",
          "height": 159
        },
        "id": "N6o_7531JfsX",
        "outputId": "2541ea2d-052f-408b-900a-5d72bfbc9499"
      },
      "execution_count": null,
      "outputs": [
        {
          "output_type": "error",
          "ename": "NameError",
          "evalue": "name 'a' is not defined",
          "traceback": [
            "\u001b[0;31m---------------------------------------------------------------------------\u001b[0m",
            "\u001b[0;31mNameError\u001b[0m                                 Traceback (most recent call last)",
            "\u001b[0;32m/tmp/ipython-input-2-447018275.py\u001b[0m in \u001b[0;36m<cell line: 0>\u001b[0;34m()\u001b[0m\n\u001b[1;32m      1\u001b[0m \u001b[0;31m# Python calls variable names\u001b[0m\u001b[0;34m\u001b[0m\u001b[0;34m\u001b[0m\u001b[0m\n\u001b[0;32m----> 2\u001b[0;31m \u001b[0ma\u001b[0m\u001b[0;34m\u001b[0m\u001b[0;34m\u001b[0m\u001b[0m\n\u001b[0m",
            "\u001b[0;31mNameError\u001b[0m: name 'a' is not defined"
          ]
        }
      ]
    },
    {
      "cell_type": "code",
      "source": [
        "# Call by Object Reference"
      ],
      "metadata": {
        "id": "AmzzXF6kJmTk"
      },
      "execution_count": null,
      "outputs": []
    },
    {
      "cell_type": "code",
      "source": [
        "# Variable Assignment:\n",
        "# a = 4\n",
        "# a = 4: a points to memory location 4\n"
      ],
      "metadata": {
        "id": "NtQwifvSJrcd"
      },
      "execution_count": null,
      "outputs": []
    },
    {
      "cell_type": "code",
      "source": [
        "a = 4"
      ],
      "metadata": {
        "id": "rp_KHjnQJ2SX"
      },
      "execution_count": null,
      "outputs": []
    },
    {
      "cell_type": "code",
      "source": [
        "id(a)"
      ],
      "metadata": {
        "colab": {
          "base_uri": "https://localhost:8080/"
        },
        "id": "VT6Ne3r6J6go",
        "outputId": "65f3b9b3-3c25-45e0-eeec-97d59456830d"
      },
      "execution_count": null,
      "outputs": [
        {
          "output_type": "execute_result",
          "data": {
            "text/plain": [
              "10757832"
            ]
          },
          "metadata": {},
          "execution_count": 6
        }
      ]
    },
    {
      "cell_type": "code",
      "source": [
        "hex(10757832)"
      ],
      "metadata": {
        "colab": {
          "base_uri": "https://localhost:8080/",
          "height": 35
        },
        "id": "1oirKfIkJ7if",
        "outputId": "b5f6f174-2237-4c15-c726-e10f8907ea2d"
      },
      "execution_count": null,
      "outputs": [
        {
          "output_type": "execute_result",
          "data": {
            "text/plain": [
              "'0xa426c8'"
            ],
            "application/vnd.google.colaboratory.intrinsic+json": {
              "type": "string"
            }
          },
          "metadata": {},
          "execution_count": 7
        }
      ]
    },
    {
      "cell_type": "code",
      "source": [
        "id(4)"
      ],
      "metadata": {
        "colab": {
          "base_uri": "https://localhost:8080/"
        },
        "id": "7xXesDFRKAti",
        "outputId": "b437c90f-9075-4aab-ed81-399587ee2165"
      },
      "execution_count": null,
      "outputs": [
        {
          "output_type": "execute_result",
          "data": {
            "text/plain": [
              "10757832"
            ]
          },
          "metadata": {},
          "execution_count": 8
        }
      ]
    },
    {
      "cell_type": "code",
      "source": [
        "# Aliasing"
      ],
      "metadata": {
        "id": "4sT7zMCMKCWY"
      },
      "execution_count": null,
      "outputs": []
    },
    {
      "cell_type": "code",
      "source": [
        "a = 4\n",
        "b = a\n",
        "# aliasing"
      ],
      "metadata": {
        "id": "uD8ETBLYKEi7"
      },
      "execution_count": null,
      "outputs": []
    },
    {
      "cell_type": "code",
      "source": [
        "id(a)"
      ],
      "metadata": {
        "colab": {
          "base_uri": "https://localhost:8080/"
        },
        "id": "_igu7P93KH4X",
        "outputId": "0d9df8a9-376c-4163-eb9a-7b4a2b2737c6"
      },
      "execution_count": null,
      "outputs": [
        {
          "output_type": "execute_result",
          "data": {
            "text/plain": [
              "10757832"
            ]
          },
          "metadata": {},
          "execution_count": 11
        }
      ]
    },
    {
      "cell_type": "code",
      "source": [
        "id(b)"
      ],
      "metadata": {
        "colab": {
          "base_uri": "https://localhost:8080/"
        },
        "id": "KFQ2rDsnKLjJ",
        "outputId": "0f8b3233-899a-42c2-8a95-989409535996"
      },
      "execution_count": null,
      "outputs": [
        {
          "output_type": "execute_result",
          "data": {
            "text/plain": [
              "10757832"
            ]
          },
          "metadata": {},
          "execution_count": 12
        }
      ]
    },
    {
      "cell_type": "code",
      "source": [
        "# a & b references the same memory addresses"
      ],
      "metadata": {
        "id": "1NWyVvMvKOyP"
      },
      "execution_count": null,
      "outputs": []
    },
    {
      "cell_type": "code",
      "source": [
        "c = b"
      ],
      "metadata": {
        "id": "tAAPr8sMKVkt"
      },
      "execution_count": null,
      "outputs": []
    },
    {
      "cell_type": "code",
      "source": [
        "id(c)"
      ],
      "metadata": {
        "id": "-MCVfX0dKWdV",
        "outputId": "d012c335-3386-41e8-b998-1cb6922e691a",
        "colab": {
          "base_uri": "https://localhost:8080/"
        }
      },
      "execution_count": null,
      "outputs": [
        {
          "output_type": "execute_result",
          "data": {
            "text/plain": [
              "10757832"
            ]
          },
          "metadata": {},
          "execution_count": 15
        }
      ]
    },
    {
      "cell_type": "code",
      "source": [
        "# What are Functions?\n",
        "# Block of code for specific tasks."
      ],
      "metadata": {
        "id": "B7BkDyZgKXMw"
      },
      "execution_count": null,
      "outputs": []
    },
    {
      "cell_type": "code",
      "source": [
        "# Black Box Concept:\n",
        "  # ignore internal code; focus on inputs/outputs"
      ],
      "metadata": {
        "id": "NARgwJBEh2Jv"
      },
      "execution_count": null,
      "outputs": []
    },
    {
      "cell_type": "code",
      "source": [
        "# Advantages:\n",
        "  # Reusability\n",
        "  # Avoids Repetition"
      ],
      "metadata": {
        "id": "FSi0qKQ4h_AP"
      },
      "execution_count": null,
      "outputs": []
    },
    {
      "cell_type": "code",
      "source": [
        "# Two Key Points Regarding Functions:\n",
        "  # 1. Abstraction:\n",
        "    # Hides internal working\n",
        "    # Users know \"What\" it does, not \"how\"\n",
        "  # 2. Decomposition\n",
        "    # Splits systems into modules\n",
        "    # Each module offers functionality.\n",
        "    # Modules can impact others\n"
      ],
      "metadata": {
        "id": "Q6NRDLHfiKMn"
      },
      "execution_count": null,
      "outputs": []
    },
    {
      "cell_type": "code",
      "source": [
        "# Components of a Function\n",
        "\n",
        "# def function_name(parameters):\n",
        "#   \"\"\"docstring\"\"\"\n",
        "#   statement(s)\n",
        "\n",
        "# def  -----> Function Start\n",
        "# Name -----> Function identifier.\n",
        "# Params ---> Input Values\n",
        "# Colon (:) ---> Ends header.\n",
        "# Docstring ---> Function Description\n",
        "# Body --------> Statements.\n",
        "# return ------> Output Values(Optional)\n",
        "# function_name(values)"
      ],
      "metadata": {
        "id": "3iwOB17EiwV6"
      },
      "execution_count": null,
      "outputs": []
    },
    {
      "cell_type": "code",
      "source": [
        "# Let's Creat a Function"
      ],
      "metadata": {
        "id": "E-m68I_Rw6rB"
      },
      "execution_count": null,
      "outputs": []
    },
    {
      "cell_type": "code",
      "source": [
        "# Check if number is even/odd\n",
        "def is_even(number):\n",
        "    \"\"\"\n",
        "    This function tells if a given number is odd or even\n",
        "    Input - any valid integer\n",
        "    Output - odd/even\n",
        "    Created By - Saurabh\n",
        "    Last edited - 22 Oct 2022\n",
        "    \"\"\"\n",
        "    if number % 2 == 0:\n",
        "      return \"Even\"\n",
        "    else:\n",
        "      return \"Odd\"\n"
      ],
      "metadata": {
        "id": "Gu6l4g0UxAtn"
      },
      "execution_count": null,
      "outputs": []
    },
    {
      "cell_type": "code",
      "source": [
        "for i in range(1, 11):\n",
        "  print(is_even(i))"
      ],
      "metadata": {
        "id": "ifdI3ZP4xWb-"
      },
      "execution_count": null,
      "outputs": []
    },
    {
      "cell_type": "code",
      "source": [
        "print(is_even.__doc__)"
      ],
      "metadata": {
        "id": "L2C1IB7GxmRg"
      },
      "execution_count": null,
      "outputs": []
    },
    {
      "cell_type": "code",
      "source": [
        "print.__doc__"
      ],
      "metadata": {
        "id": "FOF-7dT6xrDY"
      },
      "execution_count": null,
      "outputs": []
    },
    {
      "cell_type": "code",
      "source": [
        "type.__doc__"
      ],
      "metadata": {
        "id": "Kj4lsW0IxwYN"
      },
      "execution_count": null,
      "outputs": []
    },
    {
      "cell_type": "code",
      "source": [
        "# Functions: 2 Perspectives\n",
        "  # 1. Creator's Perspective\n",
        "  # 2. User's Perspective"
      ],
      "metadata": {
        "id": "dO4-nXgXxz56"
      },
      "execution_count": null,
      "outputs": []
    },
    {
      "cell_type": "code",
      "source": [
        "pwd"
      ],
      "metadata": {
        "id": "2_bekJGlyA7d"
      },
      "execution_count": null,
      "outputs": []
    },
    {
      "cell_type": "code",
      "source": [
        "import func_demo"
      ],
      "metadata": {
        "id": "7SADWTpByBtD"
      },
      "execution_count": null,
      "outputs": []
    },
    {
      "cell_type": "code",
      "source": [
        "func_demo.is_even(34)"
      ],
      "metadata": {
        "id": "XxhBvcmgyIDj"
      },
      "execution_count": null,
      "outputs": []
    },
    {
      "cell_type": "code",
      "source": [
        "func_demo.is_even(\"Hello\")"
      ],
      "metadata": {
        "id": "9iJc2H2GyNBq"
      },
      "execution_count": null,
      "outputs": []
    },
    {
      "cell_type": "code",
      "source": [
        "def is_even(number):\n",
        "  if type(number) == int:\n",
        "    if number % 2 == 0:\n",
        "        return \"Even\"\n",
        "    else:\n",
        "        return \"Odd\"\n",
        "  else:\n",
        "      return \"Not Allowed\""
      ],
      "metadata": {
        "id": "7lX5Cy2QyRmz"
      },
      "execution_count": null,
      "outputs": []
    },
    {
      "cell_type": "code",
      "source": [
        "import func_demo2 ad fd\n"
      ],
      "metadata": {
        "id": "kfGowqdByzGh"
      },
      "execution_count": null,
      "outputs": []
    },
    {
      "cell_type": "code",
      "source": [
        "fd.is_even(\"Hello\")"
      ],
      "metadata": {
        "id": "7oXfpNPpy6vI"
      },
      "execution_count": null,
      "outputs": []
    },
    {
      "cell_type": "code",
      "source": [
        "# Parameters Vs Arguments"
      ],
      "metadata": {
        "id": "cR-BiYIry_Yp"
      },
      "execution_count": null,
      "outputs": []
    },
    {
      "cell_type": "code",
      "source": [
        "# Parameters:\n",
        "  # Vars in () during func defination...\n",
        "  # Defined in func declaration."
      ],
      "metadata": {
        "id": "QcF23E-d2Drw"
      },
      "execution_count": null,
      "outputs": []
    },
    {
      "cell_type": "code",
      "source": [
        "# def func(param1, param2):\n",
        "  # Body"
      ],
      "metadata": {
        "id": "4iFWBcfz2Xpk"
      },
      "execution_count": null,
      "outputs": []
    },
    {
      "cell_type": "code",
      "source": [
        "# Arguments:\n",
        "  # Values passed at func call\n",
        "  # inputs during function invocation\n",
        "  # func(arg1, arg2)\n"
      ],
      "metadata": {
        "id": "pkTD5XCk2ghr"
      },
      "execution_count": null,
      "outputs": []
    },
    {
      "cell_type": "code",
      "source": [
        "# 1. Default Argument\n",
        "# 2. Positional Argument\n",
        "# 3. Keyword Argument\n",
        "# 4. Arbitrary Argument(*args)"
      ],
      "metadata": {
        "id": "frwYTS-u25uD"
      },
      "execution_count": null,
      "outputs": []
    },
    {
      "cell_type": "code",
      "source": [
        "def power(a, b):\n",
        "  return a**b"
      ],
      "metadata": {
        "id": "u_RINZu844Ty"
      },
      "execution_count": null,
      "outputs": []
    },
    {
      "cell_type": "code",
      "source": [
        "power(2, 3)"
      ],
      "metadata": {
        "colab": {
          "base_uri": "https://localhost:8080/"
        },
        "id": "1m9g4SAV5Att",
        "outputId": "77a83372-fe1c-454b-90e1-ff6f883f044e"
      },
      "execution_count": null,
      "outputs": [
        {
          "output_type": "execute_result",
          "data": {
            "text/plain": [
              "8"
            ]
          },
          "metadata": {},
          "execution_count": 2
        }
      ]
    },
    {
      "cell_type": "code",
      "source": [
        "power(3, 2)"
      ],
      "metadata": {
        "colab": {
          "base_uri": "https://localhost:8080/"
        },
        "id": "H7ATrG-55ERE",
        "outputId": "8a818b25-9642-40d4-ab85-42d8936107ff"
      },
      "execution_count": null,
      "outputs": [
        {
          "output_type": "execute_result",
          "data": {
            "text/plain": [
              "9"
            ]
          },
          "metadata": {},
          "execution_count": 3
        }
      ]
    },
    {
      "cell_type": "code",
      "source": [
        "power(3)"
      ],
      "metadata": {
        "colab": {
          "base_uri": "https://localhost:8080/",
          "height": 141
        },
        "id": "-Mlx30AR5HJk",
        "outputId": "67cb9012-794c-4dac-8a1a-e4693aee47f3"
      },
      "execution_count": null,
      "outputs": [
        {
          "output_type": "error",
          "ename": "TypeError",
          "evalue": "power() missing 1 required positional argument: 'b'",
          "traceback": [
            "\u001b[0;31m---------------------------------------------------------------------------\u001b[0m",
            "\u001b[0;31mTypeError\u001b[0m                                 Traceback (most recent call last)",
            "\u001b[0;32m/tmp/ipython-input-4-512475094.py\u001b[0m in \u001b[0;36m<cell line: 0>\u001b[0;34m()\u001b[0m\n\u001b[0;32m----> 1\u001b[0;31m \u001b[0mpower\u001b[0m\u001b[0;34m(\u001b[0m\u001b[0;36m3\u001b[0m\u001b[0;34m)\u001b[0m\u001b[0;34m\u001b[0m\u001b[0;34m\u001b[0m\u001b[0m\n\u001b[0m",
            "\u001b[0;31mTypeError\u001b[0m: power() missing 1 required positional argument: 'b'"
          ]
        }
      ]
    },
    {
      "cell_type": "code",
      "source": [
        "power()"
      ],
      "metadata": {
        "colab": {
          "base_uri": "https://localhost:8080/",
          "height": 141
        },
        "id": "1uAkpOzO5OI5",
        "outputId": "124f0dd6-d826-45e0-c605-56998223197a"
      },
      "execution_count": null,
      "outputs": [
        {
          "output_type": "error",
          "ename": "TypeError",
          "evalue": "power() missing 2 required positional arguments: 'a' and 'b'",
          "traceback": [
            "\u001b[0;31m---------------------------------------------------------------------------\u001b[0m",
            "\u001b[0;31mTypeError\u001b[0m                                 Traceback (most recent call last)",
            "\u001b[0;32m/tmp/ipython-input-5-964676364.py\u001b[0m in \u001b[0;36m<cell line: 0>\u001b[0;34m()\u001b[0m\n\u001b[0;32m----> 1\u001b[0;31m \u001b[0mpower\u001b[0m\u001b[0;34m(\u001b[0m\u001b[0;34m)\u001b[0m\u001b[0;34m\u001b[0m\u001b[0;34m\u001b[0m\u001b[0m\n\u001b[0m",
            "\u001b[0;31mTypeError\u001b[0m: power() missing 2 required positional arguments: 'a' and 'b'"
          ]
        }
      ]
    },
    {
      "cell_type": "code",
      "source": [
        "# # Default Argument: Function arguments with default values.\n",
        "# def power(a =)"
      ],
      "metadata": {
        "id": "0sZXBB6G5PsU"
      },
      "execution_count": null,
      "outputs": []
    },
    {
      "cell_type": "code",
      "source": [
        "# Local Variables and Global Variables\n",
        "# Local Variables: Inside a Function\n",
        "# Global Variables: Outside any function, in main program"
      ],
      "metadata": {
        "id": "b7pf0AW9wVB1"
      },
      "execution_count": null,
      "outputs": []
    },
    {
      "cell_type": "code",
      "source": [
        "def g(y):\n",
        "  print(x)\n",
        "  print(x + 1)\n",
        "x = 5\n",
        "g(x)\n",
        "print(x)"
      ],
      "metadata": {
        "colab": {
          "base_uri": "https://localhost:8080/"
        },
        "id": "vZzZk259wk0O",
        "outputId": "c887e312-e524-4382-ad56-13c814c06937"
      },
      "execution_count": null,
      "outputs": [
        {
          "output_type": "stream",
          "name": "stdout",
          "text": [
            "5\n",
            "6\n",
            "5\n"
          ]
        }
      ]
    },
    {
      "cell_type": "code",
      "source": [
        "def h(y):\n",
        "  x += 1\n",
        "x = 5\n",
        "h(x)\n",
        "print(x)\n",
        "\n",
        "# Rule: Global Vars: accessed but not modified in function\n",
        "# Concept 1: Global exist outside funcs, accessed by any func\n",
        "# Concept 2: Funcs without local vars can use globals\n",
        "# Concept 3: Locals access globals but can't modify"
      ],
      "metadata": {
        "colab": {
          "base_uri": "https://localhost:8080/",
          "height": 349
        },
        "id": "eb1Rllj6wydu",
        "outputId": "a76c657e-1ab8-4006-8c4b-5dc7c742b90f"
      },
      "execution_count": null,
      "outputs": [
        {
          "output_type": "error",
          "ename": "UnboundLocalError",
          "evalue": "cannot access local variable 'x' where it is not associated with a value",
          "traceback": [
            "\u001b[0;31m---------------------------------------------------------------------------\u001b[0m",
            "\u001b[0;31mUnboundLocalError\u001b[0m                         Traceback (most recent call last)",
            "\u001b[0;32m/tmp/ipython-input-5-2320920585.py\u001b[0m in \u001b[0;36m<cell line: 0>\u001b[0;34m()\u001b[0m\n\u001b[1;32m      2\u001b[0m   \u001b[0mx\u001b[0m \u001b[0;34m+=\u001b[0m \u001b[0;36m1\u001b[0m\u001b[0;34m\u001b[0m\u001b[0;34m\u001b[0m\u001b[0m\n\u001b[1;32m      3\u001b[0m \u001b[0mx\u001b[0m \u001b[0;34m=\u001b[0m \u001b[0;36m5\u001b[0m\u001b[0;34m\u001b[0m\u001b[0;34m\u001b[0m\u001b[0m\n\u001b[0;32m----> 4\u001b[0;31m \u001b[0mh\u001b[0m\u001b[0;34m(\u001b[0m\u001b[0mx\u001b[0m\u001b[0;34m)\u001b[0m\u001b[0;34m\u001b[0m\u001b[0;34m\u001b[0m\u001b[0m\n\u001b[0m\u001b[1;32m      5\u001b[0m \u001b[0mprint\u001b[0m\u001b[0;34m(\u001b[0m\u001b[0mx\u001b[0m\u001b[0;34m)\u001b[0m\u001b[0;34m\u001b[0m\u001b[0;34m\u001b[0m\u001b[0m\n\u001b[1;32m      6\u001b[0m \u001b[0;34m\u001b[0m\u001b[0m\n",
            "\u001b[0;32m/tmp/ipython-input-5-2320920585.py\u001b[0m in \u001b[0;36mh\u001b[0;34m(y)\u001b[0m\n\u001b[1;32m      1\u001b[0m \u001b[0;32mdef\u001b[0m \u001b[0mh\u001b[0m\u001b[0;34m(\u001b[0m\u001b[0my\u001b[0m\u001b[0;34m)\u001b[0m\u001b[0;34m:\u001b[0m\u001b[0;34m\u001b[0m\u001b[0;34m\u001b[0m\u001b[0m\n\u001b[0;32m----> 2\u001b[0;31m   \u001b[0mx\u001b[0m \u001b[0;34m+=\u001b[0m \u001b[0;36m1\u001b[0m\u001b[0;34m\u001b[0m\u001b[0;34m\u001b[0m\u001b[0m\n\u001b[0m\u001b[1;32m      3\u001b[0m \u001b[0mx\u001b[0m \u001b[0;34m=\u001b[0m \u001b[0;36m5\u001b[0m\u001b[0;34m\u001b[0m\u001b[0;34m\u001b[0m\u001b[0m\n\u001b[1;32m      4\u001b[0m \u001b[0mh\u001b[0m\u001b[0;34m(\u001b[0m\u001b[0mx\u001b[0m\u001b[0;34m)\u001b[0m\u001b[0;34m\u001b[0m\u001b[0;34m\u001b[0m\u001b[0m\n\u001b[1;32m      5\u001b[0m \u001b[0mprint\u001b[0m\u001b[0;34m(\u001b[0m\u001b[0mx\u001b[0m\u001b[0;34m)\u001b[0m\u001b[0;34m\u001b[0m\u001b[0;34m\u001b[0m\u001b[0m\n",
            "\u001b[0;31mUnboundLocalError\u001b[0m: cannot access local variable 'x' where it is not associated with a value"
          ]
        }
      ]
    },
    {
      "cell_type": "code",
      "source": [
        "# Explicitly Modifying Global Variables Locally\n",
        "def h(y):\n",
        "  global x\n",
        "  x += 1\n",
        "  return x\n",
        "x = 5\n",
        "h(x)\n",
        "# print(x)"
      ],
      "metadata": {
        "colab": {
          "base_uri": "https://localhost:8080/"
        },
        "id": "J0S7HI10xIBi",
        "outputId": "ad3a604a-50b4-44e4-eac5-4436a120a0fb"
      },
      "execution_count": null,
      "outputs": [
        {
          "output_type": "execute_result",
          "data": {
            "text/plain": [
              "6"
            ]
          },
          "metadata": {},
          "execution_count": 8
        }
      ]
    },
    {
      "cell_type": "code",
      "source": [
        "# Complicated Scope\n",
        "def f(x):\n",
        "  x += 1\n",
        "  print(\"in f(x): x =\", x)\n",
        "  return x\n",
        "x = 3\n",
        "z = f(x)\n",
        "print(\"in main program scope: z\", z)\n",
        "print(\"in main program scope: x = \", x)"
      ],
      "metadata": {
        "colab": {
          "base_uri": "https://localhost:8080/"
        },
        "id": "OhptO8geyRKo",
        "outputId": "58065509-33a7-47a1-c753-82fc3b183c7d"
      },
      "execution_count": null,
      "outputs": [
        {
          "output_type": "stream",
          "name": "stdout",
          "text": [
            "in f(x): x = 4\n",
            "in main program scope: z 4\n",
            "in main program scope: x =  3\n"
          ]
        }
      ]
    },
    {
      "cell_type": "code",
      "source": [
        "# Nested Functions\n",
        "def f():\n",
        "  print(\"Inside f\")\n",
        "  def g():\n",
        "    print(\"Inside g\")\n",
        "  g()"
      ],
      "metadata": {
        "id": "NVCkWMaAzANq"
      },
      "execution_count": null,
      "outputs": []
    },
    {
      "cell_type": "code",
      "source": [
        "f()"
      ],
      "metadata": {
        "colab": {
          "base_uri": "https://localhost:8080/"
        },
        "id": "3b4ywFoDzPYI",
        "outputId": "6504b1bd-97fb-4f7c-dc51-c55d4cfb0219"
      },
      "execution_count": null,
      "outputs": [
        {
          "output_type": "stream",
          "name": "stdout",
          "text": [
            "Inside f\n",
            "Inside g\n"
          ]
        }
      ]
    },
    {
      "cell_type": "code",
      "source": [
        "g()\n",
        "# Nested function stay abstracted/hidden from main program\n"
      ],
      "metadata": {
        "colab": {
          "base_uri": "https://localhost:8080/",
          "height": 159
        },
        "id": "1uOHhG1UzQdZ",
        "outputId": "7fa2ba25-85c8-46c2-8be0-45731481a660"
      },
      "execution_count": null,
      "outputs": [
        {
          "output_type": "error",
          "ename": "TypeError",
          "evalue": "g() missing 1 required positional argument: 'y'",
          "traceback": [
            "\u001b[0;31m---------------------------------------------------------------------------\u001b[0m",
            "\u001b[0;31mTypeError\u001b[0m                                 Traceback (most recent call last)",
            "\u001b[0;32m/tmp/ipython-input-13-4025914412.py\u001b[0m in \u001b[0;36m<cell line: 0>\u001b[0;34m()\u001b[0m\n\u001b[0;32m----> 1\u001b[0;31m \u001b[0mg\u001b[0m\u001b[0;34m(\u001b[0m\u001b[0;34m)\u001b[0m\u001b[0;34m\u001b[0m\u001b[0;34m\u001b[0m\u001b[0m\n\u001b[0m\u001b[1;32m      2\u001b[0m \u001b[0;31m# Nested function stay abstracted/hidden from main program\u001b[0m\u001b[0;34m\u001b[0m\u001b[0;34m\u001b[0m\u001b[0m\n",
            "\u001b[0;31mTypeError\u001b[0m: g() missing 1 required positional argument: 'y'"
          ]
        }
      ]
    },
    {
      "cell_type": "code",
      "source": [
        "def f():\n",
        "  print(\"Inside f\")\n",
        "  def g():\n",
        "    print(\"Inside g\")\n",
        "    f()\n",
        "  g()\n",
        "\n",
        "f()\n",
        "\n",
        "# Infinite Loop ----> Code will crash ---> Kernal Dead"
      ],
      "metadata": {
        "id": "_rIBmXEVzSLv"
      },
      "execution_count": null,
      "outputs": []
    },
    {
      "cell_type": "code",
      "source": [
        "# Harder Scope\n",
        "def g(x):\n",
        "    def h():\n",
        "        x = \"abc\"\n",
        "    x += 1\n",
        "    print(\"in g(x): x =\", x)\n",
        "    h()\n",
        "    return x\n",
        "x = 3\n",
        "z = g(x)"
      ],
      "metadata": {
        "colab": {
          "base_uri": "https://localhost:8080/"
        },
        "id": "wv7Dflc6zwA6",
        "outputId": "f641c9a4-e8da-4009-eb7d-de3e0abd35ec"
      },
      "execution_count": null,
      "outputs": [
        {
          "output_type": "stream",
          "name": "stdout",
          "text": [
            "in g(x): x = 4\n"
          ]
        }
      ]
    },
    {
      "cell_type": "code",
      "source": [
        "# Complicated Scope\n",
        "def g(x):\n",
        "    def h(x):\n",
        "        x += 1\n",
        "        print(\"in h(x): x =\", x)\n",
        "    x += 1\n",
        "    print(\"in g(x): x =\", x)\n",
        "    h(x)\n",
        "    return x\n",
        "x = 3\n",
        "z = g(x)\n",
        "print(\"in main proram scope: x =\", x)\n",
        "print(\"in main program scope: z =\", z)"
      ],
      "metadata": {
        "colab": {
          "base_uri": "https://localhost:8080/"
        },
        "id": "p2yBn57Nz8TG",
        "outputId": "63ae6bb1-6ccc-4405-d533-8c26a5d4f1f6"
      },
      "execution_count": null,
      "outputs": [
        {
          "output_type": "stream",
          "name": "stdout",
          "text": [
            "in g(x): x = 4\n",
            "in h(x): x = 5\n",
            "in main proram scope: x = 3\n",
            "in main program scope: z = 4\n"
          ]
        }
      ]
    },
    {
      "cell_type": "code",
      "source": [
        "# Everything in Python is an Object\n",
        "# Functions too\n",
        "# Functions as objects"
      ],
      "metadata": {
        "id": "zub-TtSr0Nv0"
      },
      "execution_count": null,
      "outputs": []
    },
    {
      "cell_type": "code",
      "source": [
        "def f(num):\n",
        "  return num ** 2"
      ],
      "metadata": {
        "id": "vstijfSO3NcV"
      },
      "execution_count": null,
      "outputs": []
    },
    {
      "cell_type": "code",
      "source": [
        "f(2)"
      ],
      "metadata": {
        "id": "UA8jEgdg3R2r"
      },
      "execution_count": null,
      "outputs": []
    },
    {
      "cell_type": "code",
      "source": [
        "f(4)"
      ],
      "metadata": {
        "id": "Lwivri8S3TJW"
      },
      "execution_count": null,
      "outputs": []
    },
    {
      "cell_type": "code",
      "source": [
        "x = f # aliasing"
      ],
      "metadata": {
        "id": "16mqeZxw3WDe"
      },
      "execution_count": null,
      "outputs": []
    },
    {
      "cell_type": "code",
      "source": [
        "# since functions are objects just like int, str"
      ],
      "metadata": {
        "id": "hsdMKEJu3aZP"
      },
      "execution_count": null,
      "outputs": []
    },
    {
      "cell_type": "code",
      "source": [
        "x(2)"
      ],
      "metadata": {
        "id": "QBAneO-Y3eOp"
      },
      "execution_count": null,
      "outputs": []
    },
    {
      "cell_type": "code",
      "source": [
        "x(4)"
      ],
      "metadata": {
        "id": "d75XbKxL3fD5"
      },
      "execution_count": null,
      "outputs": []
    },
    {
      "cell_type": "code",
      "source": [
        "del f # Del functions in python"
      ],
      "metadata": {
        "id": "tkf3zQsf3gKa"
      },
      "execution_count": null,
      "outputs": []
    },
    {
      "cell_type": "code",
      "source": [
        "f(2)"
      ],
      "metadata": {
        "id": "ckAoJ6Hk3kyU"
      },
      "execution_count": null,
      "outputs": []
    },
    {
      "cell_type": "code",
      "source": [
        "x(2) # Call by object Reference"
      ],
      "metadata": {
        "id": "rEdI4adm3lia"
      },
      "execution_count": null,
      "outputs": []
    },
    {
      "cell_type": "code",
      "source": [
        "type(x)"
      ],
      "metadata": {
        "id": "sINvk1wO3pIy"
      },
      "execution_count": null,
      "outputs": []
    },
    {
      "cell_type": "code",
      "source": [
        "L = [1, 2, 3, 4, 5]\n",
        "L"
      ],
      "metadata": {
        "id": "rEla4-TT3rrd"
      },
      "execution_count": null,
      "outputs": []
    },
    {
      "cell_type": "code",
      "source": [
        "L = [1, 2, 3, 4, x]\n",
        "L"
      ],
      "metadata": {
        "id": "eO3RW-ec3umf"
      },
      "execution_count": null,
      "outputs": []
    },
    {
      "cell_type": "code",
      "source": [
        "L[-1](-3) # sqr"
      ],
      "metadata": {
        "id": "DNsJ2gNE3yK_"
      },
      "execution_count": null,
      "outputs": []
    },
    {
      "cell_type": "code",
      "source": [
        "L = [1, 2, 3, 4, x(5)]\n",
        "L"
      ],
      "metadata": {
        "id": "ZZxf_Ua232aS"
      },
      "execution_count": null,
      "outputs": []
    },
    {
      "cell_type": "code",
      "source": [
        "# In Python, Functions behave like any other Data type.\n",
        "# Can be assigned, passed, and returned."
      ],
      "metadata": {
        "id": "S2TOs-L539K1"
      },
      "execution_count": null,
      "outputs": []
    },
    {
      "cell_type": "code",
      "source": [
        "# So What ?\n",
        "# Renaming Funcion: def new_name(old_name):\n",
        "# Deleting Function: del func_name\n",
        "# Storing Function: func_var = def_func()\n",
        "# Returning Function: return func_name\n",
        "# Function as Argument: def outer(func): func()"
      ],
      "metadata": {
        "id": "vBGj4CIt4C7_"
      },
      "execution_count": null,
      "outputs": []
    },
    {
      "cell_type": "code",
      "source": [
        "# Function as argument/input\n",
        "def func_a():\n",
        "  print(\"Inside func_a\")\n",
        "def func_c(z):\n",
        "  print(\"Inside func_c\")\n",
        "  return z()\n",
        "print(func_c(func_a))"
      ],
      "metadata": {
        "colab": {
          "base_uri": "https://localhost:8080/"
        },
        "id": "PF3IfwZT4oQs",
        "outputId": "8c0188ee-7735-4e57-fb3c-81e0d0dc2d05"
      },
      "execution_count": null,
      "outputs": [
        {
          "output_type": "stream",
          "name": "stdout",
          "text": [
            "Inside func_c\n",
            "Inside func_a\n",
            "None\n"
          ]
        }
      ]
    },
    {
      "cell_type": "code",
      "source": [
        "# Returning a Function + Nested Calling\n",
        "def f():\n",
        "    def x(a, b):\n",
        "        return a + b\n",
        "    return x\n",
        "val = f()(3, 4)\n",
        "print(val)"
      ],
      "metadata": {
        "colab": {
          "base_uri": "https://localhost:8080/"
        },
        "id": "cqmpX50B5LRk",
        "outputId": "134174ea-1206-4628-f1fa-f0a18e68e4d9"
      },
      "execution_count": null,
      "outputs": [
        {
          "output_type": "stream",
          "name": "stdout",
          "text": [
            "7\n"
          ]
        }
      ]
    },
    {
      "cell_type": "code",
      "source": [
        "# Functions are First-Class Citizens in Python"
      ],
      "metadata": {
        "id": "QNhV6J9C5acZ"
      },
      "execution_count": null,
      "outputs": []
    },
    {
      "cell_type": "code",
      "source": [
        "# type & id\n",
        "def square(num):\n",
        "  return num**2\n",
        "type(square)\n",
        "id(square)"
      ],
      "metadata": {
        "colab": {
          "base_uri": "https://localhost:8080/"
        },
        "id": "ITqDY_965gY3",
        "outputId": "64db391e-f0ff-4989-c8d7-04f9c57ec038"
      },
      "execution_count": null,
      "outputs": [
        {
          "output_type": "execute_result",
          "data": {
            "text/plain": [
              "136861257833088"
            ]
          },
          "metadata": {},
          "execution_count": 20
        }
      ]
    },
    {
      "cell_type": "code",
      "source": [
        "# reassign\n",
        "x = square\n",
        "id(x)\n",
        "x(3)"
      ],
      "metadata": {
        "colab": {
          "base_uri": "https://localhost:8080/"
        },
        "id": "NfF0JfgE5vGA",
        "outputId": "29bf39ee-e2e5-4f68-b091-9a758b6de624"
      },
      "execution_count": null,
      "outputs": [
        {
          "output_type": "execute_result",
          "data": {
            "text/plain": [
              "9"
            ]
          },
          "metadata": {},
          "execution_count": 21
        }
      ]
    },
    {
      "cell_type": "code",
      "source": [
        "a = 2\n",
        "b = a\n",
        "b"
      ],
      "metadata": {
        "colab": {
          "base_uri": "https://localhost:8080/"
        },
        "id": "PaofGCi5501p",
        "outputId": "9ca3cae4-4603-42e9-ae29-84ad944d7cc4"
      },
      "execution_count": null,
      "outputs": [
        {
          "output_type": "execute_result",
          "data": {
            "text/plain": [
              "2"
            ]
          },
          "metadata": {},
          "execution_count": 22
        }
      ]
    },
    {
      "cell_type": "code",
      "source": [
        "# Deleting Function\n",
        "del square\n",
        "square(3)"
      ],
      "metadata": {
        "colab": {
          "base_uri": "https://localhost:8080/",
          "height": 176
        },
        "id": "3e6MXRvv57mx",
        "outputId": "c2cbdde5-f230-459b-c1cb-6dcc685679b8"
      },
      "execution_count": null,
      "outputs": [
        {
          "output_type": "error",
          "ename": "NameError",
          "evalue": "name 'square' is not defined",
          "traceback": [
            "\u001b[0;31m---------------------------------------------------------------------------\u001b[0m",
            "\u001b[0;31mNameError\u001b[0m                                 Traceback (most recent call last)",
            "\u001b[0;32m/tmp/ipython-input-23-2407271770.py\u001b[0m in \u001b[0;36m<cell line: 0>\u001b[0;34m()\u001b[0m\n\u001b[1;32m      1\u001b[0m \u001b[0;31m# Deleting Function\u001b[0m\u001b[0;34m\u001b[0m\u001b[0;34m\u001b[0m\u001b[0m\n\u001b[1;32m      2\u001b[0m \u001b[0;32mdel\u001b[0m \u001b[0msquare\u001b[0m\u001b[0;34m\u001b[0m\u001b[0;34m\u001b[0m\u001b[0m\n\u001b[0;32m----> 3\u001b[0;31m \u001b[0msquare\u001b[0m\u001b[0;34m(\u001b[0m\u001b[0;36m3\u001b[0m\u001b[0;34m)\u001b[0m\u001b[0;34m\u001b[0m\u001b[0;34m\u001b[0m\u001b[0m\n\u001b[0m",
            "\u001b[0;31mNameError\u001b[0m: name 'square' is not defined"
          ]
        }
      ]
    },
    {
      "cell_type": "code",
      "source": [
        "# Storing\n",
        "L = [1, 2, 3, 4, square]\n",
        "L[-1](3)"
      ],
      "metadata": {
        "id": "4UhwgaoR5-sN"
      },
      "execution_count": null,
      "outputs": []
    },
    {
      "cell_type": "code",
      "source": [
        "# Recursion\n",
        "  # Function calls itself"
      ],
      "metadata": {
        "id": "GqkWZqiw6Hzq"
      },
      "execution_count": null,
      "outputs": []
    },
    {
      "cell_type": "code",
      "source": [
        "# Advantages:\n",
        "  # No loops needed\n",
        "  # Solves Problems without iteration\n",
        "  # To understand recursion you must understand recurision"
      ],
      "metadata": {
        "id": "Y4MfFIWhSpvy"
      },
      "execution_count": null,
      "outputs": []
    },
    {
      "cell_type": "code",
      "source": [
        "# Iterative Vs Recursion"
      ],
      "metadata": {
        "id": "_56S110mS8Nk"
      },
      "execution_count": null,
      "outputs": []
    },
    {
      "cell_type": "code",
      "source": [
        "# a * b\n",
        "def multiply(a, b):\n",
        "  result = 0\n",
        "  for i in range(b):\n",
        "    result += a\n",
        "  print(result)\n",
        "multiply(3, 4)"
      ],
      "metadata": {
        "colab": {
          "base_uri": "https://localhost:8080/"
        },
        "id": "18BsOdkcS_x4",
        "outputId": "3bc6684a-6496-4b37-962a-c7ecf63d7a95"
      },
      "execution_count": null,
      "outputs": [
        {
          "output_type": "stream",
          "name": "stdout",
          "text": [
            "12\n"
          ]
        }
      ]
    },
    {
      "cell_type": "code",
      "source": [
        "# Recursion Method\n",
        "# 1. Base Case: Define Stopping condition\n",
        "# 2. Decompose: Break main problem into smaller subproblems\n",
        "\n",
        "def mul(a, b):\n",
        "  if b == 1:\n",
        "    return a\n",
        "  else:\n",
        "    return a + mul(a, b-1)"
      ],
      "metadata": {
        "id": "VOUJb7CTTYlP"
      },
      "execution_count": null,
      "outputs": []
    },
    {
      "cell_type": "code",
      "source": [
        "print(mul(3, 4))"
      ],
      "metadata": {
        "colab": {
          "base_uri": "https://localhost:8080/"
        },
        "id": "Wk4E8C9GTwxO",
        "outputId": "e94c5832-e729-497c-ec46-d38394fbac1b"
      },
      "execution_count": null,
      "outputs": [
        {
          "output_type": "stream",
          "name": "stdout",
          "text": [
            "12\n"
          ]
        }
      ]
    },
    {
      "cell_type": "code",
      "source": [
        "# Factorial via Recursion\n",
        "def fact(number):\n",
        "  if number == 1:\n",
        "    return 1\n",
        "  else:\n",
        "    return number * fact(number - 1)\n",
        "print(fact(5))"
      ],
      "metadata": {
        "colab": {
          "base_uri": "https://localhost:8080/"
        },
        "id": "R4LFl0QRTy_Q",
        "outputId": "cae662f2-0295-41e9-8184-1e537e011f43"
      },
      "execution_count": null,
      "outputs": [
        {
          "output_type": "stream",
          "name": "stdout",
          "text": [
            "120\n"
          ]
        }
      ]
    },
    {
      "cell_type": "code",
      "source": [
        "# Palindrome\n",
        "def palin(text):\n",
        "  if len(text) <= 1:\n",
        "    print(\"palindrome\")\n",
        "  else:\n",
        "    if text[0] == text[-1]:\n",
        "      palin(text[1:-1])\n",
        "    else:\n",
        "      print(\"Not a Palindrome\")"
      ],
      "metadata": {
        "id": "lTjItgFHUTeR"
      },
      "execution_count": null,
      "outputs": []
    },
    {
      "cell_type": "code",
      "source": [
        "palin(\"madam\")"
      ],
      "metadata": {
        "colab": {
          "base_uri": "https://localhost:8080/"
        },
        "id": "qb50VfzxUu-2",
        "outputId": "ba245755-cbf2-46ae-cbcb-aa03eab33e01"
      },
      "execution_count": null,
      "outputs": [
        {
          "output_type": "stream",
          "name": "stdout",
          "text": [
            "palindrome\n"
          ]
        }
      ]
    },
    {
      "cell_type": "code",
      "source": [
        "print(palin(\"malayalam\"))\n",
        "print(palin(\"python\"))\n",
        "print(palin(\"abba\"))"
      ],
      "metadata": {
        "colab": {
          "base_uri": "https://localhost:8080/"
        },
        "id": "60S3Hs94Uwlw",
        "outputId": "6a930fb4-3e1e-416d-e28e-c932375f5a3b"
      },
      "execution_count": null,
      "outputs": [
        {
          "output_type": "stream",
          "name": "stdout",
          "text": [
            "palindrome\n",
            "None\n",
            "Not a Palindrome\n",
            "None\n",
            "palindrome\n",
            "None\n"
          ]
        }
      ]
    },
    {
      "cell_type": "code",
      "source": [
        "# The Rabbit Problem: Fibonacci Number\n",
        "# Scenario ----> 2 newborn rabbits: 1 male + 1 female monthly\n",
        "#                 Reproduction after 1 month, immortality.\n",
        "\n",
        "def fib(m):\n",
        "  if m == 0 or m == 1:\n",
        "    return 1\n",
        "  else:\n",
        "    return fib(m-1) + fib(m-2)\n",
        "print(fib(12)) # T = O(2^n)\n",
        "\n",
        "# key concepts:\n",
        "  # Fibonacci sequence\n",
        "  # Reproduction Rate\n",
        "  # Population Growth"
      ],
      "metadata": {
        "colab": {
          "base_uri": "https://localhost:8080/"
        },
        "id": "TpTdcXwpU5Kp",
        "outputId": "6f9638f6-bb82-4378-9a5c-b3346414b407"
      },
      "execution_count": null,
      "outputs": [
        {
          "output_type": "stream",
          "name": "stdout",
          "text": [
            "233\n"
          ]
        }
      ]
    },
    {
      "cell_type": "code",
      "source": [
        "import time\n",
        "start = time.time()\n",
        "print(fib(12))\n",
        "print(time.time() - start)"
      ],
      "metadata": {
        "colab": {
          "base_uri": "https://localhost:8080/"
        },
        "id": "8LQ3yC1CWXUD",
        "outputId": "0d7a6447-5e5d-4792-c536-24c83fe4a86f"
      },
      "execution_count": null,
      "outputs": [
        {
          "output_type": "stream",
          "name": "stdout",
          "text": [
            "233\n",
            "0.001314401626586914\n"
          ]
        }
      ]
    },
    {
      "cell_type": "code",
      "source": [
        "# Memoization\n",
        "# Memoization refers to remembering methods call results based on inputs\n",
        "  # Returns cached results, avoiding recompution\n",
        "  # Speeds up computations; stores previous results\n",
        "  # Used in dynamic programming for recursive solutions\n",
        "  # Reduces time complexity; avoids redundant calculations\n",
        "  # Optimizes recursion algorithms by reusing results"
      ],
      "metadata": {
        "id": "ZJh6dANMXCOZ"
      },
      "execution_count": null,
      "outputs": []
    },
    {
      "cell_type": "code",
      "source": [
        "def memo(m, d):\n",
        "    if m in d:\n",
        "        return d[m]\n",
        "    else:\n",
        "        d[m] = memo(m-1, d) + memo(m-2, d)\n",
        "        return d[m]\n",
        "d = {0:1, 1:1}\n",
        "print(memo(48, d))"
      ],
      "metadata": {
        "colab": {
          "base_uri": "https://localhost:8080/"
        },
        "id": "YjKDl-soXrzn",
        "outputId": "ab659c40-9aff-4e8d-e3e7-9523c264a934"
      },
      "execution_count": null,
      "outputs": [
        {
          "output_type": "stream",
          "name": "stdout",
          "text": [
            "7778742049\n"
          ]
        }
      ]
    },
    {
      "cell_type": "code",
      "source": [
        "print(memo(48, d))\n",
        "print(time.time() - start)"
      ],
      "metadata": {
        "colab": {
          "base_uri": "https://localhost:8080/"
        },
        "id": "MA5fp2zEXztv",
        "outputId": "01ff1891-2afa-47ab-8992-a02c9f06fd9e"
      },
      "execution_count": null,
      "outputs": [
        {
          "output_type": "stream",
          "name": "stdout",
          "text": [
            "7778742049\n",
            "258.129967212677\n"
          ]
        }
      ]
    },
    {
      "cell_type": "code",
      "source": [
        "print(d) # Dict in memory, execution time reduced"
      ],
      "metadata": {
        "colab": {
          "base_uri": "https://localhost:8080/"
        },
        "id": "gxWKAgypYBSA",
        "outputId": "5a3caa62-5f62-4a93-ef77-bf8a29b835c5"
      },
      "execution_count": null,
      "outputs": [
        {
          "output_type": "stream",
          "name": "stdout",
          "text": [
            "{0: 1, 1: 1, 2: 2, 3: 3, 4: 5, 5: 8, 6: 13, 7: 21, 8: 34, 9: 55, 10: 89, 11: 144, 12: 233, 13: 377, 14: 610, 15: 987, 16: 1597, 17: 2584, 18: 4181, 19: 6765, 20: 10946, 21: 17711, 22: 28657, 23: 46368, 24: 75025, 25: 121393, 26: 196418, 27: 317811, 28: 514229, 29: 832040, 30: 1346269, 31: 2178309, 32: 3524578, 33: 5702887, 34: 9227465, 35: 14930352, 36: 24157817, 37: 39088169, 38: 63245986, 39: 102334155, 40: 165580141, 41: 267914296, 42: 433494437, 43: 701408733, 44: 1134903170, 45: 1836311903, 46: 2971215073, 47: 4807526976, 48: 7778742049}\n"
          ]
        }
      ]
    },
    {
      "cell_type": "code",
      "source": [
        "# Recursive PowerSet Function in Python\n",
        "\n",
        "# PowerSet: Given set S, return power set P(S) (all subsets of S).\n",
        "\n",
        "# Input: String\n",
        "# Output: Array of Strings (power set)\n",
        "\n",
        "# Example: S = \"123\", P(S) = ['', '1', '2', '3', '12', '13', '23', '123']\n",
        "\n",
        "def powerset1(xs):\n",
        "    res = [[]]\n",
        "    if len(xs) <= 0:\n",
        "        return \"Please Enter a parameter\"\n",
        "    if len(xs) == 1:\n",
        "        res.append([xs[0]])\n",
        "        return res\n",
        "    else:\n",
        "        z = []\n",
        "        for i in powerset1(xs[1:]):\n",
        "            z.append(i)\n",
        "            z.append([xs[0]] + i)\n",
        "        return z\n",
        "\n",
        "final = powerset1('123')\n",
        "print(final)\n",
        "print(len(final))"
      ],
      "metadata": {
        "colab": {
          "base_uri": "https://localhost:8080/"
        },
        "id": "VHM5EESKYFKq",
        "outputId": "500608ad-0d97-4cc7-9873-7c3c682cbff3"
      },
      "execution_count": null,
      "outputs": [
        {
          "output_type": "stream",
          "name": "stdout",
          "text": [
            "[[], ['1'], ['2'], ['1', '2'], ['3'], ['1', '3'], ['2', '3'], ['1', '2', '3']]\n",
            "8\n"
          ]
        }
      ]
    },
    {
      "cell_type": "code",
      "source": [
        "x = int(input(\"Enter your number:\"))\n",
        "if x == 1:\n",
        "  print(\"Januaray\")\n",
        "elif x == 2:\n",
        "  print(\"February\")\n",
        "elif x == 3:\n",
        "  print(\"March\")\n",
        "elif x == 4:\n",
        "  print(\"April\")\n",
        "elif x == 5:\n",
        "  print(\"May\")\n",
        "elif x == 6:\n",
        "  print(\"June\")\n",
        "elif x == 7:\n",
        "  print(\"July\")\n",
        "elif x == 8:\n",
        "  print(\"August\")\n",
        "elif x == 9:\n",
        "  print(\"September\")\n",
        "elif x == 10:\n",
        "  print(\"October\")\n",
        "elif x == 11:\n",
        "  print(\"November\")\n",
        "elif x == 12:\n",
        "  print(\"December\")\n",
        "else:\n",
        "  print(\"Invalid Number\")"
      ],
      "metadata": {
        "colab": {
          "base_uri": "https://localhost:8080/"
        },
        "id": "eO7dUvsEYU7y",
        "outputId": "41fe7dd8-39b9-43b9-ed88-6051bc523a66"
      },
      "execution_count": null,
      "outputs": [
        {
          "output_type": "stream",
          "name": "stdout",
          "text": [
            "Enter your number:15\n",
            "Invalid Number\n"
          ]
        }
      ]
    },
    {
      "cell_type": "code",
      "source": [
        "x = int(input(\"Enter Your Year Number (1-12): \"))\n",
        "months = {\n",
        "    1: \"January\",\n",
        "    2: \"February\",\n",
        "    3: \"March\",\n",
        "    4: \"April\",\n",
        "    5: \"May\",\n",
        "    6: \"June\",\n",
        "    7: \"July\",\n",
        "    8: \"August\",\n",
        "    9: \"September\",\n",
        "    10: \"October\",\n",
        "    11: \"November\",\n",
        "    12: \"December\"\n",
        "}\n",
        "\n",
        "if x in months:\n",
        "  print(\"Months is:\", months[x])\n",
        "else:\n",
        "  print(\"Invalid Number\")"
      ],
      "metadata": {
        "colab": {
          "base_uri": "https://localhost:8080/"
        },
        "id": "St-eIzaAK1NU",
        "outputId": "66067d33-b1a5-4ba8-9cf1-a5a14db9e923"
      },
      "execution_count": null,
      "outputs": [
        {
          "output_type": "stream",
          "name": "stdout",
          "text": [
            "Enter Your Year Number (1-12): 10\n",
            "Months is: October\n"
          ]
        }
      ]
    },
    {
      "cell_type": "code",
      "source": [
        "# Lambda Functions"
      ],
      "metadata": {
        "id": "vWF-6hVWUt2d"
      },
      "execution_count": null,
      "outputs": []
    },
    {
      "cell_type": "code",
      "source": [
        "# Anonymous Functions\n",
        "# Single Expression Limit.\n",
        "# Syntax: lambda input: expression\n",
        "# Example: lambda a, b: a + b"
      ],
      "metadata": {
        "id": "Ul6LUnlLt_x7"
      },
      "execution_count": null,
      "outputs": []
    },
    {
      "cell_type": "code",
      "source": [
        "x = lambda x : x**2\n",
        "x(9)"
      ],
      "metadata": {
        "colab": {
          "base_uri": "https://localhost:8080/"
        },
        "id": "KHGegKrBuhlK",
        "outputId": "0ae0979b-2c6d-4dbb-f775-dcef14d5575b"
      },
      "execution_count": null,
      "outputs": [
        {
          "output_type": "execute_result",
          "data": {
            "text/plain": [
              "81"
            ]
          },
          "metadata": {},
          "execution_count": 4
        }
      ]
    },
    {
      "cell_type": "code",
      "source": [
        "x = lambda x : x + 5\n",
        "x(5)"
      ],
      "metadata": {
        "colab": {
          "base_uri": "https://localhost:8080/"
        },
        "id": "bt3OUY0eusvl",
        "outputId": "bfba2209-d783-4c15-b568-7f6dcc9f629b"
      },
      "execution_count": null,
      "outputs": [
        {
          "output_type": "execute_result",
          "data": {
            "text/plain": [
              "10"
            ]
          },
          "metadata": {},
          "execution_count": 5
        }
      ]
    },
    {
      "cell_type": "code",
      "source": [
        "a = lambda x, y: x + y\n",
        "a(4, 5)"
      ],
      "metadata": {
        "colab": {
          "base_uri": "https://localhost:8080/"
        },
        "id": "nUXAlmvMuyYl",
        "outputId": "07ab3083-8689-476f-8549-d6858f0fbac1"
      },
      "execution_count": null,
      "outputs": [
        {
          "output_type": "execute_result",
          "data": {
            "text/plain": [
              "9"
            ]
          },
          "metadata": {},
          "execution_count": 6
        }
      ]
    },
    {
      "cell_type": "code",
      "source": [
        "z = lambda x, y : x - y\n",
        "z(10, 5)"
      ],
      "metadata": {
        "colab": {
          "base_uri": "https://localhost:8080/"
        },
        "id": "LH5DpXrAvE7i",
        "outputId": "690d940d-1052-489b-f34c-696f3c00fa6b"
      },
      "execution_count": null,
      "outputs": [
        {
          "output_type": "execute_result",
          "data": {
            "text/plain": [
              "5"
            ]
          },
          "metadata": {},
          "execution_count": 7
        }
      ]
    },
    {
      "cell_type": "code",
      "source": [
        "type(a)"
      ],
      "metadata": {
        "colab": {
          "base_uri": "https://localhost:8080/"
        },
        "id": "VVVnVhc-vLmr",
        "outputId": "244a1b84-a6db-403a-ef77-484fb74709c0"
      },
      "execution_count": null,
      "outputs": [
        {
          "output_type": "execute_result",
          "data": {
            "text/plain": [
              "function"
            ]
          },
          "metadata": {},
          "execution_count": 8
        }
      ]
    },
    {
      "cell_type": "code",
      "source": [
        "type(z)"
      ],
      "metadata": {
        "colab": {
          "base_uri": "https://localhost:8080/"
        },
        "id": "NZm0TzZLvgth",
        "outputId": "ef95a972-8b0f-4b2c-bc80-e11673c0677e"
      },
      "execution_count": null,
      "outputs": [
        {
          "output_type": "execute_result",
          "data": {
            "text/plain": [
              "function"
            ]
          },
          "metadata": {},
          "execution_count": 9
        }
      ]
    },
    {
      "cell_type": "code",
      "source": [
        "# Lambda Function vs. Normal Function\n",
        "# Lambda Function:\n",
        "  # No return value\n",
        "  # Written in single-line\n",
        "  # Not used for code reusability\n",
        "  # Anonymous/No name."
      ],
      "metadata": {
        "id": "CwF6O9dVvi8i"
      },
      "execution_count": null,
      "outputs": []
    },
    {
      "cell_type": "code",
      "source": [
        "# Normal Function:\n",
        "  # Has a return value.\n",
        "  # Multi-line\n",
        "  # Encourages code reusability via named functions"
      ],
      "metadata": {
        "id": "WbUPih52wO8u"
      },
      "execution_count": null,
      "outputs": []
    },
    {
      "cell_type": "code",
      "source": [
        "# Why?\n",
        "\n",
        "# Lambda functions are Anonymous functions ---> `lambda args: expr`,\n",
        "# ideal for Higher-order functions, offers Concise function writing without naming."
      ],
      "metadata": {
        "id": "nyOXC4hcwcrF"
      },
      "execution_count": null,
      "outputs": []
    },
    {
      "cell_type": "code",
      "source": [
        "# Higher Order Functions:\n",
        "\n",
        "# Functions that take/return other functions.\n",
        "# Useful for Abstraction, Code reuse.\n",
        "\n",
        "# Enhances code modularity, readability.\n",
        "# Encourages functional programming.\n",
        "\n",
        "# Can lead to Complexity and Performance overhead (if overused)."
      ],
      "metadata": {
        "id": "kCFAHPeOwkM4"
      },
      "execution_count": null,
      "outputs": []
    },
    {
      "cell_type": "code",
      "source": [
        "b = lambda x : x[0] == 'a'\n",
        "b('apple')"
      ],
      "metadata": {
        "colab": {
          "base_uri": "https://localhost:8080/"
        },
        "id": "YUiq0XauxxC8",
        "outputId": "5ca61638-0e43-4c8a-865f-bf5ff7d50b30"
      },
      "execution_count": null,
      "outputs": [
        {
          "output_type": "execute_result",
          "data": {
            "text/plain": [
              "True"
            ]
          },
          "metadata": {},
          "execution_count": 14
        }
      ]
    },
    {
      "cell_type": "code",
      "source": [
        "b('banana')"
      ],
      "metadata": {
        "colab": {
          "base_uri": "https://localhost:8080/"
        },
        "id": "vdXcBnd0x63j",
        "outputId": "a670561b-6b2d-450a-9590-276a74b0f457"
      },
      "execution_count": null,
      "outputs": [
        {
          "output_type": "execute_result",
          "data": {
            "text/plain": [
              "False"
            ]
          },
          "metadata": {},
          "execution_count": 15
        }
      ]
    },
    {
      "cell_type": "code",
      "source": [
        "x = lambda x : \"Even\" if x%2 == 0 else \"Odd\"\n",
        "x(3)"
      ],
      "metadata": {
        "colab": {
          "base_uri": "https://localhost:8080/",
          "height": 35
        },
        "id": "N3YH1sCHx9NQ",
        "outputId": "d45f5b84-4fc7-4719-8479-cf401199098e"
      },
      "execution_count": null,
      "outputs": [
        {
          "output_type": "execute_result",
          "data": {
            "text/plain": [
              "'Odd'"
            ],
            "application/vnd.google.colaboratory.intrinsic+json": {
              "type": "string"
            }
          },
          "metadata": {},
          "execution_count": 17
        }
      ]
    },
    {
      "cell_type": "code",
      "source": [
        "x(2)"
      ],
      "metadata": {
        "colab": {
          "base_uri": "https://localhost:8080/",
          "height": 35
        },
        "id": "nnEaQsYxyStK",
        "outputId": "86f3aebc-ce1d-4e6c-beed-ce970c19000c"
      },
      "execution_count": null,
      "outputs": [
        {
          "output_type": "execute_result",
          "data": {
            "text/plain": [
              "'Even'"
            ],
            "application/vnd.google.colaboratory.intrinsic+json": {
              "type": "string"
            }
          },
          "metadata": {},
          "execution_count": 19
        }
      ]
    },
    {
      "cell_type": "code",
      "source": [
        "# HOF"
      ],
      "metadata": {
        "id": "tQ23gTVAyY4U"
      },
      "execution_count": null,
      "outputs": []
    },
    {
      "cell_type": "code",
      "source": [
        "L = [11, 14, 27, 21, 23, 56, 78, 39, 45, 29, 28, 30]\n",
        "\n",
        "# Even Sum\n",
        "# Odd Sum\n",
        "# Div3 Sum\n",
        "\n",
        "def return_sum(L):\n",
        "  even_sum = 0\n",
        "  odd_sum = 0\n",
        "  div3_sum = 0\n",
        "  for i in L:\n",
        "    if i%2 == 0:\n",
        "      even_sum = even_sum + i\n",
        "  for i in L:\n",
        "    if i%2 != 0:\n",
        "      odd_sum = odd_sum + i\n",
        "  for i in L:\n",
        "    if i%3 == 0:\n",
        "      div3_sum = div3_sum + i\n",
        "  return(even_sum, odd_sum, div3_sum)\n",
        "print(return_sum(L))"
      ],
      "metadata": {
        "colab": {
          "base_uri": "https://localhost:8080/",
          "height": 106
        },
        "id": "JEbNOTrLydKk",
        "outputId": "af927248-fd0b-481d-9e54-2fa73784788f"
      },
      "execution_count": null,
      "outputs": [
        {
          "output_type": "error",
          "ename": "SyntaxError",
          "evalue": "incomplete input (ipython-input-21-282696812.py, line 11)",
          "traceback": [
            "\u001b[0;36m  File \u001b[0;32m\"/tmp/ipython-input-21-282696812.py\"\u001b[0;36m, line \u001b[0;32m11\u001b[0m\n\u001b[0;31m    for i in L:\u001b[0m\n\u001b[0m               ^\u001b[0m\n\u001b[0;31mSyntaxError\u001b[0m\u001b[0;31m:\u001b[0m incomplete input\n"
          ]
        }
      ]
    },
    {
      "cell_type": "code",
      "source": [
        "L = [11, 14, 27, 21, 23, 56, 78, 39, 45, 29, 28, 30]\n",
        "def return_sum(func, L):\n",
        "  result = 0\n",
        "  for i in L:\n",
        "    if func(i):\n",
        "      result = result + i\n",
        "  return result\n",
        "x = lambda x: x%2 == 0 # Even Sum\n",
        "y = lambda x: x%2 !=0 # Odd Sum\n",
        "z = lambda x: x%3 == 0 # Div3 Sum\n",
        "print(return_sum(x, L))\n",
        "print(return_sum(y, L))\n",
        "print(return_sum(z, L))"
      ],
      "metadata": {
        "id": "mfS4E_8yy3oM"
      },
      "execution_count": null,
      "outputs": []
    },
    {
      "cell_type": "code",
      "source": [
        "# Higher Order Functions (HOF) accepts input + defination operation of function"
      ],
      "metadata": {
        "id": "V_WS_bps2E2a"
      },
      "execution_count": null,
      "outputs": []
    },
    {
      "cell_type": "code",
      "source": [
        "# Higher-Order Functions"
      ],
      "metadata": {
        "id": "BoE5bD2Y2Pnx"
      },
      "execution_count": null,
      "outputs": []
    },
    {
      "cell_type": "code",
      "source": [
        "# 1. Map\n",
        "# 2. Filter\n",
        "# 3. Reduce"
      ],
      "metadata": {
        "id": "0yPknfCY2Trd"
      },
      "execution_count": null,
      "outputs": []
    },
    {
      "cell_type": "code",
      "source": [
        "# 1. Map\n",
        "  # Applies a function to each item in iterable\n",
        "  # Syntax:\n",
        "# map(function, iterable)\n",
        "# Return an Iterator of Result\n"
      ],
      "metadata": {
        "id": "N6fGbhIp2Zrr"
      },
      "execution_count": null,
      "outputs": []
    },
    {
      "cell_type": "code",
      "source": [
        "L = [1, 2, 3, 4, 5, 6, 7]\n",
        "L"
      ],
      "metadata": {
        "id": "6756avjL2wp1"
      },
      "execution_count": null,
      "outputs": []
    },
    {
      "cell_type": "code",
      "source": [
        "map(lambda x: x * 2, L)"
      ],
      "metadata": {
        "id": "ETvNR5v32z2v"
      },
      "execution_count": null,
      "outputs": []
    },
    {
      "cell_type": "code",
      "source": [
        "list(map(lambda x: x * 2, L))"
      ],
      "metadata": {
        "id": "xc5GAt1w266v"
      },
      "execution_count": null,
      "outputs": []
    },
    {
      "cell_type": "code",
      "source": [
        "list(map(lambda x : x % == 0, L))"
      ],
      "metadata": {
        "id": "fZRlR4Na3iAw"
      },
      "execution_count": null,
      "outputs": []
    },
    {
      "cell_type": "code",
      "source": [
        "students = [\n",
        "    {\n",
        "        \"name\" : \"Jacob Martin\",\n",
        "        \"Father name\" : \"Ros Martin\",\n",
        "        \"Address\" : \"123 Hills Street\",\n",
        "    },{\n",
        "        \"name\" : \"Angela Stevens\",\n",
        "        \"Father name\" : \"Robert Stevens\",\n",
        "        \"Address\" : \"3 Upper Street London\",\n",
        "    },{\n",
        "        \"name\" : \"Ricky Smart\",\n",
        "        \"Father name\" : \"William Smart\",\n",
        "        \"Address\" : \"Unknown\",\n",
        "    }\n",
        "\n",
        "]\n",
        "list(map(lambda student : student[\"name\"], students))"
      ],
      "metadata": {
        "id": "Onb4BX0S3ma1"
      },
      "execution_count": null,
      "outputs": []
    },
    {
      "cell_type": "code",
      "source": [
        "# 2. Filter\n",
        "# Applies a function to sequence\n",
        "# Syntax:\n",
        "# Filter(function, sequence)\n",
        "# Return elements where function in True."
      ],
      "metadata": {
        "id": "z_sPdTul3yY2"
      },
      "execution_count": null,
      "outputs": []
    },
    {
      "cell_type": "code",
      "source": [
        "L"
      ],
      "metadata": {
        "id": "iHe3cynk3_Ut"
      },
      "execution_count": null,
      "outputs": []
    },
    {
      "cell_type": "code",
      "source": [
        "n = 0\n",
        "for i in range(0, 7):\n",
        "    n = n + 2\n",
        "    print(n)"
      ],
      "metadata": {
        "id": "AEt8HG_d3_0I",
        "colab": {
          "base_uri": "https://localhost:8080/"
        },
        "outputId": "c8d8e820-284b-4f4b-cdfe-504ff9fce5b2"
      },
      "execution_count": null,
      "outputs": [
        {
          "output_type": "stream",
          "name": "stdout",
          "text": [
            "2\n",
            "4\n",
            "6\n",
            "8\n",
            "10\n",
            "12\n",
            "14\n"
          ]
        }
      ]
    },
    {
      "cell_type": "code",
      "source": [
        "n = 500\n",
        "for i in range(0, 10):\n",
        "  n = n - 50\n",
        "  print(n)"
      ],
      "metadata": {
        "colab": {
          "base_uri": "https://localhost:8080/"
        },
        "id": "J9To30dNgY-W",
        "outputId": "aea46d54-4879-47b9-9595-b6abab5ca00a"
      },
      "execution_count": null,
      "outputs": [
        {
          "output_type": "stream",
          "name": "stdout",
          "text": [
            "450\n",
            "400\n",
            "350\n",
            "300\n",
            "250\n",
            "200\n",
            "150\n",
            "100\n",
            "50\n",
            "0\n"
          ]
        }
      ]
    },
    {
      "cell_type": "code",
      "source": [
        "n = 625\n",
        "for i in range(4):\n",
        "  print(n)\n",
        "  n = n // 5"
      ],
      "metadata": {
        "colab": {
          "base_uri": "https://localhost:8080/"
        },
        "id": "Fxelw7rvgnZL",
        "outputId": "47509f87-68f3-4f39-a614-3992d1d48fdb"
      },
      "execution_count": null,
      "outputs": [
        {
          "output_type": "stream",
          "name": "stdout",
          "text": [
            "625\n",
            "125\n",
            "25\n",
            "5\n"
          ]
        }
      ]
    },
    {
      "cell_type": "code",
      "source": [
        "#OOP Prepration"
      ],
      "metadata": {
        "id": "u4xVp8I4k_O4"
      },
      "execution_count": 1,
      "outputs": []
    },
    {
      "cell_type": "code",
      "source": [
        "# from collections.abc import ValuesView\n",
        "# # Python ma class ka structure\n",
        "\n",
        "# class calssName:\n",
        "#   def __init__(self, arguments):\n",
        "#     self.attributes = Values\n",
        "\n",
        "\n",
        "#   def methodName(self):\n",
        "#     # Code"
      ],
      "metadata": {
        "id": "Cm26O1xeWI8f"
      },
      "execution_count": 2,
      "outputs": []
    },
    {
      "cell_type": "code",
      "source": [
        "# __init__ Method:\n",
        "# Jab bi koi nayaa object bantaa ha, yha method automatically call hota haa\n",
        "# is ko he constructor khata haa\n"
      ],
      "metadata": {
        "id": "c7hN_lsebMKi"
      },
      "execution_count": 4,
      "outputs": []
    },
    {
      "cell_type": "code",
      "source": [
        "# self\n",
        "# self matlab yha current object\n",
        "# yha automatically python data ha tkaa har object ka apna data hoo\n",
        "\n"
      ],
      "metadata": {
        "id": "X_NC-y6kbX3a"
      },
      "execution_count": 5,
      "outputs": []
    },
    {
      "cell_type": "code",
      "source": [
        "# Simple Example\n",
        "class Students:\n",
        "  def __init__(self, name, age):\n",
        "    self.name = name\n",
        "    self.age = age\n",
        "\n",
        "  def show_info(self):\n",
        "    print(f\"{self.name} {self.age} year ka ha\")\n",
        "\n",
        "s1 = Students(\"Ali\", 24)\n",
        "s1.show_info()"
      ],
      "metadata": {
        "colab": {
          "base_uri": "https://localhost:8080/"
        },
        "id": "Li4PaXLwetxU",
        "outputId": "eee1be6b-cebb-4cd1-aeab-552307d5edaf"
      },
      "execution_count": 8,
      "outputs": [
        {
          "output_type": "stream",
          "name": "stdout",
          "text": [
            "Ali 24 year ka ha\n"
          ]
        }
      ]
    },
    {
      "cell_type": "code",
      "source": [
        "class Sum:\n",
        "  def __init__(self, x, y):\n",
        "    self.x = x\n",
        "    self.y = y\n",
        "\n",
        "  def addition(self):\n",
        "    print(self.x + self.y)\n",
        "\n",
        "  def subtract(self):\n",
        "    print(self.x - self.y)\n",
        "\n",
        "add = Sum(2, 3)\n",
        "add.addition()\n",
        "\n",
        "sub = Sum(2, 3)\n",
        "sub.subtract()\n"
      ],
      "metadata": {
        "colab": {
          "base_uri": "https://localhost:8080/"
        },
        "id": "SF-UUuJufcld",
        "outputId": "654a7a2a-c6cb-434a-8c5e-013e79a3c6bf"
      },
      "execution_count": 24,
      "outputs": [
        {
          "output_type": "stream",
          "name": "stdout",
          "text": [
            "5\n",
            "-1\n"
          ]
        }
      ]
    },
    {
      "cell_type": "code",
      "source": [
        "# 1 or program\n",
        "class Calculator:\n",
        "  def __init__(self, num):\n",
        "    self.number = num\n",
        "\n",
        "  def square(self):\n",
        "\n",
        "    return self.number ** 2\n",
        "\n",
        "  def cube(self):\n",
        "\n",
        "    return self.number ** 3\n",
        "\n",
        "cal = Calculator(4)\n",
        "print(\"Square is:\",cal.square())\n",
        "print(\"Cube is:\", cal.cube())"
      ],
      "metadata": {
        "colab": {
          "base_uri": "https://localhost:8080/"
        },
        "id": "wJcDKXUIhJvb",
        "outputId": "c7d94acf-d6c4-4d65-add4-a15fd4e91a99"
      },
      "execution_count": 28,
      "outputs": [
        {
          "output_type": "stream",
          "name": "stdout",
          "text": [
            "Square is: 16\n",
            "Cube is: 64\n"
          ]
        }
      ]
    },
    {
      "cell_type": "code",
      "source": [],
      "metadata": {
        "id": "MODvJAvDk7Ev"
      },
      "execution_count": null,
      "outputs": []
    }
  ],
  "metadata": {
    "colab": {
      "provenance": [],
      "authorship_tag": "ABX9TyOZZaobvCAYFG8CG56hj7a7",
      "include_colab_link": true
    },
    "kernelspec": {
      "display_name": "Python 3",
      "name": "python3"
    },
    "language_info": {
      "name": "python"
    }
  },
  "nbformat": 4,
  "nbformat_minor": 0
}