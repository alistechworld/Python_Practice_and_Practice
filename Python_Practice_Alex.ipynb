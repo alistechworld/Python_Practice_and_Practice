{
  "nbformat": 4,
  "nbformat_minor": 0,
  "metadata": {
    "colab": {
      "provenance": [],
      "authorship_tag": "ABX9TyMUjzXYgkR8J0p49+KhiPv1",
      "include_colab_link": true
    },
    "kernelspec": {
      "name": "python3",
      "display_name": "Python 3"
    },
    "language_info": {
      "name": "python"
    }
  },
  "cells": [
    {
      "cell_type": "markdown",
      "metadata": {
        "id": "view-in-github",
        "colab_type": "text"
      },
      "source": [
        "<a href=\"https://colab.research.google.com/github/alistechworld/Python_Practice_and_Practice/blob/main/Python_Practice_Alex.ipynb\" target=\"_parent\"><img src=\"https://colab.research.google.com/assets/colab-badge.svg\" alt=\"Open In Colab\"/></a>"
      ]
    },
    {
      "cell_type": "code",
      "execution_count": null,
      "metadata": {
        "id": "ajqrp8icBvBz"
      },
      "outputs": [],
      "source": []
    },
    {
      "cell_type": "markdown",
      "source": [
        "# Variables in Python"
      ],
      "metadata": {
        "id": "QnsK5TuWB3M5"
      }
    },
    {
      "cell_type": "code",
      "source": [
        "x = 22\n",
        "print(x)"
      ],
      "metadata": {
        "colab": {
          "base_uri": "https://localhost:8080/"
        },
        "id": "v3PWkNLWB8rx",
        "outputId": "fc797349-0f90-4c61-8378-152535ba1d0c"
      },
      "execution_count": 1,
      "outputs": [
        {
          "output_type": "stream",
          "name": "stdout",
          "text": [
            "22\n"
          ]
        }
      ]
    },
    {
      "cell_type": "code",
      "source": [
        "type(x)"
      ],
      "metadata": {
        "colab": {
          "base_uri": "https://localhost:8080/"
        },
        "id": "k4Xd7VVJB_ox",
        "outputId": "c3ae822d-f01f-42b0-ce25-c609243a8147"
      },
      "execution_count": 2,
      "outputs": [
        {
          "output_type": "execute_result",
          "data": {
            "text/plain": [
              "int"
            ]
          },
          "metadata": {},
          "execution_count": 2
        }
      ]
    },
    {
      "cell_type": "code",
      "source": [
        "y = 'Mint Chocolate Chip'\n",
        "print(y)"
      ],
      "metadata": {
        "colab": {
          "base_uri": "https://localhost:8080/"
        },
        "id": "t_gEIgbdCFkD",
        "outputId": "b0f73c55-f525-4165-97b9-0d6074f9d1c5"
      },
      "execution_count": 3,
      "outputs": [
        {
          "output_type": "stream",
          "name": "stdout",
          "text": [
            "Mint Chocolate Chip\n"
          ]
        }
      ]
    },
    {
      "cell_type": "code",
      "source": [
        "type(y)"
      ],
      "metadata": {
        "colab": {
          "base_uri": "https://localhost:8080/"
        },
        "id": "pugOpVzACLmH",
        "outputId": "e94dc031-20fc-4ab8-b309-f8e7333f9e67"
      },
      "execution_count": 4,
      "outputs": [
        {
          "output_type": "execute_result",
          "data": {
            "text/plain": [
              "str"
            ]
          },
          "metadata": {},
          "execution_count": 4
        }
      ]
    },
    {
      "cell_type": "code",
      "source": [
        "# Case Sensitivity\n",
        "y = 'Chocolate'\n",
        "\n",
        "Y = 'Mint Chocolate Chip'\n",
        "\n",
        "print(y)"
      ],
      "metadata": {
        "colab": {
          "base_uri": "https://localhost:8080/"
        },
        "id": "Rzp3SwcaCOuV",
        "outputId": "bc622276-357c-4737-ad2a-0de3b1867f3a"
      },
      "execution_count": 6,
      "outputs": [
        {
          "output_type": "stream",
          "name": "stdout",
          "text": [
            "Chocolate\n"
          ]
        }
      ]
    },
    {
      "cell_type": "code",
      "source": [
        "# Assign multiple values to multiple variables\n",
        "x,y,z = 'Chocolate', 'Vanilla', 'Rocky Road'\n",
        "\n",
        "print(x)\n",
        "print(y)\n",
        "print(z)"
      ],
      "metadata": {
        "colab": {
          "base_uri": "https://localhost:8080/"
        },
        "id": "PxHUMgkuCcFt",
        "outputId": "275356aa-b022-4632-b31a-dd0c8651b19a"
      },
      "execution_count": 7,
      "outputs": [
        {
          "output_type": "stream",
          "name": "stdout",
          "text": [
            "Chocolate\n",
            "Vanilla\n",
            "Rocky Road\n"
          ]
        }
      ]
    },
    {
      "cell_type": "code",
      "source": [
        "# Assign one value to multiple variables\n",
        "x = y = z = 'Root Beer Float'\n",
        "\n",
        "print(x)\n",
        "print(y)\n",
        "print(z)"
      ],
      "metadata": {
        "colab": {
          "base_uri": "https://localhost:8080/"
        },
        "id": "vJIjZ4zECuDF",
        "outputId": "8f2e4471-be0d-468a-aea8-2400c7783b82"
      },
      "execution_count": 8,
      "outputs": [
        {
          "output_type": "stream",
          "name": "stdout",
          "text": [
            "Root Beer Float\n",
            "Root Beer Float\n",
            "Root Beer Float\n"
          ]
        }
      ]
    },
    {
      "cell_type": "code",
      "source": [
        "ice_cream = ['Chocolate', 'Vanilla', 'Rocky Road']\n",
        "x,y,z = ice_cream\n",
        "\n",
        "print(x)\n",
        "print(y)\n",
        "print(z)"
      ],
      "metadata": {
        "colab": {
          "base_uri": "https://localhost:8080/"
        },
        "id": "No4Zt6MyDFqX",
        "outputId": "ad9e42fa-367e-4888-a7bd-669d41f4f7ec"
      },
      "execution_count": 9,
      "outputs": [
        {
          "output_type": "stream",
          "name": "stdout",
          "text": [
            "Chocolate\n",
            "Vanilla\n",
            "Rocky Road\n"
          ]
        }
      ]
    },
    {
      "cell_type": "code",
      "source": [
        "# Pascal Case\n",
        "\n",
        "# Test Variable Case\n",
        "\n",
        "TestVariableCase = 'Vanilla Swirl'\n"
      ],
      "metadata": {
        "id": "JTgWmEr6DY7m"
      },
      "execution_count": 10,
      "outputs": []
    },
    {
      "cell_type": "code",
      "source": [
        "# Snake Case\n",
        "\n",
        "# Test Variable Case\n",
        "\n",
        "test_variable_case = 'Vanilla Swirl'\n"
      ],
      "metadata": {
        "id": "XFA9hvXQDnnM"
      },
      "execution_count": 11,
      "outputs": []
    },
    {
      "cell_type": "code",
      "source": [
        "# Good Ways to write variables\n",
        "testvar = 'Vanilla Swirl'\n",
        "test_var = 'Vanilla Swirl'\n",
        "_test_var = 'Vanilla Swirl'\n",
        "testVar = 'Vanilla Swirl'\n",
        "TestVar = 'Vanilla'\n",
        "testVar2 = 'Vanilla Swirl'\n"
      ],
      "metadata": {
        "id": "erb2fTO4D2v4"
      },
      "execution_count": 12,
      "outputs": []
    },
    {
      "cell_type": "code",
      "source": [
        "# # Bad Ways to write variables\n",
        "# 2testVar = 'Vanilla Swirl'\n",
        "# test-Var2 = 'Vanilla Swirl'\n",
        "# test Var2 = 'Vanilla Swirl'\n",
        "# test, Var2 = 'Vanilla Swirl'"
      ],
      "metadata": {
        "id": "8vti26dxFVzl"
      },
      "execution_count": 14,
      "outputs": []
    },
    {
      "cell_type": "code",
      "source": [
        "# x = 'Ice Cream is my favourit ' + 2\n",
        "# print(x)"
      ],
      "metadata": {
        "id": "ALs7-WwmFnuz"
      },
      "execution_count": 16,
      "outputs": []
    },
    {
      "cell_type": "code",
      "source": [
        "y = 3 + 2\n",
        "\n",
        "print(y)\n"
      ],
      "metadata": {
        "colab": {
          "base_uri": "https://localhost:8080/"
        },
        "id": "A6E8IkpZFyMM",
        "outputId": "a63e2825-29e9-416a-f109-fe4590ae00e1"
      },
      "execution_count": 17,
      "outputs": [
        {
          "output_type": "stream",
          "name": "stdout",
          "text": [
            "5\n"
          ]
        }
      ]
    },
    {
      "cell_type": "code",
      "source": [
        "x = 'Ice Cream'\n",
        "y = 'is'\n",
        "z = 'my favourite.'\n",
        "\n",
        "print(x+y+z)"
      ],
      "metadata": {
        "colab": {
          "base_uri": "https://localhost:8080/"
        },
        "id": "MWZIjzawF42v",
        "outputId": "c9fd6a98-cfab-4f18-b91c-3451e561d853"
      },
      "execution_count": 18,
      "outputs": [
        {
          "output_type": "stream",
          "name": "stdout",
          "text": [
            "Ice Creamismy favourite.\n"
          ]
        }
      ]
    },
    {
      "cell_type": "code",
      "source": [
        "x = 1\n",
        "y = 2\n",
        "z = 3\n",
        "print(x+y+z)"
      ],
      "metadata": {
        "colab": {
          "base_uri": "https://localhost:8080/"
        },
        "id": "9syHn7N7GDLl",
        "outputId": "5614b1a0-d025-444b-bf37-cbb4f809cc18"
      },
      "execution_count": 21,
      "outputs": [
        {
          "output_type": "stream",
          "name": "stdout",
          "text": [
            "6\n"
          ]
        }
      ]
    },
    {
      "cell_type": "code",
      "source": [
        "x = 'Ice Cream'\n",
        "y = 2\n",
        "print(x, y)"
      ],
      "metadata": {
        "colab": {
          "base_uri": "https://localhost:8080/"
        },
        "id": "zpZOplOFGH-m",
        "outputId": "d0f82c66-5c60-41fa-c68c-00964e12533c"
      },
      "execution_count": 22,
      "outputs": [
        {
          "output_type": "stream",
          "name": "stdout",
          "text": [
            "Ice Cream 2\n"
          ]
        }
      ]
    },
    {
      "cell_type": "code",
      "source": [],
      "metadata": {
        "id": "ivPM2DWTGRGi"
      },
      "execution_count": null,
      "outputs": []
    }
  ]
}