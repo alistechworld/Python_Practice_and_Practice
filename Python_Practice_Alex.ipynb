{
  "nbformat": 4,
  "nbformat_minor": 0,
  "metadata": {
    "colab": {
      "provenance": [],
      "authorship_tag": "ABX9TyNwtX4ipPYB/ZXQRo4iVThz",
      "include_colab_link": true
    },
    "kernelspec": {
      "name": "python3",
      "display_name": "Python 3"
    },
    "language_info": {
      "name": "python"
    }
  },
  "cells": [
    {
      "cell_type": "markdown",
      "metadata": {
        "id": "view-in-github",
        "colab_type": "text"
      },
      "source": [
        "<a href=\"https://colab.research.google.com/github/alistechworld/Python_Practice_and_Practice/blob/main/Python_Practice_Alex.ipynb\" target=\"_parent\"><img src=\"https://colab.research.google.com/assets/colab-badge.svg\" alt=\"Open In Colab\"/></a>"
      ]
    },
    {
      "cell_type": "code",
      "execution_count": 45,
      "metadata": {
        "id": "ajqrp8icBvBz"
      },
      "outputs": [],
      "source": []
    },
    {
      "cell_type": "markdown",
      "source": [
        "# Variables in Python"
      ],
      "metadata": {
        "id": "QnsK5TuWB3M5"
      }
    },
    {
      "cell_type": "code",
      "source": [
        "x = 22\n",
        "print(x)"
      ],
      "metadata": {
        "colab": {
          "base_uri": "https://localhost:8080/"
        },
        "id": "v3PWkNLWB8rx",
        "outputId": "332e084d-3464-4c4e-f7d2-4fbc50656918"
      },
      "execution_count": 46,
      "outputs": [
        {
          "output_type": "stream",
          "name": "stdout",
          "text": [
            "22\n"
          ]
        }
      ]
    },
    {
      "cell_type": "code",
      "source": [
        "type(x)"
      ],
      "metadata": {
        "colab": {
          "base_uri": "https://localhost:8080/"
        },
        "id": "k4Xd7VVJB_ox",
        "outputId": "f612b95c-b8b4-4709-a5fb-945afdaa4585"
      },
      "execution_count": 47,
      "outputs": [
        {
          "output_type": "execute_result",
          "data": {
            "text/plain": [
              "int"
            ]
          },
          "metadata": {},
          "execution_count": 47
        }
      ]
    },
    {
      "cell_type": "code",
      "source": [
        "y = 'Mint Chocolate Chip'\n",
        "print(y)"
      ],
      "metadata": {
        "colab": {
          "base_uri": "https://localhost:8080/"
        },
        "id": "t_gEIgbdCFkD",
        "outputId": "8f7872d4-2896-44ad-c315-56b1bee21808"
      },
      "execution_count": 48,
      "outputs": [
        {
          "output_type": "stream",
          "name": "stdout",
          "text": [
            "Mint Chocolate Chip\n"
          ]
        }
      ]
    },
    {
      "cell_type": "code",
      "source": [
        "type(y)"
      ],
      "metadata": {
        "colab": {
          "base_uri": "https://localhost:8080/"
        },
        "id": "pugOpVzACLmH",
        "outputId": "117a67eb-8e38-4e1a-c2a5-2f281061eab0"
      },
      "execution_count": 49,
      "outputs": [
        {
          "output_type": "execute_result",
          "data": {
            "text/plain": [
              "str"
            ]
          },
          "metadata": {},
          "execution_count": 49
        }
      ]
    },
    {
      "cell_type": "code",
      "source": [
        "# Case Sensitivity\n",
        "y = 'Chocolate'\n",
        "\n",
        "Y = 'Mint Chocolate Chip'\n",
        "\n",
        "print(y)"
      ],
      "metadata": {
        "colab": {
          "base_uri": "https://localhost:8080/"
        },
        "id": "Rzp3SwcaCOuV",
        "outputId": "a7fa971a-4e58-4bca-e88f-d23f12a3a137"
      },
      "execution_count": 50,
      "outputs": [
        {
          "output_type": "stream",
          "name": "stdout",
          "text": [
            "Chocolate\n"
          ]
        }
      ]
    },
    {
      "cell_type": "code",
      "source": [
        "# Assign multiple values to multiple variables\n",
        "x,y,z = 'Chocolate', 'Vanilla', 'Rocky Road'\n",
        "\n",
        "print(x)\n",
        "print(y)\n",
        "print(z)"
      ],
      "metadata": {
        "colab": {
          "base_uri": "https://localhost:8080/"
        },
        "id": "PxHUMgkuCcFt",
        "outputId": "3256cc68-28d7-4c1c-ff4b-6ffedf4e8f72"
      },
      "execution_count": 51,
      "outputs": [
        {
          "output_type": "stream",
          "name": "stdout",
          "text": [
            "Chocolate\n",
            "Vanilla\n",
            "Rocky Road\n"
          ]
        }
      ]
    },
    {
      "cell_type": "code",
      "source": [
        "# Assign one value to multiple variables\n",
        "x = y = z = 'Root Beer Float'\n",
        "\n",
        "print(x)\n",
        "print(y)\n",
        "print(z)"
      ],
      "metadata": {
        "colab": {
          "base_uri": "https://localhost:8080/"
        },
        "id": "vJIjZ4zECuDF",
        "outputId": "afb5c90a-bf51-4081-e046-b1524426df1c"
      },
      "execution_count": 52,
      "outputs": [
        {
          "output_type": "stream",
          "name": "stdout",
          "text": [
            "Root Beer Float\n",
            "Root Beer Float\n",
            "Root Beer Float\n"
          ]
        }
      ]
    },
    {
      "cell_type": "code",
      "source": [
        "ice_cream = ['Chocolate', 'Vanilla', 'Rocky Road']\n",
        "x,y,z = ice_cream\n",
        "\n",
        "print(x)\n",
        "print(y)\n",
        "print(z)"
      ],
      "metadata": {
        "colab": {
          "base_uri": "https://localhost:8080/"
        },
        "id": "No4Zt6MyDFqX",
        "outputId": "5287fa8f-2e98-4b13-8d21-6177e17eb676"
      },
      "execution_count": 53,
      "outputs": [
        {
          "output_type": "stream",
          "name": "stdout",
          "text": [
            "Chocolate\n",
            "Vanilla\n",
            "Rocky Road\n"
          ]
        }
      ]
    },
    {
      "cell_type": "code",
      "source": [
        "# Pascal Case\n",
        "\n",
        "# Test Variable Case\n",
        "\n",
        "TestVariableCase = 'Vanilla Swirl'\n"
      ],
      "metadata": {
        "id": "JTgWmEr6DY7m"
      },
      "execution_count": 54,
      "outputs": []
    },
    {
      "cell_type": "code",
      "source": [
        "# Snake Case\n",
        "\n",
        "# Test Variable Case\n",
        "\n",
        "test_variable_case = 'Vanilla Swirl'\n"
      ],
      "metadata": {
        "id": "XFA9hvXQDnnM"
      },
      "execution_count": 55,
      "outputs": []
    },
    {
      "cell_type": "code",
      "source": [
        "# Good Ways to write variables\n",
        "testvar = 'Vanilla Swirl'\n",
        "test_var = 'Vanilla Swirl'\n",
        "_test_var = 'Vanilla Swirl'\n",
        "testVar = 'Vanilla Swirl'\n",
        "TestVar = 'Vanilla'\n",
        "testVar2 = 'Vanilla Swirl'\n"
      ],
      "metadata": {
        "id": "erb2fTO4D2v4"
      },
      "execution_count": 56,
      "outputs": []
    },
    {
      "cell_type": "code",
      "source": [
        "# # Bad Ways to write variables\n",
        "# 2testVar = 'Vanilla Swirl'\n",
        "# test-Var2 = 'Vanilla Swirl'\n",
        "# test Var2 = 'Vanilla Swirl'\n",
        "# test, Var2 = 'Vanilla Swirl'"
      ],
      "metadata": {
        "id": "8vti26dxFVzl"
      },
      "execution_count": 57,
      "outputs": []
    },
    {
      "cell_type": "code",
      "source": [
        "# x = 'Ice Cream is my favourit ' + 2\n",
        "# print(x)"
      ],
      "metadata": {
        "id": "ALs7-WwmFnuz"
      },
      "execution_count": 58,
      "outputs": []
    },
    {
      "cell_type": "code",
      "source": [
        "y = 3 + 2\n",
        "\n",
        "print(y)\n"
      ],
      "metadata": {
        "colab": {
          "base_uri": "https://localhost:8080/"
        },
        "id": "A6E8IkpZFyMM",
        "outputId": "3c1ad75a-9549-4708-bc7d-e2fc27fec9e0"
      },
      "execution_count": 59,
      "outputs": [
        {
          "output_type": "stream",
          "name": "stdout",
          "text": [
            "5\n"
          ]
        }
      ]
    },
    {
      "cell_type": "code",
      "source": [
        "x = 'Ice Cream'\n",
        "y = 'is'\n",
        "z = 'my favourite.'\n",
        "\n",
        "print(x+y+z)"
      ],
      "metadata": {
        "colab": {
          "base_uri": "https://localhost:8080/"
        },
        "id": "MWZIjzawF42v",
        "outputId": "4c45ac08-f3c7-46dc-d99b-a411eef1742d"
      },
      "execution_count": 60,
      "outputs": [
        {
          "output_type": "stream",
          "name": "stdout",
          "text": [
            "Ice Creamismy favourite.\n"
          ]
        }
      ]
    },
    {
      "cell_type": "code",
      "source": [
        "x = 1\n",
        "y = 2\n",
        "z = 3\n",
        "print(x+y+z)"
      ],
      "metadata": {
        "colab": {
          "base_uri": "https://localhost:8080/"
        },
        "id": "9syHn7N7GDLl",
        "outputId": "11997764-2e00-44c1-fb0a-e1a1b16ed68b"
      },
      "execution_count": 61,
      "outputs": [
        {
          "output_type": "stream",
          "name": "stdout",
          "text": [
            "6\n"
          ]
        }
      ]
    },
    {
      "cell_type": "code",
      "source": [
        "x = 'Ice Cream'\n",
        "y = 2\n",
        "print(x, y)"
      ],
      "metadata": {
        "colab": {
          "base_uri": "https://localhost:8080/"
        },
        "id": "zpZOplOFGH-m",
        "outputId": "6c07a2c6-ac41-4791-fca4-7a4feadcbdf2"
      },
      "execution_count": 62,
      "outputs": [
        {
          "output_type": "stream",
          "name": "stdout",
          "text": [
            "Ice Cream 2\n"
          ]
        }
      ]
    },
    {
      "cell_type": "code",
      "source": [
        "# Python is Case-Sensitive\n",
        "\n",
        "print(\"Hello World\")"
      ],
      "metadata": {
        "id": "ivPM2DWTGRGi",
        "colab": {
          "base_uri": "https://localhost:8080/"
        },
        "outputId": "649ca80e-e54f-441d-cb53-6eca9f4c3716"
      },
      "execution_count": 63,
      "outputs": [
        {
          "output_type": "stream",
          "name": "stdout",
          "text": [
            "Hello World\n"
          ]
        }
      ]
    },
    {
      "cell_type": "code",
      "source": [
        "print(6)"
      ],
      "metadata": {
        "colab": {
          "base_uri": "https://localhost:8080/"
        },
        "id": "XV-Yi3t2oPd2",
        "outputId": "6fcf28b1-945f-416d-94f1-0d3811135743"
      },
      "execution_count": 64,
      "outputs": [
        {
          "output_type": "stream",
          "name": "stdout",
          "text": [
            "6\n"
          ]
        }
      ]
    },
    {
      "cell_type": "code",
      "source": [
        "print(5.6)"
      ],
      "metadata": {
        "colab": {
          "base_uri": "https://localhost:8080/"
        },
        "id": "0HnvxoOuoTvj",
        "outputId": "040e70cf-0fcb-4dbd-8190-95d5a6400f4c"
      },
      "execution_count": 65,
      "outputs": [
        {
          "output_type": "stream",
          "name": "stdout",
          "text": [
            "5.6\n"
          ]
        }
      ]
    },
    {
      "cell_type": "code",
      "source": [
        "print(False)"
      ],
      "metadata": {
        "colab": {
          "base_uri": "https://localhost:8080/"
        },
        "id": "wkt8LaZNoWEE",
        "outputId": "94d5e1d7-88b6-4c8f-a801-beb82ed61a61"
      },
      "execution_count": 66,
      "outputs": [
        {
          "output_type": "stream",
          "name": "stdout",
          "text": [
            "False\n"
          ]
        }
      ]
    },
    {
      "cell_type": "code",
      "source": [
        "print(\"India\", \"Pakistan\", \"Nepal\", \"Srilanka\")"
      ],
      "metadata": {
        "colab": {
          "base_uri": "https://localhost:8080/"
        },
        "id": "DlBYUQHRoYPq",
        "outputId": "09f294b9-1313-400b-8de2-397c554e9a00"
      },
      "execution_count": 67,
      "outputs": [
        {
          "output_type": "stream",
          "name": "stdout",
          "text": [
            "India Pakistan Nepal Srilanka\n"
          ]
        }
      ]
    },
    {
      "cell_type": "code",
      "source": [
        "print(\"Pakistan\", 5, True)"
      ],
      "metadata": {
        "colab": {
          "base_uri": "https://localhost:8080/"
        },
        "id": "BagCW9aYof7n",
        "outputId": "0b751617-7309-485a-8207-3724ce8c4ce8"
      },
      "execution_count": 68,
      "outputs": [
        {
          "output_type": "stream",
          "name": "stdout",
          "text": [
            "Pakistan 5 True\n"
          ]
        }
      ]
    },
    {
      "cell_type": "code",
      "source": [
        "print(\"India\", \"Pakistan\", \"Nepal\", \"Srilanka\", sep='/')"
      ],
      "metadata": {
        "colab": {
          "base_uri": "https://localhost:8080/"
        },
        "id": "LAUeGaM_onLC",
        "outputId": "d3c30eca-605d-46ad-a438-0f60bcad8f0b"
      },
      "execution_count": 69,
      "outputs": [
        {
          "output_type": "stream",
          "name": "stdout",
          "text": [
            "India/Pakistan/Nepal/Srilanka\n"
          ]
        }
      ]
    },
    {
      "cell_type": "code",
      "source": [
        "print(\"Pakistan\", \"India\", \"Nepal\", \"Srilanka\", sep='-')"
      ],
      "metadata": {
        "colab": {
          "base_uri": "https://localhost:8080/"
        },
        "id": "x3kZYIrio3iJ",
        "outputId": "30c98b33-0645-46be-f060-f6a5ed33d290"
      },
      "execution_count": 70,
      "outputs": [
        {
          "output_type": "stream",
          "name": "stdout",
          "text": [
            "Pakistan-India-Nepal-Srilanka\n"
          ]
        }
      ]
    },
    {
      "cell_type": "code",
      "source": [
        "print(\"Hello\")\n",
        "print(\"World\")"
      ],
      "metadata": {
        "colab": {
          "base_uri": "https://localhost:8080/"
        },
        "id": "2PDa1TnGpDyo",
        "outputId": "460f7708-38c9-4fe9-94fe-b1a900ca537a"
      },
      "execution_count": 71,
      "outputs": [
        {
          "output_type": "stream",
          "name": "stdout",
          "text": [
            "Hello\n",
            "World\n"
          ]
        }
      ]
    },
    {
      "cell_type": "code",
      "source": [
        "print(\"Hello\", end=' ')\n",
        "print(\"World\")"
      ],
      "metadata": {
        "colab": {
          "base_uri": "https://localhost:8080/"
        },
        "id": "w-RUoXF2pLhS",
        "outputId": "832abf0f-9d21-47d9-f014-bdc4815d5575"
      },
      "execution_count": 72,
      "outputs": [
        {
          "output_type": "stream",
          "name": "stdout",
          "text": [
            "Hello World\n"
          ]
        }
      ]
    },
    {
      "cell_type": "code",
      "source": [
        "# Data Types"
      ],
      "metadata": {
        "id": "tv6iqbgnpU-N"
      },
      "execution_count": 73,
      "outputs": []
    },
    {
      "cell_type": "code",
      "source": [
        "# Numbers\n",
        "print(4)\n",
        "\n",
        "# Large Numbers\n",
        "print(1e308) # 1 * 10^308\n",
        "print(1e308) # inf (exceeds float limint)"
      ],
      "metadata": {
        "colab": {
          "base_uri": "https://localhost:8080/"
        },
        "id": "5jm19yrzr2P7",
        "outputId": "3825a773-33e6-4103-eb78-9c889e1666c5"
      },
      "execution_count": 74,
      "outputs": [
        {
          "output_type": "stream",
          "name": "stdout",
          "text": [
            "4\n",
            "1e+308\n",
            "1e+308\n"
          ]
        }
      ]
    },
    {
      "cell_type": "code",
      "source": [
        "# Floting-Point Numbers\n",
        "print(4.5) # Standard\n",
        "\n",
        "# Large Floating-Point Numbers\n",
        "print(1.8e307)\n",
        "print(1.8e308)\n",
        "print(1.9e308)"
      ],
      "metadata": {
        "colab": {
          "base_uri": "https://localhost:8080/"
        },
        "id": "zCHj40AfsHqO",
        "outputId": "78b5fa89-1a23-45d8-964c-a406011fc125"
      },
      "execution_count": 75,
      "outputs": [
        {
          "output_type": "stream",
          "name": "stdout",
          "text": [
            "4.5\n",
            "1.8e+307\n",
            "inf\n",
            "inf\n"
          ]
        }
      ]
    },
    {
      "cell_type": "code",
      "source": [
        "# Boolean Values\n",
        "print(True)\n",
        "print(False)"
      ],
      "metadata": {
        "colab": {
          "base_uri": "https://localhost:8080/"
        },
        "id": "6JjiF-pusmnm",
        "outputId": "7bc9a8c3-e213-41ff-befc-9ea308fbf49e"
      },
      "execution_count": 76,
      "outputs": [
        {
          "output_type": "stream",
          "name": "stdout",
          "text": [
            "True\n",
            "False\n"
          ]
        }
      ]
    },
    {
      "cell_type": "code",
      "source": [
        "# Complex Number\n",
        "print(4 + 5j)"
      ],
      "metadata": {
        "colab": {
          "base_uri": "https://localhost:8080/"
        },
        "id": "SBMPyZB6suri",
        "outputId": "386729b1-588d-4e94-9fe9-82683e47a9d3"
      },
      "execution_count": 77,
      "outputs": [
        {
          "output_type": "stream",
          "name": "stdout",
          "text": [
            "(4+5j)\n"
          ]
        }
      ]
    },
    {
      "cell_type": "code",
      "source": [
        "# Strings with Different Quotations Styles\n",
        "print('Lahore')\n",
        "print(\"Lahore\")\n",
        "print('''Lahore''')\n",
        "print(\"\"\"Lahore\"\"\")"
      ],
      "metadata": {
        "colab": {
          "base_uri": "https://localhost:8080/"
        },
        "id": "s9mjaVHksz43",
        "outputId": "88a4c83e-9bb5-47ef-da49-7b8c02de69e7"
      },
      "execution_count": 78,
      "outputs": [
        {
          "output_type": "stream",
          "name": "stdout",
          "text": [
            "Lahore\n",
            "Lahore\n",
            "Lahore\n",
            "Lahore\n"
          ]
        }
      ]
    },
    {
      "cell_type": "code",
      "source": [
        "# List\n",
        "print([1, 2, 3, 4, 5])"
      ],
      "metadata": {
        "colab": {
          "base_uri": "https://localhost:8080/"
        },
        "id": "MmDY5rD1tMoj",
        "outputId": "2629127e-f839-46c5-deaf-892507dd1e81"
      },
      "execution_count": 79,
      "outputs": [
        {
          "output_type": "stream",
          "name": "stdout",
          "text": [
            "[1, 2, 3, 4, 5]\n"
          ]
        }
      ]
    },
    {
      "cell_type": "code",
      "source": [
        "# Tuples\n",
        "print((1, 2, 3, 4, 5))"
      ],
      "metadata": {
        "colab": {
          "base_uri": "https://localhost:8080/"
        },
        "id": "yCUyti8ntTTb",
        "outputId": "5b9e7f64-e4a2-46e1-c451-58386906f565"
      },
      "execution_count": 80,
      "outputs": [
        {
          "output_type": "stream",
          "name": "stdout",
          "text": [
            "(1, 2, 3, 4, 5)\n"
          ]
        }
      ]
    },
    {
      "cell_type": "code",
      "source": [
        "# Set\n",
        "print({1, 2, 3, 4, 5})"
      ],
      "metadata": {
        "colab": {
          "base_uri": "https://localhost:8080/"
        },
        "id": "-9S9V04UtYpN",
        "outputId": "9172500f-37c4-4c75-ffc1-2004b69fcfbb"
      },
      "execution_count": 81,
      "outputs": [
        {
          "output_type": "stream",
          "name": "stdout",
          "text": [
            "{1, 2, 3, 4, 5}\n"
          ]
        }
      ]
    },
    {
      "cell_type": "code",
      "source": [
        "# Dictionary\n",
        "print({\"Name\": \"Ali Wattoo\", \"Age\": 12, \"Gender\": \"Male\"})"
      ],
      "metadata": {
        "colab": {
          "base_uri": "https://localhost:8080/"
        },
        "id": "JlTY4w3Vtcf4",
        "outputId": "22c533d6-03cc-4827-c656-420827efc070"
      },
      "execution_count": 82,
      "outputs": [
        {
          "output_type": "stream",
          "name": "stdout",
          "text": [
            "{'Name': 'Ali Wattoo', 'Age': 12, 'Gender': 'Male'}\n"
          ]
        }
      ]
    },
    {
      "cell_type": "code",
      "source": [
        "# Comments"
      ],
      "metadata": {
        "id": "HVX6ReHhtpo4"
      },
      "execution_count": 83,
      "outputs": []
    },
    {
      "cell_type": "code",
      "source": [
        "# This is comment\n",
        "# My Name is Ali Wattoo\n",
        "# My age is 23"
      ],
      "metadata": {
        "id": "nn9s3pqTtxjn"
      },
      "execution_count": 84,
      "outputs": []
    },
    {
      "cell_type": "code",
      "source": [
        "# Variables\n"
      ],
      "metadata": {
        "id": "2CT8wjLEt2XZ"
      },
      "execution_count": 85,
      "outputs": []
    },
    {
      "cell_type": "code",
      "source": [
        "# C\n",
        "# int a = 5;"
      ],
      "metadata": {
        "id": "7xE-LnTXuIWt"
      },
      "execution_count": 86,
      "outputs": []
    },
    {
      "cell_type": "code",
      "source": [
        "name = \"Ali Wattoo\"\n",
        "print(name)"
      ],
      "metadata": {
        "colab": {
          "base_uri": "https://localhost:8080/"
        },
        "id": "tuYx8qTtuMfT",
        "outputId": "590a0349-3195-4d37-c3a3-954f4d019931"
      },
      "execution_count": 87,
      "outputs": [
        {
          "output_type": "stream",
          "name": "stdout",
          "text": [
            "Ali Wattoo\n"
          ]
        }
      ]
    },
    {
      "cell_type": "code",
      "source": [
        "name = \"Hello World\"\n",
        "print(name)"
      ],
      "metadata": {
        "colab": {
          "base_uri": "https://localhost:8080/"
        },
        "id": "-W20K_gkuQto",
        "outputId": "a6ba055d-0221-4276-fee2-272af5c6e522"
      },
      "execution_count": 88,
      "outputs": [
        {
          "output_type": "stream",
          "name": "stdout",
          "text": [
            "Hello World\n"
          ]
        }
      ]
    },
    {
      "cell_type": "code",
      "source": [
        "# Dynamic Typing (PHP)\n",
        "# $a = 5;\n",
        "\n",
        "# Static Typing (Java)\n",
        "# int a = 5;"
      ],
      "metadata": {
        "id": "s67hZgvYuYkq"
      },
      "execution_count": 89,
      "outputs": []
    },
    {
      "cell_type": "code",
      "source": [
        "print(name)"
      ],
      "metadata": {
        "colab": {
          "base_uri": "https://localhost:8080/"
        },
        "id": "Ce3ZXlaQu4t2",
        "outputId": "c3c8c71f-ff4f-42f5-c421-0883fa2b5ad1"
      },
      "execution_count": 90,
      "outputs": [
        {
          "output_type": "stream",
          "name": "stdout",
          "text": [
            "Hello World\n"
          ]
        }
      ]
    },
    {
      "cell_type": "code",
      "source": [
        "name = 4\n",
        "print(name)"
      ],
      "metadata": {
        "colab": {
          "base_uri": "https://localhost:8080/"
        },
        "id": "R79fJ-sAu6lT",
        "outputId": "72d5febb-e805-4836-c4a2-ac381d5b2c83"
      },
      "execution_count": 91,
      "outputs": [
        {
          "output_type": "stream",
          "name": "stdout",
          "text": [
            "4\n"
          ]
        }
      ]
    },
    {
      "cell_type": "code",
      "source": [
        "name = True\n",
        "print(name)"
      ],
      "metadata": {
        "colab": {
          "base_uri": "https://localhost:8080/"
        },
        "id": "ppEx_20VvBdZ",
        "outputId": "577ff1c3-ceba-41a2-e097-1236def030e6"
      },
      "execution_count": 92,
      "outputs": [
        {
          "output_type": "stream",
          "name": "stdout",
          "text": [
            "True\n"
          ]
        }
      ]
    },
    {
      "cell_type": "code",
      "source": [
        "# Dynamic Binding Example\n",
        "a = 5   # Assign integer\n",
        "print(a)\n",
        "\n",
        "a = 'ali'  # Reassign String\n",
        "print(a)"
      ],
      "metadata": {
        "colab": {
          "base_uri": "https://localhost:8080/"
        },
        "id": "m8eARTtxvFz0",
        "outputId": "bb27e96c-43b8-4f1a-cfa5-3240e024e63c"
      },
      "execution_count": 93,
      "outputs": [
        {
          "output_type": "stream",
          "name": "stdout",
          "text": [
            "5\n",
            "ali\n"
          ]
        }
      ]
    },
    {
      "cell_type": "code",
      "source": [
        "# Static Binding Example\n",
        "# int a = 5"
      ],
      "metadata": {
        "id": "iYTgmEH-vXWD"
      },
      "execution_count": 94,
      "outputs": []
    },
    {
      "cell_type": "code",
      "source": [
        "# Special Syntax\n",
        "a = 5; b = 6; c = 7\n",
        "\n",
        "print(a)\n",
        "print(b)\n",
        "print(c)"
      ],
      "metadata": {
        "colab": {
          "base_uri": "https://localhost:8080/"
        },
        "id": "k0hvaFX7veEs",
        "outputId": "473d3523-58b4-4c0a-fca4-f1038dcd3e33"
      },
      "execution_count": 95,
      "outputs": [
        {
          "output_type": "stream",
          "name": "stdout",
          "text": [
            "5\n",
            "6\n",
            "7\n"
          ]
        }
      ]
    },
    {
      "cell_type": "code",
      "source": [
        "a, b, c = 5, 6, 7\n",
        "\n",
        "print(a)\n",
        "print(b)\n",
        "print(c)"
      ],
      "metadata": {
        "colab": {
          "base_uri": "https://localhost:8080/"
        },
        "id": "roSZC7nOvnzg",
        "outputId": "e783dfab-ebd4-474d-9754-7dc129315824"
      },
      "execution_count": 96,
      "outputs": [
        {
          "output_type": "stream",
          "name": "stdout",
          "text": [
            "5\n",
            "6\n",
            "7\n"
          ]
        }
      ]
    },
    {
      "cell_type": "code",
      "source": [
        "a = b = c = 6\n",
        "\n",
        "print(a, b, c)"
      ],
      "metadata": {
        "colab": {
          "base_uri": "https://localhost:8080/"
        },
        "id": "1ZShpF8-vyfS",
        "outputId": "6fe404af-91c7-4844-8df5-4a3ecd042158"
      },
      "execution_count": 97,
      "outputs": [
        {
          "output_type": "stream",
          "name": "stdout",
          "text": [
            "6 6 6\n"
          ]
        }
      ]
    },
    {
      "cell_type": "code",
      "source": [
        "# User Input & Type Conversion"
      ],
      "metadata": {
        "id": "Dyd5p7bOv7JB"
      },
      "execution_count": 98,
      "outputs": []
    },
    {
      "cell_type": "code",
      "source": [
        "# Static vs Dynamics\n",
        "input('Enter Email')"
      ],
      "metadata": {
        "colab": {
          "base_uri": "https://localhost:8080/",
          "height": 55
        },
        "id": "EwF2yYdwwCzZ",
        "outputId": "56da38da-bc1d-4bfd-a18b-335c8dccdbbe"
      },
      "execution_count": 99,
      "outputs": [
        {
          "name": "stdout",
          "output_type": "stream",
          "text": [
            "Enter Emailali\n"
          ]
        },
        {
          "output_type": "execute_result",
          "data": {
            "text/plain": [
              "'ali'"
            ],
            "application/vnd.google.colaboratory.intrinsic+json": {
              "type": "string"
            }
          },
          "metadata": {},
          "execution_count": 99
        }
      ]
    },
    {
      "cell_type": "code",
      "source": [
        "# Input form user\n",
        "age = input(\"Enter your age:\")"
      ],
      "metadata": {
        "colab": {
          "base_uri": "https://localhost:8080/"
        },
        "id": "x4qUW70OwLvE",
        "outputId": "09934bc8-96bd-4e1f-c3ed-12efb187a87e"
      },
      "execution_count": 100,
      "outputs": [
        {
          "name": "stdout",
          "output_type": "stream",
          "text": [
            "Enter your age:12\n"
          ]
        }
      ]
    },
    {
      "cell_type": "code",
      "source": [
        "print(age)"
      ],
      "metadata": {
        "colab": {
          "base_uri": "https://localhost:8080/"
        },
        "id": "iEfwx54kwbFD",
        "outputId": "907239db-b440-4ac2-af12-1d76fbfce197"
      },
      "execution_count": 101,
      "outputs": [
        {
          "output_type": "stream",
          "name": "stdout",
          "text": [
            "12\n"
          ]
        }
      ]
    },
    {
      "cell_type": "code",
      "source": [
        "first_number = int(input(\"Enter your first number:\"))\n",
        "second_number = int(input(\"Enter your second number:\"))\n"
      ],
      "metadata": {
        "colab": {
          "base_uri": "https://localhost:8080/"
        },
        "id": "Q58PBgHjwdTI",
        "outputId": "edfb9e6e-ab1b-4344-c397-f8135d09a958"
      },
      "execution_count": 102,
      "outputs": [
        {
          "name": "stdout",
          "output_type": "stream",
          "text": [
            "Enter your first number:20\n",
            "Enter your second number:30\n"
          ]
        }
      ]
    },
    {
      "cell_type": "code",
      "source": [
        "print(first_number)\n",
        "print(second_number)"
      ],
      "metadata": {
        "id": "vf-RbFoRw0pR",
        "colab": {
          "base_uri": "https://localhost:8080/"
        },
        "outputId": "713ca50d-c699-4c05-ed0a-ce86c8c092b3"
      },
      "execution_count": 104,
      "outputs": [
        {
          "output_type": "stream",
          "name": "stdout",
          "text": [
            "20\n",
            "30\n"
          ]
        }
      ]
    },
    {
      "cell_type": "code",
      "source": [
        "result = first_number + second_number\n",
        "print(result)"
      ],
      "metadata": {
        "colab": {
          "base_uri": "https://localhost:8080/"
        },
        "id": "Nm4xTxRZ0deD",
        "outputId": "096d735b-1a92-4779-b186-8a364d69cf14"
      },
      "execution_count": 105,
      "outputs": [
        {
          "output_type": "stream",
          "name": "stdout",
          "text": [
            "50\n"
          ]
        }
      ]
    },
    {
      "cell_type": "code",
      "source": [
        "# type() function\n",
        "type(4)"
      ],
      "metadata": {
        "colab": {
          "base_uri": "https://localhost:8080/"
        },
        "id": "arvyinDA1Dv3",
        "outputId": "d036d26c-b776-4dad-c51a-0c1545491265"
      },
      "execution_count": 106,
      "outputs": [
        {
          "output_type": "execute_result",
          "data": {
            "text/plain": [
              "int"
            ]
          },
          "metadata": {},
          "execution_count": 106
        }
      ]
    },
    {
      "cell_type": "code",
      "source": [
        "type(first_number)"
      ],
      "metadata": {
        "colab": {
          "base_uri": "https://localhost:8080/"
        },
        "id": "OaEU12_C1HUy",
        "outputId": "ffe7494e-ec0c-4176-f551-e687c3e7e9f7"
      },
      "execution_count": 107,
      "outputs": [
        {
          "output_type": "execute_result",
          "data": {
            "text/plain": [
              "int"
            ]
          },
          "metadata": {},
          "execution_count": 107
        }
      ]
    },
    {
      "cell_type": "code",
      "source": [
        "first_number"
      ],
      "metadata": {
        "colab": {
          "base_uri": "https://localhost:8080/"
        },
        "id": "TJ2Qdupm1MDq",
        "outputId": "40aea59c-3fd6-4c86-d654-91acafc7ed92"
      },
      "execution_count": 108,
      "outputs": [
        {
          "output_type": "execute_result",
          "data": {
            "text/plain": [
              "20"
            ]
          },
          "metadata": {},
          "execution_count": 108
        }
      ]
    },
    {
      "cell_type": "code",
      "source": [
        "4 + 4.5"
      ],
      "metadata": {
        "colab": {
          "base_uri": "https://localhost:8080/"
        },
        "id": "Vk2QhQ3T1OnT",
        "outputId": "22cf94ba-c54b-4846-e223-34923091686d"
      },
      "execution_count": 109,
      "outputs": [
        {
          "output_type": "execute_result",
          "data": {
            "text/plain": [
              "8.5"
            ]
          },
          "metadata": {},
          "execution_count": 109
        }
      ]
    },
    {
      "cell_type": "code",
      "source": [
        "5 + 6+7j"
      ],
      "metadata": {
        "colab": {
          "base_uri": "https://localhost:8080/"
        },
        "id": "Q5bhBoL61QBo",
        "outputId": "90cce8fd-1b71-4497-b4fa-13b1c4dc0924"
      },
      "execution_count": 110,
      "outputs": [
        {
          "output_type": "execute_result",
          "data": {
            "text/plain": [
              "(11+7j)"
            ]
          },
          "metadata": {},
          "execution_count": 110
        }
      ]
    },
    {
      "cell_type": "code",
      "source": [
        "4.5 + 5+5j"
      ],
      "metadata": {
        "colab": {
          "base_uri": "https://localhost:8080/"
        },
        "id": "236kkmT91SXu",
        "outputId": "b109841c-9af8-4ddb-c5b0-04e21b057f10"
      },
      "execution_count": 111,
      "outputs": [
        {
          "output_type": "execute_result",
          "data": {
            "text/plain": [
              "(9.5+5j)"
            ]
          },
          "metadata": {},
          "execution_count": 111
        }
      ]
    },
    {
      "cell_type": "code",
      "source": [
        "first_number + second_number"
      ],
      "metadata": {
        "colab": {
          "base_uri": "https://localhost:8080/"
        },
        "id": "yDeR5p1s1XfX",
        "outputId": "efea2b4d-ee2d-4aff-d277-bc7cd1c96034"
      },
      "execution_count": 112,
      "outputs": [
        {
          "output_type": "execute_result",
          "data": {
            "text/plain": [
              "50"
            ]
          },
          "metadata": {},
          "execution_count": 112
        }
      ]
    },
    {
      "cell_type": "code",
      "source": [
        "# Type Conversion\n",
        "# Implicit : Auto Type Conversion by Language.\n",
        "# Explicit : Manual type conversion using functions/methods."
      ],
      "metadata": {
        "id": "FXqjXZrx1bU6"
      },
      "execution_count": 113,
      "outputs": []
    },
    {
      "cell_type": "code",
      "source": [
        "# Implicit Vs Explicit\n",
        "print(5 + 5.6)\n",
        "print(type(5), type(5.6))\n",
        "# print(4 + '4')"
      ],
      "metadata": {
        "colab": {
          "base_uri": "https://localhost:8080/"
        },
        "id": "S1NT55A010nc",
        "outputId": "3bb6bc87-a8d8-42b9-ad61-589f50dcc38b"
      },
      "execution_count": 115,
      "outputs": [
        {
          "output_type": "stream",
          "name": "stdout",
          "text": [
            "10.6\n",
            "<class 'int'> <class 'float'>\n"
          ]
        }
      ]
    },
    {
      "cell_type": "code",
      "source": [
        "# Explicit\n",
        "\n",
        "# Str to int\n",
        "print(int('4'))\n",
        "\n",
        "# int to str\n",
        "print(str(5))\n",
        "\n",
        "# float\n",
        "print(float(4))"
      ],
      "metadata": {
        "colab": {
          "base_uri": "https://localhost:8080/"
        },
        "id": "mYS87_Jq2C0P",
        "outputId": "623881f0-217a-4d2a-c037-50e4e1ef8139"
      },
      "execution_count": 117,
      "outputs": [
        {
          "output_type": "stream",
          "name": "stdout",
          "text": [
            "4\n",
            "5\n",
            "4.0\n"
          ]
        }
      ]
    },
    {
      "cell_type": "code",
      "source": [
        "# int\n",
        "int(45)"
      ],
      "metadata": {
        "colab": {
          "base_uri": "https://localhost:8080/"
        },
        "id": "ukstvb7Y2VGD",
        "outputId": "98beda6c-f2b5-41e8-f9a4-4a27b664ffc2"
      },
      "execution_count": 118,
      "outputs": [
        {
          "output_type": "execute_result",
          "data": {
            "text/plain": [
              "45"
            ]
          },
          "metadata": {},
          "execution_count": 118
        }
      ]
    },
    {
      "cell_type": "code",
      "source": [
        "float(4)"
      ],
      "metadata": {
        "colab": {
          "base_uri": "https://localhost:8080/"
        },
        "id": "I-8nkzUY2kVr",
        "outputId": "9dd28ae8-142e-4710-b889-bed43a6a4e4f"
      },
      "execution_count": 119,
      "outputs": [
        {
          "output_type": "execute_result",
          "data": {
            "text/plain": [
              "4.0"
            ]
          },
          "metadata": {},
          "execution_count": 119
        }
      ]
    },
    {
      "cell_type": "code",
      "source": [
        "str(5)"
      ],
      "metadata": {
        "colab": {
          "base_uri": "https://localhost:8080/",
          "height": 36
        },
        "id": "LbqIRhhr2pPO",
        "outputId": "6c152d8f-8d1a-4d73-cfeb-31c07d8a2b5e"
      },
      "execution_count": 120,
      "outputs": [
        {
          "output_type": "execute_result",
          "data": {
            "text/plain": [
              "'5'"
            ],
            "application/vnd.google.colaboratory.intrinsic+json": {
              "type": "string"
            }
          },
          "metadata": {},
          "execution_count": 120
        }
      ]
    },
    {
      "cell_type": "code",
      "source": [
        "bool(1)"
      ],
      "metadata": {
        "colab": {
          "base_uri": "https://localhost:8080/"
        },
        "id": "zPJnuNGs2tVh",
        "outputId": "f191f227-0ed8-477e-8d80-a4b01782eeeb"
      },
      "execution_count": 121,
      "outputs": [
        {
          "output_type": "execute_result",
          "data": {
            "text/plain": [
              "True"
            ]
          },
          "metadata": {},
          "execution_count": 121
        }
      ]
    },
    {
      "cell_type": "code",
      "source": [
        "complex(4)"
      ],
      "metadata": {
        "colab": {
          "base_uri": "https://localhost:8080/"
        },
        "id": "u0vrxLIu2uyR",
        "outputId": "e9059c57-5523-4b6b-e94d-fce8e218f9f9"
      },
      "execution_count": 122,
      "outputs": [
        {
          "output_type": "execute_result",
          "data": {
            "text/plain": [
              "(4+0j)"
            ]
          },
          "metadata": {},
          "execution_count": 122
        }
      ]
    },
    {
      "cell_type": "code",
      "source": [
        "list(\"Hello\")"
      ],
      "metadata": {
        "colab": {
          "base_uri": "https://localhost:8080/"
        },
        "id": "ExHC_VDD20X1",
        "outputId": "16b9eabe-1aec-46c8-9823-5b0f59334ee5"
      },
      "execution_count": 123,
      "outputs": [
        {
          "output_type": "execute_result",
          "data": {
            "text/plain": [
              "['H', 'e', 'l', 'l', 'o']"
            ]
          },
          "metadata": {},
          "execution_count": 123
        }
      ]
    },
    {
      "cell_type": "code",
      "source": [
        "tuple(\"Hello\")"
      ],
      "metadata": {
        "colab": {
          "base_uri": "https://localhost:8080/"
        },
        "id": "h_Q0T_IW23yI",
        "outputId": "dc14b581-ded9-4b6b-a454-ffcc12c95f71"
      },
      "execution_count": 124,
      "outputs": [
        {
          "output_type": "execute_result",
          "data": {
            "text/plain": [
              "('H', 'e', 'l', 'l', 'o')"
            ]
          },
          "metadata": {},
          "execution_count": 124
        }
      ]
    },
    {
      "cell_type": "code",
      "source": [
        "set(\"Hello\")"
      ],
      "metadata": {
        "colab": {
          "base_uri": "https://localhost:8080/"
        },
        "id": "GVPwuNf23BL7",
        "outputId": "392aacdc-edd2-42ec-952d-27ae5905ab84"
      },
      "execution_count": 125,
      "outputs": [
        {
          "output_type": "execute_result",
          "data": {
            "text/plain": [
              "{'H', 'e', 'l', 'o'}"
            ]
          },
          "metadata": {},
          "execution_count": 125
        }
      ]
    },
    {
      "cell_type": "code",
      "source": [
        "set(\"Hello\")"
      ],
      "metadata": {
        "colab": {
          "base_uri": "https://localhost:8080/"
        },
        "id": "g8f5jLzA3DN5",
        "outputId": "0e61e967-77bd-4aa1-aa4a-695fa3040940"
      },
      "execution_count": 126,
      "outputs": [
        {
          "output_type": "execute_result",
          "data": {
            "text/plain": [
              "{'H', 'e', 'l', 'o'}"
            ]
          },
          "metadata": {},
          "execution_count": 126
        }
      ]
    },
    {
      "cell_type": "code",
      "source": [
        "a = 4.5"
      ],
      "metadata": {
        "id": "f_DAnbMq3E5U"
      },
      "execution_count": 127,
      "outputs": []
    },
    {
      "cell_type": "code",
      "source": [
        "int(a)"
      ],
      "metadata": {
        "colab": {
          "base_uri": "https://localhost:8080/"
        },
        "id": "O_HQVtBI3IF_",
        "outputId": "80825427-f416-4821-ff06-b96553a62377"
      },
      "execution_count": 128,
      "outputs": [
        {
          "output_type": "execute_result",
          "data": {
            "text/plain": [
              "4"
            ]
          },
          "metadata": {},
          "execution_count": 128
        }
      ]
    },
    {
      "cell_type": "code",
      "source": [
        "a"
      ],
      "metadata": {
        "colab": {
          "base_uri": "https://localhost:8080/"
        },
        "id": "HsjUAxIh3JG6",
        "outputId": "183549bb-a61e-4457-a554-6e776fda6529"
      },
      "execution_count": 129,
      "outputs": [
        {
          "output_type": "execute_result",
          "data": {
            "text/plain": [
              "4.5"
            ]
          },
          "metadata": {},
          "execution_count": 129
        }
      ]
    },
    {
      "cell_type": "code",
      "source": [
        "first_num = input(\"Enter first number:\")\n",
        "second_num = input(\"Enter Second number:\")\n",
        "result = int(first_num) + int(second_num)\n",
        "print(result)\n"
      ],
      "metadata": {
        "colab": {
          "base_uri": "https://localhost:8080/"
        },
        "id": "2xdQGpEN3LfE",
        "outputId": "be069560-0c6e-44e0-b3c6-972961864b53"
      },
      "execution_count": 130,
      "outputs": [
        {
          "output_type": "stream",
          "name": "stdout",
          "text": [
            "Enter first number:20\n",
            "Enter Second number:30\n",
            "50\n"
          ]
        }
      ]
    },
    {
      "cell_type": "code",
      "source": [
        "first_num = int(input(\"Enter first number:\"))\n",
        "second_num = int(input(\"Enter second number:\"))\n",
        "result = first_num + second_num\n",
        "print(result)"
      ],
      "metadata": {
        "colab": {
          "base_uri": "https://localhost:8080/"
        },
        "id": "CdWa3mSn3hON",
        "outputId": "2f3e5722-b06f-4105-c5c3-d74dcb45dc13"
      },
      "execution_count": 131,
      "outputs": [
        {
          "output_type": "stream",
          "name": "stdout",
          "text": [
            "Enter first number:10\n",
            "Enter second number:20\n",
            "30\n"
          ]
        }
      ]
    },
    {
      "cell_type": "code",
      "source": [
        "# Keywords"
      ],
      "metadata": {
        "id": "hCMxj-fE31x6"
      },
      "execution_count": 132,
      "outputs": []
    },
    {
      "cell_type": "code",
      "source": [
        "# Python is case sensitive\n",
        "# Keywords: Reserved words, special meanings\n",
        "# Cannot use as variable names\n"
      ],
      "metadata": {
        "id": "112aHC2o3_oE"
      },
      "execution_count": 133,
      "outputs": []
    },
    {
      "cell_type": "code",
      "source": [
        "# Python has 33 keywords.\n",
        "import keyword\n",
        "print(keyword.kwlist)"
      ],
      "metadata": {
        "colab": {
          "base_uri": "https://localhost:8080/"
        },
        "id": "q-TspzrR4LRV",
        "outputId": "7b9850da-8a50-4566-ffc9-14510675018d"
      },
      "execution_count": 135,
      "outputs": [
        {
          "output_type": "stream",
          "name": "stdout",
          "text": [
            "['False', 'None', 'True', 'and', 'as', 'assert', 'async', 'await', 'break', 'class', 'continue', 'def', 'del', 'elif', 'else', 'except', 'finally', 'for', 'from', 'global', 'if', 'import', 'in', 'is', 'lambda', 'nonlocal', 'not', 'or', 'pass', 'raise', 'return', 'try', 'while', 'with', 'yield']\n"
          ]
        }
      ]
    },
    {
      "cell_type": "code",
      "source": [
        "# Identifiers\n",
        "# Identifiers: are name for var, func, class, module, etc.\n",
        "# Rules:\n",
        "  # Start with letter or _\n",
        "  # Followed by letters, digits, _\n",
        "  # Not a python Keyword"
      ],
      "metadata": {
        "id": "XeFClGT34UuJ"
      },
      "execution_count": 136,
      "outputs": []
    },
    {
      "cell_type": "code",
      "source": [
        "name = \"Ali Wattoo\"\n",
        "print(name)"
      ],
      "metadata": {
        "colab": {
          "base_uri": "https://localhost:8080/"
        },
        "id": "iGLzLBwL4xp2",
        "outputId": "5557cd20-2f27-485e-d242-55693cdf4110"
      },
      "execution_count": 137,
      "outputs": [
        {
          "output_type": "stream",
          "name": "stdout",
          "text": [
            "Ali Wattoo\n"
          ]
        }
      ]
    },
    {
      "cell_type": "code",
      "source": [
        "_ = \"Ali\"\n",
        "print(_)"
      ],
      "metadata": {
        "colab": {
          "base_uri": "https://localhost:8080/"
        },
        "id": "5DT1Vfu_494M",
        "outputId": "2e1913ce-ecde-426a-bbaf-97e1294b2e88"
      },
      "execution_count": 138,
      "outputs": [
        {
          "output_type": "stream",
          "name": "stdout",
          "text": [
            "Ali\n"
          ]
        }
      ]
    },
    {
      "cell_type": "code",
      "source": [
        "first_name = \"Ali Nawaz\"\n",
        "print(first_name)"
      ],
      "metadata": {
        "colab": {
          "base_uri": "https://localhost:8080/"
        },
        "id": "SzpQw0aV5Cir",
        "outputId": "9f75ee0f-2abb-4027-9ea3-c95bec7f5fe1"
      },
      "execution_count": 139,
      "outputs": [
        {
          "output_type": "stream",
          "name": "stdout",
          "text": [
            "Ali Nawaz\n"
          ]
        }
      ]
    },
    {
      "cell_type": "code",
      "source": [
        "# False = \"Ali\"\n",
        "# print(False)"
      ],
      "metadata": {
        "id": "RxeRH35P5LAN"
      },
      "execution_count": 141,
      "outputs": []
    },
    {
      "cell_type": "code",
      "source": [
        "# Literals"
      ],
      "metadata": {
        "id": "61vWyvp15Pdk"
      },
      "execution_count": 142,
      "outputs": []
    },
    {
      "cell_type": "code",
      "source": [
        "# Literals = basic data values for variables\n",
        "#Types in python:\n",
        "# Numeric literals\n",
        "# String Literals\n",
        "# Boolean Literals\n",
        "# Special Literals"
      ],
      "metadata": {
        "id": "Pcz0aLOu5XTF"
      },
      "execution_count": 143,
      "outputs": []
    },
    {
      "cell_type": "code",
      "source": [
        "# Numeric Literals\n",
        "# Integer Literals\n",
        "a = 0b1010\n",
        "b = 100\n",
        "c = 0o310\n",
        "d = 0x12c\n",
        "\n",
        "# Float Literals\n",
        "f1 = 10.5\n",
        "f2 = 1.5e2\n",
        "f3 = 1.5e-3\n",
        "\n",
        "# Complex Literal\n",
        "x = 3.14j\n",
        "print(a, b, c, d)\n",
        "print(f1, f2, f3)\n",
        "print(x, x.imag, x.real)"
      ],
      "metadata": {
        "colab": {
          "base_uri": "https://localhost:8080/"
        },
        "id": "wFtWhxys5pO8",
        "outputId": "6dd81a22-9ae5-4ba1-c6f9-2b1b32dbb5f7"
      },
      "execution_count": 144,
      "outputs": [
        {
          "output_type": "stream",
          "name": "stdout",
          "text": [
            "10 100 200 300\n",
            "10.5 150.0 0.0015\n",
            "3.14j 3.14 0.0\n"
          ]
        }
      ]
    },
    {
      "cell_type": "code",
      "source": [
        "# String Literals"
      ],
      "metadata": {
        "id": "zAqCNmob655e"
      },
      "execution_count": 145,
      "outputs": []
    },
    {
      "cell_type": "code",
      "source": [
        "string = \"This is Python\"\n",
        "strings = \"This is Python\"\n",
        "char = \"C\"\n",
        "multiline_str = \"\"\"This is multiline string\"\"\"\n",
        "unicode = u\"\\U0001f600\\U0001F606\\U0001F923\"\n",
        "raw_str = r\"raw \\n string\"\n",
        "\n",
        "print(string)\n",
        "print(strings)\n",
        "print(char)\n",
        "print(multiline_str)\n",
        "print(unicode)\n",
        "print(raw_str)"
      ],
      "metadata": {
        "colab": {
          "base_uri": "https://localhost:8080/"
        },
        "id": "2-yuSEmw69zC",
        "outputId": "69a95e17-7654-4d6f-ad60-9576b03c50a7"
      },
      "execution_count": 146,
      "outputs": [
        {
          "output_type": "stream",
          "name": "stdout",
          "text": [
            "This is Python\n",
            "This is Python\n",
            "C\n",
            "This is multiline string\n",
            "😀😆🤣\n",
            "raw \\n string\n"
          ]
        }
      ]
    },
    {
      "cell_type": "code",
      "source": [
        "# Boolean Literals\n",
        "a = True + 4\n",
        "b = False + 10\n",
        "\n",
        "print(\"a:\", a)\n",
        "print(\"b:\", b)"
      ],
      "metadata": {
        "colab": {
          "base_uri": "https://localhost:8080/"
        },
        "id": "oDq89WO57l8G",
        "outputId": "cc4dc330-ac55-418a-d72d-d22334f97470"
      },
      "execution_count": 147,
      "outputs": [
        {
          "output_type": "stream",
          "name": "stdout",
          "text": [
            "a: 5\n",
            "b: 10\n"
          ]
        }
      ]
    },
    {
      "cell_type": "code",
      "source": [
        "# Special Literals\n",
        "a = None\n",
        "print(a)"
      ],
      "metadata": {
        "colab": {
          "base_uri": "https://localhost:8080/"
        },
        "id": "3pZAFqUF7yxo",
        "outputId": "9a191046-a2ed-457c-bea1-df6f0a1df26a"
      },
      "execution_count": 148,
      "outputs": [
        {
          "output_type": "stream",
          "name": "stdout",
          "text": [
            "None\n"
          ]
        }
      ]
    },
    {
      "cell_type": "code",
      "source": [
        "# Variable Decleration\n",
        "k = None"
      ],
      "metadata": {
        "id": "f4HO-v-u73-W"
      },
      "execution_count": 149,
      "outputs": []
    },
    {
      "cell_type": "code",
      "source": [
        "# Operators in Python\n",
        "# Arithmetic: +, -, *, /, %, **,//\n",
        "# Comparison: ==, !=, >, <, >=, <=\n",
        "# Logical: and, or, not\n",
        "# Bitwise: &, |, ^, ~, <<, >>\n",
        "# Assignment: =, +=, -=, *=, /=, %=, **=, //=\n",
        "# Identity: is, is not\n",
        "# Membership: in, not in\n"
      ],
      "metadata": {
        "id": "MxiozLkg77F8"
      },
      "execution_count": 151,
      "outputs": []
    },
    {
      "cell_type": "code",
      "source": [
        "# Arithmetic Operators\n",
        "x = 5\n",
        "y = 2\n",
        "print(x + y)"
      ],
      "metadata": {
        "colab": {
          "base_uri": "https://localhost:8080/"
        },
        "id": "duKdP9Io85yi",
        "outputId": "4c1c0e5d-2ba2-490b-97a4-205853a1c903"
      },
      "execution_count": 152,
      "outputs": [
        {
          "output_type": "stream",
          "name": "stdout",
          "text": [
            "7\n"
          ]
        }
      ]
    },
    {
      "cell_type": "code",
      "source": [
        "print(x - y)"
      ],
      "metadata": {
        "colab": {
          "base_uri": "https://localhost:8080/"
        },
        "id": "iDzWd0hN9Q4E",
        "outputId": "1e390a33-11de-44c4-b540-8ec486fdb179"
      },
      "execution_count": 153,
      "outputs": [
        {
          "output_type": "stream",
          "name": "stdout",
          "text": [
            "3\n"
          ]
        }
      ]
    },
    {
      "cell_type": "code",
      "source": [
        "print(x * y)"
      ],
      "metadata": {
        "colab": {
          "base_uri": "https://localhost:8080/"
        },
        "id": "qIHnkLPJ9WGY",
        "outputId": "4cb296c0-fc50-41dd-bee6-233497fe4fcc"
      },
      "execution_count": 154,
      "outputs": [
        {
          "output_type": "stream",
          "name": "stdout",
          "text": [
            "10\n"
          ]
        }
      ]
    },
    {
      "cell_type": "code",
      "source": [
        "print(x / y)"
      ],
      "metadata": {
        "colab": {
          "base_uri": "https://localhost:8080/"
        },
        "id": "JzRRXV_a9Xv3",
        "outputId": "eb85d971-0fc3-407a-f509-7e70d4226176"
      },
      "execution_count": 155,
      "outputs": [
        {
          "output_type": "stream",
          "name": "stdout",
          "text": [
            "2.5\n"
          ]
        }
      ]
    },
    {
      "cell_type": "code",
      "source": [
        "print(x % y)"
      ],
      "metadata": {
        "colab": {
          "base_uri": "https://localhost:8080/"
        },
        "id": "OB7yo4wq9atK",
        "outputId": "b759c46a-805b-48fd-ffe1-a4bfb71d046e"
      },
      "execution_count": 156,
      "outputs": [
        {
          "output_type": "stream",
          "name": "stdout",
          "text": [
            "1\n"
          ]
        }
      ]
    },
    {
      "cell_type": "code",
      "source": [
        "print(x // y)"
      ],
      "metadata": {
        "colab": {
          "base_uri": "https://localhost:8080/"
        },
        "id": "pFWv6DZA9dRf",
        "outputId": "7baaa80b-296d-40c8-9b8e-d1069cafae37"
      },
      "execution_count": 157,
      "outputs": [
        {
          "output_type": "stream",
          "name": "stdout",
          "text": [
            "2\n"
          ]
        }
      ]
    },
    {
      "cell_type": "code",
      "source": [
        "# Comparison Operators\n"
      ],
      "metadata": {
        "id": "0iUBFixa9gs4"
      },
      "execution_count": 158,
      "outputs": []
    },
    {
      "cell_type": "code",
      "source": [
        "print(x > y)"
      ],
      "metadata": {
        "colab": {
          "base_uri": "https://localhost:8080/"
        },
        "id": "bI9KUXX89kOF",
        "outputId": "678f280c-352d-474d-a807-e56b9f882af0"
      },
      "execution_count": 159,
      "outputs": [
        {
          "output_type": "stream",
          "name": "stdout",
          "text": [
            "True\n"
          ]
        }
      ]
    },
    {
      "cell_type": "code",
      "source": [
        "print(x < y)"
      ],
      "metadata": {
        "colab": {
          "base_uri": "https://localhost:8080/"
        },
        "id": "aY3W9Gts9lvs",
        "outputId": "26369436-fead-4d31-e1a5-665346b6c3ea"
      },
      "execution_count": 160,
      "outputs": [
        {
          "output_type": "stream",
          "name": "stdout",
          "text": [
            "False\n"
          ]
        }
      ]
    },
    {
      "cell_type": "code",
      "source": [
        "print(x <= y)"
      ],
      "metadata": {
        "colab": {
          "base_uri": "https://localhost:8080/"
        },
        "id": "Iyq12owj9oXQ",
        "outputId": "a99e6e73-1c9a-410c-d15e-af72d5dc77c1"
      },
      "execution_count": 161,
      "outputs": [
        {
          "output_type": "stream",
          "name": "stdout",
          "text": [
            "False\n"
          ]
        }
      ]
    },
    {
      "cell_type": "code",
      "source": [
        "print(x == y)"
      ],
      "metadata": {
        "colab": {
          "base_uri": "https://localhost:8080/"
        },
        "id": "wPsS1j9Z9s7R",
        "outputId": "1fae7280-7a6d-4b2f-da8b-feee8ea9f8f1"
      },
      "execution_count": 162,
      "outputs": [
        {
          "output_type": "stream",
          "name": "stdout",
          "text": [
            "False\n"
          ]
        }
      ]
    },
    {
      "cell_type": "code",
      "source": [
        "print(x != y)"
      ],
      "metadata": {
        "colab": {
          "base_uri": "https://localhost:8080/"
        },
        "id": "1D5jkGC89vR6",
        "outputId": "0307ab77-d65a-4108-b98c-ce80e421a359"
      },
      "execution_count": 163,
      "outputs": [
        {
          "output_type": "stream",
          "name": "stdout",
          "text": [
            "True\n"
          ]
        }
      ]
    },
    {
      "cell_type": "code",
      "source": [
        "# Logical Operators\n"
      ],
      "metadata": {
        "id": "mu3incTm9xxa"
      },
      "execution_count": 164,
      "outputs": []
    },
    {
      "cell_type": "code",
      "source": [
        "x = True\n",
        "y = False\n",
        "print(x or y)"
      ],
      "metadata": {
        "colab": {
          "base_uri": "https://localhost:8080/"
        },
        "id": "SED19nMM924Z",
        "outputId": "67fb82c6-5242-4f40-fbb5-839cb8296c46"
      },
      "execution_count": 165,
      "outputs": [
        {
          "output_type": "stream",
          "name": "stdout",
          "text": [
            "True\n"
          ]
        }
      ]
    },
    {
      "cell_type": "code",
      "source": [
        "print(x and y)"
      ],
      "metadata": {
        "colab": {
          "base_uri": "https://localhost:8080/"
        },
        "id": "hrsl_Wwg96Lo",
        "outputId": "a34ba2af-98e0-4c47-dceb-dbd45769736a"
      },
      "execution_count": 166,
      "outputs": [
        {
          "output_type": "stream",
          "name": "stdout",
          "text": [
            "False\n"
          ]
        }
      ]
    },
    {
      "cell_type": "code",
      "source": [
        "print(not x)\n",
        "print(not y)"
      ],
      "metadata": {
        "colab": {
          "base_uri": "https://localhost:8080/"
        },
        "id": "kOj5CjT--C1B",
        "outputId": "8aa5e26e-ef2e-4d3c-91fd-89f68155a79c"
      },
      "execution_count": 167,
      "outputs": [
        {
          "output_type": "stream",
          "name": "stdout",
          "text": [
            "False\n",
            "True\n"
          ]
        }
      ]
    },
    {
      "cell_type": "code",
      "source": [
        "# Bitwise Operators\n"
      ],
      "metadata": {
        "id": "M-ysgoBF-JHZ"
      },
      "execution_count": 168,
      "outputs": []
    },
    {
      "cell_type": "code",
      "source": [
        "x = 3\n",
        "y = 3\n"
      ],
      "metadata": {
        "id": "dX1N2rPG-RRP"
      },
      "execution_count": 169,
      "outputs": []
    },
    {
      "cell_type": "code",
      "source": [
        "print(x & y) # AND"
      ],
      "metadata": {
        "colab": {
          "base_uri": "https://localhost:8080/"
        },
        "id": "BQBVLLBg-Sws",
        "outputId": "95538b45-0977-4409-de00-ed78841297ca"
      },
      "execution_count": 170,
      "outputs": [
        {
          "output_type": "stream",
          "name": "stdout",
          "text": [
            "3\n"
          ]
        }
      ]
    },
    {
      "cell_type": "code",
      "source": [
        "print(x | y) # OR"
      ],
      "metadata": {
        "colab": {
          "base_uri": "https://localhost:8080/"
        },
        "id": "cQa8E2VT-Vt3",
        "outputId": "7d4c82a4-94e7-4c35-a069-5e65447ec060"
      },
      "execution_count": 171,
      "outputs": [
        {
          "output_type": "stream",
          "name": "stdout",
          "text": [
            "3\n"
          ]
        }
      ]
    },
    {
      "cell_type": "code",
      "source": [
        "print(2 ^ 3) # XOR"
      ],
      "metadata": {
        "colab": {
          "base_uri": "https://localhost:8080/"
        },
        "id": "g4YBp7PA-Zih",
        "outputId": "8a005723-1d45-4199-934a-f5c49a1f5a45"
      },
      "execution_count": 172,
      "outputs": [
        {
          "output_type": "stream",
          "name": "stdout",
          "text": [
            "1\n"
          ]
        }
      ]
    },
    {
      "cell_type": "code",
      "source": [
        "print(x >> 2) # Right Shift"
      ],
      "metadata": {
        "colab": {
          "base_uri": "https://localhost:8080/"
        },
        "id": "-y_kKMs6-fah",
        "outputId": "6f2bd2cd-4248-47ef-b64f-4b576eae6b9d"
      },
      "execution_count": 173,
      "outputs": [
        {
          "output_type": "stream",
          "name": "stdout",
          "text": [
            "0\n"
          ]
        }
      ]
    },
    {
      "cell_type": "code",
      "source": [
        "print(y << 3) # Left Shift"
      ],
      "metadata": {
        "colab": {
          "base_uri": "https://localhost:8080/"
        },
        "id": "1A_41DyV-m9Z",
        "outputId": "96d216b1-0f5c-4b66-f592-bb094f91e304"
      },
      "execution_count": 174,
      "outputs": [
        {
          "output_type": "stream",
          "name": "stdout",
          "text": [
            "24\n"
          ]
        }
      ]
    },
    {
      "cell_type": "code",
      "source": [
        "print(~ x) # NOT"
      ],
      "metadata": {
        "colab": {
          "base_uri": "https://localhost:8080/"
        },
        "id": "l4pvLR0I-qo_",
        "outputId": "cb943926-81a6-4f4f-e58a-cbf27cc64a7c"
      },
      "execution_count": 175,
      "outputs": [
        {
          "output_type": "stream",
          "name": "stdout",
          "text": [
            "-4\n"
          ]
        }
      ]
    },
    {
      "cell_type": "code",
      "source": [
        "# Assignment Operators"
      ],
      "metadata": {
        "id": "lao4_8b5-udX"
      },
      "execution_count": 176,
      "outputs": []
    },
    {
      "cell_type": "code",
      "source": [
        "a = 3\n",
        "print(a)"
      ],
      "metadata": {
        "colab": {
          "base_uri": "https://localhost:8080/"
        },
        "id": "bDWn97VK-yre",
        "outputId": "d4e912ae-e2c5-4f05-e39b-aa7f29c199bd"
      },
      "execution_count": 177,
      "outputs": [
        {
          "output_type": "stream",
          "name": "stdout",
          "text": [
            "3\n"
          ]
        }
      ]
    },
    {
      "cell_type": "code",
      "source": [
        "a += 3 # a = a + 3\n",
        "print(a)"
      ],
      "metadata": {
        "colab": {
          "base_uri": "https://localhost:8080/"
        },
        "id": "ehOtNHw9-0cl",
        "outputId": "95215981-dccc-42f1-94c1-b2a97ddb904f"
      },
      "execution_count": 178,
      "outputs": [
        {
          "output_type": "stream",
          "name": "stdout",
          "text": [
            "6\n"
          ]
        }
      ]
    },
    {
      "cell_type": "code",
      "source": [
        "a -= 3 # a = a - 3\n",
        "print(a)"
      ],
      "metadata": {
        "colab": {
          "base_uri": "https://localhost:8080/"
        },
        "id": "hFaURV6C-5ac",
        "outputId": "d553dd7a-f54d-4856-b71c-e67785df97ca"
      },
      "execution_count": 180,
      "outputs": [
        {
          "output_type": "stream",
          "name": "stdout",
          "text": [
            "0\n"
          ]
        }
      ]
    },
    {
      "cell_type": "code",
      "source": [
        "a *= 3 # a = a * 3\n",
        "print(a)"
      ],
      "metadata": {
        "colab": {
          "base_uri": "https://localhost:8080/"
        },
        "id": "tCtBdlJt-9ht",
        "outputId": "f27a1713-5a5e-42ab-d363-7864dad82032"
      },
      "execution_count": 181,
      "outputs": [
        {
          "output_type": "stream",
          "name": "stdout",
          "text": [
            "0\n"
          ]
        }
      ]
    },
    {
      "cell_type": "code",
      "source": [
        "a /=3 # a = a / 3\n",
        "print(a)"
      ],
      "metadata": {
        "colab": {
          "base_uri": "https://localhost:8080/"
        },
        "id": "JLy0TTtu_FW2",
        "outputId": "f01d0273-1f25-44e3-b3ed-86fde335fa25"
      },
      "execution_count": 182,
      "outputs": [
        {
          "output_type": "stream",
          "name": "stdout",
          "text": [
            "0.0\n"
          ]
        }
      ]
    },
    {
      "cell_type": "code",
      "source": [
        "# Identity Operators\n",
        "a = 3\n",
        "b = 3\n",
        "print(a is b)"
      ],
      "metadata": {
        "colab": {
          "base_uri": "https://localhost:8080/"
        },
        "id": "W_2aplZW_Jf2",
        "outputId": "ad853123-dff3-48b2-8922-6d08a80b8e58"
      },
      "execution_count": 183,
      "outputs": [
        {
          "output_type": "stream",
          "name": "stdout",
          "text": [
            "True\n"
          ]
        }
      ]
    },
    {
      "cell_type": "code",
      "source": [
        "a = \"Hello\"\n",
        "b = \"Hello\"\n",
        "print(a is b)"
      ],
      "metadata": {
        "colab": {
          "base_uri": "https://localhost:8080/"
        },
        "id": "x6RE8LWt_U2v",
        "outputId": "808cf628-5df9-4ef2-fb76-d3c9d45eaa45"
      },
      "execution_count": 184,
      "outputs": [
        {
          "output_type": "stream",
          "name": "stdout",
          "text": [
            "True\n"
          ]
        }
      ]
    },
    {
      "cell_type": "code",
      "source": [
        "a = [1, 2, 3]\n",
        "b = [1, 2, 3]\n",
        "print(a is b)"
      ],
      "metadata": {
        "colab": {
          "base_uri": "https://localhost:8080/"
        },
        "id": "RKRIeB1Q_ZfC",
        "outputId": "e988dbdc-605e-4324-9e3f-fb32e631fe47"
      },
      "execution_count": 185,
      "outputs": [
        {
          "output_type": "stream",
          "name": "stdout",
          "text": [
            "False\n"
          ]
        }
      ]
    },
    {
      "cell_type": "code",
      "source": [
        "a = \"Hello-World\"\n",
        "b = \"Hello-World\"\n",
        "print(a is b)\n",
        "print(a is not b)"
      ],
      "metadata": {
        "colab": {
          "base_uri": "https://localhost:8080/"
        },
        "id": "NcXLTiuh_gOu",
        "outputId": "7cd2cc07-415d-457d-97be-e5f3a4e8b6f4"
      },
      "execution_count": 186,
      "outputs": [
        {
          "output_type": "stream",
          "name": "stdout",
          "text": [
            "False\n",
            "True\n"
          ]
        }
      ]
    },
    {
      "cell_type": "code",
      "source": [
        "# Membership Operators"
      ],
      "metadata": {
        "id": "LmVVn14O_qH8"
      },
      "execution_count": 187,
      "outputs": []
    },
    {
      "cell_type": "code",
      "source": [
        "# in & not in"
      ],
      "metadata": {
        "id": "aN2bp71J_w9R"
      },
      "execution_count": 188,
      "outputs": []
    },
    {
      "cell_type": "code",
      "source": [
        "x = \"Delhi\"\n",
        "print(\"D\" in x)\n",
        "print(\"D\" not in x)"
      ],
      "metadata": {
        "colab": {
          "base_uri": "https://localhost:8080/"
        },
        "id": "pO8Kdhm9_zeK",
        "outputId": "ee3635bf-6dbd-408e-d378-0a8f94043439"
      },
      "execution_count": 189,
      "outputs": [
        {
          "output_type": "stream",
          "name": "stdout",
          "text": [
            "True\n",
            "False\n"
          ]
        }
      ]
    },
    {
      "cell_type": "code",
      "source": [
        "x = [1, 2, 3]\n",
        "print(1 in x)\n",
        "print(5 in x)"
      ],
      "metadata": {
        "colab": {
          "base_uri": "https://localhost:8080/"
        },
        "id": "3zNv6QmMAJOg",
        "outputId": "a7067d95-5ac7-4563-baa8-d131bfef5501"
      },
      "execution_count": 190,
      "outputs": [
        {
          "output_type": "stream",
          "name": "stdout",
          "text": [
            "True\n",
            "False\n"
          ]
        }
      ]
    },
    {
      "cell_type": "code",
      "source": [
        "x = (1, 2, 3)\n",
        "print(1 in x)\n",
        "print(5 in x)"
      ],
      "metadata": {
        "colab": {
          "base_uri": "https://localhost:8080/"
        },
        "id": "fYrcH4GcAUgR",
        "outputId": "912a6099-3683-4522-d999-6f753d32480c"
      },
      "execution_count": 191,
      "outputs": [
        {
          "output_type": "stream",
          "name": "stdout",
          "text": [
            "True\n",
            "False\n"
          ]
        }
      ]
    },
    {
      "cell_type": "code",
      "source": [
        "# Sum of digits of a 3-digits number\n",
        "number = int(input(\"Enter a 3 digit number:\"))\n",
        "\n",
        "# Units digit\n",
        "a = number % 10\n",
        "number //= 10\n",
        "\n",
        "# Tens digit\n",
        "b = number % 10\n",
        "number //= 10\n",
        "\n",
        "# Hundreds digit\n",
        "c = number % 10\n",
        "\n",
        "print(a + b + c)\n"
      ],
      "metadata": {
        "colab": {
          "base_uri": "https://localhost:8080/"
        },
        "id": "NhHElEBIAcDk",
        "outputId": "192d1973-e827-491f-837d-2f6b3fa95075"
      },
      "execution_count": 192,
      "outputs": [
        {
          "output_type": "stream",
          "name": "stdout",
          "text": [
            "Enter a 3 digit number:123\n",
            "6\n"
          ]
        }
      ]
    },
    {
      "cell_type": "code",
      "source": [
        "# If-Else\n"
      ],
      "metadata": {
        "id": "ahEi5KgyBEEn"
      },
      "execution_count": 193,
      "outputs": []
    },
    {
      "cell_type": "code",
      "source": [
        "# Correct Email = wattoo@gmail.com\n",
        "# Password = 1234\n",
        "email = input(\"Enter Your Email:\")\n",
        "if \"@\" in email:\n",
        "  password = input(\"Enter your password:\")\n",
        "\n",
        "  if email == \"wattoo@gmail.com\" and password == \"1234\":\n",
        "    print(\"Welcom\")\n",
        "  elif email == \"wattoo@gmail.com\" and password != \"1234\":\n",
        "    print(\"Password Incorrect\")\n",
        "    password = input(\"Type Again Paaword:\")\n",
        "    if password == \"1234\":\n",
        "      print(\"Finally Correct\")\n",
        "    else:\n",
        "      print(\"Still Incorrect\")\n",
        "  else:\n",
        "    print(\"Incorrect Credientials\")\n",
        "else:\n",
        "  print(\"Email Ghalat ha is ko sii karoo:\")\n"
      ],
      "metadata": {
        "colab": {
          "base_uri": "https://localhost:8080/"
        },
        "id": "clcnkiA-BQ07",
        "outputId": "0582dc77-1362-4100-ca45-5bce4628974f"
      },
      "execution_count": 195,
      "outputs": [
        {
          "output_type": "stream",
          "name": "stdout",
          "text": [
            "Enter Your Email:wattoo@gmail.com\n",
            "Enter your password:1234\n",
            "Welcom\n"
          ]
        }
      ]
    },
    {
      "cell_type": "code",
      "source": [
        "# 1. Min of 3 Numbers\n",
        "a = int(input(\"first number:\"))\n",
        "b = int(input(\"second number:\"))\n",
        "c = int(input(\"third number:\"))\n",
        "\n",
        "if a < b and a < c:\n",
        "  print(\"Smallest is\", a)\n",
        "elif b < c:\n",
        "  print(\"smallest is\", b)\n",
        "else:\n",
        "  print(\"smallest is\", c)"
      ],
      "metadata": {
        "colab": {
          "base_uri": "https://localhost:8080/"
        },
        "id": "t3l7jXNwCgiC",
        "outputId": "92ebbaf8-76e7-4059-cbbb-36d9613a6042"
      },
      "execution_count": 196,
      "outputs": [
        {
          "output_type": "stream",
          "name": "stdout",
          "text": [
            "first number:20\n",
            "second number:30\n",
            "third number:40\n",
            "Smallest is 20\n"
          ]
        }
      ]
    },
    {
      "cell_type": "code",
      "source": [
        "# 2. Menu-Driven Calculator\n",
        "menu = input(\"\"\"\n",
        "Hi! how can I help you.\n",
        "1. Enter 1 for pin change\n",
        "2. Enter 2 for balance check\n",
        "3. Enter 3 for withdrawl\n",
        "4. Enter 4 for exit\n",
        "\"\"\")\n",
        "\n",
        "if menu == '1':\n",
        "  print(\"pin change\")\n",
        "elif menu == '2':\n",
        "  print('Check Balance')\n",
        "elif menu == '3':\n",
        "  print(\"Widrawl\")\n",
        "else:\n",
        "  print(\"Exit\")"
      ],
      "metadata": {
        "colab": {
          "base_uri": "https://localhost:8080/"
        },
        "id": "kdZYAAvyDPQY",
        "outputId": "7e8f59b4-6940-447d-8bdf-8e3fca5cfb4d"
      },
      "execution_count": 197,
      "outputs": [
        {
          "output_type": "stream",
          "name": "stdout",
          "text": [
            "\n",
            "Hi! how can I help you.\n",
            "1. Enter 1 for pin change\n",
            "2. Enter 2 for balance check\n",
            "3. Enter 3 for withdrawl\n",
            "4. Enter 4 for exit\n",
            "2\n",
            "Check Balance\n"
          ]
        }
      ]
    },
    {
      "cell_type": "code",
      "source": [
        "# Indentation\n"
      ],
      "metadata": {
        "id": "iOEW0D3TDtOR"
      },
      "execution_count": 198,
      "outputs": []
    },
    {
      "cell_type": "code",
      "source": [
        "# In python\n",
        "name = \"xyz\"\n",
        "if name == \"xyz\":\n",
        "  print(\"line1\")\n",
        "  print(\"line2\")\n",
        "  if 5 == 5:\n",
        "    print(\"line5\")\n",
        "else:\n",
        "  print(\"line3\")"
      ],
      "metadata": {
        "colab": {
          "base_uri": "https://localhost:8080/"
        },
        "id": "-EhbQ7TFD1Ly",
        "outputId": "7fb2e1b8-eb91-4c29-a433-601e9ce1ee95"
      },
      "execution_count": 199,
      "outputs": [
        {
          "output_type": "stream",
          "name": "stdout",
          "text": [
            "line1\n",
            "line2\n",
            "line5\n"
          ]
        }
      ]
    },
    {
      "cell_type": "code",
      "source": [],
      "metadata": {
        "id": "hryQLYaxEE0J"
      },
      "execution_count": null,
      "outputs": []
    }
  ]
}