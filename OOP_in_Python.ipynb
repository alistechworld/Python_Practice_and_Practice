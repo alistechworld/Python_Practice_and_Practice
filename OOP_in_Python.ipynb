{
  "nbformat": 4,
  "nbformat_minor": 0,
  "metadata": {
    "colab": {
      "provenance": [],
      "authorship_tag": "ABX9TyMxEkfpBdXrMP0o9I/if463",
      "include_colab_link": true
    },
    "kernelspec": {
      "name": "python3",
      "display_name": "Python 3"
    },
    "language_info": {
      "name": "python"
    }
  },
  "cells": [
    {
      "cell_type": "markdown",
      "metadata": {
        "id": "view-in-github",
        "colab_type": "text"
      },
      "source": [
        "<a href=\"https://colab.research.google.com/github/alistechworld/Python_Practice_and_Practice/blob/main/OOP_in_Python.ipynb\" target=\"_parent\"><img src=\"https://colab.research.google.com/assets/colab-badge.svg\" alt=\"Open In Colab\"/></a>"
      ]
    },
    {
      "cell_type": "code",
      "execution_count": null,
      "metadata": {
        "id": "UAnUis-kUeeT"
      },
      "outputs": [],
      "source": [
        "# OOP : It is different style of writing code\n",
        "# Basic Concepts:\n",
        "  # Object\n",
        "  # Class\n",
        "  # Polymorphisms\n",
        "  # Encapsulation\n",
        "  # Inheritance\n",
        "  # Abstraction"
      ]
    },
    {
      "cell_type": "code",
      "source": [
        "# Class has:\n",
        "  # Data or Property\n",
        "  # Functions or Behaviours"
      ],
      "metadata": {
        "id": "NFoAGhwhb00p"
      },
      "execution_count": null,
      "outputs": []
    },
    {
      "cell_type": "code",
      "source": [
        "# Basic Structure\n",
        "# class Car:\n",
        "#   color = \"Blue\"\n",
        "#   model = \"Sports\"\n",
        "\n",
        "#   def calculateAvgSpeed(km, time):\n",
        "#     # Some Code"
      ],
      "metadata": {
        "id": "O8jAuTPJb8pi"
      },
      "execution_count": null,
      "outputs": []
    },
    {
      "cell_type": "code",
      "source": [
        "# Class ka name should be in pascal Case\n",
        "  # ThisIsPascalCase\n",
        "  # thisIsCamelCase\n",
        "  # this_is_snake_case"
      ],
      "metadata": {
        "id": "v1Uf_gyUcLTK"
      },
      "execution_count": null,
      "outputs": []
    },
    {
      "cell_type": "code",
      "source": [
        "# Object is an instance of class"
      ],
      "metadata": {
        "id": "nnCaAn4mcmPM"
      },
      "execution_count": null,
      "outputs": []
    },
    {
      "cell_type": "code",
      "source": [
        "# # Object Examples\n",
        "# Car-------WagonaR wagonar = Car()\n",
        "# Sports-----Gilidanda gilidanda = Sports()\n"
      ],
      "metadata": {
        "id": "bMgxE4sSdUHv"
      },
      "execution_count": null,
      "outputs": []
    },
    {
      "cell_type": "code",
      "source": [
        "L = [1, 2, 3]\n",
        "L"
      ],
      "metadata": {
        "colab": {
          "base_uri": "https://localhost:8080/"
        },
        "id": "g5SXNHukdq7s",
        "outputId": "b5fce7bb-3895-434b-f8a1-812d94d02e08"
      },
      "execution_count": null,
      "outputs": [
        {
          "output_type": "execute_result",
          "data": {
            "text/plain": [
              "[1, 2, 3]"
            ]
          },
          "metadata": {},
          "execution_count": 7
        }
      ]
    },
    {
      "cell_type": "code",
      "source": [
        "# object Literals\n"
      ],
      "metadata": {
        "id": "C5cqiAGZeCt8"
      },
      "execution_count": null,
      "outputs": []
    },
    {
      "cell_type": "code",
      "source": [
        "L = list()"
      ],
      "metadata": {
        "id": "y4_3HaYPeFiL"
      },
      "execution_count": null,
      "outputs": []
    },
    {
      "cell_type": "code",
      "source": [
        "L"
      ],
      "metadata": {
        "colab": {
          "base_uri": "https://localhost:8080/"
        },
        "id": "WYWjarnjeHza",
        "outputId": "4ecafa0a-0711-4d16-9b25-72116fcc852a"
      },
      "execution_count": null,
      "outputs": [
        {
          "output_type": "execute_result",
          "data": {
            "text/plain": [
              "[]"
            ]
          },
          "metadata": {},
          "execution_count": 10
        }
      ]
    },
    {
      "cell_type": "code",
      "source": [
        "city = str()"
      ],
      "metadata": {
        "id": "4M-UvlzseILc"
      },
      "execution_count": null,
      "outputs": []
    },
    {
      "cell_type": "code",
      "source": [
        "city"
      ],
      "metadata": {
        "colab": {
          "base_uri": "https://localhost:8080/",
          "height": 35
        },
        "id": "BxCZavlGeLWp",
        "outputId": "488ee09a-cf06-4b54-cfe3-dc059e0b17f2"
      },
      "execution_count": null,
      "outputs": [
        {
          "output_type": "execute_result",
          "data": {
            "text/plain": [
              "''"
            ],
            "application/vnd.google.colaboratory.intrinsic+json": {
              "type": "string"
            }
          },
          "metadata": {},
          "execution_count": 12
        }
      ]
    },
    {
      "cell_type": "code",
      "source": [
        "# Function Vs Methods\n",
        "# Functions inside class = Methods\n",
        "# Functions are simple functions"
      ],
      "metadata": {
        "id": "zprBIlcaeMfy"
      },
      "execution_count": null,
      "outputs": []
    },
    {
      "cell_type": "code",
      "source": [
        "len(L) # Function\n",
        "L.append(2) # Method"
      ],
      "metadata": {
        "id": "1uTxFUKKe8-e"
      },
      "execution_count": null,
      "outputs": []
    },
    {
      "cell_type": "code",
      "source": [
        "# ATM Machine Functionality code with OOP Concepts\n",
        "class Atm:\n",
        "\n",
        "  def __init__(self):\n",
        "    self.pin = \"\"\n",
        "    self.balance = 0\n",
        "\n",
        "    self.menu()\n",
        "\n",
        "  def menu(self):\n",
        "    user_input = input(\"\"\"\n",
        "                  Hello, How would you like to proceed?\n",
        "                  1. Enter 1 to create pin\n",
        "                  2. Enter 2 to deposit\n",
        "                  3. Enter 3 to withdraw\n",
        "                  4. Enter 4 to check balance\n",
        "                  5. Enter 5 to exit\n",
        "\n",
        "    \"\"\")\n",
        "\n",
        "    if user_input == \"1\":\n",
        "      self.create_pin()\n",
        "    elif user_input == \"2\":\n",
        "      self.deposit()\n",
        "    elif user_input == \"3\":\n",
        "      self.withdraw()\n",
        "    elif user_input == \"4\":\n",
        "      self.check_balance()\n",
        "    else:\n",
        "      print(\"Bye\")\n",
        "\n",
        "  def create_pin(self):\n",
        "      self.pin = input(\"Enter your pin\")\n",
        "      print(\"Pin Set Successfully\")\n",
        "\n",
        "  def deposit(self):\n",
        "      temp = input(\"Enter your pin\")\n",
        "      if temp == self.pin:\n",
        "        amount = int(input(\"Enter the amount\"))\n",
        "        self.balance = self.balance + amount\n",
        "        print(\"Deposit Successfully\")\n",
        "      else:\n",
        "        print(\"Invalid Pin\")\n",
        "\n",
        "  def withdraw(self):\n",
        "        temp = input(\"Enter your pin\")\n",
        "        if temp == self.pin:\n",
        "          amount = int(input(\"Enter your amount\"))\n",
        "          if amount < self.balance:\n",
        "            self.balance = self.balance - amount\n",
        "            print(\"withdraw Successfully\")\n",
        "          else:\n",
        "              print(\"Insufficient Balance\")\n",
        "        else:\n",
        "          print(\"Invalid Pin\")\n",
        "\n",
        "  def check_balance(self):\n",
        "        temp = input(\"Enter your pin\")\n",
        "        if temp == self.pin:\n",
        "          print(self.balance)\n",
        "        else:\n",
        "          print(\"Invalid  Pin\")\n"
      ],
      "metadata": {
        "id": "pZDRdRHxfXoN"
      },
      "execution_count": null,
      "outputs": []
    },
    {
      "cell_type": "code",
      "source": [
        "sbi = Atm()"
      ],
      "metadata": {
        "id": "N237fjZjglBZ",
        "colab": {
          "base_uri": "https://localhost:8080/"
        },
        "outputId": "acff9eb9-481a-4c22-90ab-5b217c341edb"
      },
      "execution_count": null,
      "outputs": [
        {
          "output_type": "stream",
          "name": "stdout",
          "text": [
            "\n",
            "                  Hello, How would you like to proceed?\n",
            "                  1. Enter 1 to create pin\n",
            "                  2. Enter 2 to deposit\n",
            "                  3. Enter 3 to withdraw\n",
            "                  4. Enter 4 to check balance\n",
            "                  5. Enter 5 to exit   \n",
            "    \n",
            "    1\n",
            "Enter your pin12345\n",
            "Pin Set Successfully\n"
          ]
        }
      ]
    },
    {
      "cell_type": "code",
      "source": [
        "sbi.deposit()"
      ],
      "metadata": {
        "colab": {
          "base_uri": "https://localhost:8080/"
        },
        "id": "JFDXqi6v7aan",
        "outputId": "6bb53bc7-5fdc-4bd7-91ff-c368e1c69ee6"
      },
      "execution_count": null,
      "outputs": [
        {
          "output_type": "stream",
          "name": "stdout",
          "text": [
            "Enter your pin12345\n",
            "Enter the amount500000\n",
            "Deposit Successfully\n"
          ]
        }
      ]
    },
    {
      "cell_type": "code",
      "source": [
        "sbi.check_balance()"
      ],
      "metadata": {
        "colab": {
          "base_uri": "https://localhost:8080/"
        },
        "id": "4IUiLYkfBFb5",
        "outputId": "7ec5c32e-0bbc-473c-dd6c-1ba282f2ba94"
      },
      "execution_count": null,
      "outputs": [
        {
          "output_type": "stream",
          "name": "stdout",
          "text": [
            "Enter your pin12345\n",
            "500000\n"
          ]
        }
      ]
    },
    {
      "cell_type": "code",
      "source": [
        "class Fraction:\n",
        "  def __init__(self, n, d):\n",
        "    self.num = n\n",
        "    self.den = d\n",
        "  def __str__(self):\n",
        "    return \"{}/{}\".format(self.num, self.den)\n",
        "\n",
        "  def __add__(self, other):\n",
        "    temp_num = self.num * other.den + other.num * self.den\n",
        "    temp_den = self.den * other.den\n",
        "    return \"{}/{}\".format(temp_num, temp_den)\n",
        "\n",
        "  def __sub__(self, other):\n",
        "    temp_num = self.num * other.den - other.num * self.den\n",
        "    temp_den = self.den * other.den\n",
        "    return \"{}/{}\".format(temp_num, temp_den)\n",
        "\n",
        "  def __mul__(self, other):\n",
        "    temp_num = self.num * other.num\n",
        "    temp_den = self.den * other.den\n",
        "    return \"{}/{}\".format(temp_num, temp_den)\n",
        "\n",
        "  def __truediv__(self, other):\n",
        "    temp_num = self.num * other.den\n",
        "    temp_den = self.den * other.num\n",
        "    return \"{}/{}\".format(temp_num, temp_den)\n",
        "\n",
        "\n",
        "\n"
      ],
      "metadata": {
        "id": "Nuwq0GOrBLOd"
      },
      "execution_count": 6,
      "outputs": []
    },
    {
      "cell_type": "code",
      "source": [
        "\n"
      ],
      "metadata": {
        "id": "5YLYPv1yogV-"
      },
      "execution_count": 6,
      "outputs": []
    },
    {
      "cell_type": "code",
      "source": [],
      "metadata": {
        "id": "fj9zfpSkoshA"
      },
      "execution_count": null,
      "outputs": []
    }
  ]
}